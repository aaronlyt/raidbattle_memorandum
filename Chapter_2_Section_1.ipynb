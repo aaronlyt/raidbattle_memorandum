{
 "cells": [
  {
   "cell_type": "markdown",
   "metadata": {
    "toc": true
   },
   "source": [
    "<h1>Table of Contents<span class=\"tocSkip\"></span></h1>\n",
    "<div class=\"toc\"><ul class=\"toc-item\"><li><span><a href=\"#第２章１節：RDKitとcolabolatoryで前処理しようとして挫折した話\" data-toc-modified-id=\"第２章１節：RDKitとcolabolatoryで前処理しようとして挫折した話-1\"><span class=\"toc-item-num\">1&nbsp;&nbsp;</span>第２章１節：RDKitとcolabolatoryで前処理しようとして挫折した話</a></span></li><li><span><a href=\"#Google-colaboratoryで使うためのデータセットの準備\" data-toc-modified-id=\"Google-colaboratoryで使うためのデータセットの準備-2\"><span class=\"toc-item-num\">2&nbsp;&nbsp;</span>Google colaboratoryで使うためのデータセットの準備</a></span></li><li><span><a href=\"#Google-colaboratoryでの作業\" data-toc-modified-id=\"Google-colaboratoryでの作業-3\"><span class=\"toc-item-num\">3&nbsp;&nbsp;</span>Google colaboratoryでの作業</a></span><ul class=\"toc-item\"><li><span><a href=\"#1.-Google-colaboで新しいnotebookを作成\" data-toc-modified-id=\"1.-Google-colaboで新しいnotebookを作成-3.1\"><span class=\"toc-item-num\">3.1&nbsp;&nbsp;</span>1. Google colaboで新しいnotebookを作成</a></span></li><li><span><a href=\"#2.-rdkitをインストール(ハンズオン資料そのまま)\" data-toc-modified-id=\"2.-rdkitをインストール(ハンズオン資料そのまま)-3.2\"><span class=\"toc-item-num\">3.2&nbsp;&nbsp;</span>2. rdkitをインストール(ハンズオン資料そのまま)</a></span></li><li><span><a href=\"#3.-Google-ドライブのファイルにアクセスするための準備\" data-toc-modified-id=\"3.-Google-ドライブのファイルにアクセスするための準備-3.3\"><span class=\"toc-item-num\">3.3&nbsp;&nbsp;</span>3. Google ドライブのファイルにアクセスするための準備</a></span></li><li><span><a href=\"#4.-GoogleドライブからファイルをColaboratoryのローカルにファイルを持ってくる\" data-toc-modified-id=\"4.-GoogleドライブからファイルをColaboratoryのローカルにファイルを持ってくる-3.4\"><span class=\"toc-item-num\">3.4&nbsp;&nbsp;</span>4. GoogleドライブからファイルをColaboratoryのローカルにファイルを持ってくる</a></span></li><li><span><a href=\"#5.-RDKitを使ってSDFファイルを読み込む\" data-toc-modified-id=\"5.-RDKitを使ってSDFファイルを読み込む-3.5\"><span class=\"toc-item-num\">3.5&nbsp;&nbsp;</span>5. RDKitを使ってSDFファイルを読み込む</a></span></li><li><span><a href=\"#6.-プロパティの確認\" data-toc-modified-id=\"6.-プロパティの確認-3.6\"><span class=\"toc-item-num\">3.6&nbsp;&nbsp;</span>6. プロパティの確認</a></span></li><li><span><a href=\"#7.-前処理の試し打ち\" data-toc-modified-id=\"7.-前処理の試し打ち-3.7\"><span class=\"toc-item-num\">3.7&nbsp;&nbsp;</span>7. 前処理の試し打ち</a></span></li><li><span><a href=\"#8.-前処理本番\" data-toc-modified-id=\"8.-前処理本番-3.8\"><span class=\"toc-item-num\">3.8&nbsp;&nbsp;</span>8. 前処理本番</a></span></li><li><span><a href=\"#9.-出力用のSDFを作成\" data-toc-modified-id=\"9.-出力用のSDFを作成-3.9\"><span class=\"toc-item-num\">3.9&nbsp;&nbsp;</span>9. 出力用のSDFを作成</a></span></li><li><span><a href=\"#10.-Googleドライブに出力\" data-toc-modified-id=\"10.-Googleドライブに出力-3.10\"><span class=\"toc-item-num\">3.10&nbsp;&nbsp;</span>10. Googleドライブに出力</a></span></li></ul></li><li><span><a href=\"#どれくらいメモリをつかったのか？\" data-toc-modified-id=\"どれくらいメモリをつかったのか？-4\"><span class=\"toc-item-num\">4&nbsp;&nbsp;</span>どれくらいメモリをつかったのか？</a></span></li><li><span><a href=\"#Google-ドライブを使いたくない場合？\" data-toc-modified-id=\"Google-ドライブを使いたくない場合？-5\"><span class=\"toc-item-num\">5&nbsp;&nbsp;</span>Google ドライブを使いたくない場合？</a></span></li><li><span><a href=\"#残念なお知らせ\" data-toc-modified-id=\"残念なお知らせ-6\"><span class=\"toc-item-num\">6&nbsp;&nbsp;</span>残念なお知らせ</a></span></li><li><span><a href=\"#まとめ\" data-toc-modified-id=\"まとめ-7\"><span class=\"toc-item-num\">7&nbsp;&nbsp;</span>まとめ</a></span></li><li><span><a href=\"#脚注\" data-toc-modified-id=\"脚注-8\"><span class=\"toc-item-num\">8&nbsp;&nbsp;</span>脚注</a></span></li></ul></div>"
   ]
  },
  {
   "cell_type": "markdown",
   "metadata": {},
   "source": [
    "# 第２章１節：RDKitとcolabolatoryで前処理しようとして挫折した話"
   ]
  },
  {
   "cell_type": "markdown",
   "metadata": {},
   "source": [
    "まずはどんな化合物から絞り込めば良いのか化合物ライブラリを眺めてみることにしました。\n",
    "\n",
    "Githubから化合物ライブラリをダウンロード、解凍してみると以下の４つのsdfファイルが入っていました。\n"
   ]
  },
  {
   "cell_type": "markdown",
   "metadata": {},
   "source": [
    "<img src=\"./images/2-1_image1.png\">"
   ]
  },
  {
   "cell_type": "markdown",
   "metadata": {},
   "source": [
    "手元のPCではMarvinViewにより中身を確認することができました。MarvinViewはChemAxon社のソフトウェアで、化学構造描画ソフトであるMarvinSketchとともに非常に便利なソフトウェアです。ChemDrawは個人で導入するには少々（金銭的に）ハードルが高いため、非常に有用な代替となると思います。機能としても十分すぎるくらいに整っています。"
   ]
  },
  {
   "cell_type": "markdown",
   "metadata": {},
   "source": [
    "<img src=\"./images/2-1_image2.png\">"
   ]
  },
  {
   "cell_type": "markdown",
   "metadata": {},
   "source": [
    "中身は上記のような感じ・・・。構造に加えてidnumber、heavy_atoms、LogSなどなどのカラムがあるようです。\n",
    "\n",
    "思ったよりシンプルな化合物です。もっとドラッグライクな化合物はあるのでしょうが、なにぶんデータが多すぎてよくわからない。\n",
    "これは前処理（？）というやつで、ある程度数を減らさないといけなさそうです。\n",
    "\n",
    "しかし何をすれば良いかわからない・・・。  \n",
    "\n",
    "まずは専門家の真似をしよう！ということで、@yamasakit\\_ 先生の記事（ [raziのDocker-composeで創薬レイドバトル2018用のJupyter Notebookからアクセスできる化合物データベースを作った話](https://qiita.com/yamasakih/items/db2e2cf0603de975a25c) ）とケモインフォマティクス若手の会の [ハンズオン資料](https://colab.research.google.com/drive/1T-cK8BVOY0tu3qcAgUFVEkzRbXiNDHlL) を参考に前処理を行ってみました。 [^1]\n",
    "\n",
    "方針としては\n",
    "\n",
    "* Google Colaboratoryを使ってみる（サイズ大きいから）\n",
    "* 処理としてRDKitを使って\n",
    "    1.  構造の標準化\n",
    "    2. 脱塩（一番大きい左図のフラグメントだけを残す）\n",
    "    3. 電荷の中和を行う\n",
    "* idnumberと構造だけ残してsdfファイルにする\n",
    "\n",
    "という感じです。\n"
   ]
  },
  {
   "cell_type": "markdown",
   "metadata": {},
   "source": [
    "# Google colaboratoryで使うためのデータセットの準備\n",
    "\n",
    "Google colaboratoryからデータセットを使うには、Googleドライブへのアップロードが必要そうでした。\n",
    "\n",
    "まずは、サイズが大きいのでデータセットを圧縮します。\n"
   ]
  },
  {
   "cell_type": "markdown",
   "metadata": {},
   "source": [
    "```console\n",
    "gzip -c Enamine_Advanced_collection.sdf > Enamine_Advanced_collection.sdf.gz\n",
    "gzip -c Enamine_HTS_collection.sdf > Enamine_HTS_collection.sdf.gz\n",
    "gzip -c Enamine_Premium_collection.sdf > Enamine_Premium_collection.sdf.gz\n",
    "gzip -c UOS_HTS.sdf > UOS_HTS.sdf.gz\n",
    "```"
   ]
  },
  {
   "cell_type": "markdown",
   "metadata": {},
   "source": [
    "Googleドライブにログインして上記のファイルをアップロードしましたが、圧縮してあっても時間がかかるので、この間にGoogle colaboratoryの準備をしました。"
   ]
  },
  {
   "cell_type": "markdown",
   "metadata": {},
   "source": [
    "# Google colaboratoryでの作業\n",
    "\n",
    "## 1. Google colaboで新しいnotebookを作成\n",
    "\n",
    "Google Colaboにアクセスして、「ファイル」から「Python 3の新しいノートブック」をクリックするだけで使えます。すごい・・・ [^2]\n"
   ]
  },
  {
   "cell_type": "markdown",
   "metadata": {},
   "source": [
    "## 2. rdkitをインストール(ハンズオン資料そのまま)\n",
    "\n",
    "```python\n",
    "!curl -Lo rdkit_installer.py https://git.io/fxiPZ\n",
    "import rdkit_installer\n",
    "%time rdkit_installer.install()\n",
    "```"
   ]
  },
  {
   "cell_type": "markdown",
   "metadata": {},
   "source": [
    "## 3. Google ドライブのファイルにアクセスするための準備 \n",
    "\n",
    "Google colaboratoryからGoogleドライブのファイルを使用する方法は脚注の記事（→ [^3] ) を参考にしました。  \n"
   ]
  },
  {
   "cell_type": "markdown",
   "metadata": {},
   "source": [
    "```python\n",
    "!pip install -U -q PyDrive\n",
    "\n",
    "from pydrive.auth import GoogleAuth\n",
    "from pydrive.drive import GoogleDrive\n",
    "from google.colab import auth\n",
    "from oauth2client.client import GoogleCredentials\n",
    "\n",
    "auth.authenticate_user()\n",
    "gauth = GoogleAuth()\n",
    "gauth.credentials = GoogleCredentials.get_application_default()\n",
    "drive = GoogleDrive(gauth)\n",
    "```"
   ]
  },
  {
   "cell_type": "markdown",
   "metadata": {},
   "source": [
    "Google Cloud SDKの認証リンクが出てくるので、認証を行います。"
   ]
  },
  {
   "cell_type": "markdown",
   "metadata": {},
   "source": [
    "## 4. GoogleドライブからファイルをColaboratoryのローカルにファイルを持ってくる\n",
    "\n",
    "先の脚注の参考記事に従ってGoogle ドライブから共有リンク('id='以降)を取得します。\n",
    "まずは一番ファイルサイズの小さい**Enamine_Premium_collection** から進めます。"
   ]
  },
  {
   "cell_type": "markdown",
   "metadata": {},
   "source": [
    "```python\n",
    "id = 'Googleドライブのファイルのidをここに書く'\n",
    "downloaded = drive.CreateFile({'id': id})\n",
    "downloaded.GetContentFile('Enamine_Premium_collection.sdf.gz')\n",
    "```"
   ]
  },
  {
   "cell_type": "markdown",
   "metadata": {},
   "source": [
    "これでColaboratoryからsdfファイルを使う準備ができました。"
   ]
  },
  {
   "cell_type": "markdown",
   "metadata": {},
   "source": [
    "## 5. RDKitを使ってSDFファイルを読み込む\n",
    "\n",
    "今回は圧縮したファイルなので、SDMolSupplierではなくForwardSDMolSupplierを使用します。\n",
    "\n",
    "読み込み方法の詳細は脚注のページを参考にしました。（→ [^4] [^5]）\n"
   ]
  },
  {
   "cell_type": "markdown",
   "metadata": {},
   "source": [
    "```python\n",
    "from rdkit import Chem\n",
    "import gzip\n",
    "EPc_gz = gzip.open('Enamine_Premium_collection.sdf.gz')\n",
    "EPc_mols = [mol for mol in Chem.ForwardSDMolSupplier(EPc_gz) if mol is not None]\n",
    "```"
   ]
  },
  {
   "cell_type": "markdown",
   "metadata": {},
   "source": [
    "読み込むことができた分子の総数を確認します。\n"
   ]
  },
  {
   "cell_type": "markdown",
   "metadata": {},
   "source": [
    "```python\n",
    "len(EPc_mols)\n",
    "```"
   ]
  },
  {
   "cell_type": "markdown",
   "metadata": {},
   "source": [
    "「128816」と出力されました。\n",
    "戦闘力１３万・・・強い・・・"
   ]
  },
  {
   "cell_type": "markdown",
   "metadata": {},
   "source": [
    "## 6. プロパティの確認\n",
    "\n",
    "SDFから読み込んだMolオブジェクトに、元々のSDFの情報がどのように紐づいているか確認するため、構造以外の情報を確認してみます。\n",
    "Molオブジェクトのリストから最初の一つを取り出して、プロパティを取得しました。\n",
    "\n",
    "詳細は「化学の新しいカタチ」さんの記事 [^6] などを参考にしてください。"
   ]
  },
  {
   "cell_type": "markdown",
   "metadata": {},
   "source": [
    "```python\n",
    "EPc_test = EPc_mols[0]\n",
    "names=list(EPc_test.GetPropNames())\n",
    "print(names)\n",
    "```"
   ]
  },
  {
   "cell_type": "markdown",
   "metadata": {},
   "source": [
    "プロパティのリストが出力されました。\n",
    "\n",
    "['idnumber', 'heavy_atoms', 'LogS', 'LogP', 'rotating_bonds', 'PSA', 'hb_acceptors', 'hb_donors'] \n",
    "\n",
    "MarvinViewでみたときとプロパティが違う・・・（linkというプロパティがない）。  \n",
    "\n",
    "先ほどMarvinViewでみたのは**Enamine_HTS_collection**だったので、どうやらsdfファイルによって含むプロパティは違うみたいです。"
   ]
  },
  {
   "cell_type": "markdown",
   "metadata": {},
   "source": [
    "## 7. 前処理の試し打ち\n",
    "\n",
    "いよいよ本題です。  \n",
    "\n",
    "ハンズオン資料によると、MolStandardizeというモジュールを使うことで前処理ができるみたいです。\n",
    "\n",
    "まずは試しに一つやってみます。\n",
    "塩酸塩は無事、脱塩処理されるでしょうか？\n",
    "\n",
    "まずは元の構造の確認\n"
   ]
  },
  {
   "cell_type": "markdown",
   "metadata": {},
   "source": [
    "```python\n",
    "#構造式をnotebook上で表示させるための設定\n",
    "from rdkit.Chem.Draw import IPythonConsole\n",
    "from IPython.display import display\n",
    "\n",
    "#塩酸塩のエントリー例\n",
    "EPc_mols[2]\n",
    "```\n",
    "\n",
    "こんな構造がnotebook上に表示されます。\n",
    "\n",
    "<img src=\"./images/2-1_image3.png\">\n",
    "\n"
   ]
  },
  {
   "cell_type": "markdown",
   "metadata": {},
   "source": [
    "それでは処理を行います。"
   ]
  },
  {
   "cell_type": "markdown",
   "metadata": {},
   "source": [
    "```python\n",
    "# 分子の標準化を行うためのモジュールを読み込む\n",
    "from rdkit.Chem import MolStandardize\n",
    "\n",
    "#標準化\n",
    "normalizer = MolStandardize.normalize.Normalizer()\n",
    "test_mol_norm = normalizer.normalize(test_mol)\n",
    "\n",
    "#一番大きいサイズのフラグメントのみ残す（ここで脱塩されるみたい）\n",
    "lfc = MolStandardize.fragment.LargestFragmentChooser()\n",
    "test_mol_desalt = lfc.choose(test_mol_norm)\n",
    "\n",
    "#電荷の中和\n",
    "uc = MolStandardize.charge.Uncharger()\n",
    "test_mol_neu = uc.uncharge(test_mol_desalt)\n",
    "```"
   ]
  },
  {
   "cell_type": "markdown",
   "metadata": {},
   "source": [
    "処理後の構造をそれぞれnotebook上に描画した結果は以下の通り・・・\n",
    "\n",
    "|test_mol_norm|test_mol_desalt|test_mol_neu|\n",
    "|:----:|:-----:|:-----:|\n",
    "| <img src=\"./images/2-1_image4.png\"> |<img src=\"./images/2-1_image5.png\"> |<img src=\"./images/2-1_image6.png\"> |\n",
    "\n",
    "\n",
    "無事、塩酸塩が脱塩されました！\n",
    "**標準化**と**電荷の中和**が必要かいまいち理解できませんが、とりあえず処理に含めておきます。"
   ]
  },
  {
   "cell_type": "markdown",
   "metadata": {},
   "source": [
    "## 8. 前処理本番 \n",
    "\n",
    "時間がかかりそうなので、時間も測定してみます。\n",
    "\n"
   ]
  },
  {
   "cell_type": "markdown",
   "metadata": {},
   "source": [
    "```python\n",
    "#セルの処理の時間測定\n",
    "%%time\n",
    "\n",
    "#前処理を実行して新しいMOlオブジェクトのリストを作る\n",
    "#空のリストを作成\n",
    "processed_EPc_mols = []\n",
    "\n",
    "#ループを回せ!!!\n",
    "for i in range(len(EPc_mols)):\n",
    "  mol = EPc_mols[i]\n",
    "  \n",
    "  #構造の標準化\n",
    "  normalizer =MolStandardize.normalize.Normalizer()\n",
    "  mol_norm = normalizer.normalize(mol)\n",
    "  \n",
    "  #一番大きいサイズのフラグメントのみ残す\n",
    "  lfc = MolStandardize.fragment.LargestFragmentChooser()\n",
    "  mol_desalt = lfc.choose(mol_norm)\n",
    "  \n",
    "  #電荷の中和\n",
    "  uc = MolStandardize.charge.Uncharger()\n",
    "  mol_neu = uc.uncharge(mol_desalt)\n",
    "  \n",
    "  #新しいリストに追加\n",
    "  processed_EPc_mols.append(mol_neu)\n",
    "```"
   ]
  },
  {
   "cell_type": "markdown",
   "metadata": {},
   "source": [
    "\n",
    "かかった時間・・・\n",
    "\n",
    "CPU times: user 3min 6s, sys: 12.4 s, total: 3min 19s\n",
    "Wall time: 3min 19s\n",
    "\n",
    "これならカップ麺作ってる間に前処理できる！！\n",
    "\n",
    "念のため処理した後に残った分子の数を確認\n"
   ]
  },
  {
   "cell_type": "markdown",
   "metadata": {},
   "source": [
    "```python\n",
    "len(processed_EPc_mols)\n",
    "```"
   ]
  },
  {
   "cell_type": "markdown",
   "metadata": {},
   "source": [
    "「128816」と出力されました。全部うまくいったみたいです。"
   ]
  },
  {
   "cell_type": "markdown",
   "metadata": {},
   "source": [
    "## 9. 出力用のSDFを作成\n",
    "\n",
    "SDFとして出力したいと思いますが、処理をおこなったので元々のプロパティのうち、  \n",
    "**logS**や**logP**などは意味のない値になってしまってそうです。  \n",
    "そこで**idnumber**と構造だけを含むSDFとしたいと思います。\n",
    "\n",
    "SDFの出力には**SDWriter**を使い、**SetProp**で紐づけたいプロパティを指定します。\n"
   ]
  },
  {
   "cell_type": "markdown",
   "metadata": {},
   "source": [
    "\n",
    "```python\n",
    "#構造とidnumberのみを残したsdfファイルを作成\n",
    "#SDWriterを使用する\n",
    "writer = Chem.SDWriter('Enamine_Premium_collection_processed.sdf')\n",
    "\n",
    "#プロパティの設定\n",
    "# プロパティはリストで渡す必要があります。右だとうまくいきません。 → writer.SetProps('idnumber')\n",
    "\n",
    "writer.SetProps(['idnumber'])\n",
    "\n",
    "#ループを回せ！！\n",
    "for mol in processed_EPc_mols:\n",
    "  writer.write(mol)\n",
    "  \n",
    "#そっ閉じ\n",
    "writer.close()\n",
    "```\n"
   ]
  },
  {
   "cell_type": "markdown",
   "metadata": {},
   "source": [
    "これでSDFができました。あとは自分のPCにもってくるだけ・・・\n",
    "とりあえずGoogleドライブに出力します。"
   ]
  },
  {
   "cell_type": "markdown",
   "metadata": {},
   "source": [
    "## 10. Googleドライブに出力\n",
    "\n",
    "Google Colaboratoryローカルに入力する際に参考にした記事に、出力方法も載っていました。  \n",
    "念のため圧縮して出力します。\n"
   ]
  },
  {
   "cell_type": "markdown",
   "metadata": {},
   "source": [
    "```python\n",
    "#大きいので圧縮\n",
    "#colaboratoryでは\"!\"を先につけるらしい\n",
    "!gzip -c Enamine_Premium_collection_processed.sdf > Enamine_Premium_collection_processed.sdf.gz\n",
    "\n",
    "#Googleドライブへ出力\n",
    "upload_file = drive.CreateFile()\n",
    "upload_file.SetContentFile('Enamine_Premium_collection_processed.sdf.gz')\n",
    "upload_file.Upload()\n",
    "```"
   ]
  },
  {
   "cell_type": "markdown",
   "metadata": {},
   "source": [
    "\n",
    "Googleドライブで無事出力されていることが確認できました！\n",
    "\n",
    "ローカルPCにもってきてMarvinViewで見るとこんな感じ・・・\n",
    "\n",
    "[<img src=\"./images/2-1_image7.png\">\n",
    "\n",
    "\n",
    "**注** ) 上の図は修正前のものです。見た目は変わってしまいますが、こちらの方がわかりやすいので残しておきます。\n"
   ]
  },
  {
   "cell_type": "markdown",
   "metadata": {},
   "source": [
    "# どれくらいメモリをつかったのか？\n",
    "\n",
    "Google colaboratoryは一度のセッションで12GBまでしか使えないそうです。  \n",
    "\n",
    "上記の処理では、最もファイルの大きさの小さい**Enamine_Premium_collection**を使いましたが、  \n",
    "出力まで終えて「使用したRAM 3.91GB」でした。\n",
    "\n"
   ]
  },
  {
   "cell_type": "markdown",
   "metadata": {},
   "source": [
    "# Google ドライブを使いたくない場合？\n",
    "\n",
    "今回、「Google colaboratoryのローカルにGoogleドライブからファイルをもってくる」、\n",
    "という入力を行いましたが、後から考えたら「colabolatory上でファイルをダウンロードしてもよかったかな」、と思いました。\n",
    "\n",
    "一応確認・・・\n",
    "\n"
   ]
  },
  {
   "cell_type": "markdown",
   "metadata": {},
   "source": [
    "```python\n",
    "!wget https://xxxxxx #創薬レイドバトルのページにある化合物ライブラリのリンクをはる\n",
    "\n",
    "#library.tar.gz というのがcolaboratoryローカルにダウンロードされる\n",
    "#解凍する\n",
    "!tar -xvf library.tar.gz\n",
    "```\n"
   ]
  },
  {
   "cell_type": "markdown",
   "metadata": {},
   "source": [
    "\n",
    "解凍されて以下ができました。\n",
    "\n",
    "*  souyakuchan_library/\n",
    "*  souyakuchan_library/Enamine_Advanced_collection.sdf\n",
    "*  souyakuchan_library/Enamine_HTS_collection.sdf\n",
    "*  souyakuchan_library/Enamine_Premium_collection.sdf\n",
    "*  souyakuchan_library/UOS_HTS.sdf\n",
    "  \n",
    "これをさらにcolaboratory上でダウンロードしても使えるみたいなのですが、  \n",
    "試しにやってみたらとても遅いので、先述のGoogleドライブを経由する方法の方が良さそうでした。\n"
   ]
  },
  {
   "cell_type": "markdown",
   "metadata": {},
   "source": [
    "# 残念なお知らせ\n",
    "\n",
    "よし！残りのファイルも同じ感じでやるぞ！と思ったのですが  \n",
    "**Enamine_HTS_collection**で同じ操作をおこなったところ、  \n",
    "メモリの使いすぎ（？）のためかエラーが出てしまいました。\n",
    "\n",
    "ランタイムをリセットしてやり直しても12GBにおさまらず、前処理の途中で力尽きてしまいました。\n",
    "\n",
    "自分のPCでは遅いからこっちでやろうと思ったのですが・・・残念"
   ]
  },
  {
   "cell_type": "markdown",
   "metadata": {},
   "source": [
    "# まとめ\n",
    "\n",
    "以上、RDKit と Google colaboratory を使ってみた話でした。  \n",
    "お手元にRDKitをインストールしていない場合でもGoogle colaboratory上で遊べるっていうのはとても良いですね。\n",
    "\n",
    "SDFをいい感じに分割したら、他のファイルも同じ処理ができるのではないかと思うのですが、私の能力では無理でした・・・  \n",
    "\n",
    "わかりやすくするために省きましたが、実際には例で検証したりせず、いきなり全構造処理したり、その他様々なトラブルで見事に丸一日を無駄にしましたよ！！！　\n",
    "sdf一つしか処理できなかった・・・\n",
    "\n",
    "\n",
    "**追記（01/14）**\n",
    "SDWriterの設定が間違っていたので修正しました。\n",
    "SetPropsはプロパティをリストかタプルで渡す必要があるので、\n",
    "writer.SetProps('idnumber') を writer.SetProps(['idnumber']) のように修正する必要があります。\n",
    "\n",
    "また、この記事の通りにやった場合、脱塩処理された化合物（フラグメントの大きい方が取り出されたもの）については\n",
    "idnumberがなくなってしまいます。\n",
    "\n",
    "こちらは修正方法を検討して別の記事で書きます（いつか・・・）"
   ]
  },
  {
   "cell_type": "markdown",
   "metadata": {},
   "source": [
    "# 脚注\n",
    "\n",
    "[^1]: ハンズオン資料はtwitterをさまよってたらありました。とても素晴らしい資料ですよ！  @yamasakit_ 先生の記事の通りにやならかったのは、Dockerの使い方がわからなかったからです。。。\n",
    "\n",
    "\n",
    "[^2]: [環境構築不要でPython入門！Google Colaboratoryの使い方を分かりやすく説明](https://cpp-learning.com/python_colaboratory/#_Google_Colaboratory)\n",
    "\n",
    "[^3]: [Google Colaboratory内で画像やCSVファイルにアクセスするのが一苦労だった話](https://qiita.com/yoshizaki_kkgk/items/bf01842d1a80c0f9e56c)  \n",
    "[Colaboratoryのデータの入出力まとめ](https://qiita.com/5at00001040/items/d7867974d2fd1d21dbbf)\n",
    "\n",
    "[^4]: 「化学の新しいカタチ」さんの記事 [RDKitでケモインフォマティクスに入門](https://future-chem.com/rdkit-intro/#SDMolSupplier) \n",
    "\n",
    "[^5]: [ケモインフォマティクスのオンライン入門書](https://funatsu-lab.github.io/open-course-ware/molecular-design/file-format#sdf))) \n",
    "\n",
    "[^6]: [RDKitの分子Molオブジェクトを扱う](https://future-chem.com/rdkit-mol/) \n",
    "\n"
   ]
  }
 ],
 "metadata": {
  "kernelspec": {
   "display_name": "Python 3",
   "language": "python",
   "name": "python3"
  },
  "language_info": {
   "codemirror_mode": {
    "name": "ipython",
    "version": 3
   },
   "file_extension": ".py",
   "mimetype": "text/x-python",
   "name": "python",
   "nbconvert_exporter": "python",
   "pygments_lexer": "ipython3",
   "version": "3.6.8"
  },
  "toc": {
   "base_numbering": 1,
   "nav_menu": {},
   "number_sections": true,
   "sideBar": true,
   "skip_h1_title": false,
   "title_cell": "Table of Contents",
   "title_sidebar": "Contents",
   "toc_cell": true,
   "toc_position": {},
   "toc_section_display": true,
   "toc_window_display": true
  }
 },
 "nbformat": 4,
 "nbformat_minor": 2
}
