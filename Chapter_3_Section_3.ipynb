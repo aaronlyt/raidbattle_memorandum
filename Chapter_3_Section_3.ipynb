{
 "cells": [
  {
   "cell_type": "markdown",
   "metadata": {
    "toc": true
   },
   "source": [
    "<h1>Table of Contents<span class=\"tocSkip\"></span></h1>\n",
    "<div class=\"toc\"><ul class=\"toc-item\"><li><span><a href=\"#第３章３節：ライブラリの指標計算結果まとめ\" data-toc-modified-id=\"第３章３節：ライブラリの指標計算結果まとめ-1\"><span class=\"toc-item-num\">1&nbsp;&nbsp;</span>第３章３節：ライブラリの指標計算結果まとめ</a></span></li><li><span><a href=\"#MolLogPの計算\" data-toc-modified-id=\"MolLogPの計算-2\"><span class=\"toc-item-num\">2&nbsp;&nbsp;</span><u><b>MolLogPの計算</b></u></a></span></li><li><span><a href=\"#前処理のコード全体\" data-toc-modified-id=\"前処理のコード全体-3\"><span class=\"toc-item-num\">3&nbsp;&nbsp;</span><u><b>前処理のコード全体</b></u></a></span></li><li><span><a href=\"#処理に失敗した分子の確認\" data-toc-modified-id=\"処理に失敗した分子の確認-4\"><span class=\"toc-item-num\">4&nbsp;&nbsp;</span><u><b>処理に失敗した分子の確認</b></u></a></span></li><li><span><a href=\"#SDFの持つ情報をとりあえず確認する方法\" data-toc-modified-id=\"SDFの持つ情報をとりあえず確認する方法-5\"><span class=\"toc-item-num\">5&nbsp;&nbsp;</span><u><b>SDFの持つ情報をとりあえず確認する方法</b></u></a></span></li><li><span><a href=\"#統計量の計算\" data-toc-modified-id=\"統計量の計算-6\"><span class=\"toc-item-num\">6&nbsp;&nbsp;</span><u><b>統計量の計算</b></u></a></span></li><li><span><a href=\"#箱ひげ図を用いたばらつきの可視化\" data-toc-modified-id=\"箱ひげ図を用いたばらつきの可視化-7\"><span class=\"toc-item-num\">7&nbsp;&nbsp;</span><u><b>箱ひげ図を用いたばらつきの可視化</b></u></a></span></li></ul></div>"
   ]
  },
  {
   "cell_type": "markdown",
   "metadata": {},
   "source": [
    "# 第３章３節：ライブラリの指標計算結果まとめ"
   ]
  },
  {
   "cell_type": "markdown",
   "metadata": {},
   "source": [
    "前回の記事で、活性化合物群の情報をもとにライブラリから候補化合物を絞り込むため、指標の閾値（フィルター）を決めようと試みました。とりあえずの結果として、以下の値を求めました。\n",
    "\n",
    "||指標||small_molecules <br> min|small_molecules <br> max|フィルタリング目安|\n",
    "|:---:|:---:|:---:|:---:|:---:|:---:|\n",
    "|①|分子量|MW |215|835|> 300|\n",
    "|②|cLogP|MolLogP|-2.5|9.5|-3 ~ 10|\n",
    "|③|水素結合供与体数|NumHDonoes|1|7| < 10| \n",
    "|④|水素結合受容体数|NumHAcceptors |3|9| < 10|\n",
    "|⑤|回転可能結合数| NumRotatableBonds |2|15|< 15|\n",
    "|⑥|極性表面積|TPSA|48|250| < 250|\n",
    "\n",
    "こちらのフィルタリング目安を、前処理済みのライブラリEnamine_Premium_collection（分子量300より小さいものは除去済み）に適用すべく、各化合物の指標を計算、その統計値を求めました。\n",
    "\n",
    "結果は以下の通り・・・\n",
    "\n",
    "<img src=\"./images/3-3_image1.png\">\n",
    "\n",
    "なんと、欲張って幅を広くとりすぎたためか、分子量以外の指標では化合物の数をうまく減らせそうにありません。\n",
    "\n",
    "絞り込み対象のライブラリにおける指標の値の分布を検証せずに、手抜きして活性化合物群のみから閾値を決めようとしたことに原因があるかもしれません。\n",
    "\n",
    "まずは、相手を知る必要がありそうです。\n",
    "\n",
    "そこで各指標値の値を残りのライブラリ３つ（Enamine_Advanced_collection、Enamine_HTS_collection、UOS_HTS）に対しても求め分布を把握してみることにしました。\n",
    "これらのライブラリに対しては分子量 300以下を除く処理はしていません。\n",
    "\n",
    "まずは結果から・・・\n",
    "\n",
    "① Enamine_Advanced_collection  \n",
    "\n",
    "<img src=\"./images/3-3_image2.png\">\n",
    "\n",
    "\n",
    "② Enamine_HTS_collection\n",
    "\n",
    "<img src=\"./images/3-3_image3.png\">\n",
    "\n",
    "\n",
    "③ UOS_HTS\n",
    "\n",
    "<img src=\"./images/3-3_image4.png\">\n",
    "\n",
    "\n",
    "\n",
    "分子量300以下を除く処理をしていないためか、分子量の最小値の小ささにすこしびっくりしました。\n",
    "\n",
    "\n",
    "このままではよくわからないので、値のばらつきを見るため箱ひげ図を用いてばらつきを可視化しました。\n",
    "以下は、Enamine_Advanced_collectionの場合です。\n",
    "\n",
    "<img src=\"./images/3-3_image5.png\">\n",
    "\n",
    "\n",
    "こちらを見ると先日設定したフィルタリング目安は、最大値よりも大きく、外れ値とも言えそうな化合物も全て残してしまう、ということがわかります。\n",
    "\n",
    "先にこっちを見ておくべきだった！！\n",
    "\n",
    "以下に、上記を求めた際につまづいた点などを記載しておきます。\n",
    "\n",
    "\n"
   ]
  },
  {
   "cell_type": "markdown",
   "metadata": {},
   "source": [
    "# <u><b>MolLogPの計算</b></u>\n",
    "\n",
    "Enamine_Premium_collectionを計算する際には問題とならなかったのですが、Enamine_Advanced_collectionを処理する際に、MolLogPの計算でエラーが生じました。指標の要約統計量を確認するとEnamine_Advanced_collectionのMolLogPのみ、count(値の総数:486321)が分子の総数(486322)よりも1小さくなっています。\n",
    "\n",
    "エラーの内容は以下の通り。\n"
   ]
  },
  {
   "cell_type": "markdown",
   "metadata": {},
   "source": [
    "```python\n",
    "---> 42   MolLogP_value = Chem.Descriptors.MolLogP(mol_neu)\n",
    "     43   mol_neu.SetDoubleProp('MolLogP', MolLogP_value)\n",
    "     44   MolLogP_list.append(MolLogP_value)\n",
    "\n",
    "/root/miniconda/lib/python3.6/site-packages/rdkit/Chem/Crippen.py in <lambda>(*x, **y)\n",
    "    168 _pyMolMR.version = \"1.1.0\"\n",
    "    169 \n",
    "--> 170 MolLogP = lambda *x, **y: rdMolDescriptors.CalcCrippenDescriptors(*x, **y)[0]\n",
    "    171 MolLogP.version = rdMolDescriptors._CalcCrippenDescriptors_version\n",
    "    172 MolLogP.__doc__ = \"\"\" Wildman-Crippen LogP value\n",
    "\n",
    "ValueError: Sanitization error: Explicit valence for atom # 6 B, 5, is greater than permitted\n",
    "```\n"
   ]
  },
  {
   "cell_type": "markdown",
   "metadata": {},
   "source": [
    "\n",
    "**Value Error** と書かれたエラー内容から推測すると、この分子はホウ素（B : 原子番号 6）を含み、その原子に対する結合の数が、通常よりも多いため分子としてうまく認識できなくなっているようです。構造は以下の通り。\n",
    "\n",
    "<img src=\"./images/3-3_image6.png\">\n",
    "\n",
    "\n",
    "上記のようにホウ素に3つのフッ素原子とピロールが結合した分子のカリウム塩となっています。４本の結合＋負電荷で 「valence # 6 B, 5」となりエラーとなったようです。どうやらこのライブラリにはクロスカップリング反応の試薬（[有機トリフルオロボレート塩](https://www.chem-station.com/odos/2015/06/organotrifluoroboratesalt.html) (Chem-Station さんより)）となるような化合物も含まれているようです。\n",
    "\n"
   ]
  },
  {
   "cell_type": "markdown",
   "metadata": {},
   "source": [
    "# <u><b>前処理のコード全体</b></u>\n",
    "\n",
    "上記エラーのためforループが途中でとまってしまい、前処理ができなくなってしまいました。そこで、MolLogPの計算については**例外処理**（try…except…）を追加しました。前処理のコード全体としては下記となります。\n"
   ]
  },
  {
   "cell_type": "markdown",
   "metadata": {},
   "source": [
    "```python\n",
    "from rdkit import Chem\n",
    "import gzip\n",
    "from rdkit.Chem import Descriptors, MolStandardize\n",
    "\n",
    "EAc_gz = gzip.open('Enamine_Advanced_collection.sdf.gz')\n",
    "EAc_suppl = Chem.ForwardSDMolSupplier(EAc_gz) \n",
    "\n",
    "#Molオブジェクト、および各指標を計算し格納するためのからのリストを作成\n",
    "EAc_mols = []\n",
    "MW_list = []\n",
    "MolLogP_list = []\n",
    "NumHDonors_list = []\n",
    "NumHAcceptors_list = []\n",
    "NumRotatableBonds_list = []\n",
    "TPSA_list = []\n",
    "\n",
    "for x in EAc_suppl:\n",
    "  if x is not None:\n",
    "    mol = x\n",
    "    \n",
    "  #処理の前にidnumberを取り出しておく\n",
    "  ID = mol.GetProp('idnumber') \n",
    "\n",
    "    \n",
    "  #構造の標準化\n",
    "  normalizer =MolStandardize.normalize.Normalizer()\n",
    "  mol_norm = normalizer.normalize(mol)\n",
    "  \n",
    "  #一番大きいサイズのフラグメントのみ残す\n",
    "  lfc = MolStandardize.fragment.LargestFragmentChooser()\n",
    "  mol_desalt = lfc.choose(mol_norm)\n",
    "  \n",
    "  #電荷の中和\n",
    "  uc = MolStandardize.charge.Uncharger()\n",
    "  mol_neu = uc.uncharge(mol_desalt)\n",
    "  \n",
    "  #処理後のMolオブジェクトに、取り出しておいた元々のidnumberをoriginal_idとして付与\n",
    "  mol_neu.SetProp('original_id', ID)\n",
    "  \n",
    "  #分子量を計算\n",
    "  MW_value = Chem.Descriptors.MolWt(mol_neu)\n",
    "\n",
    "  #分子量をプロパティとして持たせる。(小数点を含むfloat型)\n",
    "  mol_neu.SetDoubleProp('MW', MW_value)\n",
    "  \n",
    "  #値のみのリストにも追加する\n",
    "  MW_list.append(MW_value)\n",
    "  \n",
    "  #MolLogPを計算(MolLogPは対応しない元素を含むとエラーを返すので例外処理として記入)\n",
    "  try: \n",
    "    MolLogP_value = Chem.Descriptors.MolLogP(mol_neu)\n",
    "    mol_neu.SetDoubleProp('MolLogP', MolLogP_value)\n",
    "    MolLogP_list.append(MolLogP_value)\n",
    "  except:\n",
    "    MolLogP_list.append(None)\n",
    "   \n",
    "  #NumHDonorsでも同じことをする。\n",
    "  NumHDonors_value = Chem.Descriptors.NumHDonors(mol_neu)\n",
    "\n",
    "  #非負の整数値（int型）のプロパティなので SetUnsignedIntProp でも良いが面倒なのでSetDoublePropにする。\n",
    "  #たぶんメモリの無駄遣い。\n",
    "  mol_neu.SetDoubleProp('NumHDonors', NumHDonors_value)\n",
    "  NumHDonors_list.append(NumHDonors_value)  \n",
    "\n",
    "  #NumHAcceptors\n",
    "  NumHAcceptors_value = Chem.Descriptors.NumHAcceptors(mol_neu)\n",
    "  mol_neu.SetDoubleProp('NumHAcceptors', NumHAcceptors_value)\n",
    "  NumHAcceptors_list.append(NumHAcceptors_value)  \n",
    "\n",
    "  #NumRotatableBonds\n",
    "  NumRotatableBonds_value = Chem.Descriptors.NumRotatableBonds(mol_neu)\n",
    "  mol_neu.SetDoubleProp('NumRotatableBonds', NumRotatableBonds_value)\n",
    "  NumRotatableBonds_list.append(NumRotatableBonds_value)    \n",
    "\n",
    "  #TPSA\n",
    "  TPSA_value = Chem.Descriptors.TPSA(mol_neu)\n",
    "  mol_neu.SetDoubleProp('TPSA', TPSA_value)\n",
    "  TPSA_list.append(TPSA_value)   \n",
    " \n",
    "  #Molオブジェクトのリストも忘れずに\n",
    "  EAc_mols.append(mol_neu)\n",
    "```"
   ]
  },
  {
   "cell_type": "markdown",
   "metadata": {},
   "source": [
    "以後の処理をできるだけ簡単にするため、指標の数値のみを含むcsvファイルを作成しました。\n"
   ]
  },
  {
   "cell_type": "markdown",
   "metadata": {},
   "source": [
    "```python\n",
    "import pandas as pd\n",
    "property_names = ['MW', 'MolLogP', 'NumHDonors', 'NumHAcceptors', 'NumRotatableBonds', 'TPSA'] \n",
    "property_values = [MW_list, MolLogP_list, NumHDonors_list, NumHAcceptors_list, NumRotatableBonds_list, TPSA_list]\n",
    "\n",
    "df = pd.DataFrame(index=[], columns=property_names)\n",
    "\n",
    "for i, j in zip(property_names, property_values):\n",
    "  df[i] = j\n",
    "  \n",
    "df.to_csv('Enamine_Advanced_collection_desc.csv', sep=',')\n",
    "```"
   ]
  },
  {
   "cell_type": "markdown",
   "metadata": {},
   "source": [
    "また別途、構造情報と各指標の値を紐づけた上でsdfを作成しました。"
   ]
  },
  {
   "cell_type": "markdown",
   "metadata": {},
   "source": [
    "```python\n",
    "#構造と各種プロパティを残したsdfファイルを作成\n",
    "writer = Chem.SDWriter('Enamine_Advanced_collection_desc.sdf')\n",
    "\n",
    "writer.SetProps(property_names)   #追記 このままだとidが抜けるので項目の追加が必要\n",
    "for mol in EAc_mols:\n",
    "  writer.write(mol)\n",
    "writer.close()\n",
    "```\n"
   ]
  },
  {
   "cell_type": "markdown",
   "metadata": {},
   "source": [
    "以上が、各ライブラリファイルに対して実行した前処理の全体の流れとなります。\n"
   ]
  },
  {
   "cell_type": "markdown",
   "metadata": {},
   "source": [
    "# <u><b>処理に失敗した分子の確認</b></u>\n",
    "\n",
    "先の処理でMolLogPの計算ができなかったものについては**None**を格納するように例外処理を指定しました。このリストをpandasで読み込むと**None**は自動的に**NaN**としてDataFrameに取り込まれるそうです。\n",
    "\n",
    "どのような化合物が処理に失敗したかを確認するため、\n",
    "\n",
    "*  上記で出力したcsvファイルをPandasのDataFrameとして読み込む\n",
    "*  **MolLogP**の列で値が**NaN**となっている行のindexを取得する\n",
    "*   取得したindexに相当する分子の構造を確認する\n",
    "という手順を実施しました。  \n",
    "\n",
    "（上述の**Value Error**となった構造の描画のために行った処理です）\n"
   ]
  },
  {
   "cell_type": "markdown",
   "metadata": {},
   "source": [
    "```python\n",
    "# csvをDataFrameとする\n",
    "df_EAc = pd.read_csv('./Enamine_Advanced_collection_desc.csv')\n",
    "\n",
    "# MolLogPの列がNaNとなっている(query)行番号(index)を取り出し、リスト化する(list)\n",
    "df_EAc_MolLogP_None = list(df_EAc.query('MolLogP == \"NaN\"').index)\n",
    "\n",
    "print(df_EAc_MolLogP_None)\n",
    "# [8135] と出力された\n",
    "```"
   ]
  },
  {
   "cell_type": "markdown",
   "metadata": {},
   "source": [
    "index 8135の分子一つのみが、処理に失敗したもののようです。コードは省略しますが、この分子をsdfから取り出し描画することで、先の構造（ピロールのトリフルオロボレート塩）を確認しました。\n",
    "\n"
   ]
  },
  {
   "cell_type": "markdown",
   "metadata": {},
   "source": [
    "# <u><b>SDFの持つ情報をとりあえず確認する方法</b></u>\n",
    "\n",
    "上記、前処理ですが **Enamine~~ ** と名前のついた3つのsdfではうまくいったものの、**UOS_HTS**ではうまくいきませんでした。原因は**idnumber** というプロパティが存在しなかったことです。どうやらこちらのライブラリのみ、化合物のIDが別の名称の属性として格納されているようです。\n",
    "\n",
    "TextエディタやMarvinViewなどで開いてSDFの持つ構造情報以外の属性を確認する、という手段もありますが、なにぶんファイルサイズが大きく開くだけでも大変です。ここは　RDKitをうまく使いたい・・・ということで、とりあえずsdfから最初の１分子のみを読み込んでみることとしました。\n",
    "\n",
    "以前こちらの[記事](https://magattaca.hatenablog.com/entry/2019/01/19/171318?_ga=2.138598192.2075122628.1548337727-757748411.1499518588)で検証したように、ForwardSDMolSupplierで読み込んだSDFからは**next()**を使うことで順番に一つずつ取り出すことができます。\n",
    "\n"
   ]
  },
  {
   "cell_type": "markdown",
   "metadata": {},
   "source": [
    "```python\n",
    "UH_suppl = Chem.ForwardSDMolSupplier('./UOS_HTS.sdf') \n",
    "\n",
    "#組み込み関数next()を使って最初の一つの分子を取り出す\n",
    "test_mol = next(UH_suppl)\n",
    "\n",
    "#どんなPropertyが含まれているか取り出し、リスト化、出力\n",
    "prop_names = list(test_mol.GetPropNames())\n",
    "print(prop_names)\n",
    "#['ID']と出力された\n",
    "```"
   ]
  },
  {
   "cell_type": "markdown",
   "metadata": {},
   "source": [
    "**UOS_HTS**については、化合物のIDは**ID**という属性に格納されているようです。\n",
    "これで**idnumber**の代わりに**ID**として、他のライブラリに行ったのと同じ処理を行えば良いことがわかりました。\n",
    "\n",
    "なんどもクドイようですが、上記処理に続けて前処理のコードを実行すると失敗します。\n",
    "\n",
    "理由は属性の確認のため、ForwardSDMolSupplierのオブジェクトから最初の一つをとりだしてしまったため、再度sdfを読み込むところから始めないと、最初の一つを捨ててしまったことになるからです。（私は以前記事を書いておきながらもこの失敗をまた繰り返しました・・・学習能力低すぎ・・・）\n"
   ]
  },
  {
   "cell_type": "markdown",
   "metadata": {},
   "source": [
    "# <u><b>統計量の計算</b></u>\n",
    "\n",
    "pandasのdescribeを用いると項目数が増えるので、総数（count）、最小値(min)、平均値(mean)、最大値(max)を別個に計算しました。\n",
    "\n"
   ]
  },
  {
   "cell_type": "markdown",
   "metadata": {},
   "source": [
    "```python\n",
    "df_count = df_EAc[descriptors].count() \n",
    "df_min = df_EAc[descriptors].min()\n",
    "df_mean = df_EAc[descriptors].mean()\n",
    "df_max = df_EAc[descriptors].max()\n",
    "\n",
    "df_desc_view_EAc =  pd.DataFrame([df_count, df_min, df_mean, df_max], index=['count', 'min', 'mean', 'max'])\n",
    "\n",
    "df_desc_view_EAc.round(2)\n",
    "```"
   ]
  },
  {
   "cell_type": "markdown",
   "metadata": {},
   "source": [
    "これで冒頭の統計量を出しました。\n"
   ]
  },
  {
   "cell_type": "markdown",
   "metadata": {},
   "source": [
    "# <u><b>箱ひげ図を用いたばらつきの可視化</b></u>\n",
    "\n",
    "要約統計量のみでは値の広がりがわからないので箱ひげ図を用いてばらつきを可視化しました。\n",
    "\n"
   ]
  },
  {
   "cell_type": "markdown",
   "metadata": {},
   "source": [
    "```python\n",
    "import matplotlib as mpl\n",
    "import matplotlib.pyplot as plt\n",
    "%matplotlib inline\n",
    "```"
   ]
  },
  {
   "cell_type": "markdown",
   "metadata": {},
   "source": [
    "一つのプロットに全ての指標を乗せてしまうと、値の範囲の違い（分子量と水素結合受容体の数では値の幅が全然違う）のため、潰れてしまったのでsubplotを指定しました。"
   ]
  },
  {
   "cell_type": "markdown",
   "metadata": {},
   "source": [
    "```python\n",
    "descriptors = ['MW', 'MolLogP', 'NumHDonors', 'NumHAcceptors', 'NumRotatableBonds', 'TPSA']\n",
    "\n",
    "df_EAc[descriptors].plot(kind = 'box', subplots=True, figsize=(20, 6))\n",
    "```"
   ]
  },
  {
   "cell_type": "markdown",
   "metadata": {},
   "source": [
    "これで冒頭の図を得ました。\n",
    "\n",
    "以上です。\n"
   ]
  }
 ],
 "metadata": {
  "kernelspec": {
   "display_name": "Python 3",
   "language": "python",
   "name": "python3"
  },
  "language_info": {
   "codemirror_mode": {
    "name": "ipython",
    "version": 3
   },
   "file_extension": ".py",
   "mimetype": "text/x-python",
   "name": "python",
   "nbconvert_exporter": "python",
   "pygments_lexer": "ipython3",
   "version": "3.6.8"
  },
  "toc": {
   "base_numbering": 1,
   "nav_menu": {},
   "number_sections": true,
   "sideBar": true,
   "skip_h1_title": false,
   "title_cell": "Table of Contents",
   "title_sidebar": "Contents",
   "toc_cell": true,
   "toc_position": {},
   "toc_section_display": true,
   "toc_window_display": true
  }
 },
 "nbformat": 4,
 "nbformat_minor": 2
}
