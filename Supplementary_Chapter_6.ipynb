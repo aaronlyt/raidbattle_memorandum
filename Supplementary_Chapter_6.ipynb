{
 "cells": [
  {
   "cell_type": "markdown",
   "metadata": {
    "toc": true
   },
   "source": [
    "<h1>Table of Contents<span class=\"tocSkip\"></span></h1>\n",
    "<div class=\"toc\"><ul class=\"toc-item\"><li><span><a href=\"#タンパク質編_第６章　PDB-viewerをつかったバリデーション\" data-toc-modified-id=\"タンパク質編_第６章　PDB-viewerをつかったバリデーション-1\"><span class=\"toc-item-num\">1&nbsp;&nbsp;</span>タンパク質編_第６章　PDB viewerをつかったバリデーション</a></span></li><li><span><a href=\"#1.-指標の確認\" data-toc-modified-id=\"1.-指標の確認-2\"><span class=\"toc-item-num\">2&nbsp;&nbsp;</span>1. 指標の確認</a></span><ul class=\"toc-item\"><li><span><a href=\"#分解能とR因子\" data-toc-modified-id=\"分解能とR因子-2.1\"><span class=\"toc-item-num\">2.1&nbsp;&nbsp;</span>分解能とR因子</a></span></li><li><span><a href=\"#データベース全体と比較した質\" data-toc-modified-id=\"データベース全体と比較した質-2.2\"><span class=\"toc-item-num\">2.2&nbsp;&nbsp;</span>データベース全体と比較した質</a></span></li></ul></li><li><span><a href=\"#PDB-３D-viewer-で全体の質をチェック\" data-toc-modified-id=\"PDB-３D-viewer-で全体の質をチェック-3\"><span class=\"toc-item-num\">3&nbsp;&nbsp;</span>PDB ３D viewer で全体の質をチェック</a></span><ul class=\"toc-item\"><li><span><a href=\"#Desnsity-Fit\" data-toc-modified-id=\"Desnsity-Fit-3.1\"><span class=\"toc-item-num\">3.1&nbsp;&nbsp;</span>Desnsity Fit</a></span></li><li><span><a href=\"#B-Factor\" data-toc-modified-id=\"B-Factor-3.2\"><span class=\"toc-item-num\">3.2&nbsp;&nbsp;</span>B-Factor</a></span></li><li><span><a href=\"#Geometry-Quality\" data-toc-modified-id=\"Geometry-Quality-3.3\"><span class=\"toc-item-num\">3.3&nbsp;&nbsp;</span>Geometry Quality</a></span></li></ul></li><li><span><a href=\"#3.-リガンドの構造を再調査\" data-toc-modified-id=\"3.-リガンドの構造を再調査-4\"><span class=\"toc-item-num\">4&nbsp;&nbsp;</span>3. リガンドの構造を再調査</a></span><ul class=\"toc-item\"><li><span><a href=\"#問題点の再確認\" data-toc-modified-id=\"問題点の再確認-4.1\"><span class=\"toc-item-num\">4.1&nbsp;&nbsp;</span>問題点の再確認</a></span></li><li><span><a href=\"#Ligand-Geometry\" data-toc-modified-id=\"Ligand-Geometry-4.2\"><span class=\"toc-item-num\">4.2&nbsp;&nbsp;</span>Ligand Geometry</a></span></li><li><span><a href=\"#リガンド部位の指標\" data-toc-modified-id=\"リガンド部位の指標-4.3\"><span class=\"toc-item-num\">4.3&nbsp;&nbsp;</span>リガンド部位の指標</a></span></li><li><span><a href=\"#リガンド各部位の確認\" data-toc-modified-id=\"リガンド各部位の確認-4.4\"><span class=\"toc-item-num\">4.4&nbsp;&nbsp;</span>リガンド各部位の確認</a></span><ul class=\"toc-item\"><li><span><a href=\"#①単結合を２重結合として認識している部位\" data-toc-modified-id=\"①単結合を２重結合として認識している部位-4.4.1\"><span class=\"toc-item-num\">4.4.1&nbsp;&nbsp;</span>①単結合を２重結合として認識している部位</a></span></li><li><span><a href=\"#②-N-の位置の違い、③不斉点の誤り\" data-toc-modified-id=\"②-N-の位置の違い、③不斉点の誤り-4.4.2\"><span class=\"toc-item-num\">4.4.2&nbsp;&nbsp;</span>② N の位置の違い、③不斉点の誤り</a></span></li><li><span><a href=\"#④シアノ基がアミノメチル基となっている\" data-toc-modified-id=\"④シアノ基がアミノメチル基となっている-4.4.3\"><span class=\"toc-item-num\">4.4.3&nbsp;&nbsp;</span>④シアノ基がアミノメチル基となっている</a></span></li></ul></li></ul></li><li><span><a href=\"#4.まとめ\" data-toc-modified-id=\"4.まとめ-5\"><span class=\"toc-item-num\">5&nbsp;&nbsp;</span>4.まとめ</a></span></li><li><span><a href=\"#脚注\" data-toc-modified-id=\"脚注-6\"><span class=\"toc-item-num\">6&nbsp;&nbsp;</span>脚注</a></span></li></ul></div>"
   ]
  },
  {
   "cell_type": "markdown",
   "metadata": {},
   "source": [
    "# タンパク質編\\_第６章　PDB viewerをつかったバリデーション\n",
    "\n",
    "PDBフォーマットの見方や注意点などについて調べてきました。折角ですので前記事を踏まえて再度、発端となった構造 [PDB id : 5NIX]の質について検証してみたいと思います。\n",
    "\n",
    "X線結晶構造の実験データとバリデーションの情報についてもRCSB PDBページで提供されていました。PDBのビューワーに搭載されているさまざまな機能の使い方も含めて遊んでみます。"
   ]
  },
  {
   "cell_type": "markdown",
   "metadata": {},
   "source": [
    "# 1. 指標の確認\n",
    "## 分解能とR因子\n",
    "\n",
    "先ずは結晶の質の指標となる**分解能**と**R因子**の確認から・・・\n",
    "\n",
    "<img src=\"./images/sup-6_image1.png\">***Fig. 1 PDB id : 5NIX の分解能とRfree***"
   ]
  },
  {
   "cell_type": "markdown",
   "metadata": {},
   "source": [
    "前回のおさらいですが、原子レベルでの議論をするための結晶構造解析の質の目安として\n",
    "\n",
    "* **分解能 < 2Å**\n",
    "* **Rfree < 0.20**\n",
    "\n",
    "が、挙げられていました。Fig. 1 より、PDB :id 5NIXではいずれも目安より大きな値となっており、原子レベルの議論には向かない結晶構造かもしれません。\n",
    "\n",
    "R因子の値のレンジですが、ランダムな構造を生成させて計算すると**約0.6**となるため、取りうる値の範囲 [** 0 ~ 約0.6 **]  くらいの指標だそうです。( [PDB-101:R-value and R-free](https://pdb101.rcsb.org/learn/guide-to-understanding-pdb-data/r-value-and-r-free))\n"
   ]
  },
  {
   "cell_type": "markdown",
   "metadata": {},
   "source": [
    "## データベース全体と比較した質\n",
    "\n",
    "数値のみを見ても、それがどの程度の質なのかはイメージできない・・・・と思っていたら、**wwPDB Validation**と題した素敵なグラフもありました。"
   ]
  },
  {
   "cell_type": "markdown",
   "metadata": {},
   "source": [
    "<img src=\"./images/sup-6_image2.png\">***Fig. 2 PDBデータベースと比較した構造の質（ランク）***"
   ]
  },
  {
   "cell_type": "markdown",
   "metadata": {},
   "source": [
    "PDBの他のデータと比較した際に、該当のエントリーの構造の質がどの程度のものなのか、スライドバー形式で表示されています。\n",
    "\n",
    "**黒色**がPDBの**全エントリー**（2017/12/27時点）と比較した場合、**白抜き**が**類似の分解能の構造群**と比較した場合にどのようなランク（％）に位置するかを示します。\n",
    "\n",
    "Rfree は中央よりも左に寄っているため、他のデータと比較した場合、抜群に質の良い構造とは言えなさそうです。"
   ]
  },
  {
   "cell_type": "markdown",
   "metadata": {},
   "source": [
    "Fig. 2の Rfree の値が 0.264 でFig. 1の値 0.251と異なりますが、これはFig.3 が構造投稿者によって求められた値であるのに対し、Fig 4. はDCCというプログラムを用いて再計算した値が用いられているためです。([wwPDB: X-ray validation report user guide](https://www.wwpdb.org/validation/2017/XrayValidationReportHelp#fit_nonstandard_and_ligands))"
   ]
  },
  {
   "cell_type": "markdown",
   "metadata": {},
   "source": [
    "# PDB ３D viewer で全体の質をチェック\n",
    "## Desnsity Fit \n",
    "もっと格好良く！ということで3Dでも見てみたいと思います。\n",
    "\n",
    "PDB の3D viewer で描画方法を変更してみました。"
   ]
  },
  {
   "cell_type": "markdown",
   "metadata": {},
   "source": [
    "<img src=\"./images/sup-6_image3.png\"> ***Fig. 3 描画方法の比較（左: Rainbow、右: By Density Fit）***"
   ]
  },
  {
   "cell_type": "markdown",
   "metadata": {},
   "source": [
    "Fig. 3 左はこれまで用いてきた[Rainbow] 形式のカラーで、Fig. 3 右は[By Density FIt] としたものです。\n",
    "\n",
    "こちらはモデルと実験データ（**電子密度**）がうまく一致しているか、その度合いを**Better**（青）- **Poor** (赤) のグラデーションで色付けしています。\n",
    "\n",
    "色付けの基準は以下のような指標に基づいているそうです。 ([RCSB PDB: 3D View User Guide](https://www.rcsb.org/pages/help/3dview#edmaps-view))"
   ]
  },
  {
   "cell_type": "markdown",
   "metadata": {},
   "source": [
    "<img src=\"./images/sup-6_image4.png\">***Fig. 4 Density Fit 色付けの指標***"
   ]
  },
  {
   "cell_type": "markdown",
   "metadata": {},
   "source": [
    "**RSR**はモデルの**１残基ごと**に実空間のデータとの重なり度を評価する指標で、**RSRZ**は、このRSRを分解能とアミノ酸残基のタイプに応じて**正規化**したものだそうです。　([validation FAQ](https://pdbj.org/help/dafaq_cont_xray01))\n",
    "\n",
    "Fig. 3をみると、リガンドは真っ白なので「まあまあの精度」といったところでしょうか？タンパク質（PD-L1）側は概ね青色で良い適合を示していますが、ところどころ白くなっています。周辺のループ構造のようにみえますので、動きがある部分なのかもしれません。"
   ]
  },
  {
   "cell_type": "markdown",
   "metadata": {},
   "source": [
    "## B-Factor\n",
    "\n",
    "動きといえば・・・ということで、次の描画方法、**温度因子**（B-Factor） を見てみましょう。"
   ]
  },
  {
   "cell_type": "markdown",
   "metadata": {},
   "source": [
    "<img src=\"./images/sup-6_image5.png\">***Fig. 5 Density Fit (左) と B-factor (右)***"
   ]
  },
  {
   "cell_type": "markdown",
   "metadata": {},
   "source": [
    "B-factorは構造の中でもっとも高いB-factor値を持つ部位を**赤**、最も低い部位を**タン**となるように色付けされています。\n",
    "\n",
    "Density Fit（左）で白色となっている部分と、B-factor (右) で茶色を帯びている部分のいくつかは重なりがあるように見えます（Fig. 5 赤丸）。タンパク質の動きがある（柔らかい）部位でモデルと電子密度の差が生じているというのは、あながち間違いではないかもしれません。\n",
    "\n",
    "数値的にはどうなっているでしょうか？\n"
   ]
  },
  {
   "cell_type": "markdown",
   "metadata": {},
   "source": [
    "<img src=\"./images/sup-6_image6.png\">***Fig. 6 占有率と温度因子(B-factor)の値***"
   ]
  },
  {
   "cell_type": "markdown",
   "metadata": {},
   "source": [
    "おそらくFig. 6 の**Mean Isotropic B**という値が等方性温度因子の平均値だと思いますが、43.81 となっています。\n",
    "\n",
    "前回ご紹介した目安では　\n",
    "    \n",
    "* **占有率 < 1.0** かつ **B-factor > 30 Å2**  \n",
    "\n",
    "の場合、アミノ酸残基の位置が疑わしいということでした。\n",
    "\n",
    "占有率 1.0 の場合B-factorが30を超えていても許容、ということなのでしょうか？？？"
   ]
  },
  {
   "cell_type": "markdown",
   "metadata": {},
   "source": [
    "## Geometry Quality\n",
    "\n",
    "では、最後の描画方法 [By Geometry Quality] を見てみましょう。"
   ]
  },
  {
   "cell_type": "markdown",
   "metadata": {},
   "source": [
    "<img src=\"./images/sup-6_image7.png\">***Fig. 7 Geometry Quality***"
   ]
  },
  {
   "cell_type": "markdown",
   "metadata": {},
   "source": [
    "こちらの描画方法では、構造に含まれる**幾何学的な問題点の数**に従って色付けされています。（0 : 青、1 : 黄、２ : オレンジ、3 以上 : 赤）\n",
    "\n",
    "また、オプションで「**Clashes**」にチェックを入れると、ぶつかっている原子間にピンク色の円盤が表示されるようになります。円盤の大きさがvan der Waals半径の重なりの程度を表します。\n",
    "\n",
    "Fig. 7をみるとリガンドは黄、オレンジ色の原子が多く、さらに周囲に\"Clash\"が複数みられます。\n",
    "\n",
    "リガンド２次元構造の間違いから出発し、[PDB id : 5NIX] について調べてきましたが、どうやらリガンドの３次元構造のモデリングに課題がありそうです。\n",
    "\n",
    "もう少し詳しく見てみたいと思います。"
   ]
  },
  {
   "cell_type": "markdown",
   "metadata": {},
   "source": [
    "# 3. リガンドの構造を再調査 \n",
    "## 問題点の再確認\n",
    "まずは２次元構造の問題点を再確認します。"
   ]
  },
  {
   "cell_type": "markdown",
   "metadata": {},
   "source": [
    "<img src=\"./images/sup-6_image8.png\">***Fig. 8 ２次元構造レベルの問題点***"
   ]
  },
  {
   "cell_type": "markdown",
   "metadata": {},
   "source": [
    "## Ligand Geometry\n",
    "\n",
    "リガンドに関する指標もついでに確認します。wwPDB validation の「**Full Report**」 の中に 「**Ligand Geometry**」 という項目がありました。\n",
    "\n",
    "こちらは低分子の結晶構造データベースである**Cambridge Structural Database**(CSD)から導いた「**適した幾何構造**(preferred molecular geometries)」と、リガンドのモデル構造との比較結果が記載されているそうです。\n"
   ]
  },
  {
   "cell_type": "markdown",
   "metadata": {},
   "source": [
    "<img src=\"./images/sup-6_image9.png\">***Fig. 9 Validation Report より Ligand Geometry***"
   ]
  },
  {
   "cell_type": "markdown",
   "metadata": {},
   "source": [
    "**Bond lengths**、**Bond angles**ともにCountsの３つの数値のうち一番左、**analyzed**の数が他の２つよりも少なくなっていますが、CSDの情報の中に比較相手となるフラグメント構造が存在しない場合に少なくなることがあるそうです。\n",
    "\n",
    "リガンド分子全体について結合長、結合角、各々の**RMSZ**（root-mean-square value of the Z-scores）が求められていますが、こちらは[**0 - 1**] の間に収まることが期待れる値で、1よりも大きい場合**over-fitting**である可能性が示唆されるそうです。\n",
    "\n",
    "また「**#|Z| > 2**」は**Z-score**の絶対値が2よりも大きく外れ値となっている「bond/angle」 の数、および分子中に占める割合（%）だそうです。\n",
    "\n",
    "Validation Report の中で、黄色にハイライトされているように「RMSZ」、「#|Z| > 2」ともにかなり怪しい値を示しています。\n"
   ]
  },
  {
   "cell_type": "markdown",
   "metadata": {},
   "source": [
    "## リガンド部位の指標\n",
    "\n",
    "リガンド部位のモデルの指標としては以下のような値となっています。"
   ]
  },
  {
   "cell_type": "markdown",
   "metadata": {},
   "source": [
    "<img src=\"./images/sup-6_image10.png\">***Fig.10 Ligand の占有率と温度因子***"
   ]
  },
  {
   "cell_type": "markdown",
   "metadata": {},
   "source": [
    "前回ご紹介した目安では　\n",
    "\n",
    "* 「**占有率 < 0.5** or **温度因子 > 50Å2**」の場合、結合様式の信頼度が低い\n",
    "* 原子レベルで比較対照する場合は、「**占有率 1.0 **かつ**温度因子 < 30 Å2**」が好ましい\n",
    "\n",
    "とのことでした。占有率については問題ありませんが、温度因子としてはモデルを鵜呑みにしてはいけなさそうです。 "
   ]
  },
  {
   "cell_type": "markdown",
   "metadata": {},
   "source": [
    "## リガンド各部位の確認\n",
    "\n",
    "それでは、Fig. 8 で指摘した4点の部位についてそれぞれ構造を見てみたいと思います。\n"
   ]
  },
  {
   "cell_type": "markdown",
   "metadata": {},
   "source": [
    "### ①単結合を２重結合として認識している部位"
   ]
  },
  {
   "cell_type": "markdown",
   "metadata": {},
   "source": [
    "<img src=\"./images/sup-6_image11.png\">***Fig. 11 Geometry Quality 描画　リガンド部位拡大-1***"
   ]
  },
  {
   "cell_type": "markdown",
   "metadata": {},
   "source": [
    "赤丸で囲んだ部分、C19は「Geometry Problems **２つ**」、「Clash あり」と、**原子の位置**に問題がありそうです。\n",
    "\n",
    "PDBでは３次元の配置から自動でアノテーションしているため、**結合次数の誤り**が生じることがあるということでした。C19の位置が誤っており、「O2-C19-C20-O3」が**平面**となるような配置となってしまったため、「C19-C20」が**2重結合**として帰属されていると考えると理解できそうです。"
   ]
  },
  {
   "cell_type": "markdown",
   "metadata": {},
   "source": [
    "### ② N の位置の違い、③不斉点の誤り"
   ]
  },
  {
   "cell_type": "markdown",
   "metadata": {},
   "source": [
    "<img src=\"./images/sup-6_image12.png\">***Fig. 12 Geometry Quality 描画　リガンド部位拡大-2 および 該当原子の温度因子***"
   ]
  },
  {
   "cell_type": "markdown",
   "metadata": {},
   "source": [
    "２次元構造レベルで複数の問題点を含むピロリジン骨格ですが、Fig. 12に抜き出したように3次元構造でみてみるとピロリジン環とフェニル基とを繋ぐ結合を中心として**Geometry Problems**を含む原子が並んでいます。\n",
    "\n",
    "PDBファイルから該当の原子の情報を抜き出してみると、いずれも**温度因子**が**50 Å2以上**となっています。\n",
    "\n",
    "「リガンドについては温度因子が 50 Å2 以上の場合、結合様式の信頼度が低い」とする目安と見事に一致しているように見えます。\n",
    "\n",
    " \n",
    "\n",
    "格好いいので電子密度の図も貼っておきます。"
   ]
  },
  {
   "cell_type": "markdown",
   "metadata": {},
   "source": [
    "<img src=\"./images/sup-6_image13.png\">***Fig. 13 Electron Density Map (2fo - fc) との比較***"
   ]
  },
  {
   "cell_type": "markdown",
   "metadata": {},
   "source": [
    "### ④シアノ基がアミノメチル基となっている"
   ]
  },
  {
   "cell_type": "markdown",
   "metadata": {},
   "source": [
    "<img src=\"./images/sup-6_image14.png\">***Fig. 14 Geometry Quality 描画　リガンド部位拡大-3\n",
    "***"
   ]
  },
  {
   "cell_type": "markdown",
   "metadata": {},
   "source": [
    "フェニルから直線的にのびるであろうシアノ基が曲がっています。確かにこの３次元座標からシアノ基として認識するのは無理です。"
   ]
  },
  {
   "cell_type": "markdown",
   "metadata": {},
   "source": [
    "#  4.まとめ\n",
    "\n",
    "以上、PDBのページで公開されている情報、および3D viewerをもちいて、「構造の質」という観点から、これまで眺めてみてきた構造を再度眺めてみました。描画方法を変えてみるだけで、思った以上に問題点がわかりやすくなったように思います。\n",
    "\n",
    "とりあえず、PDBに登録されている情報をそのまま鵜呑みにしてしまうのには問題がある場合もあるということがわかりました。\n",
    "\n",
    "PDBのUser Guide等をざっと眺めただけで記載しているため、上記内容に誤りがあるかもしれません。ご指摘いただければ幸いです。"
   ]
  },
  {
   "cell_type": "markdown",
   "metadata": {},
   "source": [
    "# 脚注\n",
    "\n",
    "* EDSに関して\n",
    "The Uppsala Electron-Density Server  \n",
    "Kleywegt, G.J., et al., Acta Cryst. (2004). D60, 2240-2249  \n",
    "http://scripts.iucr.org/cgi-bin/paper?S0907444904013253\n",
    "\n",
    "* RSRZに関して  \n",
    "Statistical quality indicators for electron-density maps  \n",
    "Tickle, I.J., Acta Cryst., (2012). D68, 45-467  \n",
    "http://scripts.iucr.org/cgi-bin/paper?S0907444911035918\n",
    "\n",
    "* RSCCに関して  \n",
    "Validation of lignads in macromolecular structures  \n",
    "Smart, O.S., et al., Acta Cryst. (2018). D74, 228-236  \n",
    "http://scripts.iucr.org/cgi-bin/paper?S2059798318002541\n",
    "\n",
    "* 本記事では以下を使用しています。\n",
    "    * RCSB PDB\n",
    "    * PDB ID : 5NIX\n",
    "    * Skalniak, L., et al., (2017) Oncotarget 8: 72167-72181\n",
    "    * AS Rose et al. (2018) NGL viewer: web-based molecular graphics for large complexes. Bioinformaticsdio:10.1093/bioinformatics/bty419"
   ]
  },
  {
   "cell_type": "markdown",
   "metadata": {},
   "source": []
  },
  {
   "cell_type": "markdown",
   "metadata": {},
   "source": []
  },
  {
   "cell_type": "markdown",
   "metadata": {},
   "source": []
  }
 ],
 "metadata": {
  "kernelspec": {
   "display_name": "Python 3",
   "language": "python",
   "name": "python3"
  },
  "language_info": {
   "codemirror_mode": {
    "name": "ipython",
    "version": 3
   },
   "file_extension": ".py",
   "mimetype": "text/x-python",
   "name": "python",
   "nbconvert_exporter": "python",
   "pygments_lexer": "ipython3",
   "version": "3.6.8"
  },
  "toc": {
   "base_numbering": 1,
   "nav_menu": {},
   "number_sections": true,
   "sideBar": true,
   "skip_h1_title": false,
   "title_cell": "Table of Contents",
   "title_sidebar": "Contents",
   "toc_cell": true,
   "toc_position": {},
   "toc_section_display": true,
   "toc_window_display": true
  }
 },
 "nbformat": 4,
 "nbformat_minor": 2
}
