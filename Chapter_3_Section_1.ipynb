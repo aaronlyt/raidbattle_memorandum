{
 "cells": [
  {
   "cell_type": "markdown",
   "metadata": {
    "toc": true
   },
   "source": [
    "<h1>Table of Contents<span class=\"tocSkip\"></span></h1>\n",
    "<div class=\"toc\"><ul class=\"toc-item\"><li><span><a href=\"#第３章１節：分子量で絞り込もうとした話\" data-toc-modified-id=\"第３章１節：分子量で絞り込もうとした話-1\"><span class=\"toc-item-num\">1&nbsp;&nbsp;</span>第３章１節：分子量で絞り込もうとした話</a></span></li></ul></div>"
   ]
  },
  {
   "cell_type": "markdown",
   "metadata": {},
   "source": [
    "# 第３章１節：分子量で絞り込もうとした話"
   ]
  },
  {
   "cell_type": "markdown",
   "metadata": {},
   "source": [
    "なんとか化合物を読み込むということはできましたが、総数は200万以上・・・\n",
    "\n",
    "このままでは全くどうして良いかわかりません。\n",
    "\n",
    "どうしたものかと思っていたらTwitterで処理の方法を紹介してくださっている方がいらっしゃいました。\n",
    "\n",
    "紹介されていた処理の順序は、\n",
    "\n",
    "||処理|意図|\n",
    "|:---:|:---:|:---:|\n",
    "|①|分子量の範囲を設定|粗い絞り込み|\n",
    "|②|部分構造で絞り込み|活性化合物を参照したLBVS（？）|\n",
    "|③|粗いドッキング|タンパク質との相互作用を予測するSBVS（？）|\n",
    "|④|ファーマコフォアを指定したより詳細なドッキング|SBVS ２回目（？）|\n",
    "\n",
    "という感じです。\n",
    "\n",
    "このうち①と②なら、RDKitを使って行うことができそうです。とりあえずプロの真似をしよう！\n",
    "\n",
    "今回は、まずは①分子量での絞り込みに挑戦したいと思います。\n",
    "\n",
    "絞りこみの対象となる化合物群の構造式をいくつか眺めた感想として、確かにとても小さな分子（試薬？？）もライブラリに含まれていることが意外でした。今回の目標は、生理活性のある分子を予測しよう、というものなので、@mayudqxさんがされているように、あまりにも小さく活性の期待できなさそうなものを省くというのは、最初に行う絞り込みとして良さそうです。\n",
    "\n",
    "ところで、絞り込みの閾値を**分子量300**とされていましたが、こういう値をどうやって設定して良いものかわかりません。\n",
    "\n",
    "何か参考になるデータはないか・・・と思っていたら創薬レイドバトルの[githubページ](https://gist.github.com/souyakuchan/7f9add656d9d6b91f02f6939b88aa2c8) に「[共闘用シェアデータ](https://github.com/masahiro-mochizuki/pd1_inhibitor_dataset)」という、**活性化合物群のデータ**を掲載してくださっていました！\n",
    "\n",
    "様々な特許から「**低分子PD-1阻害剤と思われる 低分子化合物の構造を抽出し**」たもので、「**各特許の記述に基づいて最も高活性とされる化合物を1例ずつ抽出し**」たものだそうです。\n",
    "\n",
    "こんな大変そうなデータセットを公開してくださるとは・・・。ありがとうございます！\n",
    "\n",
    "活性のある化合物は閾値を決める根拠としてとても良さそうです。これを使わない手はない！ということでこちらを参照して見たいと思います。\n",
    "\n",
    "前回に引き続き、RDKitのPandasToolsを使って解析を行って見たいと思います。「化学の新しいカタチ」さんの[こちらの記事](https://future-chem.com/rdkit-pandastools/) を参考にさせていただきました。\n",
    "\n",
    "まずは色々必要なものをimportします。\n"
   ]
  },
  {
   "cell_type": "markdown",
   "metadata": {},
   "source": [
    "```python\n",
    "from rdkit import rdBase, Chem\n",
    "from rdkit.Chem import AllChem, Draw, Descriptors, PandasTools\n",
    "import pandas as pd\n",
    " \n",
    "print('rdkit version: ',rdBase.rdkitVersion)\n",
    "print('pandas version: ', pd.__version__)\n",
    "\n",
    "#rdkit version:  2018.09.1\n",
    "#pandas version:  0.23.4\n",
    "```"
   ]
  },
  {
   "cell_type": "markdown",
   "metadata": {},
   "source": [
    "データはcsv形式で提供されているので、まずはpandasで読み込みます。\n",
    "\n",
    "githubからダウンロードしてくるとpd1_inhibitor_dataset-masterというフォルダの中にPD1_inhibitor_dataset.csvという名前でデータが保存されていました。"
   ]
  },
  {
   "cell_type": "markdown",
   "metadata": {},
   "source": [
    "```python\n",
    "df = pd.read_csv('../pd1_inhibitor_dataset-master/PD1_inhibitor_dataset.csv')\n",
    "print(df.shape)\n",
    "#(53, 6)\n",
    "\n",
    "print(df.columns)\n",
    "#Index(['compound_id', 'patent_no', 'example_no', 'schembl_id', 'applicant', 'smiles'], dtype='object')\n",
    "```"
   ]
  },
  {
   "cell_type": "markdown",
   "metadata": {},
   "source": [
    "<img src=\"./images/3-1_image1.png\">\n",
    "\n",
    "全部で53個の化合物が含まれており、構造情報はSMILESとして格納されています。\n",
    "\n",
    "SMILESのままではよくわからないので、構造式を眺めるためにMolオブジェクトに変換します。\n"
   ]
  },
  {
   "cell_type": "markdown",
   "metadata": {},
   "source": [
    "```python\n",
    "PandasTools.AddMoleculeColumnToFrame(df, 'smiles')\n",
    "```"
   ]
  },
  {
   "cell_type": "markdown",
   "metadata": {},
   "source": [
    "<img src=\"./images/3-1_image2.png\">\n",
    "\n",
    "ROMolという列にMolオブジェクトが保存されており、小さくて見づらいですが構造式として表示されます。\n",
    "最初の8個を構造式だけを取り出して並べて見ます。\n"
   ]
  },
  {
   "cell_type": "markdown",
   "metadata": {},
   "source": [
    "```python\n",
    "PandasTools.FrameToGridImage(df[:8], column='ROMol', legendsCol='compound_id', molsPerRow=4, subImgSize=(300,300))\n",
    "```"
   ]
  },
  {
   "cell_type": "markdown",
   "metadata": {},
   "source": [
    "<img src=\"./images/3-1_image3.png\">\n",
    "\n",
    "**BMS-##**という**compoun_id**のついた化合物はマクロサイクル（環状ペプチド）のような分子も含まれているようです。このあたりは分子量が大きそうです。\n",
    "\n",
    "今回知りたいのは、「これらの活性化合物の分子量がどのような値となっているか？」　なので分子量を計算しDataframeに加えます。\n",
    "\n"
   ]
  },
  {
   "cell_type": "markdown",
   "metadata": {},
   "source": [
    "```python\n",
    "df['MW'] = df.ROMol.map(Descriptors.MolWt)\n",
    "```"
   ]
  },
  {
   "cell_type": "markdown",
   "metadata": {},
   "source": [
    "<img src=\"./images/3-1_image4.png\">\n",
    "\n",
    "\n",
    "分子量の分布がどのようになっているか知りたいので、まずはpandasの`describe()`で要約統計量を取得します。\n"
   ]
  },
  {
   "cell_type": "markdown",
   "metadata": {},
   "source": [
    "```python\n",
    "df['MW'].describe()\n",
    "\n",
    "'''\n",
    "count      53.000000\n",
    "mean      819.726075\n",
    "std       626.128326\n",
    "min       215.213000\n",
    "25%       419.525000\n",
    "50%       574.899000\n",
    "75%       753.340000\n",
    "max      2699.165000\n",
    "Name: MW, dtype: float64\n",
    "'''\n",
    "``` \n"
   ]
  },
  {
   "cell_type": "markdown",
   "metadata": {},
   "source": [
    "平均値 820 で最大値 2699 ！　予想以上に分子量が大きいです。分子量の大きそうな巨大なマクロサイクルで、分子量の統計量が大きな値へと引っ張られていそうです。\n",
    "\n",
    "要約統計量だけから判断すると、大きな値に引きづられてしまいそうなので、念のためヒストグラムを作成し、分子量の値の広がりを確認したいと思います。\n"
   ]
  },
  {
   "cell_type": "markdown",
   "metadata": {},
   "source": [
    "```python\n",
    "import matplotlib.pyplot as plt\n",
    "\n",
    "#notebookにグラフを描くためのマジックコマンド\n",
    "%matplotlib inline\n",
    "\n",
    "#MWのMaxが約2700なので 0 から 2800 までの幅50のヒストグラムを作成\n",
    "edges = range(0,2800,50)\n",
    "n, bins, patches = plt.hist(df['MW'], bins=edges)\n",
    "```"
   ]
  },
  {
   "cell_type": "markdown",
   "metadata": {},
   "source": [
    "\n",
    "<img src=\"./images/3-1_image5.png\">\n",
    "\n",
    "分子量500前後と分子量2000を超える分子の大きく２つに山が分かれています。\n",
    "今回の創薬レイドバトルの目標は低分子のPD/PD-L1の阻害剤を見つけるということですから、分子量500前後の山に相当するような分子を見つけ出すことが目的になりそうです。（そもそも分子量2000を超える分子がライブラリに含まれているか疑問・・・）\n",
    "\n",
    "分子量が小さい山から、分子量による絞り込みの閾値を決めたいと思います。より具体的な値をみるため各ビンに含まれる数を取り出して見ます。"
   ]
  },
  {
   "cell_type": "markdown",
   "metadata": {},
   "source": [
    "```python\n",
    "hist_df= pd.DataFrame(n, bins[1:]).T\n",
    "```"
   ]
  },
  {
   "cell_type": "markdown",
   "metadata": {},
   "source": [
    "<img src=\"./images/3-1_image6.png\">\n",
    "\n",
    "分子量300以下は一つしかないため、300を足切りにして絞り込むというのは非常に妥当な値のように見えます。閾値を一瞬で見定めるとは・・・プロすごい・・・\n",
    "\n",
    "それでは、スクリーニング対象の化合物を検証したいと思います。\n",
    "\n",
    "データサイズが大きいのでまたしてもGoogle colaboratoryを利用したいと思います。\n",
    "\n",
    "ちょうど以前の記事で前処理の際に分子量を計算し、圧縮ファイル（Enamine_Premium_collection_pro_id_MW_sdf.gz）としてGoogleドライブに保存していたので、こちらを利用します。\n",
    "\n",
    "もろもろの設定は省略し、SDFを読み込むところから始めます。\n"
   ]
  },
  {
   "cell_type": "markdown",
   "metadata": {},
   "source": [
    "```python\n",
    "from rdkit import Chem\n",
    "import gzip\n",
    "from rdkit.Chem import Descriptors\n",
    "\n",
    "EPc_gz = gzip.open('Enamine_Premium_collection_pro_id_MW_sdf.gz')\n",
    "\n",
    "#ForwardSDMolSupplierで読み込む。\n",
    "EPc_suppl = Chem.ForwardSDMolSupplier(EPc_gz)  \n",
    "\n",
    "#molオブジェクトのリストを作る段階で、分子量を取得して分子量のみのリストを作成する。\n",
    "#空のリストを作成\n",
    "EPc_MW_list = []\n",
    "EPc_mols = []\n",
    "\n",
    "#ループを回せ!!!\n",
    "for x in EPc_suppl:\n",
    "  if x is not None:\n",
    "    mol = x\n",
    "  \n",
    "  #MolオブジェクトにMWという名前で格納している分子量の値（プロパティ）を取得し、リストに追加する。\n",
    "  #小数点を含むfloat型のプロパティなので GetDoubleProp を使う\n",
    "  mw = mol.GetDoubleProp('MW')\n",
    "  \n",
    "  EPc_MW_list.append(mw)\n",
    " \n",
    "  #Molオブジェクトのリストも作成\n",
    "  EPc_mols.append(mol)\n",
    "  \n",
    "#総数を確認\n",
    "len(EPc_MW_list)\n",
    "\n",
    "# 128816と出力された\n",
    "```"
   ]
  },
  {
   "cell_type": "markdown",
   "metadata": {},
   "source": [
    "分子量のリスト（EPc_MW_list）が作成できたので、pandasで処理します。"
   ]
  },
  {
   "cell_type": "markdown",
   "metadata": {},
   "source": [
    "```python\n",
    "import pandas as pd\n",
    "df_MW = pd.DataFrame(EPc_MW_list, columns=['MW'])\n",
    "df_MW['MW'].describe()\n",
    "\n",
    "\"\"\"\n",
    "count    128816.000000\n",
    "mean        332.064740\n",
    "std          32.450643\n",
    "min         204.277000\n",
    "25%         312.377000\n",
    "50%         332.426000\n",
    "75%         352.398000\n",
    "max         527.150000\n",
    "Name: MW, dtype: float64\n",
    "\"\"\"\n",
    "```"
   ]
  },
  {
   "cell_type": "markdown",
   "metadata": {},
   "source": [
    "平均 332 で 204 から 527　の範囲の分子量となっているようです。\n",
    "\n",
    "ヒストグラムを描いてみます。"
   ]
  },
  {
   "cell_type": "markdown",
   "metadata": {},
   "source": [
    "```python\n",
    "import matplotlib.pyplot as plt\n",
    "%matplotlib inline\n",
    "\n",
    "#分子量 100 から 600 までの幅50のヒストグラムを作成\n",
    "edges = range(100,600,50)\n",
    "n, bins, patches = plt.hist(df_MW['MW'], bins=edges)\n",
    "```"
   ]
  },
  {
   "cell_type": "markdown",
   "metadata": {},
   "source": [
    "<img src=\"./images/3-1_image7.png\">\n",
    "\n",
    "分子量が300を超えるものについてのみのMolオブジェクトのリストを作成します。"
   ]
  },
  {
   "cell_type": "markdown",
   "metadata": {},
   "source": [
    "```python\n",
    "EPc_mols_300 = []\n",
    "\n",
    "for mol in EPc_mols:\n",
    "    MW = mol.GetDoubleProp('MW')\n",
    "    \n",
    "    if MW > 300:\n",
    "        EPc_mols_300.append(mol) \n",
    "\n",
    "len(EPc_mols_300)\n",
    "\n",
    "#109602\n",
    "```"
   ]
  },
  {
   "cell_type": "markdown",
   "metadata": {},
   "source": [
    "残った分子の総数は約11万個。元々の**Enamine_Premium_collection**には約13万の分子が含まれていたので、とりあえず２万個程度の分子を減らすことができたようです！\n",
    "\n",
    "粗い絞り込みでまだまだ残った分子の数は多いですが、最初のフィルタリングとしてはそれなりにうまくいったのではないでしょうか。\n",
    "\n",
    "sdfとして出力したいと思いますが、前回気づかぬ間にMolオブジェクトのプロパティが失われているというミスを犯したので、まずはプロパティを確認します。\n"
   ]
  },
  {
   "cell_type": "markdown",
   "metadata": {},
   "source": [
    "```python\n",
    "#今あるプロパティのリスト\n",
    "prop_names = [p for p in EPc_mols_300[0].GetPropNames()]\n",
    "print(prop_names)\n",
    "# ['idnumber', 'original_id', 'MW']\n",
    "```"
   ]
  },
  {
   "cell_type": "markdown",
   "metadata": {},
   "source": [
    "きちんとプロパティが保持されていそうです。安心してSDFを作成できます。"
   ]
  },
  {
   "cell_type": "markdown",
   "metadata": {},
   "source": [
    "```python\n",
    "#構造と各種プロパティを残したsdfファイルを作成\n",
    "writer = Chem.SDWriter('Enamine_Premium_collection_MW_filter.sdf')\n",
    "\n",
    "writer.SetProps(prop_names)\n",
    "for mol in EPc_mols_300:\n",
    "  writer.write(mol)\n",
    "writer.close()\n",
    "\n",
    "#大きいので圧縮\n",
    "!gzip -c Enamine_Premium_collection_MW_filter.sdf > Enamine_Premium_collection_MW_filter.sdf.gz\n",
    "\n",
    "#Googleドライブへ出力\n",
    "upload_file = drive.CreateFile()\n",
    "upload_file.SetContentFile('Enamine_Premium_collection_MW_filter.sdf.gz')\n",
    "upload_file.Upload()\n",
    "```"
   ]
  },
  {
   "cell_type": "markdown",
   "metadata": {},
   "source": [
    "\n",
    "以上、最初のステップとして分子量による絞り込みでした。\n",
    "\n",
    "まだまだ分子数多い・・・しかもこれより多いデータセットがまだ３つある・・・\n",
    "\n",
    "締め切りに間に合うのでしょうか？？？っていうか締め切りいつ？？？"
   ]
  }
 ],
 "metadata": {
  "kernelspec": {
   "display_name": "Python 3",
   "language": "python",
   "name": "python3"
  },
  "language_info": {
   "codemirror_mode": {
    "name": "ipython",
    "version": 3
   },
   "file_extension": ".py",
   "mimetype": "text/x-python",
   "name": "python",
   "nbconvert_exporter": "python",
   "pygments_lexer": "ipython3",
   "version": "3.6.8"
  },
  "toc": {
   "base_numbering": 1,
   "nav_menu": {},
   "number_sections": true,
   "sideBar": true,
   "skip_h1_title": false,
   "title_cell": "Table of Contents",
   "title_sidebar": "Contents",
   "toc_cell": true,
   "toc_position": {},
   "toc_section_display": true,
   "toc_window_display": true
  }
 },
 "nbformat": 4,
 "nbformat_minor": 2
}
