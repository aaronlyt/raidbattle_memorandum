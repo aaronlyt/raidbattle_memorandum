{
 "cells": [
  {
   "cell_type": "markdown",
   "metadata": {
    "toc": true
   },
   "source": [
    "<h1>Table of Contents<span class=\"tocSkip\"></span></h1>\n",
    "<div class=\"toc\"><ul class=\"toc-item\"><li><span><a href=\"#第６章　Step-5.-LBVS\" data-toc-modified-id=\"第６章　Step-5.-LBVS-1\"><span class=\"toc-item-num\">1&nbsp;&nbsp;</span>第６章　Step 5. LBVS</a></span></li></ul></div>"
   ]
  },
  {
   "cell_type": "markdown",
   "metadata": {},
   "source": [
    "# 第６章　Step 5. LBVS"
   ]
  },
  {
   "cell_type": "markdown",
   "metadata": {
    "collapsed": true
   },
   "source": [
    "第６章ではLBVS（Ligand-Based Virtual Screening）を実施しています。既知活性化合物に対する類似性をフィンガープリントを用いて評価し、より類似度の高いものの優先順位が高くなるように順位づけを行なっています。\n",
    "\n",
    "類似性の評価にあたっては、既知活性化合物群から抜き出した活性に重要と思われるビットの集合（**基準ビットベクトル**）を作成し、これに対する類似性（**Tanimoto係数**）を評価しました。また、より精度が高くなることを期待して、複数のフィンガープリントにおける評価結果を組み合わせ、標準化したスコアを作成し、スクリーニング対象化合物の順位づけを行いました。\n",
    "\n",
    "具体的に用いたフィンガープリントは以下の６種類です。\n",
    "\n",
    "1. MACCS keys \n",
    "2. RDKit \n",
    "3. Morgan(Circular) \n",
    "    * ECFP-like (Morgan(radius=2)) \n",
    "    * FCFP-like (Morgan(radius=2, ,useFeatures=True))\n",
    "4. AtomPairs \n",
    "5. Avalon \n",
    "\n",
    "上記フィンガープリントのそれぞれについて、基準となるビットベクトルを作成しました。作成手順は以下です。\n",
    "\n",
    "* 活性化合物群のどれかひとつで立っているビットの集合（集合①）を取り出す。\n",
    "* 集合①に含まれる各ビットについて、共通してビットが立つ化合物数の期待値を求める　\n",
    "\n",
    "    [期待値] = [各ビットのonビット化合物数の合計] / [集合-1のビットの種類数]\n",
    "\n",
    "* 期待値を閾値に設定し、閾値以上の化合物で共通して見られるビットの集合を基準ビットベクトルとして設定\n",
    "\n",
    "スクリーニング対象化合物について、上記基準ベクトルと比較したTanimoto係数をそれぞれ求めました。\n",
    "\n",
    "さらに、複数種類のフィンガープリント類似性評価の結果を統合するため、標準化したスコアを作成しました。\n",
    "\n",
    "* 各フィンガープリント毎に、スクリーニング対象化合物全体の計算結果を標準化\n",
    "\n",
    "    [標準化スコア] = （[各化合物のTanimoto係数] - [平均]） / [標準偏差]\n",
    "\n",
    "* 各化合物について６種のフィンガープリントそれぞれの標準化スコアを足し合わせる\n",
    "* スコアの最小値を足して、最小値を0にシフトさせ、最終的な統合スコアとする\n",
    "\n",
    "以上のスコアリングによって、494個の化合物を順位づけしました。\n",
    "\n",
    "具体的なコードはRDKitを用いたフィンガープリントの計算と、簡単な四則演算であり、第６章１節に詳述しています。"
   ]
  }
 ],
 "metadata": {
  "kernelspec": {
   "display_name": "Python 3",
   "language": "python",
   "name": "python3"
  },
  "language_info": {
   "codemirror_mode": {
    "name": "ipython",
    "version": 3
   },
   "file_extension": ".py",
   "mimetype": "text/x-python",
   "name": "python",
   "nbconvert_exporter": "python",
   "pygments_lexer": "ipython3",
   "version": "3.6.8"
  },
  "toc": {
   "base_numbering": 1,
   "nav_menu": {},
   "number_sections": true,
   "sideBar": true,
   "skip_h1_title": false,
   "title_cell": "Table of Contents",
   "title_sidebar": "Contents",
   "toc_cell": true,
   "toc_position": {},
   "toc_section_display": true,
   "toc_window_display": true
  }
 },
 "nbformat": 4,
 "nbformat_minor": 2
}
