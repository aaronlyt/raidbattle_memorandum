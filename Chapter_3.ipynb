{
 "cells": [
  {
   "cell_type": "markdown",
   "metadata": {
    "toc": true
   },
   "source": [
    "<h1>Table of Contents<span class=\"tocSkip\"></span></h1>\n",
    "<div class=\"toc\"><ul class=\"toc-item\"><li><span><a href=\"#第３章　Step-2.-指標による絞り込み\" data-toc-modified-id=\"第３章　Step-2.-指標による絞り込み-1\"><span class=\"toc-item-num\">1&nbsp;&nbsp;</span>第３章　Step 2. 指標による絞り込み</a></span></li></ul></div>"
   ]
  },
  {
   "cell_type": "markdown",
   "metadata": {},
   "source": [
    "# 第３章　Step 2. 指標による絞り込み"
   ]
  },
  {
   "cell_type": "markdown",
   "metadata": {
    "collapsed": true
   },
   "source": [
    "第２章で前処理を行なった化合物について、「**薬らしさ**（ドッラグライクネス）**の指標**」を用いた絞り込みを行いました。\n",
    "\n",
    "具体的には\n",
    "\n",
    "* 指標の下限 : **良い活性の期待できない小さすぎる分子**（フラグメントライク）\n",
    "* 指標の上限 : **Lipinski Rule of 5 の適用**\n",
    "\n",
    "とすることで、その範囲内に収まる化合物を取り出すこととしました。\n",
    "\n",
    "実際に用いた指標とその閾値は以下となります。\n",
    "\n",
    "|指標|分子量|LogP|水素結合供与体数|水素結合受容体数|回転可能結合数|極性表面積|\n",
    "|:---:|:---:|:---:|:---:|:---:|:---:|:---:|\n",
    "|Lipinskiより|≦500|≦5|≦5|≦10|||\n",
    "|フラグメント指標より|>300|>3||>3|>3|>60|\n",
    "\n",
    "処理としては、\n",
    "\n",
    "* 上記の指標の計算値を含むPandasのDataFrameを作成（RDKit / PandasTools）\n",
    "* 各行：化合物、　各列：指標\n",
    "* 数値基準を満たす行の抜き出し\n",
    "\n",
    "となります。"
   ]
  },
  {
   "cell_type": "markdown",
   "metadata": {},
   "source": [
    "```python\n",
    "df_all_both = ((df_all['MW'] > 300) & (df_all['MW'] <= 500) & \\\n",
    "               (df_all['MolLogP'] > 3) & (df_all['MolLogP'] <= 5) &\\\n",
    "               (df_all['NumHDonors'] <= 5) & \\\n",
    "               (df_all['NumHAcceptors'] > 3) & (df_all['NumHAcceptors'] <= 10) &\\   \n",
    "               (df_all['NumRotatableBonds'] > 3) & \\\n",
    "               (df_all['TPSA'] > 60))\n",
    "```"
   ]
  },
  {
   "cell_type": "markdown",
   "metadata": {},
   "source": [
    "第３章の具体的内容としては、スクリーニング処理に直接関わる記事として、\n",
    "\n",
    "* 指標の計算値のまとめ　（第３章３節）\n",
    "* 分子量の下限基準値を用いた実施例　（第３章１節）\n",
    "* Lipinski Rule of 5、フラグメント指標の適用（第３章４節）\n",
    "\n",
    "があります。\n",
    "\n",
    "また、最終的に Lipinsk Rule of 5の使用に至ったのですが、そこに至る過程として指標の基準を設定するために\n",
    "\n",
    "* 既知活性化合物群のデータセットにおける指標の分析　（第３章２節）\n",
    "* 上記データセットの化合物構造特徴に基づく分類　（第３章コラム）\n",
    "\n",
    "を取り上げています。"
   ]
  }
 ],
 "metadata": {
  "kernelspec": {
   "display_name": "Python 3",
   "language": "python",
   "name": "python3"
  },
  "language_info": {
   "codemirror_mode": {
    "name": "ipython",
    "version": 3
   },
   "file_extension": ".py",
   "mimetype": "text/x-python",
   "name": "python",
   "nbconvert_exporter": "python",
   "pygments_lexer": "ipython3",
   "version": "3.6.8"
  },
  "toc": {
   "base_numbering": 1,
   "nav_menu": {},
   "number_sections": true,
   "sideBar": true,
   "skip_h1_title": false,
   "title_cell": "Table of Contents",
   "title_sidebar": "Contents",
   "toc_cell": true,
   "toc_position": {},
   "toc_section_display": true,
   "toc_window_display": true
  }
 },
 "nbformat": 4,
 "nbformat_minor": 2
}
