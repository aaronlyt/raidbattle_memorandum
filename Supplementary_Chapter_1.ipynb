{
 "cells": [
  {
   "cell_type": "markdown",
   "metadata": {
    "toc": true
   },
   "source": [
    "<h1>Table of Contents<span class=\"tocSkip\"></span></h1>\n",
    "<div class=\"toc\"><ul class=\"toc-item\"><li><span><a href=\"#タンパク質編_第１章　UniProtを用いた情報の取得\" data-toc-modified-id=\"タンパク質編_第１章　UniProtを用いた情報の取得-1\"><span class=\"toc-item-num\">1&nbsp;&nbsp;</span>タンパク質編_第１章　UniProtを用いた情報の取得</a></span></li><li><span><a href=\"#そもそもUniProtって？\" data-toc-modified-id=\"そもそもUniProtって？-2\"><span class=\"toc-item-num\">2&nbsp;&nbsp;</span>そもそもUniProtって？</a></span></li><li><span><a href=\"#FASTA形式？\" data-toc-modified-id=\"FASTA形式？-3\"><span class=\"toc-item-num\">3&nbsp;&nbsp;</span>FASTA形式？</a></span></li><li><span><a href=\"#PD-L1：タンパク質構造情報（ドメイン）の確認\" data-toc-modified-id=\"PD-L1：タンパク質構造情報（ドメイン）の確認-4\"><span class=\"toc-item-num\">4&nbsp;&nbsp;</span>PD-L1：タンパク質構造情報（ドメイン）の確認</a></span></li><li><span><a href=\"#PD-L1：タンパク質構造一覧の取得\" data-toc-modified-id=\"PD-L1：タンパク質構造一覧の取得-5\"><span class=\"toc-item-num\">5&nbsp;&nbsp;</span>PD-L1：タンパク質構造一覧の取得</a></span></li><li><span><a href=\"#アミノ酸配列の種差を検証\" data-toc-modified-id=\"アミノ酸配列の種差を検証-6\"><span class=\"toc-item-num\">6&nbsp;&nbsp;</span>アミノ酸配列の種差を検証</a></span></li><li><span><a href=\"#PD-1：タンパク質構造一覧の取得\" data-toc-modified-id=\"PD-1：タンパク質構造一覧の取得-7\"><span class=\"toc-item-num\">7&nbsp;&nbsp;</span>PD-1：タンパク質構造一覧の取得</a></span></li><li><span><a href=\"#まとめ\" data-toc-modified-id=\"まとめ-8\"><span class=\"toc-item-num\">8&nbsp;&nbsp;</span>まとめ</a></span></li></ul></div>"
   ]
  },
  {
   "cell_type": "markdown",
   "metadata": {},
   "source": [
    "# タンパク質編\\_第１章　UniProtを用いた情報の取得"
   ]
  },
  {
   "cell_type": "markdown",
   "metadata": {},
   "source": [
    "このページではUniProtを利用したタンパク質に関する情報の取得について取り上げています。PD-L1とPD-1を例としてどのような情報が得られるか、検証しています。"
   ]
  },
  {
   "cell_type": "markdown",
   "metadata": {},
   "source": [
    "# そもそもUniProtって？\n",
    "\n",
    "**UniProt** （別称: The Universal Protein Resource ) \n",
    "\n",
    "> アミノ酸配列とその機能情報を掲載している代表的なデータベースです。  \n",
    "「UniProtKB」、「UniRef」、「UniParc」の3種類のデータベースから構成されています。 \n",
    "UniProtKB: 文献情報などを元に手作業で高品質のアノテーションを付けたSwissProtと、機械的にアノテーションを加えたTrEMBLを公開しています。 \n",
    "UniRef: あらかじめ行われた配列相同性検索の結果を提供しています。 \n",
    "UniParc: 配列IDごとに他のデータベースのID等の情報をまとめています。  \n",
    "[UniProt - Integbio データベースカタログ](https://integbio.jp/dbcatalog/record/nbdc00221)\n",
    "\n",
    "タンパク質のアミノ酸配列の情報を得る上で最も信頼性の高いデータソースの一つ、とのことです。**PD-L1**の場合、UniProtKB におけるID は 「Q9NZQ7」。アミノ酸配列は以下の通りです。\n",
    "\n",
    "[CD274 - Programmed cell death 1 ligand 1 precursor - Homo sapiens (Human) - CD274 gene &amp; protein](https://www.uniprot.org/uniprot/Q9NZQ7)"
   ]
  },
  {
   "cell_type": "markdown",
   "metadata": {},
   "source": [
    "> sp|Q9NZQ7|PD1L1_HUMAN Programmed cell death 1 ligand 1 OS=Homo sapiens OX=9606GN=CD274 PE=1 SV=1\n",
    "MRIFAVFIFMTYWHLLNAFTVTVPKDLYVVEYGSNMTIECKFPVEKQLDLAALIVYWEME\n",
    "DKNIIQFVHGEEDLKVQHSSYRQRARLLKDQLSLGNAALQITDVKLQDAGVYRCMISYGG\n",
    "ADYKRITVKVNAPYNKINQRILVVDPVTSEHELTCQAEGYPKAEVIWTSSDHQVLSGKTT\n",
    "TTNSKREEKLFNVTSTLRINTTTNEIFYCTFRRLDPEENHTAELVIPELPLAHPPNERTH\n",
    "LVILGAILLCLGVALTFIFRLRKGRMMDVKKCGIQDTNSKKQSDTHLEET"
   ]
  },
  {
   "cell_type": "markdown",
   "metadata": {},
   "source": [
    "# FASTA形式？\n",
    "\n",
    "上記はFASTA形式とよばれるフォーマットで、１行目（ \">\"で始まる行）にその配列に関する情報、２行目以降にアミノ酸配列が１文字表記で記載されています。\n",
    "\n",
    "まずはヘルプに従って、Fig. 1のヘッダ行の情報をみてみます。([FASTA headers](https://www.uniprot.org/help/fasta-headers))\n",
    "\n",
    "\">\"  以降左から順番に下記テーブルに記載しました。"
   ]
  },
  {
   "cell_type": "markdown",
   "metadata": {},
   "source": [
    "||項目|説明|上記FASTA該当部位|\n",
    "|:---:|:---:|:---:|:---:|\n",
    "|①|データベース<br>（db）| 配列が Swiss-Prot (\"sp\") と TrEMBL (\"tr\") のいずれのデータベース由来かを示す| sp |\n",
    "|②|ID <br> (Unique Identifier)|UniProtKBの各エントリーに割り当てられた ID | Q9NZQ7|\n",
    "|③|エントリー名 <br> (EntryName)||PD1L1_HUMAN|\n",
    "|④|タンパク質名 <br>(ProteinName)||Programmed cell death 1 ligand 1 |\n",
    "|⑤|生物種名<br>（OrganismName)|どの生物種に由来する配列か（学名）| OS=Homo sapiens|\n",
    "|⑥|生物種ID<br>（OrganismIdentifier）| NCBIにより各生物種に割り当てられたIDヒトは9606|OX=9606|\n",
    "|⑦|遺伝子名<br>(GeneName)||GN=CD274|\n",
    "|⑧|タンパク質の確かさ<br>(ProteinExistence)|タンパク質の存在の証拠を数値で表現|PE=1|\n",
    "|⑨|配列のバージョン<br>(SequenceVersion)|| SV=1 |"
   ]
  },
  {
   "cell_type": "markdown",
   "metadata": {},
   "source": [
    "また、⑧タンパク質の確かさ（PE）の数値は下記を表します。"
   ]
  },
  {
   "cell_type": "markdown",
   "metadata": {},
   "source": [
    "|数値|レベル|説明|\n",
    "|:---:|:---:|:---:|\n",
    "|1|protein|タンパク質レベルで実験的証拠がある <br> ex. MS、NMR、X-ray|\n",
    "|2|transcript|転写産物レベルでの実験的証拠 <br> ex. cDNA、RT-PCR、Northern blots|\n",
    "|3|homology|近接種オルソログの存在から推定される|\n",
    "|4|protein predicted|どのレベルでも実験的証拠がない|\n",
    "|5|protein unsure|存在が不確か|"
   ]
  },
  {
   "cell_type": "markdown",
   "metadata": {},
   "source": [
    "PD-L1はタンパク質レベルで存在が証明されているので 「PE = 1」です。"
   ]
  },
  {
   "cell_type": "markdown",
   "metadata": {},
   "source": [
    "# PD-L1：タンパク質構造情報（ドメイン）の確認\n",
    "\n",
    "**PD-L1**タンパク質がどのようなドメインから構成されているのか？UniProtの以下の項目で確認が可能です。\n",
    "\n",
    "<img src=\"./images/sup-1_image1.png\">\n",
    "\n",
    "スクリーニングにタンパク質の構造情報を利用したいと思った場合に、PDBに報告されている結晶構造がタンパク質全体を含んでいるとは限りません。例えば、PD-L1の結晶構造のうち「PDB id: 4ZQK」では、結晶構造に含まれている配列がN末端側（~A132）となっています。上記のドメイン図と比較すると、\n",
    "\n",
    "* 結晶構造として解かれているN末端側ドメイン:「Ig-like V-type」\n",
    "* 結晶構造に含まれていないC末端側:「Ig-like C2-type」\n",
    "\n",
    "ということがわかります。"
   ]
  },
  {
   "cell_type": "markdown",
   "metadata": {},
   "source": [
    "# PD-L1：タンパク質構造一覧の取得\n",
    "\n",
    "\n",
    "**Cross-References**項目の**3D Structure databases**を参照することで、報告されているタンパク質3D構造について確認することができます。各3D構造に含まれているアミノ酸配列(**Positions**)も記載されているため、PDB等で取得できる構造がタンパク質全体で考えた場合のどの範囲にあたるか、知ることができます。\n",
    "\n",
    "PD-L1の場合について、UniProtの項目に＋αの情報を付け加えて以下のようにまとめてみました。\n",
    "\n"
   ]
  },
  {
   "cell_type": "markdown",
   "metadata": {},
   "source": [
    "|PDB entry| Method | Resolution (Å) | Chain | Positions | 複合体 | 文献| \n",
    "|:---:|:---:|:---:|:---:|:---:|:---:|:---:|:---:|\n",
    "|1|3BIK|X-ray|2.65  | A  |18-239 | PD-1 <br> (Mus musuculus)| PNAS 2018(105)3011|\n",
    "|2|3BIS|X-ray|2.64  | A/B|18-239 | なし | PNAS 2018(105)3011|\n",
    "|3|3FN3|X-ray|2.70  | A/B|19-238 | PD-L1 二量体 | Protein Cell 2010(1)153 |\n",
    "|4|3SBW|X-ray|2.28  | C  |19-239 | PD-1 <br>(Mus musuculus)| To be published|\n",
    "|5|4Z18|X-ray|1.95  | A/B|19-239 | なし| To be published |\n",
    "|6|4ZQK|X-ray|2.45  | A  |18-132 | PD-1<br>(Homo sapiens) | Structure 2015(23)2341 |\n",
    "|7|5C3T|X-ray|1.80  | A  |18-134 | なし                       | Structure 2015(23)2341|\n",
    "|8|5GGT|X-ray|2.80  | A  |18-134 | BMS-936559 Fab <br>(抗体) | Nat. Commun. 2016(7)13354|\n",
    "|9|5GRJ|X-ray|3.21  | A  |18-238 | avelumab <br>(抗体)| Cell Res. 2017(27)151|\n",
    "|10|5IUS|X-ray|2.89 | C/D|18-239 | PD-1 mutant <br>(Homo sapiens)| Structure 2016(24)1719|\n",
    "|11|5J89|X-ray|2.20 | A/B/C/D| 2-134  | BMS-202 <br>(低分子)| Oncotarget 2016(7)30323|\n",
    "|12|5J8O|X-ray|2.30 | A/B    | 18-134 | BMS-8 <br>(低分子)| Oncotarget 2016(7)30323 |\n",
    "|13|5JDR|X-ray|2.70 | A/B    | 18-239 | なし | Cell Discov. 2017(3)17004 |\n",
    "|14|5JDS|X-ray|1.70 | A      | 18-132 | KN035 <br>(抗体)| Cell Discov. 2017(3)17004|\n",
    "|15|5N2D|X-ray|2.35 | A/B/C/D| 2-134  | BMS-37<br>(低分子)| J. Med. Chem. 2017(60)5857|\n",
    "|16|5N2F|X-ray|1.70 | A/B    | 18-134 | BMS-200<br>(低分子)|J. Med. Chem. 2017(60)5857|\n",
    "|17|5NIU|X-ray|2.01 | A/B/C/D| 18-134 | BMS-1001<br>(低分子)|Oncotarget 2017(8)72167|\n",
    "|18|5NIX|X-ray|2.20 | A/B/C/D| 18-134 | BMS-1166<br> (低分子)|Oncotarget 2017(8)72167|\n",
    "|19|5O45|X-ray|0.99 | A  | 17-134 | Macrocyclic<br>inhibitor| Angew. Chen. Int. Ed. Engl. 2017(56)13732 |\n",
    "|20|5O4Y|X-ray|2.30 | B/C/E  | 18-132 | Macrocyclic<br>inhibitor| Angew. Chen. Int. Ed. Engl. 2017(56)13732|\n",
    "|21|5X8L|X-ray|3.10 | A/B/C/D/E| 18-134 | atezolizumab <br>(抗体)| Sci. Rep. 2017(7)5532|\n",
    "|22|5X8M|X-ray|2.66 | A  | 18-134 | durvalumab <br>(抗体)|Sci. Rep. 2017(7)5532|                     \n",
    "|23|5XJ4|X-ray|2.30 | A  | 19-238 | durvalumab <br>(抗体)|Protein Cell 2018(9)135|\n",
    "|24|5XXY|X-ray|2.90 | A  | 18-133 | atezolizumab <br>(抗体)|Oncotarget 2017(8)90215|"
   ]
  },
  {
   "cell_type": "markdown",
   "metadata": {},
   "source": [
    "\n",
    "一覧を確認することで、着目している結晶構造には含まれていない部分構造についても既に解かれているかどうか、確認することができます。この場合、先に取り上げたPD-L1の結晶構造「PDB id: 4ZQK」は部分構造でしたが、他の報告では全体構造が明らかになっていそうだ、ということがわかりました。\n",
    "\n",
    "では **PD-L1 / PD-1(ハツカネズミ )複合体 **「PDB id:3BIK」と**PD-L1 / PD-1(ヒト)複合体**「PDB id:4ZQK」 をならべてみます"
   ]
  },
  {
   "cell_type": "markdown",
   "metadata": {},
   "source": [
    "<img src=\"./images/sup-1_image2.png\">"
   ]
  },
  {
   "cell_type": "markdown",
   "metadata": {},
   "source": [
    "**Ig-like C2-type**ドメインは **Ig-like V-type**同様、主にβシートからなる構造のようです。上記の図から、**C2-type**ドメインの有無にかかわらず、**V-type**ドメインにPD-1が結合している様子がわかります。したがって、PD-1/PD-L1 タンパク質-タンパク質相互作用阻害剤を考慮するにあたっては、N末端側の**Ig-like V-type**ドメインを含む結晶構造を考慮することで最低限の要件を満たしそうです。\n",
    "\n",
    "より大きな結晶構造についても、含まれる構造の範囲を確認しておきます。以下はRCSB PDBのページ 「項目: Macromolecules」内の「**Protein Feature View**」という機能を参照したものです。\n",
    "\n",
    "\n",
    "<img src=\"./images/sup-1_image3.png\">"
   ]
  },
  {
   "cell_type": "markdown",
   "metadata": {},
   "source": [
    "RCSB PDB のヘルプ( [RCSB PDB-Help](https://www.rcsb.org/pdb/staticHelp.do?p=help/featureView.html)) に従い上図を眺めてみます。\n",
    "\n",
    "図は左端のバー（**緑色**/**青色**）で上下２つにざっくり分かれ、それぞれ\n",
    "\n",
    "* 上段（緑色）・・・ UniProtKBのデータに基づき作成\n",
    "* 下段（青色）・・・ PDBのデータに基づき作成\n",
    "\n",
    "されており、下段（PDB）は上段（UniProt）に対応するよう配置されています。\n",
    "\n",
    "この図から、\n",
    "\n",
    "* 「PDB id: **3BIK**」中のPD-L1 ( Chain A  / 下段 3BIK_A 行の横バー)は、\n",
    "* UniProtKB アミノ酸配列中の細胞外(Extracellular) 「Ig-like V-type」と「Ig-like C2-type」呼ばれるドメイン（上段 Motif行の横バー）\n",
    "\n",
    "に対応しており、細胞質内（Cytoplasmic）ドメインについては結晶構造中に含まれていないことがわかります。細胞膜を挟む領域にまたがって結晶構造を取得するのは難しいということでしょうか？"
   ]
  },
  {
   "cell_type": "markdown",
   "metadata": {},
   "source": [
    "# アミノ酸配列の種差を検証"
   ]
  },
  {
   "cell_type": "markdown",
   "metadata": {},
   "source": [
    "上の結晶構造の比較ではハツカネズミ由来のPD-1とヒト由来のPD-1を並べました。この二つのアミノ酸配列は似ているのでしょうか？　種差が大きい場合、最悪「ヒトの薬をつくるはずが、ネズミの薬をつくっていた！」ということになりかねません。**ClustalW**を用いてアミノ酸配列同士の比較を行ってみます。 （[ClustalW](http://clustalw.ddbj.nig.ac.jp/)）\n",
    "\n",
    "\n",
    "使用したsequence  \n",
    "\n",
    "* Human PD-1 [UniProtKB id : Q15116]\n",
    "* Mouse PD-1 [UniProtKB id : Q02242]\n",
    "\n",
    "結果は以下となります。\n"
   ]
  },
  {
   "cell_type": "markdown",
   "metadata": {},
   "source": [
    "\n",
    "<img src=\"./images/sup-1_image4.png\">"
   ]
  },
  {
   "cell_type": "markdown",
   "metadata": {},
   "source": [
    "格段の上がHuman 、下が Mouseです。\n",
    "\n",
    "記号は  \n",
    "\n",
    "* 「\\*」完全に一致\n",
    "* 「:」強い類似性のあるグループに属している\n",
    "* 「.」弱い類似性のあるグループに属している\n",
    "* 「(空欄)」上記以外\n",
    "\n",
    "ということのようです。( [ClustalW で3種類の記号 \"\\*\", \".\", \":\" の意味は何ですか](https://www.ddbj.nig.ac.jp/faq/ja/explain-three-symbols.html))\n",
    "\n",
    "ぱっと見、かなり類似性が高いように見えますが、上記緑色で示したアミノ酸残基に注目です（Human Y68、Mouse N68）。この残基はPD-L1との結合部位に面しており、Mouse PD-1とHuman PD-1におけるPD-L1との相互作用の違いに寄与していると下記論文中で指摘されています。\n",
    "\n",
    "* [Structre 2015(23)2341](https://www.cell.com/structure/fulltext/S0969-2126(15)00402-5) 特にSupplemental Information Figure S3\n",
    "\n",
    "結晶構造を比較する際にこの辺りの残基が重要になってきそうです。\n"
   ]
  },
  {
   "cell_type": "markdown",
   "metadata": {},
   "source": [
    "# PD-1：タンパク質構造一覧の取得\n",
    "\n",
    "\n",
    "PD-1についてもUniProtで確認可能な、報告されている3D構造の情報をまとめておきます。\n",
    "\n",
    "[UniProt KB id: Q15116]  Cross-References / 3D Structure databases を元に作成\n",
    "\n"
   ]
  },
  {
   "cell_type": "markdown",
   "metadata": {},
   "source": [
    "|PDB entry|Method|Resolution (Å)|Chain|Positions|複合体|文献||\n",
    "|:---:|:---:|:---:|:---:|:---:|:---:|:---:|:---:|\n",
    "|1|2M2D|NMR|-|A| 34-150|なし| J. Biol. Chem. 2013(288)11771 |\n",
    "|2|3RRQ|X-ray|2.10|A|32-160|なし|To be published|\n",
    "|3|4ZQK|X-ray|2.45|B|33-150|PD-L1<br>(Homo Sapiens)|Structure 2015(23)2341|\n",
    "|4|5B8C|X-ray|2.15|C/F/I/L|32-160|pembrolizumab Fv<br>(抗体)|Sci. Rep. 2016(6)35297|\n",
    "|5|5GGR|X-ray|3.30|Y/Z|26-150| nivolumab Fab <br>(抗体) |Nat. Commun. 2016(7)13354|\n",
    "|6|5GGS|X-ray|2.00|Y/Z|26-148| pembrolizumab  Fab <br>(抗体) |Nat. Commun. 2016(7)13354|\n",
    "|7|5IUS (mutant)|X-ray|2.89|A/B|26-146 | PD-L1<br> (Homo Sapiens)|Structure 2016(24)1719|\n",
    "|8|5JXE|X-ray|2.90|A/B|33-146| pembrolizumab  Fab<br> (抗体) |Cell Res. 2017(27)147|\n",
    "|9|5WT9|X-ray|2.40|G|1-167| nivolumab Fab <br>(抗体) |Nat. Commun. 2017(8)14369|"
   ]
  },
  {
   "cell_type": "markdown",
   "metadata": {},
   "source": [
    "# まとめ\n",
    "\n",
    "以上、本記事ではUniProtを用いたタンパク質の情報取得を試みました。UniProtは複数のデータベースを横断した情報がまとまっており、情報取得の最初の一歩としてとても有用と感じました。"
   ]
  }
 ],
 "metadata": {
  "kernelspec": {
   "display_name": "Python 3",
   "language": "python",
   "name": "python3"
  },
  "language_info": {
   "codemirror_mode": {
    "name": "ipython",
    "version": 3
   },
   "file_extension": ".py",
   "mimetype": "text/x-python",
   "name": "python",
   "nbconvert_exporter": "python",
   "pygments_lexer": "ipython3",
   "version": "3.6.8"
  },
  "toc": {
   "base_numbering": 1,
   "nav_menu": {},
   "number_sections": true,
   "sideBar": true,
   "skip_h1_title": false,
   "title_cell": "Table of Contents",
   "title_sidebar": "Contents",
   "toc_cell": true,
   "toc_position": {},
   "toc_section_display": true,
   "toc_window_display": true
  }
 },
 "nbformat": 4,
 "nbformat_minor": 2
}
