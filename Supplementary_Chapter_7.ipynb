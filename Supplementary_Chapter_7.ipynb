{
 "cells": [
  {
   "cell_type": "markdown",
   "metadata": {
    "toc": true
   },
   "source": [
    "<h1>Table of Contents<span class=\"tocSkip\"></span></h1>\n",
    "<div class=\"toc\"><ul class=\"toc-item\"><li><span><a href=\"#タンパク質編_第７章　cootで電子密度を眺める\" data-toc-modified-id=\"タンパク質編_第７章　cootで電子密度を眺める-1\"><span class=\"toc-item-num\">1&nbsp;&nbsp;</span>タンパク質編_第７章　cootで電子密度を眺める</a></span></li><li><span><a href=\"#cootの導入\" data-toc-modified-id=\"cootの導入-2\"><span class=\"toc-item-num\">2&nbsp;&nbsp;</span>cootの導入</a></span><ul class=\"toc-item\"><li><span><a href=\"#1.-cootの設定の変更\" data-toc-modified-id=\"1.-cootの設定の変更-2.1\"><span class=\"toc-item-num\">2.1&nbsp;&nbsp;</span>1. cootの設定の変更</a></span></li><li><span><a href=\"#2.-ファイルの準備\" data-toc-modified-id=\"2.-ファイルの準備-2.2\"><span class=\"toc-item-num\">2.2&nbsp;&nbsp;</span>2. ファイルの準備</a></span></li><li><span><a href=\"#3.ファイルの読み込み\" data-toc-modified-id=\"3.ファイルの読み込み-2.3\"><span class=\"toc-item-num\">2.3&nbsp;&nbsp;</span>3.ファイルの読み込み</a></span></li><li><span><a href=\"#4.-構造のおかしな場所を簡単に探す\" data-toc-modified-id=\"4.-構造のおかしな場所を簡単に探す-2.4\"><span class=\"toc-item-num\">2.4&nbsp;&nbsp;</span>4. 構造のおかしな場所を簡単に探す</a></span></li><li><span><a href=\"#5.-アミノ酸側鎖の補正\" data-toc-modified-id=\"5.-アミノ酸側鎖の補正-2.5\"><span class=\"toc-item-num\">2.5&nbsp;&nbsp;</span>5. アミノ酸側鎖の補正</a></span></li><li><span><a href=\"#6.-主鎖の補正\" data-toc-modified-id=\"6.-主鎖の補正-2.6\"><span class=\"toc-item-num\">2.6&nbsp;&nbsp;</span>6. 主鎖の補正</a></span></li><li><span><a href=\"#7.-リガンド部位の確認\" data-toc-modified-id=\"7.-リガンド部位の確認-2.7\"><span class=\"toc-item-num\">2.7&nbsp;&nbsp;</span>7. リガンド部位の確認</a></span></li><li><span><a href=\"#8.-validationのグラフ\" data-toc-modified-id=\"8.-validationのグラフ-2.8\"><span class=\"toc-item-num\">2.8&nbsp;&nbsp;</span>8. validationのグラフ</a></span></li><li><span><a href=\"#9.-別の構造での検証例(PDB-id:-5NIU)\" data-toc-modified-id=\"9.-別の構造での検証例(PDB-id:-5NIU)-2.9\"><span class=\"toc-item-num\">2.9&nbsp;&nbsp;</span>9. 別の構造での検証例(PDB id: 5NIU)</a></span></li></ul></li><li><span><a href=\"#まとめ\" data-toc-modified-id=\"まとめ-3\"><span class=\"toc-item-num\">3&nbsp;&nbsp;</span>まとめ</a></span></li><li><span><a href=\"#脚注\" data-toc-modified-id=\"脚注-4\"><span class=\"toc-item-num\">4&nbsp;&nbsp;</span>脚注</a></span></li></ul></div>"
   ]
  },
  {
   "cell_type": "markdown",
   "metadata": {},
   "source": [
    "# タンパク質編\\_第７章　cootで電子密度を眺める\n",
    "\n",
    "補遺６で結晶の質を眺めるにあたって**PDB viewer**を使用しましたが、**coot**というソフトウェアをご紹介いただきました。本記事ではこちらのソフトウェアを用いて**電子密度**を眺めることで、先の記事で取り上げた構造の検証を行いたいと思います。"
   ]
  },
  {
   "cell_type": "markdown",
   "metadata": {},
   "source": [
    "# cootの導入\n",
    "\n",
    "以下のページからダウンロードしてきました。\n",
    "\n",
    "* [Stand-Alone Coot - OS X Scientific Computing](http://scottlab.ucsc.edu/xtal/wiki/index.php/Stand-Alone_Coot) \n",
    "\n",
    "オフィシャルHPは[こちら](https://www2.mrc-lmb.cam.ac.uk/personal/pemsley/coot/)です。ターミナルで 「coot」と打ち込むと無事立ち上がりました。"
   ]
  },
  {
   "cell_type": "markdown",
   "metadata": {},
   "source": [
    "<img src=\"./images/sup-7_image1.png\">***Fig. 1 coot と 今回使用するファイル***"
   ]
  },
  {
   "cell_type": "markdown",
   "metadata": {},
   "source": [
    "インターネット上でみつけた以下のtutorialを参考に、問題している構造 「PDB id: 5NIX」を眺めてみました。\n",
    "\n",
    "* tutorial 1 : [Coot Tutorial X-ray Methods, CSHL 2016 Dec. 18, 2017](https://www2.mrc-lmb.cam.ac.uk/personal/pemsley/coot/web/tutorial/tutorial.pdf)\n",
    "* tutorial 2 : [X線結晶構造解析における構造バイオインフォマティクス](http://www.iu.a.u-tokyo.ac.jp/lectures/AG04/160426/160426.pdf)"
   ]
  },
  {
   "cell_type": "markdown",
   "metadata": {},
   "source": [
    "## 1. cootの設定の変更\n",
    "\n",
    "Tutorial 1 のオススメに従い設定を変更しました。Tutorial中の該当箇所とともに記載します。\n",
    "\n",
    "* ①分子の動かし方 **virtual trackball**(2.2章)\n",
    "    * **\"Sperical Surface\"** → **\"Flat\" mode**へ変更\n",
    "\n",
    "\n",
    "* ② 動きを加速するための設定 (2.4章)\n",
    "    * Preferences から**\"Active Map on Draggeing\"**を**\"No\"** へ変更\n",
    "    * **\"Smooth Recentering\"**の**\"Number of Steps\"**を**40**から**20**へ変更\n",
    "\n",
    "\n",
    "* ③ 注目している原子の周辺の原子との距離を表示(2.4章)\n",
    "    * **\"Measures\"**の**\"Environment Distances\"**で以下を表示させるように変更\n",
    "        * \"Show Residue Environment?\"\n",
    "        * \"Label Atom?\"\n"
   ]
  },
  {
   "cell_type": "markdown",
   "metadata": {},
   "source": [
    "## 2. ファイルの準備\n",
    "\n",
    "RCSB  PDBより[ PDB id: 5NIX ]の\n",
    "\n",
    "* 原子座標ファイル（coordinate）・・・「PDB format」\n",
    "* X線回折データ (電子密度)・・・「Map Coeficients (MTZ format)」\n",
    "\n",
    "を取得しました。\n",
    "\n"
   ]
  },
  {
   "cell_type": "markdown",
   "metadata": {},
   "source": [
    "## 3.ファイルの読み込み\n",
    "\n",
    "File の **[Open Coordinates…]**から**PDB format**を、**[Auto Open MTZ…]**から**mtz format**を読み込みます。\n",
    "\n",
    "電子密度マップの表示領域を半径 20Åとすると以下のような図が得られました。(Fig.2)"
   ]
  },
  {
   "cell_type": "markdown",
   "metadata": {},
   "source": [
    "<img src=\"./images/sup-7_image2.png\">***Fig. 2 ファイルの読み込み***"
   ]
  },
  {
   "cell_type": "markdown",
   "metadata": {},
   "source": [
    " 電子密度の色はそれぞれ、\n",
    "\n",
    "* **青** :  2Fo - Fc マップ  → 電子の存在位置\n",
    "* **赤** :  Fo - Fc マップ（正）→  本来「電子密度が**ない**」はずなのに構造が置かれて「**いる**」\n",
    "* **緑** :  Fo - Fc マップ（負）→  本来「電子密度が**ある**」はずなのに構造が置かれて「**いない**」\n",
    "\n",
    "を表すそうで、つまり赤と緑がモデルのまずい場所だそうです。"
   ]
  },
  {
   "cell_type": "markdown",
   "metadata": {},
   "source": [
    "## 4. 構造のおかしな場所を簡単に探す \n",
    "\n",
    "電子密度の色の違いはわかりましたが、アミノ酸残基一つ一つを確認するのは面倒です。\n",
    "\n",
    "Coot の**「Density Fit Analysis」**をもちいると、残基ごとのモデルの良し悪しを簡便に確認可能でした。"
   ]
  },
  {
   "cell_type": "markdown",
   "metadata": {},
   "source": [
    "<img src=\"./images/sup-7_image3.png\">***Fig. 3 Density Fit Analysis***"
   ]
  },
  {
   "cell_type": "markdown",
   "metadata": {},
   "source": [
    "chain D の 残基番号「**75 Lys**」が「Density Fit Analysis」でもっともFitが悪そうです。\n",
    "\n",
    "確認したい残基の棒グラフをクリックすると、自動的に目的のアミノ酸残基がズームされます。また、「**Go To Atom…**」機能をもちいても、残基（原子）を指定したズームが可能です。\n",
    "\n",
    "どうやらLys 側鎖に電子密度が見えておらず、そもそも側鎖もモデル化されていないようです。\n",
    "\n",
    "他にもChain AでFitの悪い「**82 ARG**」などでも側鎖が途中で切れており、モデル化されていませんでした。長く、自由度の高いアミノ酸残基が特に溶媒露出面に位置している場合、電子密度がうまく観測されずモデル化も難しい、という感じでしょうか？？"
   ]
  },
  {
   "cell_type": "markdown",
   "metadata": {},
   "source": [
    "## 5. アミノ酸側鎖の補正\n",
    "\n",
    "「Chain A : 82 : ARG」は側鎖の延長線上に**緑色の電子密度**があります。緑色は「**構造が置かれていない電子密度**」なので、試しに側鎖を伸ばしてみたいと思います。\n",
    "\n",
    "「**Mutate & Auto Fit…**」機能を利用することで簡単に側鎖を伸ばすことができました。"
   ]
  },
  {
   "cell_type": "markdown",
   "metadata": {},
   "source": [
    "<img src=\"./images/sup-7_image4.png\">***Fig. 4 欠けている残基を伸ばしてみる***"
   ]
  },
  {
   "cell_type": "markdown",
   "metadata": {},
   "source": [
    "「**Rotamers**」機能を使うと側鎖の取りうるRotamerの候補が出てきますが、今回は「**Mutate ＆ Auto Fit …**」で導入したconformerが電子密度と最も重なりが良さそうに見えます。"
   ]
  },
  {
   "cell_type": "markdown",
   "metadata": {},
   "source": [
    "<img src=\"./images/sup-7_image5.png\">***Fig. 5 Rotamerの候補を確認***"
   ]
  },
  {
   "cell_type": "markdown",
   "metadata": {},
   "source": [
    "## 6. 主鎖の補正\n",
    "\n",
    "ARG  側鎖については問題ないように見えますが「Auto Fit」した**主鎖**はおかしな様子です。「**Real Space Refine Zone**」という機能をもちいると、該当の残基をクッリックしてドラッグすることで簡単に構造の修正を行うことができました。以下のような感じです。"
   ]
  },
  {
   "cell_type": "markdown",
   "metadata": {},
   "source": [
    "<img src=\"./images/sup-7_image6.png\">***Fig. 6 Real Space で構造修正****"
   ]
  },
  {
   "cell_type": "markdown",
   "metadata": {},
   "source": [
    "## 7. リガンド部位の確認\n",
    "\n",
    "問題のリガンド部位ですが、残基番号「**201**」として登録されています。"
   ]
  },
  {
   "cell_type": "markdown",
   "metadata": {},
   "source": [
    "<img src=\"./images/sup-7_image7.png\">***Fig. 7 リガンドの電子密度を確認***"
   ]
  },
  {
   "cell_type": "markdown",
   "metadata": {},
   "source": [
    "PDBに登録されている構造で元の文献と異なっている部位のうち\n",
    "\n",
    "* ピロリジン部位（黄丸）は電子密度が**薄い**（poor）\n",
    "* シアノ基（緑丸）は**赤い電子密度**とぶつかっています。  \n",
    "    （電子密度がないのに構造がモデル化されている）\n",
    "\n",
    "と、なっています。どうやら、Fitさせた構造に無理がありそうです。\n",
    "\n",
    "上記では残基番号からリガンドを辿りましたが、「**Go To (Next) Ligand**」機能を使用した方が、リガンドのズームが容易でした。 また、「**import CIF dictionary…**」からリガンドのCIFファイルを読み込むことで画面左下に２次元構造が表示されるようになりました。"
   ]
  },
  {
   "cell_type": "markdown",
   "metadata": {},
   "source": [
    "<img src=\"./images/sup-7_image8.png\">***Fig. 8 Go To Ligand でリガンドを辿る***"
   ]
  },
  {
   "cell_type": "markdown",
   "metadata": {},
   "source": [
    "## 8. validationのグラフ"
   ]
  },
  {
   "cell_type": "markdown",
   "metadata": {},
   "source": [
    "また、その他のvalidation に関係しそうな指標は以下のように確認できます。"
   ]
  },
  {
   "cell_type": "markdown",
   "metadata": {},
   "source": [
    "<img src=\"./images/sup-7_image9.png\">***Fig. 9 ラマチャンドランプロット、温度因子プロット***"
   ]
  },
  {
   "cell_type": "markdown",
   "metadata": {},
   "source": [
    "## 9. 別の構造での検証例(PDB id: 5NIU)\n",
    "\n",
    "以上、構造式の誤っている「PDB id : 5NIX」の確認を行ってきましたが、同じ文献で報告されている別の構造「PDB id : 5NIU」についても確認しておきたいと思います。\n",
    "\n",
    "まずはPDBに登録されているリガンド2次元構造の、他のデータソースにおける構造情報との比較を行います。"
   ]
  },
  {
   "cell_type": "markdown",
   "metadata": {},
   "source": [
    "<img src=\"./images/sup-7_image10.png\">***Fig. 10 構造式の比較***"
   ]
  },
  {
   "cell_type": "markdown",
   "metadata": {},
   "source": [
    "この構造では文献とPDBに登録された構造はあっていますが、さらに遡った元となる特許中で報告されている構造とは異なっており、メチル基が欠けています。\n",
    "\n",
    "coot でリガンド部位を見てみましょう。"
   ]
  },
  {
   "cell_type": "markdown",
   "metadata": {},
   "source": [
    "<img src=\"./images/sup-7_image11.png\">***Fig. 11 リガンドと電子密度の比較 -1***"
   ]
  },
  {
   "cell_type": "markdown",
   "metadata": {},
   "source": [
    "こちらもタンパク質の奥深くまで結合している部位は電子密度がはっきりしているように見えますが、溶媒に露出している部分は不明瞭になっているように見えます。\n",
    "\n",
    "また、特許と構造の異なる部分（メチル基有無が異なる炭素）については特に電子密度がはっきりしていません。\n",
    "\n",
    "先の構造で誤って登録されていた、シアノ基についてはどのようになっているでしょうか？"
   ]
  },
  {
   "cell_type": "markdown",
   "metadata": {},
   "source": [
    "<img src=\"./images/sup-7_image12.png\">***Fig. 12 リガンドと電子密度の比較 -2***"
   ]
  },
  {
   "cell_type": "markdown",
   "metadata": {},
   "source": [
    "こちらは、シアノ基として登録されていますが少し曲がっており、赤い電子密度とも重なっているのが気になります。また、シアノ基の置かれた電子密度と対称の位置に、**水分子（302 / HOH）**が置かれた部位がありますが、こちら側にシアノ基が伸びていても良いようにみえます。"
   ]
  },
  {
   "cell_type": "markdown",
   "metadata": {},
   "source": [
    "# まとめ\n",
    "\n",
    "以上、cootを利用して共結晶構造を眺めて見ました。今回取り上げた構造はどちらもそもそもの構造式に疑惑があり、適切な例ではなかったかもしれませんが、電子密度と比較してみることで構造の問題がよりクリアになったように思います。\n",
    "\n",
    "結晶構造の解析等を実際に行ったことがないため、そもそも眺めている電子密度がどれほど質のものなのかもわかっておりません。誤り等あればご指摘いただければ幸いです。"
   ]
  },
  {
   "cell_type": "markdown",
   "metadata": {},
   "source": [
    "# 脚注\n",
    "\n",
    "* 1) coot の [tutorial](https://www2.mrc-lmb.cam.ac.uk/personal/pemsley/coot/web/tutorial/tutorial.pdf)\n",
    "\n",
    "\"Features and Development of Coot\" P Emsley, B Lohkamp, W Scott, and K Cowtan Acta Cryst. (2010). D66, 486-501 Acta Crystallographica Section D-Biological Crystallography 66: 486-501 \n",
    "\n",
    "* 2) 使用にあたって参考にさせていただいたページ、ファイル\n",
    "\n",
    "    * [Refmac/cootでrefinement (finish編)](http://enzyme13.bt.a.u-tokyo.ac.jp/refmac-finish.html)\n",
    "\n",
    "    * [Introduction to ligand chemistry in protein X-ray structures](http://grade.globalphasing.org/tut/erice_workshop/introtutorial/index.html)\n",
    "\n",
    "    * http://www.tsurumi.yokohama-cu.ac.jp/xtal-mls/coot/COOT.pdf\n",
    "\n",
    "* 3) MTZファイルについて\n",
    "\n",
    "    * [RCSB PDB: X-ray Electron Density Maps](https://www.rcsb.org/pages/help/edmaps)\n",
    "\n",
    "* 4) 共結晶構造の報告されている文献\n",
    "\n",
    "    * Oncotarget. 2017; 8:72167-72181."
   ]
  }
 ],
 "metadata": {
  "kernelspec": {
   "display_name": "Python 3",
   "language": "python",
   "name": "python3"
  },
  "language_info": {
   "codemirror_mode": {
    "name": "ipython",
    "version": 3
   },
   "file_extension": ".py",
   "mimetype": "text/x-python",
   "name": "python",
   "nbconvert_exporter": "python",
   "pygments_lexer": "ipython3",
   "version": "3.6.8"
  },
  "toc": {
   "base_numbering": 1,
   "nav_menu": {},
   "number_sections": true,
   "sideBar": true,
   "skip_h1_title": false,
   "title_cell": "Table of Contents",
   "title_sidebar": "Contents",
   "toc_cell": true,
   "toc_position": {},
   "toc_section_display": true,
   "toc_window_display": true
  }
 },
 "nbformat": 4,
 "nbformat_minor": 2
}
