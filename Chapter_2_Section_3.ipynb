{
 "cells": [
  {
   "cell_type": "markdown",
   "metadata": {
    "toc": true
   },
   "source": [
    "<h1>Table of Contents<span class=\"tocSkip\"></span></h1>\n",
    "<div class=\"toc\"><ul class=\"toc-item\"><li><span><a href=\"#第２章３節：失われたIDを探せ！\" data-toc-modified-id=\"第２章３節：失われたIDを探せ！-1\"><span class=\"toc-item-num\">1&nbsp;&nbsp;</span>第２章３節：失われたIDを探せ！</a></span></li><li><span><a href=\"#idnumberを保持したSDFの生成\" data-toc-modified-id=\"idnumberを保持したSDFの生成-2\"><span class=\"toc-item-num\">2&nbsp;&nbsp;</span><u><b>idnumberを保持したSDFの生成</b></u></a></span></li><li><span><a href=\"#idnumberがなくなっていたものについて原因を検証\" data-toc-modified-id=\"idnumberがなくなっていたものについて原因を検証-3\"><span class=\"toc-item-num\">3&nbsp;&nbsp;</span><u><b>idnumberがなくなっていたものについて原因を検証</b></u></a></span><ul class=\"toc-item\"><li><span><a href=\"#該当の構造の抜き出し\" data-toc-modified-id=\"該当の構造の抜き出し-3.1\"><span class=\"toc-item-num\">3.1&nbsp;&nbsp;</span>該当の構造の抜き出し</a></span></li><li><span><a href=\"#PandasToolsを用いた処理前後の構造の比較\" data-toc-modified-id=\"PandasToolsを用いた処理前後の構造の比較-3.2\"><span class=\"toc-item-num\">3.2&nbsp;&nbsp;</span>PandasToolsを用いた処理前後の構造の比較</a></span></li></ul></li></ul></div>"
   ]
  },
  {
   "cell_type": "markdown",
   "metadata": {},
   "source": [
    "# 第２章３節：失われたIDを探せ！"
   ]
  },
  {
   "cell_type": "markdown",
   "metadata": {},
   "source": [
    "先の２つの記事でrdkitを使った前処理を試みてきましたが、sdf出力の際の設定が間違っており、各エントリのidnumberが新しいsdfには出力できていませんでした。\n",
    "\n",
    "`SDWriter`の`SetProps`の設定を修正することで、idnumberをsdfに含めることはできたのですが、そもそも**Molオブジェクトからidnumberがなくなってしまっている**ものがありました。どうやら、複数のフラグメントをもつオブジェクトについて、脱塩処理（一番大きいサイズのフラグメントのみ残す）をした場合に、idnumberが失われている、というように見えました。\n",
    "\n",
    "構造を頼りに化合物の数を絞りこんだとしても、もともとの化合物のidnumberがわからないと出所がわからず困ったことになりそうです。そこで、再度idnumberを保持した形で前処理を実施したいと思います。折角なのでついでに分子量（Moleculer weight）も計算して、情報を付け足してみたいと思います。\n"
   ]
  },
  {
   "cell_type": "markdown",
   "metadata": {},
   "source": [
    "# <u><b>idnumberを保持したSDFの生成</b></u>\n",
    "\n",
    "懲りずにGoogle Colaboratoryでやりますが、処理までの操作は変わらないので割愛します。\n"
   ]
  },
  {
   "cell_type": "markdown",
   "metadata": {},
   "source": [
    "```python\n",
    "from rdkit import Chem\n",
    "import gzip\n",
    "\n",
    "#分子の前処理のためのMolStandardize、\n",
    "#および分子量計算のためのDescriptorsをimport\n",
    "from rdkit.Chem import MolStandardize, Descriptors\n",
    "\n",
    "EPc_gz = gzip.open('Enamine_Premium_collection.sdf.gz')\n",
    "EPc_suppl = Chem.ForwardSDMolSupplier(EPc_gz)  \n",
    "EPc_mols_pro = []\n",
    "\n",
    "for x in EPc_suppl:\n",
    "  if x is not None:\n",
    "    mol = x\n",
    "  \n",
    "  #処理の前にidnumberを取り出しておく(前回との違い)\n",
    "  ID = mol.GetProp('idnumber') \n",
    "  \n",
    "  #構造の標準化\n",
    "  normalizer =MolStandardize.normalize.Normalizer()\n",
    "  mol_norm = normalizer.normalize(mol)\n",
    "  \n",
    "  #一番大きいサイズのフラグメントのみ残す\n",
    "  lfc = MolStandardize.fragment.LargestFragmentChooser()\n",
    "  mol_desalt = lfc.choose(mol_norm)\n",
    "  \n",
    "  #電荷の中和\n",
    "  uc = MolStandardize.charge.Uncharger()\n",
    "  mol_neu = uc.uncharge(mol_desalt)\n",
    "  \n",
    "  #以下は前回と異なる追加の処理\n",
    "  \n",
    "  #処理後のMolオブジェクトに、取り出しておいた元々のidnumberをoriginal_idとして付与\n",
    "  mol_neu.SetProp('original_id', ID)\n",
    "  \n",
    "  #分子量を計算\n",
    "  MW_value = Chem.Descriptors.MolWt(mol)\n",
    "  \n",
    "  #分子量をプロパティとして持たせる。\n",
    "  #小数点を含むfloat型のプロパティなので SetDoubleProp を使って情報を付加する\n",
    "  mol_neu.SetDoubleProp('MW', MW_value)\n",
    "  \n",
    "  #新しいリストに追加\n",
    "  EPc_mols_pro.append(mol_neu)\n",
    "```\n"
   ]
  },
  {
   "cell_type": "markdown",
   "metadata": {},
   "source": [
    "かかった時間は + 1分くらいです。\n",
    "　CPU times: user 3min 47s, sys: 13.9 s, total: 4min 1s\n",
    "　Wall time: 4min 1s\n",
    "\n",
    "念のため最初の分子でそれぞれのプロパティが格納されているか確認したいと思います。\n"
   ]
  },
  {
   "cell_type": "markdown",
   "metadata": {},
   "source": [
    "```python\n",
    "test = EPc_mols_pro[0]\n",
    "print('idnumber:', test.GetProp('idnumber'))\n",
    "print('original_id:', test.GetProp('original_id'))\n",
    "print('MW:', test.GetDoubleProp('MW'))\n",
    "```"
   ]
  },
  {
   "cell_type": "markdown",
   "metadata": {},
   "source": [
    "  idnumber: Z1498649509  \n",
    "  original_id: Z1498649509  \n",
    "  MW: 210.28099999999995\n",
    "\n",
    "と出力されました。うまくいってそうです。\n",
    "\n",
    "Molオブジェクトのプロパティの設定で、idnumberと分子量では異なるものを使いました。\n",
    "[ケモインフォマティクスのオンライン入門書](https://funatsu-lab.github.io/open-course-ware/molecular-design/file-format#sdf)によると、\n",
    "\n",
    "|関数|データの型|\n",
    "|:---:|:----:|\n",
    "|SetProp('名前',値)|str型|\n",
    "|SetIntProp('名前',値)|int型|\n",
    "|SetUnsignedProp('名前',値)|int型（非負）|\n",
    "|SetDoubleProp('名前',値)|float型|\n",
    "|SetBoolProp('名前',値)|bool型|\n",
    "\n",
    "と、なっているそうです。値を取り出すときは`Set`の部分を`Get`にすれば良さそうです。\n",
    "\n",
    "sdfで出力し、自分のPCで確認します。\n"
   ]
  },
  {
   "cell_type": "markdown",
   "metadata": {},
   "source": [
    "```python\n",
    "#構造とidnumber、original_id、MWをもつsdfファイルを作成\n",
    "writer = Chem.SDWriter('Enamine_Premium_collection_pro_id_MW.sdf')\n",
    "\n",
    "#プロパティとして持たせたいものをリストにしておく\n",
    "prop_names = ['idnumber', 'original_id', 'MW']\n",
    "\n",
    "writer.SetProps(prop_names)\n",
    "for mol in EPc_mols_pro:\n",
    "  writer.write(mol)\n",
    "writer.close()\n",
    "\n",
    "#大きいので圧縮\n",
    "!gzip -c Enamine_Premium_collection_pro_id_MW.sdf > Enamine_Premium_collection_pro_id_MW.sdf.gz\n",
    "\n",
    "#Googleドライブへ出力\n",
    "upload_file = drive.CreateFile()\n",
    "upload_file.SetContentFile('Enamine_Premium_collection_pro_id_MW.sdf.gz')\n",
    "upload_file.Upload()\n",
    "```\n"
   ]
  },
  {
   "cell_type": "markdown",
   "metadata": {},
   "source": [
    "MarvinViewで開くとこのような見た目です。\n",
    "\n",
    "<img src=\"./images/2-3_image1.png\">\n",
    "\n",
    "今度こそ上手くいったのではないでしょうか。\n"
   ]
  },
  {
   "cell_type": "markdown",
   "metadata": {},
   "source": [
    "# <u><b>idnumberがなくなっていたものについて原因を検証</b></u>\n",
    "## 該当の構造の抜き出し\n",
    "\n",
    "idnumberが失われてしまった構造は元々どのようなものだったのか、気になります。indexとして抜き出してみます。\n"
   ]
  },
  {
   "cell_type": "markdown",
   "metadata": {},
   "source": [
    "```python  \n",
    "lost_id_index = []\n",
    "\n",
    "for i in range(len(EPc_mols_pro)):\n",
    "    mol = EPc_mols_pro[i]\n",
    "    \n",
    "    #Molオブジェクトの持つプロパティの一覧を取得する\n",
    "    props = mol.GetPropNames()\n",
    "    \n",
    "    #idnumberを持たない場合はそのindex（化合物idではない）をリストに加える\n",
    "    if 'idnumber' not in props:\n",
    "        lost_id_index.append(i)\n",
    "```"
   ]
  },
  {
   "cell_type": "markdown",
   "metadata": {},
   "source": [
    "idnumberが失われた構造の総数を確認してみます。\n"
   ]
  },
  {
   "cell_type": "markdown",
   "metadata": {},
   "source": [
    "```python\n",
    "len(lost_id_index)\n",
    "```\n"
   ]
  },
  {
   "cell_type": "markdown",
   "metadata": {},
   "source": [
    "「2486」個と出ました。\n",
    "\n",
    "これらの化合物について処理前と後で構造の変化を眺めてみたいと思います。\n",
    "\n"
   ]
  },
  {
   "cell_type": "markdown",
   "metadata": {},
   "source": [
    "## PandasToolsを用いた処理前後の構造の比較\n",
    "\n",
    "比較のため再度、処理前のsdfからMolオブジェクトのリストを作成します。"
   ]
  },
  {
   "cell_type": "markdown",
   "metadata": {},
   "source": [
    "```python\n",
    "EPc_gz2 = gzip.open('Enamine_Premium_collection.sdf.gz')\n",
    "EPc_mols2 = [mol for mol in Chem.ForwardSDMolSupplier(EPc_gz2) if mol is not None]\n",
    "```"
   ]
  },
  {
   "cell_type": "markdown",
   "metadata": {},
   "source": [
    "構造の比較のためPandsToolsを利用してみたいと思います。\n",
    "\n",
    "RDKitのPandasToolsについては「化学の新しいカタチ」さんの[こちらの記事](https://future-chem.com/rdkit-pandastools/)などを参考にしてください。\n",
    "\n"
   ]
  },
  {
   "cell_type": "markdown",
   "metadata": {},
   "source": [
    "```python\n",
    "from rdkit.Chem import PandasTools\n",
    "import pandas as pd\n",
    "\n",
    "#処理前の構造から比較に使いたい構造を取り出したリストを作成する。\n",
    "before_list = []\n",
    "\n",
    "for i in lost_id_index:\n",
    "    before_list.append(EPc_mols2[i])\n",
    "    \n",
    "#リストからSDFを作成したのち、PandasToolsのLoadSDFで読み込みDataFrameとする。\n",
    "writer_b = Chem.SDWriter('before.sdf')\n",
    "writer_b.SetProps(['idnumber'])\n",
    "for mol in before_list:\n",
    "  writer_b.write(mol)\n",
    "writer_b.close()\n",
    "\n",
    "df_before = PandasTools.LoadSDF('./before.sdf')\n",
    "\n",
    "#処理後の構造についても同じことをする。\n",
    "after_list =[]\n",
    "\n",
    "writer_a = Chem.SDWriter('after.sdf')\n",
    "writer_a.SetProps(['original_id'])\n",
    "for mol in after_list:\n",
    "  writer_a.write(mol)\n",
    "writer_a.close()\n",
    "\n",
    "df_after = PandasTools.LoadSDF('./after.sdf')\n",
    "\n",
    "#2つのDataFrameを連結する。\n",
    "df_compare = pd.concat([df_before, df_after], axis=1)\n",
    "\n",
    "#全て取り込めているかを確認\n",
    "df_compare.shape\n",
    "```\n"
   ]
  },
  {
   "cell_type": "markdown",
   "metadata": {},
   "source": [
    "\n",
    "(2486, 6) と返ってきました。無事2486個処理されたみたいです。\n",
    "\n",
    "それでは早速構造の比較を見てみましょう\n"
   ]
  },
  {
   "cell_type": "markdown",
   "metadata": {},
   "source": [
    "\n",
    "```python\n",
    "df_compare.head()\n",
    "```\n",
    "\n",
    "<img src=\"./images/2-3_image2.png\">\n",
    "\n",
    "\n",
    "\n",
    "塩酸塩となっていました。最初の考え通り、フラグメントを取り除く処理をしたものについてidnumberのプロパティが失われていた可能性が高そうです。\n",
    "\n",
    "ついでに、最後の方の番号も見てみましょう。\n",
    "\n",
    "```python\n",
    "df_compare.tail()\n",
    "```\n",
    "\n",
    "<img src=\"./images/2-3_image3.png\">\n",
    "\n",
    "後ろの方はカルボキシル基がイオン化してナトリウム塩となっているエントリーでした。\n",
    "処理後の構造ではカルボキシル基は水素が付加されており、中和処理も問題なく行われているようです。\n",
    "\n",
    "以上、idnumberが失われる場合の検証を行ってみました。予想外に処理が行われているものについて、実際に構造を比較し、処理の結果を検証することまでできました。欠損値（?）っていうのも大事なんですね。\n",
    "\n",
    "たぶん、本当は処理の段階で、処理が必要になったものについては別のリストを作るとかそういう対応をするんだと思います。\n",
    "\n",
    "すごい遠回りしてる感ある・・・"
   ]
  }
 ],
 "metadata": {
  "kernelspec": {
   "display_name": "Python 3",
   "language": "python",
   "name": "python3"
  },
  "language_info": {
   "codemirror_mode": {
    "name": "ipython",
    "version": 3
   },
   "file_extension": ".py",
   "mimetype": "text/x-python",
   "name": "python",
   "nbconvert_exporter": "python",
   "pygments_lexer": "ipython3",
   "version": "3.6.8"
  },
  "toc": {
   "base_numbering": 1,
   "nav_menu": {},
   "number_sections": true,
   "sideBar": true,
   "skip_h1_title": false,
   "title_cell": "Table of Contents",
   "title_sidebar": "Contents",
   "toc_cell": true,
   "toc_position": {},
   "toc_section_display": true,
   "toc_window_display": true
  }
 },
 "nbformat": 4,
 "nbformat_minor": 2
}
