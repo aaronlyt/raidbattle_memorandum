{
 "cells": [
  {
   "cell_type": "markdown",
   "metadata": {
    "toc": true
   },
   "source": [
    "<h1>Table of Contents<span class=\"tocSkip\"></span></h1>\n",
    "<div class=\"toc\"><ul class=\"toc-item\"><li><span><a href=\"#第2章　Step-1.-前処理\" data-toc-modified-id=\"第2章　Step-1.-前処理-1\"><span class=\"toc-item-num\">1&nbsp;&nbsp;</span>第2章　Step 1. 前処理</a></span></li></ul></div>"
   ]
  },
  {
   "cell_type": "markdown",
   "metadata": {},
   "source": [
    "# 第2章　Step 1. 前処理"
   ]
  },
  {
   "cell_type": "markdown",
   "metadata": {},
   "source": [
    "in silico スクリーニングを行うためにsdfに含まれる化合物構造の前処理を行いました。\n",
    "\n",
    "行った前処理は\n",
    "\n",
    "1. 構造の標準化\n",
    "2. 脱塩処理　（一番大きいサイズのフラグメントのみ残す）\n",
    "3. 電荷の中和\n",
    "\n",
    "です。また、あわせて次のステップで用いるための指標の計算を行いました。\n",
    "\n",
    "1. 分子量\n",
    "2. cLogP\n",
    "3. 水素結合供与体数\n",
    "4. 水素結合受容体数\n",
    "5. 回転可能結合数\n",
    "6. 極性表面積\n",
    "\n",
    "RDKitをもちいて行った前処理コード例は以下のようなものとなります。"
   ]
  },
  {
   "cell_type": "markdown",
   "metadata": {},
   "source": [
    "```python\n",
    "from rdkit import Chem\n",
    "import gzip\n",
    "from rdkit.Chem import Descriptors, MolStandardize\n",
    "\n",
    "EAc_gz = gzip.open('Enamine_Advanced_collection.sdf.gz')\n",
    "EAc_suppl = Chem.ForwardSDMolSupplier(EAc_gz) \n",
    "\n",
    "#Molオブジェクト、および各指標を計算し格納するためのからのリストを作成\n",
    "EAc_mols = []\n",
    "MW_list = []\n",
    "MolLogP_list = []\n",
    "NumHDonors_list = []\n",
    "NumHAcceptors_list = []\n",
    "NumRotatableBonds_list = []\n",
    "TPSA_list = []\n",
    "\n",
    "for x in EAc_suppl:\n",
    "  if x is not None:\n",
    "    mol = x\n",
    "    \n",
    "  #処理の前にidnumberを取り出しておく\n",
    "  ID = mol.GetProp('idnumber') \n",
    "\n",
    "    \n",
    "  #構造の標準化\n",
    "  normalizer =MolStandardize.normalize.Normalizer()\n",
    "  mol_norm = normalizer.normalize(mol)\n",
    "  \n",
    "  #一番大きいサイズのフラグメントのみ残す\n",
    "  lfc = MolStandardize.fragment.LargestFragmentChooser()\n",
    "  mol_desalt = lfc.choose(mol_norm)\n",
    "  \n",
    "  #電荷の中和\n",
    "  uc = MolStandardize.charge.Uncharger()\n",
    "  mol_neu = uc.uncharge(mol_desalt)\n",
    "  \n",
    "  #処理後のMolオブジェクトに、取り出しておいた元々のidnumberをoriginal_idとして付与\n",
    "  mol_neu.SetProp('original_id', ID)\n",
    "  \n",
    "  #分子量を計算\n",
    "  MW_value = Chem.Descriptors.MolWt(mol_neu)\n",
    "\n",
    "  #分子量をプロパティとして持たせる。(小数点を含むfloat型)\n",
    "  mol_neu.SetDoubleProp('MW', MW_value)\n",
    "  \n",
    "  #値のみのリストにも追加する\n",
    "  MW_list.append(MW_value)\n",
    "  \n",
    "  #MolLogPを計算(MolLogPは対応しない元素を含むとエラーを返すので例外処理として記入)\n",
    "  try: \n",
    "    MolLogP_value = Chem.Descriptors.MolLogP(mol_neu)\n",
    "    mol_neu.SetDoubleProp('MolLogP', MolLogP_value)\n",
    "    MolLogP_list.append(MolLogP_value)\n",
    "  except:\n",
    "    MolLogP_list.append(None)\n",
    "   \n",
    "  #NumHDonorsでも同じことをする。\n",
    "  NumHDonors_value = Chem.Descriptors.NumHDonors(mol_neu)\n",
    "  #非負の整数値（int型）のプロパティなので SetUnsignedIntProp でも良いが面倒なのでSetDoublePropにする。\n",
    "  mol_neu.SetDoubleProp('NumHDonors', NumHDonors_value)\n",
    "  NumHDonors_list.append(NumHDonors_value)  \n",
    "\n",
    "  #NumHAcceptors\n",
    "  NumHAcceptors_value = Chem.Descriptors.NumHAcceptors(mol_neu)\n",
    "  mol_neu.SetDoubleProp('NumHAcceptors', NumHAcceptors_value)\n",
    "  NumHAcceptors_list.append(NumHAcceptors_value)  \n",
    "\n",
    "  #NumRotatableBonds\n",
    "  NumRotatableBonds_value = Chem.Descriptors.NumRotatableBonds(mol_neu)\n",
    "  mol_neu.SetDoubleProp('NumRotatableBonds', NumRotatableBonds_value)\n",
    "  NumRotatableBonds_list.append(NumRotatableBonds_value)    \n",
    "\n",
    "  #TPSA\n",
    "  TPSA_value = Chem.Descriptors.TPSA(mol_neu)\n",
    "  mol_neu.SetDoubleProp('TPSA', TPSA_value)\n",
    "  TPSA_list.append(TPSA_value)   \n",
    " \n",
    "  #Molオブジェクトのリストも忘れずに\n",
    "  EAc_mols.append(mol_neu)\n",
    "```"
   ]
  },
  {
   "cell_type": "markdown",
   "metadata": {},
   "source": [
    "上記コード例の詳細は**第３章３節**に記載していあります。\n",
    "\n",
    "こちらに至るまでの過程として、第２章では\n",
    "\n",
    "* 大きなデータセットを利用するためにGoogle colabolatoryを利用　（第２章１節）\n",
    "* 化合物構造に紐づいたデータ取り扱い上の注意点（第２章３節）\n",
    "\n",
    "を取り上げています。また、テクニカルな話題として\n",
    "\n",
    "* 処理手順の変更による必要なメモリの節約　（第２章２節）\n",
    "* SDF読みこみ方法の違いの影響　（第２章コラム）\n",
    "\n",
    "について記載しています。"
   ]
  }
 ],
 "metadata": {
  "kernelspec": {
   "display_name": "Python 3",
   "language": "python",
   "name": "python3"
  },
  "language_info": {
   "codemirror_mode": {
    "name": "ipython",
    "version": 3
   },
   "file_extension": ".py",
   "mimetype": "text/x-python",
   "name": "python",
   "nbconvert_exporter": "python",
   "pygments_lexer": "ipython3",
   "version": "3.6.8"
  },
  "toc": {
   "base_numbering": 1,
   "nav_menu": {},
   "number_sections": true,
   "sideBar": true,
   "skip_h1_title": false,
   "title_cell": "Table of Contents",
   "title_sidebar": "Contents",
   "toc_cell": true,
   "toc_position": {},
   "toc_section_display": true,
   "toc_window_display": true
  }
 },
 "nbformat": 4,
 "nbformat_minor": 2
}
