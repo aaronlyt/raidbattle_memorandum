{
 "cells": [
  {
   "cell_type": "markdown",
   "metadata": {
    "toc": true
   },
   "source": [
    "<h1>Table of Contents<span class=\"tocSkip\"></span></h1>\n",
    "<div class=\"toc\"><ul class=\"toc-item\"><li><span><a href=\"#第７章１節：SBVSしようとする話\" data-toc-modified-id=\"第７章１節：SBVSしようとする話-1\"><span class=\"toc-item-num\">1&nbsp;&nbsp;</span>第７章１節：SBVSしようとする話</a></span></li><li><span><a href=\"#1.-AutoDock\" data-toc-modified-id=\"1.-AutoDock-2\"><span class=\"toc-item-num\">2&nbsp;&nbsp;</span><b><u>1. AutoDock</u></b></a></span></li><li><span><a href=\"#2.-ドッキング？\" data-toc-modified-id=\"2.-ドッキング？-3\"><span class=\"toc-item-num\">3&nbsp;&nbsp;</span><b><u>2. ドッキング？</u></b></a></span><ul class=\"toc-item\"><li><span><a href=\"#2-1.-ドッキングについて\" data-toc-modified-id=\"2-1.-ドッキングについて-3.1\"><span class=\"toc-item-num\">3.1&nbsp;&nbsp;</span><b><u>2-1. ドッキングについて</u></b></a></span></li><li><span><a href=\"#2-2.-遺伝的アルゴリズム？\" data-toc-modified-id=\"2-2.-遺伝的アルゴリズム？-3.2\"><span class=\"toc-item-num\">3.2&nbsp;&nbsp;</span><b><u>2-2. 遺伝的アルゴリズム？</u></b></a></span></li><li><span><a href=\"#2-3.-スコア関数\" data-toc-modified-id=\"2-3.-スコア関数-3.3\"><span class=\"toc-item-num\">3.3&nbsp;&nbsp;</span><b><u>2-3. スコア関数</u></b></a></span></li></ul></li><li><span><a href=\"#3.-ドッキング実施\" data-toc-modified-id=\"3.-ドッキング実施-4\"><span class=\"toc-item-num\">4&nbsp;&nbsp;</span><b><u>3. ドッキング実施</u></b></a></span><ul class=\"toc-item\"><li><span><a href=\"#3-1.-AutoDock-vina-の処理流れ\" data-toc-modified-id=\"3-1.-AutoDock-vina-の処理流れ-4.1\"><span class=\"toc-item-num\">4.1&nbsp;&nbsp;</span><b><u>3-1. AutoDock vina の処理流れ</u></b></a></span></li><li><span><a href=\"#3-2.-使用するタンパク質の選択\" data-toc-modified-id=\"3-2.-使用するタンパク質の選択-4.2\"><span class=\"toc-item-num\">4.2&nbsp;&nbsp;</span><b><u>3-2. 使用するタンパク質の選択</u></b></a></span></li><li><span><a href=\"#3-3.-Pymolでタンパク質を前処理\" data-toc-modified-id=\"3-3.-Pymolでタンパク質を前処理-4.3\"><span class=\"toc-item-num\">4.3&nbsp;&nbsp;</span><b><u>3-3. Pymolでタンパク質を前処理</u></b></a></span></li><li><span><a href=\"#3-4.-Grid-Box設定のための座標確認\" data-toc-modified-id=\"3-4.-Grid-Box設定のための座標確認-4.4\"><span class=\"toc-item-num\">4.4&nbsp;&nbsp;</span><b><u>3-4. Grid Box設定のための座標確認</u></b></a></span></li><li><span><a href=\"#3-5.-テストドッキング\" data-toc-modified-id=\"3-5.-テストドッキング-4.5\"><span class=\"toc-item-num\">4.5&nbsp;&nbsp;</span><b><u>3-5. テストドッキング</u></b></a></span><ul class=\"toc-item\"><li><span><a href=\"#3-5-1.-タンパク質/リガンドの前処理\" data-toc-modified-id=\"3-5-1.-タンパク質/リガンドの前処理-4.5.1\"><span class=\"toc-item-num\">4.5.1&nbsp;&nbsp;</span><b><u>3-5-1. タンパク質/リガンドの前処理</u></b></a></span></li><li><span><a href=\"#3-5-2.-ドッキングのジョブを投げる準備\" data-toc-modified-id=\"3-5-2.-ドッキングのジョブを投げる準備-4.5.2\"><span class=\"toc-item-num\">4.5.2&nbsp;&nbsp;</span><b><u>3-5-2. ドッキングのジョブを投げる準備</u></b></a></span></li><li><span><a href=\"#3-5-3.-ドッキングの実行と結果\" data-toc-modified-id=\"3-5-3.-ドッキングの実行と結果-4.5.3\"><span class=\"toc-item-num\">4.5.3&nbsp;&nbsp;</span><b><u>3-5-3. ドッキングの実行と結果</u></b></a></span></li></ul></li></ul></li><li><span><a href=\"#4.-SBVSにむけたスクリーニング化合物の準備\" data-toc-modified-id=\"4.-SBVSにむけたスクリーニング化合物の準備-5\"><span class=\"toc-item-num\">5&nbsp;&nbsp;</span><b><u>4. SBVSにむけたスクリーニング化合物の準備</u></b></a></span><ul class=\"toc-item\"><li><span><a href=\"#4-1.-ファーマコフォアを利用したコンフォマーの発生\" data-toc-modified-id=\"4-1.-ファーマコフォアを利用したコンフォマーの発生-5.1\"><span class=\"toc-item-num\">5.1&nbsp;&nbsp;</span><b><u>4-1. ファーマコフォアを利用したコンフォマーの発生</u></b></a></span></li><li><span><a href=\"#4-2.-Feature-Mapによるコンフォマーの選別\" data-toc-modified-id=\"4-2.-Feature-Mapによるコンフォマーの選別-5.2\"><span class=\"toc-item-num\">5.2&nbsp;&nbsp;</span><b><u>4-2. Feature Mapによるコンフォマーの選別</u></b></a></span></li><li><span><a href=\"#4-3.-PyMolでコンフォマーを眺める\" data-toc-modified-id=\"4-3.-PyMolでコンフォマーを眺める-5.3\"><span class=\"toc-item-num\">5.3&nbsp;&nbsp;</span><b><u>4-3. PyMolでコンフォマーを眺める</u></b></a></span></li></ul></li><li><span><a href=\"#5.-AutoDock-vinaとODDTでSBVS\" data-toc-modified-id=\"5.-AutoDock-vinaとODDTでSBVS-6\"><span class=\"toc-item-num\">6&nbsp;&nbsp;</span><b><u>5. AutoDock vinaとODDTでSBVS</u></b></a></span><ul class=\"toc-item\"><li><span><a href=\"#5-1.-ODDTでchimeraでの操作を追試\" data-toc-modified-id=\"5-1.-ODDTでchimeraでの操作を追試-6.1\"><span class=\"toc-item-num\">6.1&nbsp;&nbsp;</span><b><u>5-1. ODDTでchimeraでの操作を追試</u></b></a></span></li><li><span><a href=\"#5-2.-ODDTでスクリーニング本番\" data-toc-modified-id=\"5-2.-ODDTでスクリーニング本番-6.2\"><span class=\"toc-item-num\">6.2&nbsp;&nbsp;</span><b><u>5-2. ODDTでスクリーニング本番</u></b></a></span></li><li><span><a href=\"#5-3.-全ドッキングポーズを出力・確認\" data-toc-modified-id=\"5-3.-全ドッキングポーズを出力・確認-6.3\"><span class=\"toc-item-num\">6.3&nbsp;&nbsp;</span><b><u>5-3. 全ドッキングポーズを出力・確認</u></b></a></span></li><li><span><a href=\"#5-4.-各化合物のベスト構造のみを出力・確認\" data-toc-modified-id=\"5-4.-各化合物のベスト構造のみを出力・確認-6.4\"><span class=\"toc-item-num\">6.4&nbsp;&nbsp;</span><b><u>5-4. 各化合物のベスト構造のみを出力・確認</u></b></a></span></li></ul></li><li><span><a href=\"#6.-まとめ\" data-toc-modified-id=\"6.-まとめ-7\"><span class=\"toc-item-num\">7&nbsp;&nbsp;</span><b><u>6. まとめ</u></b></a></span></li><li><span><a href=\"#脚注\" data-toc-modified-id=\"脚注-8\"><span class=\"toc-item-num\">8&nbsp;&nbsp;</span>脚注</a></span></li></ul></div>"
   ]
  },
  {
   "cell_type": "markdown",
   "metadata": {},
   "source": [
    "# 第７章１節：SBVSしようとする話"
   ]
  },
  {
   "cell_type": "markdown",
   "metadata": {},
   "source": [
    "これまで以下の手順で化合物の絞り込みを行ってきました。\n",
    "\n",
    "1. 記述子といった指標等を用いた絞り込み\n",
    "2. 活性化合物に頻出の部分構造を用いた絞り込み\n",
    "3. 共結晶構造に基づくファーマコフォアによるスクリーニング\n",
    "4. フィンガープリントを用いた活性化合物群への類似性に基づくスコア化\n",
    "\n",
    "[創薬レイドバトル2018](https://souyakuchan.github.io/ddraids2018rules/)の提出リストは\n",
    "\n",
    "1. 候補化合物 ID リスト (1): 500 化合物\n",
    "2. 候補化合物 ID リスト (2): (1) から更に 10 化合物に絞った優先順位付きリスト\n",
    "\n",
    "です。すでに上記絞り込みにおいて、手順3.で残り約500個、手順4.でスコアによる順位づけも完了したため、リストはできた！！！・・・と言いたいところですが、スコア上位10化合物にいまいち自信が持てません。\n",
    "\n",
    "残る課題としては、タンパク質側の情報を明示的には取り扱っていない、ということでしょうか？　手順3、においてファーマコフォア作成時に共結晶構造を参考にはしたものの、情報の一部を抽出したもので間接的な取り扱いです。やはり最後は直接対決！！  \n",
    "・・・ということで、ドッキング（SBVS?）に挑戦しようと思います。  \n",
    "絞り込んだスクリーニング化合物群の中に、無事 PD-L1 のお眼鏡に叶う候補が含まれていることを祈ってシミュレーションしていきましょう。"
   ]
  },
  {
   "cell_type": "markdown",
   "metadata": {},
   "source": [
    "# <b><u>1. AutoDock</b></u>\n",
    "\n",
    "早速RDKitをimportして、、、、といきたいところですが、RDKitにはドッキングの機能はないようなので別の方法を探さないといけません。今回は日本語で解説してくださっている記事、資料が検索したら出てきたという安直な理由でAutoDock vinaを使いたいと思います。 [^1] \n",
    "\n",
    "[**AutoDock**](http://autodock.scripps.edu)はThe Scripps Research Instituteの[The Olson Laboratory](http://mgl.scripps.edu/projects)により開発されているLigand-Protein Dcokingソフトウェアだそうです。説明によると、結合自由エネルギーの予測と遺伝的アルゴリズムに基づく探索により、タンパク質とフレキシブルなリガンド間でドッキングを実施します。今回使用しようとしてる[**AutoDock vina**](http://vina.scripps.edu)はAutoDockを高速化、精度を高めた改良版です。[^2] また、ドッキングの実施や結果解析を手助けするGUIツールとして**AutoDockTools**というソフトウェア開発も行われています（こちらは他のツールとまとめて[**MGL Tools**](http://mgltools.scripps.edu)に含まれています）。\n",
    "\n",
    "これらを使えばいい感じにタンパク質にリガンドが結合するか否かわかるはず！\n",
    "・・・でも、そもそもドッキングって具体的に何を計算しているのか？？\n"
   ]
  },
  {
   "cell_type": "markdown",
   "metadata": {},
   "source": [
    "# <b><u>2. ドッキング？</b></u>\n",
    "## <b><u>2-1. ドッキングについて</b></u>\n",
    "\n",
    "ドッキングに関して、日本化学会情報化学部会誌（CICSJ、現在はケモインフォマティクス部会？）にちょうど良い文献（ [タンパク質-リガンドドッキングの現状と課題](https://www.jstage.jst.go.jp/article/cicsj/34/1/34_10/_article/-char/ja) ((Uehara, S., Tanaka, S., CICSJ Bulletin 2016(34)10 )) ）があったので参照します。\n",
    "\n",
    "同文献によると、ドッキング計算（protein-ligand docking）は\n",
    "\n",
    "* タンパク質の立体構造を**顕に**扱うSBDD(structure-based drug design)で特に重要な役割を果たす\n",
    "* 計算機により標的タンパク質とリガンドの立体的な**結合構造**と**結合親和性**を予測する手法\n",
    "\n",
    "だそうです。これを利用した仮想スクリーニング（virtual screening, VS）がSBVS（の一つ？）ということになります。\n",
    "\n",
    "**原子レベルで相互作用機序を理解できる**ため、合理的な医薬品設計の手助けとなる一方、タンパク質のような非常に多数の原子を含む構造を扱うのは計算コストが高すぎるという問題があるため、簡易化したモデルが使われます。  \n",
    "「簡易化」 ≒ 「タンパク質、リガンドのもつ立体構造の柔軟性をどの程度まで考慮に入れるか？」で、柔軟さを許容すればするほど計算コストが高くなります。複雑さの段階に応じて以下の４つのモデルが紹介されていました。\n",
    "\n",
    "1. <b><u>Rigid Docking</b></u>: 鍵と鍵穴モデル(Lock-and-Key Model)に従い、タンパク、リガンド共に剛体として扱う  \n",
    "2. <b><u>Flexible Docking</b></u>: リガンド側のみ柔軟性を考慮（タンパク質は剛体, Flexible Ligand Model）  \n",
    "3. <b><u>Flexible Side-Chains Docking</b></u>: リガンドに加えて結合ポケットのアミノ酸側鎖の自由度も考慮（Paritally Flexible Protein Model）  \n",
    "4. <b><u>Flexible Protein Docking</b></u>: タンパク、リガンド共に柔軟性を考慮（Induced-Fit Model）  \n",
    "\n",
    "このうち、標準的なものは「3. フレキシブルドッキング」で、AutoDockもここに含まれています。\n",
    "\n",
    "ドッキングの目的である「結合構造、結合親和性の予測」にあたって、重要となるのが**効率的な探査アルゴリズム**と**高精度なスコア関数**の２つです。前者は安定な結合構造を予想、探索するもので、これにより得られた結合構造がスコア関数により順位づけされます。文献中ではどちらも様々な手法の例が挙げられていましたが、AutoDockの場合、探査アルゴリズムとして**遺伝的アルゴリズム**、スコア関数として**力場に基づいたスコア関数**が使われています。"
   ]
  },
  {
   "cell_type": "markdown",
   "metadata": {},
   "source": [
    "## <b><u>2-2. 遺伝的アルゴリズム？</b></u>\n",
    "\n",
    "AutoDockの遺伝的アルゴリズムについて情報処理学会(IPSJ) 第75回全国大会論文集（2013年 p.901-902 [電子図書館リンク](https://ipsj.ixsq.nii.ac.jp/ej/?action=pages_view_main&active_action=repository_view_main_item_detail&item_id=112375&item_no=1&page_id=13&block_id=8)） に記載があったので引用します。 [^3] \n",
    "\n",
    "> \n",
    "AutoDockでは、最適解を探索するアルゴリズムとして遺伝的アルゴリズム (GA: Genetic Algorithm) を用いている。遺伝的アルゴリズムとはデータを遺伝子として表現し、複数の個体を適応度によって選択し、交叉、突然変異などの遺伝的操作を行いながら最適解を探索するアルゴリズムである。\n",
    "\n",
    "また、愛媛大学　村上研究室のページ（ [遺伝的アルゴリズム](http://ipr20.cs.ehime-u.ac.jp/column/ga/)）によると、特徴として\n",
    "\n",
    "* 解空間構造が不明\n",
    "* 決定的な優れた解法が発見されておらず、\n",
    "* 全探索が不可能と考えられるほど広大な解空間を持つ問題に有効\n",
    "\n",
    "という点があげられるそうです。確かにタンパク質と低分子の結合構造という、無数の組み合わせがありそうな問題を解く上で有効そうです。\n",
    "\n",
    "先のIPSJ論文集に記載されているGAの流れを少し書き換えると以下のような雰囲気です。\n",
    "\n",
    "1. ランダムで初期個体として複数の結合構造を発生（最初の**世代**）\n",
    "    （原子座標：*遺伝子*、リガンド:*個体、染色体* ）\n",
    "2. スコア関数に基づき各結合構造のエネルギースコアを計算（**適応度の評価**）\n",
    "3. スコアの良い構造を適応しているとして**選択**(selection)\n",
    "4. 選択した構造の間で部分構造を入れ替える（**交差**(crossover)）\n",
    "5. さらに一定の確率で部分構造を変化させる（**突然変異**(mutation)）\n",
    "    （局所最適(local minimum)に収束するのを防いで、大局的最適(global minimum)に近づけるため？）\n",
    "6. 5.までで残った構造を新しい世代として、再度**2**.→**5**.のステップを行う\n",
    "7. 最大世代数 or 最大評価回数に達したところで反復計算を終了\n",
    "8. 最終世代の結合構造の中で、最安定エネルギーのものを最適解として出力\n",
    "\n",
    "\n",
    "生命科学の用語をアルゴリズムに用いるというのは面白いですね。これがミームというやつか・・・（ちがうか）\n"
   ]
  },
  {
   "cell_type": "markdown",
   "metadata": {},
   "source": [
    "## <b><u>2-3. スコア関数</b></u>\n",
    "\n",
    "探索方法の流れが把握できたので、エネルギーを計算するスコア関数について眺めてみます。先ほど省略しまししたが、CICSJの文献ではスコア関数として３種類が挙げられていました。（AutoDockのスコア関数は**1**に分類）\n",
    "\n",
    "1. <b><u>力場に基づいたスコア関数</b></u>（force-field-based scoring function）\n",
    "2. <b><u>経験的なスコア関数</b></u> (empirical scoring function)\n",
    "3. <b><u>統計に基づいたスコア関数</b></u>(knowledge-based scoring function)\n",
    "\n",
    "** 1.**はファンデルワールス(vdW)相互作用や静電相互作用といった**物理化学的な相互作用**の計算を積み上げて構成されており、比較的**構成が簡単**になる一方で、あまりにもモデル化されすぎているため**精度があまり高くない**という問題があるそうです。そこで、**1.**の関数に類似したものをもちいつつ、現実の実験データ（既知のタンパク質-リガンド結合自由エネルギー）を取り込んでパラメータをフィッティングさせた経験的なスコア関数 **2.**があり、こちらの方が**ΔGの再現性**が上がる傾向にあるそうです。**1.、2.**に対して、**3.**はさらに実験データに重みを置いており、**既知の結晶構造を統計的に処理**することで得た確率分布からスコア関数が作成されているそうです。\n",
    " \n",
    "雰囲気的には「1. → 2. → 3.」の順に「理論 → 実験」の比重が変化している感じです。[^4] \n",
    "\n",
    "では、AutoDockのスコア関数ではどのような物理化学的相互作用が考慮されているのか？  \n",
    "以下のような式となっているそうです。\n",
    "\n",
    "<b><u>ΔG = ΔE<sub>vdw</sub> + ΔE<sub>electrostatic</sub> + ΔE<sub>H-bond</sub> + ΔE<sub>desolvation</sub> + ΔS<sub>conf</sub></b></u>\n",
    "\n",
    "各項は以下に対応しているとのことです。\n",
    "\n",
    "* <b><u>ΔE<sub>vdw</sub></b></u> : ファンデルワールス相互作用 （Lennard-Jones (12,6) ポテンシャル）\n",
    "* <b><u>ΔE<sub>electrostatic</sub></b></u>: 静電相互作用 （距離依存性誘電率((Mehler, E.L. and Solmajer, T. \"Electrostatic effects in proteins: comparison of dielectric and charge models\" Protein Engineering 1991(4)903)) ）\n",
    "* <b><u>ΔE<sub>H-bond</sub></b></u> : 水素結合による相互作用 (Lennard-Jones (12,10) ポテンシャル/ Goodford directionality)\n",
    "* <b><u>ΔE<sub>desolvation</sub></b></u> : 脱溶媒効果\n",
    "* <b><u>ΔS<sub>conf</sub></b></u> : リガンドのエントロピー変化の項\n",
    "\n",
    "\n",
    "上記のうち、最初の３つの項は物理化学的項目としてよく見かけるものですが、最後の２つドッキングならではという気もします。  \n",
    "リガンドがタンパク質に結合するにあたって、溶媒（水）に囲まれた環境から、溶媒が外れ（脱溶媒）タンパク質の結合サイト（より疎水性の高い環境）に移行するという過程をたどると考えます。この時のエネルギー変化を考慮するためのものが<b><u>ΔE<sub>desolvation</sub></b></u>です。また、溶液中では自由な立体構造（配座、コンフォメーション）をとっているリガンドですが、結合に際してがポケットに合うように固定化されこの自由度が失われます。この分のエントロピー変化を考慮するものが<b><u>ΔS<sub>conf</sub></b></u> となっているようです。  \n",
    "\n",
    "このあたり字面を追ってもよくわからなかったのですが、ワシントン大学 Jay Ponder Labの講義資料[Tutorial & Introduction to AutoDock](https://dasher.wustl.edu/chem478/lectures/lecture-21.pdf)でなんとなくイメージができました。 [^5] \n",
    "\n",
    "AutoDock vinaはAutoDockの改良版、とのことなのでスコア関数も変わっているかもしれませんが基本的には同じだと思います。（調べてなくてすみません・・・）\n",
    "\n",
    "ぼんやりとドッキングの仕組みがわかってきたので実際の作業に移りましょう。"
   ]
  },
  {
   "cell_type": "markdown",
   "metadata": {},
   "source": [
    "# <b><u>3. ドッキング実施</b></u>\n",
    "## <b><u>3-1. AutoDock vina の処理流れ</b></u>\n",
    "\n",
    "計算化学.com [ドッキングシミュレーションのやり方(AutoDock vina）](https://computational-chemistry.com/top/blog/2017/04/26/autodock-vina/)　にはAutoDock Vinaに必要なファイルとして「**タンパクの可動部位**」「**タンパクの非可動部位**」「**リガンド**」の３つの「**PDBQTファイル**」と、「inputファイル」の４つが必要と記載されていました。\n",
    "\n",
    "PDBQTファイルはpdbファイルと異なり、原子の座標に加えて**部分電荷**(parital charge)と**AutoDockのアトムタイプ**を含むファイル形式となっているそうです。[^6] より具体的にはPDBファイルに**水素原子の負荷**、**部分電荷（ex. Gastiger部分電荷）**の情報を付加してやれば良い、ということのようです。\n",
    "\n",
    "上記に従ってタンパク質とリガンドのファイルを用意し、以下の流れでドッキングを行います。\n",
    "\n",
    "* <b><u>step 1.</b></u> Grid Box（ドッキングシミュレーションを行う探索範囲）の作成\n",
    "    タンパク質の結合ポケットを範囲として指定します  \n",
    "    （Boxの中心座標 + Boxのサイズ情報）\n",
    "* <b><u>step 2.</b></u>ドッキングを実施\n",
    "* <b><u>step 3.</b></u>結合親和性（エネルギー）、結合構造を得る\n",
    "\n",
    "では、具体的にやっていきましょう。"
   ]
  },
  {
   "cell_type": "markdown",
   "metadata": {},
   "source": [
    "## <b><u>3-2. 使用するタンパク質の選択</b></u>\n",
    "\n",
    "実際にどのデータを使ってドッキングを行うか？  \n",
    "今回は共結晶構造があるのでこちらのタンパク質情報を使います。複数報告されていますが、このうち「PDBid: 5NIX」を用いたいと思います。理由は**第５章５節**で比較した際に、この複合体はリガンドが大きくため、タンパク質側の結合ポケットが広がっている可能性が高い、と考えられるからです。\n",
    "\n",
    "なぜポケットが大きい方が良いか？「タンパク質計算科学 基礎と創薬への応用」の記述を引用します。(p. 217) [^7] \n",
    "\n",
    "> ・・・注意すべきは、タンパク質-化合物ドッキングの精度は通常２Å以上の粗い精度であって、タンパク質と化合物の原子はたいていの場合、vdW衝突しているということである。・・・（中略）・・・したがって、vdWポテンシャルの衝突を減らすことが、ドッキングソフトの重要な技術となっている。\n",
    "\n",
    "なるほど！それならば最初から空間が大きいもの選んどいた方が良いよね、、、っていう浅い考えです。（この本、積読してないで早く読めばよかった・・・）"
   ]
  },
  {
   "cell_type": "markdown",
   "metadata": {},
   "source": [
    "## <b><u>3-3. Pymolでタンパク質を前処理</b></u>\n",
    "\n",
    "ドッキングに向けて「PDBid: 5NIX」の構造をPymolでちょっと処理しておきます。\n",
    "\n",
    "まず、この構造は４量体（Chain A、B、C、D）となっているので、簡便のためChain C、Dを削除しておきます。"
   ]
  },
  {
   "cell_type": "markdown",
   "metadata": {},
   "source": [
    "```\n",
    "PyMOL> remove (chain C,D)\n",
    " Remove: eliminated 2093 atoms in model \"5nix\".\n",
    "```"
   ]
  },
  {
   "cell_type": "markdown",
   "metadata": {},
   "source": [
    "ついでに水も除きます。"
   ]
  },
  {
   "cell_type": "markdown",
   "metadata": {},
   "source": [
    "```\n",
    "PyMOL>remove resn hoh\n",
    " Remove: eliminated 133 atoms in model \"5nix\".\n",
    "```"
   ]
  },
  {
   "cell_type": "markdown",
   "metadata": {},
   "source": [
    "remove solventでも良いらしいです。 [参考](https://gehrcke.de/2011/06/pymol-remove-hydrogens-and-water/)\n",
    "\n",
    "Sequenceを表示させて確認すると、EDO（エチレングリコール）というものもあったので、不要そうなので除去しておきます。"
   ]
  },
  {
   "cell_type": "markdown",
   "metadata": {},
   "source": [
    "```\n",
    "PyMOL>remove resn EDO\n",
    " Remove: eliminated 4 atoms in model \"5nix\".\n",
    "```"
   ]
  },
  {
   "cell_type": "markdown",
   "metadata": {},
   "source": [
    "以上の操作でだいぶスッキリした見た目になりました。\n",
    "\n",
    "<img src=\"./images/7-1_image1.png\">"
   ]
  },
  {
   "cell_type": "markdown",
   "metadata": {},
   "source": [
    "## <b><u>3-4. Grid Box設定のための座標確認</b></u>\n",
    "\n",
    "ドッキングの中心（作成するGridの中心）を決めるために、座標を取得します。\n",
    "今回はファーマコフォアスクリーニングを実施済みの化合物群をドッキングに使用予定のため、ファーマコフォア作成時に利用したリガンド原子部位の中心をGrid中心とします。"
   ]
  },
  {
   "cell_type": "markdown",
   "metadata": {},
   "source": [
    "```\n",
    "PyMOL>pseudoatom center, sele\n",
    " Warning: 'center' is a reserved keyword, appending underscore\n",
    " ObjMol: created center_/PSDO/P/PSD`1 /PS1\n",
    "```"
   ]
  },
  {
   "cell_type": "markdown",
   "metadata": {},
   "source": [
    "<img src=\"./images/7-1_image2.png\">\n",
    "\n",
    "安易にcenterという名前をつけたら怒られました・・・。このpeudoatomの座標は以下です。"
   ]
  },
  {
   "cell_type": "markdown",
   "metadata": {},
   "source": [
    "```\n",
    "PyMOL>xyz = cmd.get_coords('center_', 1)\n",
    "PyMOL>print xyz\n",
    "[[ -5.486217  11.170054 -24.066675]]\n",
    "```"
   ]
  },
  {
   "cell_type": "markdown",
   "metadata": {},
   "source": [
    "全体を**5nix_model.pdb**、タンパク質のみ（Chain A,B）を**5nix_chainAB.pdb**、リガンドのみをmol2形式**5nix_lig.mol2**としてそれぞれ出力しておきました。"
   ]
  },
  {
   "cell_type": "markdown",
   "metadata": {},
   "source": [
    "## <b><u>3-5. テストドッキング</b></u>\n",
    "\n",
    "PDBの共結晶構造から、余分なものを除いたタンパク質のみのPDBファイルと、リガンドのみのmol2ファイルが用意できたのでこれらを用いてドッキングの流れを確認してみます。\n",
    "\n",
    "参考にしていたページでは準備にAutoDock Tools（MGL Tools）を使うとのことでしたが、私のMac上ではエラーが出てうまく動かなかったので、代わりに**UCSF Chimera**のpluginとしてAutoDock vinaを使用します。（Chimeraはアカデミックフリーですが商用利用はライセンスが必要だそうです）[^8] "
   ]
  },
  {
   "cell_type": "markdown",
   "metadata": {},
   "source": [
    "### <b><u>3-5-1. タンパク質/リガンドの前処理</b></u>\n",
    "\n",
    "AutoDock vinaに合わせて、先に用意したタンパク質PDBファイルを処理します。  \n",
    "ChimeraでPDBファイルを読み込んだのち、Tools の Surface/Binding Analysis から DockPrep　を選択すると新しい画面が開きます。\n",
    "\n",
    "<img src=\"./images/7-1_image3.png\">\n",
    "\n",
    "この画面の指示に従って、  \n",
    "\n",
    "* 溶媒の除去 (Delete Solvent)\n",
    "* 水素原子の付加 (Add hydrogens)\n",
    "* 電荷の付加 (Add charges)\n",
    "\n",
    "といった必要な処理を選択し、Mol2ファイルで書き出します。\n",
    "\n",
    "<img src=\"./images/7-1_image4.png\">\n",
    "\n",
    "リガンドのファイルも同様に水素原子と電荷の付加の処理をしました。カルボキシル基には水素原子が付加されておらず、アミノ基には付加されているので、それぞれ負電荷、正電荷を帯びるように処理されているようです。（下図、黄色丸部位）\n",
    "\n",
    "<img src=\"./images/7-1_image5.png\">"
   ]
  },
  {
   "cell_type": "markdown",
   "metadata": {},
   "source": [
    "### <b><u>3-5-2. ドッキングのジョブを投げる準備</b></u>\n",
    "\n",
    "一度「close session」した後、処理したタンパク質とリガンドのmol2ファイルを読み込みます。  \n",
    "Tools の Surface/Binding Analysis から AutoDock Vinaを選択し、開くサブ画面に設定を書き込んでいきます。\n",
    "\n",
    "<img src=\"./images/7-1_image6.png\">\n",
    "\n",
    "上の図で行なっている設定は、\n",
    "\n",
    "* output fileの名前（今回は**5nix_redock**とした）をつける\n",
    "* タンパク質（receptor）とリガンドを指定  \n",
    "    (mol2ファイルを読み込んでいるのに名前は処理前のもので表示された・・・？）\n",
    "* Gridの指定\n",
    "* AutoDock vinaを行う場所の設定（web？ or local？）\n",
    "\n",
    "Gridの設定は、「Receptor search volume options」の部分で行なっており、Grid中心（Center）を先にpymolで確認した座標を参考に設定、Grid Boxの大きさを size x:20 y:20 z:20としてます。リガンドがBoxからはみ出していたのでGrid中心を少しX軸方向にcenterの座標の位置をずらし、微調整をしてあります（x:-7, y:11, z:-24）。\n",
    "\n",
    "AutoDock vinaを実行する場所はpublic web serviceか、あるいはlocalを選択できます。今回はlocalで実施するためvinaを入れたpathを指定します。\n",
    "\n",
    "以上で準備完了、あとは実行のみ"
   ]
  },
  {
   "cell_type": "markdown",
   "metadata": {},
   "source": [
    "### <b><u>3-5-3. ドッキングの実行と結果</b></u>\n",
    "\n",
    "実行・・・Macが発熱します。\n",
    "\n",
    "結果・・・ ４つの構造が残ったようです。\n",
    "\n",
    "|mode |  affinity <br>(kcal/mol) | RMSD l.b.| RMSD u.b.|\n",
    "|:---:|:---:|:---:|:---:|\n",
    "|1| -11.5|0.000|0.000|\n",
    "|2| -11.5|1.155|1.585|\n",
    "|3| -11.1|1.280|1.927|\n",
    "|4| -10.8|3.173|6.337|\n",
    "\n",
    "pdbqtファイルがいくつか出力されているのでpymolで構造を眺めてみます。\n",
    "pymolで出力**5nix_redock.pdbqt**を読み込むと4つの構造を**state**として含む状態で読み込まれます。少しみづらいので「Action → state → split」とすることで一つずつに分けます。\n",
    "\n",
    "共結晶構造中のリガンド（赤色）とともにそれぞれ描画してみます。\n",
    "\n",
    "<img src=\"./images/7-1_image7.png\">\n",
    "\n",
    "エネルギー的に近いmode 1、2、3に対してmode　4ではかなり結合ポーズが変化しています。ちょうどファーマコフォアには含めなかったベンジル側鎖がフリップしたような構造となっています。より安定なmode 1、2 はほぼ元々のリガンドに重なっており、今回の結果ではかなり再現性の良い結果となった、と言えそうです。\n",
    "（初期構造もグリッドも共結晶構造をもとに設定しているので当然？かもしれませんが。。。）\n",
    "\n",
    "スコアに関してですが、香川大学のページの記載（Autodock4の場合）によると、\n",
    "\n",
    ">  クラスターの平均エネルギーの差が約2.5 kcal/mol以下の場合，AutoDock force fieldの標準偏差以内であり，エネルギーからどちらが「正しい」かをいうことは出来ない\n",
    "\n",
    "とのことだそうです。今回この標準偏差よりも安定化しているので、良い結合ポーズ・・・ということで良いのでしょうか？再度「タンパク質計算科学 基礎と創薬への応用」の記述を引用します。(p. 225)\n",
    "\n",
    "> ・・・通常、ΔGの再現は悪く、2.5~3kcal/mol程度の精度が出ればいいほうであるが、ヒット化合物のΔGは4~8kcal/mol程度、最適化された医薬品で10kcal/mol程度なので、ΔGの計算のみでヒット・リード化合物の活性地を評価するのは困難である。・・・\n",
    "\n",
    "初版が10年ほど前の書籍なので、現在のソフトウェアの精度はこの時よりも上がっていると思われますが、AutoDock vinaの報告が J.Comp.Chem. 2010(31)455、なので今回の目安としては有効なのではないかと思います。"
   ]
  },
  {
   "cell_type": "markdown",
   "metadata": {},
   "source": [
    "# <b><u>4. SBVSにむけたスクリーニング化合物の準備</b></u>\n",
    "\n",
    "テスト構造での検証、手順の流れがわかってきましたのでようやく本題のスクリーニングに移りたいと思います。\n",
    "スクリーニング対象化合物としては、とりあえずLBVSのスコアTop 50としたいと思います。（私のPCの性能的にこれくらいが限界、、、）"
   ]
  },
  {
   "cell_type": "markdown",
   "metadata": {},
   "source": [
    "## <b><u>4-1. ファーマコフォアを利用したコンフォマーの発生</b></u>\n",
    "\n",
    "まずはリガンドの立体構造が必要なので初期構造を準備します。折角なのでRDKitを利用して、これまでのスクリーニングの結果を応用したいと思います。\n",
    "\n",
    "手元にあるスクリーニング対象化合物は、活性化合物群に対する類似性をベースにスコアリングを実施したものです。したがって、共結晶構造中のリガンドとある程度の類似性があると思われます。そこで、安定かつ共結晶構造中のリガンドにできるだけ近い配座を用意したいと思います。\n",
    "\n",
    "具体的には\n",
    "\n",
    "* <b><u>step 1.  </b></u>ファーマコフォアをembed\n",
    "* <b><u>step 2. </b></u>ETKDGでembedした構造を最適化\n",
    "* <b><u>step 3. </b></u>一つの化合物に複数embedできた場合、Feature-mapで最も共結晶のリガンドに近い構造を代表として選出する。\n",
    "\n",
    "という流れです。\n",
    "\n",
    "まずはLBVSのスコアを付与したSDFを読み込み、スコアでソートしてTop50化合物を取り出しました。そしてファーマコフォアの設定には、以前ファーマコフォアサーチで用いたものと同じ値を使用し、設定を行いました。この辺りの作業は繰り返しなので省略します。\n",
    "\n",
    "前回との違いは、このファーマコフォアサーチの関数においてさらに立体構造の最適化のステップを加えることです。以前ファーマコフォアサーチに使った関数はembedできた数のみを返すようにしていましたが、これをconfomerのリストを返すように書き換えます。また、この関数では不斉の情報を取り除いていますが、幸い（？）今回の化合物リストに不斉の情報はなさそうなのでそのまま進めます。"
   ]
  },
  {
   "cell_type": "markdown",
   "metadata": {},
   "source": [
    "```python\n",
    "def PConfs(mol):\n",
    "    #立体の情報を除去\n",
    "    smi = Chem.MolToSmiles(mol, isomericSmiles=False)\n",
    "    mol_re = Chem.MolFromSmiles(smi)\n",
    "    AllChem.Compute2DCoords(mol_re)\n",
    "    \n",
    "    #フィーチャーをそもそも持っているか？\n",
    "    match, mList = EmbedLib.MatchPharmacophoreToMol(mol_re, Ffactory, pcophore)\n",
    "    \n",
    "    if match == True:\n",
    "        #距離の検証\n",
    "        #距離行列の取得\n",
    "        bounds = rdDistGeom.GetMoleculeBoundsMatrix(mol_re)\n",
    "\n",
    "        #ファーマコフォアのマッチング \n",
    "        pList = EmbedLib.GetAllPharmacophoreMatches(mList,bounds,pcophore) \n",
    "        \n",
    "        #pListのそれぞれについてFeatureとマッチする原子のidを取得する\n",
    "        num_match = len(pList)\n",
    "        phMatches = []\n",
    "        for i in range(num_match): \n",
    "            num_feature = len(pList[i])\n",
    "            \n",
    "            phMatch = []\n",
    "            \n",
    "            for j in range(num_feature):\n",
    "                phMatch.append(pList[i][j].GetAtomIds())\n",
    "                \n",
    "            phMatches.append(phMatch)\n",
    "        \n",
    "        #原子のidとファーマコフォアをもとに3次元構造を埋め込む    \n",
    "        confs = []\n",
    "\n",
    "        for phMatch in phMatches:\n",
    "            bm,embeds,nFail =EmbedLib.EmbedPharmacophore(mol_re, phMatch, pcophore,count=5, silent=1)\n",
    "            for embed in embeds:\n",
    "                #水素原子を付加\n",
    "                embedH = AllChem.AddHs(embed)\n",
    "                #構造最適化\n",
    "                AllChem.EmbedMolecule(embedH, AllChem.ETKDG())\n",
    "                \n",
    "                #元々の分子のプロパティを追加する作業\n",
    "                PropNames = list(mol.GetPropNames())\n",
    "                prop_dict = {}\n",
    "                #プロパティの値を取り出し\n",
    "                for n in PropNames:\n",
    "                    vl = mol.GetProp(n)\n",
    "                    prop_dict[n] = vl\n",
    "                #confomerに付与\n",
    "                for k, v in prop_dict.items():\n",
    "                    embedH.SetProp(k, v)\n",
    "                \n",
    "                #リストに追加\n",
    "                confs.append(embedH)         \n",
    "        return confs            \n",
    "    else:\n",
    "        return 0\n",
    "```"
   ]
  },
  {
   "cell_type": "markdown",
   "metadata": {},
   "source": [
    "スクリーニングに用いる50個の化合物の一番最初の分子を取り出し、関数の挙動を確認します。"
   ]
  },
  {
   "cell_type": "markdown",
   "metadata": {},
   "source": [
    "```python\n",
    "test_m = top50_mols[0]\n",
    "test_confs = PConfs(test_m)\n",
    "len(test_confs)\n",
    "# 4 \n",
    "```"
   ]
  },
  {
   "cell_type": "markdown",
   "metadata": {},
   "source": [
    "コンフォマーが４つ生成されました。py3Dmolを使った３Dの描画結果を以下に貼っておきます。\n",
    "\n",
    "<img src=\"./images/7-1_image8.png\">"
   ]
  },
  {
   "cell_type": "markdown",
   "metadata": {},
   "source": [
    "## <b><u>4-2. Feature Mapによるコンフォマーの選別</b></u>\n",
    "\n",
    "次に、得られたconfomerの中から共結晶中のリガンドコンフォマーに最も類似したものをFeature Mapを使って選択します。RDKitのブログ記事 [Using Feature Maps](http://rdkit.blogspot.com/2017/11/using-feature-maps.html)を参考にしました。元の文献を読めていないので理解できていないのですが、複数のコンフォマーの中から良いものを選ぶことができそうな感じです。また、比較対象のリガンドとして、ファーマコフォアを満たすのに必要最小限の構造をもつように見える、「PDBid:5N2F」のリガンド（8HW）を選択しました。\n",
    "\n",
    "RDKitのブログ記事をそのまま関数にしていきます。"
   ]
  },
  {
   "cell_type": "markdown",
   "metadata": {},
   "source": [
    "```python\n",
    "from rdkit.Chem.FeatMaps import FeatMaps\n",
    "from rdkit.Chem import rdMolAlign\n",
    "\n",
    "def FeatMapScorer(mol, tmp):\n",
    "    #比較対象(tmp)との間でアラインメントをとる\n",
    "    o3d = rdMolAlign.GetO3A(mol,tmp)\n",
    "    o3d.Align()\n",
    "    \n",
    "    #feature mapのパラメーターの辞書を作成（デフォルトの値を使用）\n",
    "    fmParams = {}\n",
    "    for k in Ffactory.GetFeatureFamilies():\n",
    "        fparams = FeatMaps.FeatMapParams()\n",
    "        fmParams[k] = fparams\n",
    "    \n",
    "    #featureのうちより一般的なものだけを残すための設定\n",
    "    keep = ('Donor','Acceptor','NegIonizable','PosIonizable','Aromatic')\n",
    "    featLists = []\n",
    "    for m in [mol, tmp]:\n",
    "        #featureをまず全部取得\n",
    "        rawFeats = fdef.GetFeaturesForMol(m)\n",
    "        #keepにある欲しいものだけリストに追加 \n",
    "        featLists.append([f for f in rawFeats if f.GetFamily() in keep])\n",
    "    \n",
    "    #FeatMap オブジェクトを作成\n",
    "    fms = [FeatMaps.FeatMap(feats=x, weights=[1]*len(x), params=fmParams) for x in featLists]\n",
    "    \n",
    "    #feature mapに対するスコアを取得\n",
    "    score = fms[0].ScoreFeats(featLists[1]) / min(fms[0].GetNumFeatures(), len(featLists[1]))\n",
    "    \n",
    "    #scoreを返す\n",
    "    return score\n",
    "```"
   ]
  },
  {
   "cell_type": "markdown",
   "metadata": {},
   "source": [
    "先のテスト化合物で得た４つのコンフォマーについて、Feat Mapのスコアを求めてみます。"
   ]
  },
  {
   "cell_type": "markdown",
   "metadata": {},
   "source": [
    "```python\n",
    "test_scores = []\n",
    "\n",
    "for conf in test_confs:\n",
    "    score = FeatMapScorer(conf, temp_8HW)\n",
    "    test_scores.append(score)\n",
    "\n",
    "print(test_scores)\n",
    "#[0.25512226843031627, 0.17970526398716216, 0.05047724449395227, 0.025276456816820638]\n",
    "```"
   ]
  },
  {
   "cell_type": "markdown",
   "metadata": {},
   "source": [
    "スコアが最大となるコンフォマーのみを取り出したいので、numpyのargmaxを利用します。"
   ]
  },
  {
   "cell_type": "markdown",
   "metadata": {},
   "source": [
    "```python\n",
    "import numpy as np\n",
    "\n",
    "test_score_array = np.array(test_scores)\n",
    "test_best_conf_index = np.argmax(test_score_array)\n",
    "test_best_conf = test_confs[test_best_conf_index]\n",
    "```"
   ]
  },
  {
   "cell_type": "markdown",
   "metadata": {},
   "source": [
    "上記**test_best_conf**を描画し、無事立体構造が選別できていることが確認できたので、本番、50個の化合物群全てに適用します。"
   ]
  },
  {
   "cell_type": "markdown",
   "metadata": {},
   "source": [
    "```python\n",
    "Top50_3D_list = []\n",
    "\n",
    "for mol in top50_mols:\n",
    "    confs = PConfs(mol)\n",
    "    \n",
    "    FMapScores = []\n",
    "    \n",
    "    for conf in confs:\n",
    "        score = FeatMapScorer(conf, temp_8HW)\n",
    "        FMapScores.append(score)\n",
    "    \n",
    "    ScoreArray = np.array(FMapScores)\n",
    "    BestConfIndex = np.argmax(ScoreArray)\n",
    "    BestConf = confs[BestConfIndex]\n",
    "    \n",
    "    Top50_3D_list.append(BestConf)\n",
    "```"
   ]
  },
  {
   "cell_type": "markdown",
   "metadata": {},
   "source": [
    "**Top50_3D.sdf**として書き出しておきました。"
   ]
  },
  {
   "cell_type": "markdown",
   "metadata": {},
   "source": [
    "## <b><u>4-3. PyMolでコンフォマーを眺める</b></u>\n",
    "\n",
    "本当にテンプレート構造に対して重なりの良いコンフォマーが選ばれているのか、PyMolで確認してみます。\n",
    "テンプレートにした元のリガンド（8HW）と、生成した50化合物のコンフォマーを含むSDFをPyMolで読み込みます。複数の化合物を含むSDFは、1つの化合物を1つの**state**とするファイルとして読み込まれているようです。右下再生ボタンを押すと、順番に各**state**を表示するムービとして眺めることができました。\n",
    "\n",
    "<img src=\"./images/7-1_gif1.gif\">\n",
    "\n",
    "いくつかははみ出しているように見えますが、全体的に良い重なりとなっているように見えます。\n",
    "\n",
    "試しにタンパク質も同時に表示させて、違う角度から眺めてみます。\n",
    "\n",
    "<img src=\"./images/7-1_gif2.gif\">\n",
    "\n",
    "アミノ酸残基の側鎖を表示させていない状態でも、化合物がタンパク質にぶつかっている（重なっている）様子が見て取れます。やはりリガンドのコンフォマーに似せるだけでは、最良なポーズ、とは行かないようです。AutoDock Vinaによるドッキングは、この化合物たちの中から上手く結合ポケットに収まるようなポーズを見つけることができるでしょうか？"
   ]
  },
  {
   "cell_type": "markdown",
   "metadata": {},
   "source": [
    "# <b><u>5. AutoDock vinaとODDTでSBVS</b></u>\n",
    "\n",
    "スクリーニング対象化合物群の３次元構造の生成が完了したので、これを用いてPD-L1に対するSBVSを実施したいと思います。  \n",
    "・・・しかし一つ一つChimeraで実行するのは大変。。。コマンドもイマイチ理解できないし・・・  \n",
    "と思っていたところ、またしても便利なソフトウェアがありました。その名も**Open Drug Dicovery Toolkit**!!（略称 ODDT）。さまざまなオープンソースのケモインフォマティクスのツールがあって便利になったものの、それぞれのinput、outputが異なっていて面倒、、、という問題を解決するため、一つのパッケージに統合してもっと便利にしていきましょう！という趣旨のようです。\n",
    "\n",
    "元の文献は[こちら](https://jcheminf.biomedcentral.com/articles/10.1186/s13321-015-0078-2)。 [^10] ドキュメントも充実しています（[リンク](https://oddt.readthedocs.io/en/latest/index.html?highlight=InteractionFingerprint)）。こちらの記事でも使用方法が紹介されていました（[Open drug discovery toolkit for python](https://iwatobipen.wordpress.com/2017/06/04/open-drug-discovery-toolkit-for-python/)）。\n",
    "\n",
    "早速使っていきましょう。"
   ]
  },
  {
   "cell_type": "markdown",
   "metadata": {},
   "source": [
    "## <b><u>5-1. ODDTでchimeraでの操作を追試</b></u>\n",
    "\n",
    "いきなりスクリーニング本番を行なって失敗するとショックなので、まずは先にUCSF chimeraで行なったテストドッキングと同じことができるか、練習してみましょう。\n",
    "\n",
    "まずはODDTをimport..."
   ]
  },
  {
   "cell_type": "markdown",
   "metadata": {},
   "source": [
    "```python\n",
    "import oddt\n",
    "from oddt import toolkit\n",
    "```"
   ]
  },
  {
   "cell_type": "markdown",
   "metadata": {},
   "source": [
    "ドッキングに使用する相手のタンパク質のpdbファイル（先にchimeraで読み込んだものと同じもの）を読み込みます。"
   ]
  },
  {
   "cell_type": "markdown",
   "metadata": {},
   "source": [
    "```python\n",
    "protein = next(oddt.toolkit.readfile('pdb', './5nix_docking/5nix_chainAB.pdb'))\n",
    "protein.protein = True\n",
    "```"
   ]
  },
  {
   "cell_type": "markdown",
   "metadata": {},
   "source": [
    "うまく読み込め、タンパク質であると認識してくれているようです。使い方はヘルプでも参照可能です。"
   ]
  },
  {
   "cell_type": "markdown",
   "metadata": {},
   "source": [
    "```python\n",
    "help(oddt.toolkit.readfile)\n",
    "\"\"\"\n",
    " Help on function readfile in module oddt.toolkits.ob:\n",
    "readfile(format, filename, opt=None, lazy=False)\n",
    "\"\"\"\n",
    "```"
   ]
  },
  {
   "cell_type": "markdown",
   "metadata": {},
   "source": [
    "次にリガンド（テストドッキングでは共結晶構造のリガンド mol2ファイル）を読み込みます。"
   ]
  },
  {
   "cell_type": "markdown",
   "metadata": {},
   "source": [
    "```python\n",
    "ligand = next(oddt.toolkit.readfile('mol2', './5nix_docking/5nix_lig.mol2'))\n",
    "```"
   ]
  },
  {
   "cell_type": "markdown",
   "metadata": {},
   "source": [
    "Autodock vinaを使うためモジュールを読み込みます。"
   ]
  },
  {
   "cell_type": "markdown",
   "metadata": {},
   "source": [
    "```python\n",
    "from oddt.docking import AutodockVina\n",
    "```"
   ]
  },
  {
   "cell_type": "markdown",
   "metadata": {},
   "source": [
    "**AutodockVina.autodock_vina()**で、ドッキングパラメータを指定します。引数はそれぞれ、\n",
    "\n",
    "* protein : ドッキングに使うタンパク質\n",
    "* size : Grid Boxのサイズ、前回同様に (x, y, z) = (20, 20, 20)\n",
    "* center : Grid Boxの中心、前回と同じ座標 (x, y, z) = (-7, 11, -24)\n",
    "* exhaustiveness、num_modes、energy_range: すべてchimeraのAutodockVina pluginと同様\n",
    "* executable: AutodockVinaのlocalのpathを指定\n",
    "　（相対pathの深さから、私のファイル管理がグチャグチャなことがバレますね・・・）\n",
    " \n",
    "という感じです。"
   ]
  },
  {
   "cell_type": "markdown",
   "metadata": {},
   "source": [
    "```python\n",
    "test_docking = AutodockVina.autodock_vina(protein=protein, size=(20, 20,20), center=(-7, 11, -24),\n",
    "                                         exhaustiveness=8, num_modes=9, energy_range=3, n_cpu=3,\n",
    "                                         executable='../../../../autodock_vina_1_1_2_mac/bin/vina')\n",
    "```"
   ]
  },
  {
   "cell_type": "markdown",
   "metadata": {},
   "source": [
    "パラメータを設定してインスタンス（？）ができたら、**dock()**でドッキングを実行です。引数にligandを指定してやります。"
   ]
  },
  {
   "cell_type": "markdown",
   "metadata": {},
   "source": [
    "```python\n",
    "dockin_reslut = test_docking.dock(ligand)\n",
    "```"
   ]
  },
  {
   "cell_type": "markdown",
   "metadata": {},
   "source": [
    "4,5分で計算終了しました（chimeraの時と同じくらい）。水素の付加や部分電荷の付加といった作業を行なっていませんが、勝手にそのあたりの前処理もしてくれるみたいです。"
   ]
  },
  {
   "cell_type": "markdown",
   "metadata": {},
   "source": [
    "```python\n",
    "len(dockin_reslut)\n",
    "# 4\n",
    "```"
   ]
  },
  {
   "cell_type": "markdown",
   "metadata": {},
   "source": [
    "生成された結合ポーズは４つ。リガンドの構造のリストとなっており、それぞれの構造に結合エネルギーなどの情報が付与されているようです。ODDTのドキュメントに従って情報を抜き出してみます。"
   ]
  },
  {
   "cell_type": "markdown",
   "metadata": {},
   "source": [
    "```python\n",
    "type(dockin_reslut)\n",
    "# list\n",
    "dockin_reslut[0].data.keys()\n",
    "\"\"\"\n",
    "['vina_affinity',\n",
    " 'vina_rmsd_lb',\n",
    " 'vina_rmsd_ub',\n",
    " 'vina_rmsd_input',\n",
    " 'vina_rmsd_input_min']\n",
    "\"\"\"\n",
    "```"
   ]
  },
  {
   "cell_type": "markdown",
   "metadata": {},
   "source": [
    "親和性やrmsdといった情報があるようです。一つエネルギーを確認してみます。"
   ]
  },
  {
   "cell_type": "markdown",
   "metadata": {},
   "source": [
    "```python\n",
    "dockin_reslut[0].data['vina_affinity']\n",
    "# '-11.4'\n",
    "```"
   ]
  },
  {
   "cell_type": "markdown",
   "metadata": {},
   "source": [
    "Chimeraで計算した時の最小値（最安定）と同じ値となっていそうです。  \n",
    "4つの結果をPandasToolsのデータフレームで読み込むと以下のようになります。\n",
    "\n",
    "<img src=\"./images/7-1_image9.png\">\n",
    "\n",
    "残りの３つのエネルギーはChimeraの時と異なるようですが、おそらく初期構造をランダムで発生させているため、初期構造に依存して異なる結果が出ているのだと思います。\n",
    "\n",
    "ODDTは使用方法がpybel(OpenBabel?)に近い書き方となっているそうです（使ったことがないのでわかりません・・・）。ドッキングの結果で得られるリガンドのタイプを確認してみます。"
   ]
  },
  {
   "cell_type": "markdown",
   "metadata": {},
   "source": [
    "```python\n",
    "type(dockin_reslut[0])\n",
    "#oddt.toolkits.ob.Molecule\n",
    "```"
   ]
  },
  {
   "cell_type": "markdown",
   "metadata": {},
   "source": [
    "この**ob**は**OpenBanel**の略のようです。\n",
    "\n",
    "SDFに書き出してみます。RDKitと少し異なり、**Outputfile()**を用意し、構造を一つずつforループで回して**write()**していきます。"
   ]
  },
  {
   "cell_type": "markdown",
   "metadata": {},
   "source": [
    "```python\n",
    "TestSDFile = oddt.toolkit.Outputfile('sdf', 'ODDT_docktest.sdf')\n",
    "for mol in dockin_reslut:\n",
    "    TestSDFile.write(mol)\n",
    "TestSDFile.close()\n",
    "```"
   ]
  },
  {
   "cell_type": "markdown",
   "metadata": {},
   "source": [
    "一連の流れが確認でき、妥当な結果（近い結果）が得られていそうなので、実際のスクリーニングに進みます。"
   ]
  },
  {
   "cell_type": "markdown",
   "metadata": {},
   "source": [
    "## <b><u>5-2. ODDTでスクリーニング本番</b></u>\n",
    "\n",
    "以下を実施、、、"
   ]
  },
  {
   "cell_type": "markdown",
   "metadata": {},
   "source": [
    "```python\n",
    "protein_5nix = next(oddt.toolkit.readfile('pdb', './5nix_docking/5nix_chainAB.pdb'))\n",
    "\n",
    "DockingParams = AutodockVina.autodock_vina(protein=protein_5nix, \n",
    "                                           size=(20, 20,20), center=(-7, 11, -24),\n",
    "                                           exhaustiveness=8, num_modes=9, energy_range=3,\n",
    "                                           n_cpu=4,\n",
    "                                           executable='../../../../autodock_vina_1_1_2_mac/bin/vina')\n",
    "\n",
    "Dock_resluts = []\n",
    "\n",
    "for mol in oddt.toolkit.readfile('sdf', './Top50_3D.sdf'):\n",
    "    dock_res = DockingParams.dock(mol)\n",
    "    Dock_resluts.append(dock_res)\n",
    "```"
   ]
  },
  {
   "cell_type": "markdown",
   "metadata": {},
   "source": [
    "3時間ほどMacが騒音を出した後、停止しました・・・"
   ]
  },
  {
   "cell_type": "markdown",
   "metadata": {},
   "source": [
    "```python\n",
    "len(Dock_resluts)\n",
    "# 50\n",
    "```"
   ]
  },
  {
   "cell_type": "markdown",
   "metadata": {},
   "source": [
    "50個全て終わってました。"
   ]
  },
  {
   "cell_type": "markdown",
   "metadata": {},
   "source": [
    "## <b><u>5-3. 全ドッキングポーズを出力・確認</b></u>\n",
    "\n",
    "全50個の化合物について、各化合物で生成されたドッキングポーズを全て格納したリストを作成します。"
   ]
  },
  {
   "cell_type": "markdown",
   "metadata": {},
   "source": [
    "```python\n",
    "All_Result = []\n",
    "\n",
    "for poses in Dock_resluts:\n",
    "    for pose in poses:\n",
    "        All_Result.append(pose)\n",
    "\n",
    "len(All_Result)\n",
    "# 449\n",
    "```"
   ]
  },
  {
   "cell_type": "markdown",
   "metadata": {},
   "source": [
    "449個のポーズが得られました。プロパティが保持されているかどうか確認してみます。"
   ]
  },
  {
   "cell_type": "markdown",
   "metadata": {},
   "source": [
    "```python\n",
    "# keyを確認\n",
    "Dock_resluts[0][0].data.keys()\n",
    "\"\"\"\n",
    "['ID',  'MW',  'MolLogP',  'NumHAcceptors',  'NumHDonors',  'NumRotatableBonds',  'PScore',  'PScore2', 'Similarity_Score', 'TPSA', 'original_id',  'vina_affinity', 'vina_rmsd_lb', 'vina_rmsd_ub', 'vina_rmsd_input', 'vina_rmsd_input_min']\n",
    "\"\"\"\n",
    "#valueを確認\n",
    "Dock_resluts[0][0].data.values()\n",
    "\"\"\"\n",
    "['', '457.48600000000027', '3.5305000000000017', '5', '2', '5', '10', '4', '20.832658', '96.970000000000013', 'Z18052460', '-8.0', '0.000', '0.000', '9.41251', '9.408608']\n",
    "\"\"\"\n",
    "```"
   ]
  },
  {
   "cell_type": "markdown",
   "metadata": {},
   "source": [
    "データはキチンと取れていそうなので、間違えて消してしまわないうちに書き出しておきます。一度sdfで書き出した後、RDKitで読み込めるかどうか確認してみます。"
   ]
  },
  {
   "cell_type": "markdown",
   "metadata": {},
   "source": [
    "```python\n",
    "#ODDTでSDF書き出し\n",
    "DockAllResultOutput = oddt.toolkit.Outputfile('sdf', 'ODDT_Dock_All_Result.sdf')\n",
    "for mol in All_Result:\n",
    "    DockAllResultOutput.write(mol)\n",
    "DockAllResultOutput.close()\n",
    "\n",
    "#RDKitのPandasToolsで読み込み\n",
    "All_Dock_df = PandasTools.LoadSDF('./ODDT_Dock_All_Result.sdf')\n",
    "\"\"\"\n",
    "RDKit ERROR: [22:07:38] Explicit valence for atom # 2 C, 5, is greater than permitted\n",
    "RDKit ERROR: [22:07:38] ERROR: Could not sanitize molecule ending on line 42625\n",
    "RDKit ERROR: [22:07:38] ERROR: Explicit valence for atom # 2 C, 5, is greater than permitted\n",
    "・・・以下エラーが続く\n",
    "\"\"\"\n",
    "```"
   ]
  },
  {
   "cell_type": "markdown",
   "metadata": {},
   "source": [
    "エラーがたくさんでました。試しにMarvin viewでひらいてみると、開くことができました。\n",
    "エラーが出た構造を確認してみるとヘテロ環（芳香族）の扱いにおいて結合次数の割り当てに失敗し、炭素に5つ結合が伸びている、といったような不具合が生じているようです。\n",
    "\n",
    "<img src=\"./images/7-1_image10.png\">\n",
    "\n",
    "テキストエディタでぽちぽちsdfの結合部分を修正し、再度読み込みます。"
   ]
  },
  {
   "cell_type": "markdown",
   "metadata": {},
   "source": [
    "```python\n",
    "All_Dock_df = PandasTools.LoadSDF('./ODDT_Dock_All_Result_mod.sdf')\n",
    "All_Dock_df.head()\n",
    "```"
   ]
  },
  {
   "cell_type": "markdown",
   "metadata": {},
   "source": [
    "<img src=\"./images/7-1_image11.png\">\n",
    "\n",
    "今度はエラーを出さずに読み込めました。\n",
    "\n",
    "SDFの書き出し、構造の確認が完了したので結果のドッキングポーズをpymolで眺めてみます。\n",
    "先と同様にタンパク質ともともとの共結晶構造中のリガンド、そしてドッキング結果のSDFを読み込み、ムービーを再生します。\n",
    "\n",
    "<img src=\"./images/7-1_gif3.gif\">\n",
    "\n",
    "おお！！バーチャルスクリーニング感あふれてる！！\n",
    "\n",
    "全結合ポーズの中では、結合ポケットの端（タンパク質と溶媒の境界近く）に位置するものも多く見られ、結合ポケット奥深く（共結晶構造リガンドと重なるような位置）まで入り込んでいるものは少ないように見えます。先にみた「タンパク質計算科学」のコメント通り、結合ポケット奥深くに入るポーズは、アミノ酸残基側鎖とのぶつかり合い(vdW相互作用)で弾かれてしまい、なかなか安定なポーズを見つけづらいのでしょうか？　あるいはただ単に探索空間である**Grid Box**の、座標位置、サイズの設定が良くなかったのかもしれません。"
   ]
  },
  {
   "cell_type": "markdown",
   "metadata": {},
   "source": [
    "## <b><u>5-4. 各化合物のベスト構造のみを出力・確認</b></u>\n",
    "\n",
    "つぎに、各化合物について、複数の結合ポーズの中で最安定のもののみを一つずつ取り出してみます。結合親和性(affinity)の値で取り出すと、値が重複した場合に取り出す構造にブレが生じるので、rmsd値が最小のものを取り出していきます。（AutoDockVinaの結果では最安定の結合ポーズと比較したrmsd値が計算されて出力されています。）"
   ]
  },
  {
   "cell_type": "markdown",
   "metadata": {},
   "source": [
    "```python\n",
    "Best_Mode_Result = []\n",
    "\n",
    "for poses in Dock_resluts:\n",
    "    rmsd_tmp = []\n",
    "    for pose in poses:\n",
    "        rmsd = pose.data['vina_rmsd_ub']\n",
    "        rmsd_tmp.append(rmsd)\n",
    "    rmsd_arr = np.array(rmsd_tmp)\n",
    "    best_idx = np.argmin(rmsd_arr)\n",
    "    best_pose = poses[best_idx]\n",
    "    Best_Mode_Result.append(best_pose)\n",
    "```"
   ]
  },
  {
   "cell_type": "markdown",
   "metadata": {},
   "source": [
    "こちらについても一度sdfで書き出した後、エラーの構造を修正して、RDKitで読み込みます。"
   ]
  },
  {
   "cell_type": "markdown",
   "metadata": {},
   "source": [
    "```python\n",
    "#ODDTでSDF出力\n",
    "DockBestModeResultOutput = oddt.toolkit.Outputfile('sdf', 'ODDT_Dock_BestMode_Result.sdf')\n",
    "for mol in Best_Mode_Result:\n",
    "    DockBestModeResultOutput.write(mol)\n",
    "DockBestModeResultOutput.close()\n",
    "\n",
    "# 構造を修正ののち、名前を変えてSDFを保存。RDKitで再度読み込み\n",
    "BM_df = PandasTools.LoadSDF('./ODDT_Dock_BestMode_Result_mod.sdf')\n",
    "BM_df['vina_affinity'] = BM_df['vina_affinity'].astype(float)\n",
    "```\n",
    "\n",
    "スコア順にソートして、ドッキングスコアの良い10個を取り出します。\n",
    "```python\n",
    "#スコア順にソート\n",
    "BM_df_st = BM_df.sort_values('vina_affinity', ascending=True)\n",
    "#Top10を抜き出す\n",
    "Dock_Top_10 = BM_df_st.iloc[:10]\n",
    "```"
   ]
  },
  {
   "cell_type": "markdown",
   "metadata": {},
   "source": [
    "これらドッキングスコア　ベスト10の化合物群についてもPyMolのムービーで眺めて見ましょう。\n",
    "\n",
    "<img src=\"./images/7-1_gif4.gif\">\n",
    "\n",
    "おお！なんだか思っていたよりも良い感じ！！\n",
    "\n",
    "スコアの良い結合ポーズでは、結合ポケットの奥深くまで化合物が入り込んでおり、反発を抑えつつ上手くタンパク質と相互作用ができていそうな雰囲気がただよっています。\n",
    "\n",
    "意外な点としては、複数の化合物でビフェニル部分構造が、元の共結晶構造の該当の部分構造とは重ならない形のポーズが、最もスコアが良い結合構造として選ばれていることです。これらでは**疎水性のビフェニル**が**親水性の溶媒接触面側**に位置してしまっているようにも見え、ビフェニル部分構造を基準に選んだことが結合親和性に対しては逆効果に働いてしまっているようにも思えます。部分構造の結合位置を指定してドッキングする、といった細かい設定を行っていけば、より元のリガンドに近いような結合ポーズを出せるのかもしれません。\n",
    "\n",
    "では、これらの化合物がどのような構造式のものなのか？　LBVSの時の類似性スコアとともに10個の化合物を描画してみます。"
   ]
  },
  {
   "cell_type": "markdown",
   "metadata": {},
   "source": [
    "```python\n",
    "SBVS_scores = list(BM_df_st['vina_affinity'][:10])\n",
    "LBVS_scores = list(BM_df_st['Similarity_Score'][:10])\n",
    "\n",
    "score_legends = []\n",
    "for s, l in zip(SBVS_scores, LBVS_scores):\n",
    "    score = 'SB: ' + str(s) + '/ LB: ' + str(round(float(l), 1))\n",
    "    score_legends.append(score)\n",
    "\n",
    "Draw.MolsToGridImage(BM_df_st['ROMol'][:10], legends=score_legends)\n",
    "```"
   ]
  },
  {
   "cell_type": "markdown",
   "metadata": {},
   "source": [
    "<img src=\"./images/7-1_image12.png\">\n",
    "\n",
    "リガンドベースで類似性のスコアのみで評価した時とは異なる分子が取り出されているようです。両者を並べてみます。\n",
    "\n",
    "<img src=\"./images/7-1_image13.png\">\n",
    "\n",
    "丸で囲った部分が今回のドッキング（SBVS）と前回のLBVSで共通して選ばれている構造でTop 10のうち、３つとなりました。類似性のみのLBVSとはまた異なった特徴を持つ化合物を選んでくることができているようです。"
   ]
  },
  {
   "cell_type": "markdown",
   "metadata": {},
   "source": [
    "# <b><u>6. まとめ</b></u>\n",
    "\n",
    "今回は、最後の難関ドッキングによるSBVSを行って見ました。色々とソフトウェアを行ったり来たりしてかなり見通しの悪い感じの記事になってしまいましたが、なんとか最終的にそれっぽい結果を出すことができました。\n",
    "\n",
    "LBVSで絞り込んだ50個から最終的に10個を選び、LBVSのスコアとは異なるTop 10化合物となりました。SBVSの特徴として、既知の活性化合物とは**構造的に異なるもの**を見つけ出す可能性がある、との記載がありましたので、その意味では異なる結果が出たことでドッキングをした甲斐があった！・・・と思いたい。\n",
    "\n",
    "（異なる構造が選びたければ先に部分構造や類似性で絞り込むのは順番的に良くないのでは？といった、つらいツッコミはご容赦いただければ幸いです。）\n",
    "\n",
    "得られた結合ポーズは、当初想定していたのとは異なる結合様式もあった、など、まだまだ調整・工夫の余地がたくさんありそうです。ほとんどデフォルトのコピー&ペーストですし。。。とはいえ、あまりに”ヒトの目”でみて出したいポーズを狙いすぎても折角ドッキングソフトを使っている意味が薄まってしまいますので、今回はこの結果で良し！！　\n",
    "\n",
    "ということで一通りそれっぽいことができたので満足。\n",
    "\n",
    "付け焼き刃で調べながら行なったので、間違い等多数あると思います。ご容赦、ご指摘いただければ幸いです。"
   ]
  },
  {
   "cell_type": "markdown",
   "metadata": {},
   "source": [
    "# 脚注\n",
    "\n",
    "[^1]:\n",
    "\n",
    "参考記事一覧:  \n",
    "1. 計算化学.com [ドッキングシミュレーションのやり方(AutoDock vina）](https://computational-chemistry.com/top/blog/2017/04/26/autodock-vina/)  \n",
    "2. 計算化学.com [AutoDock のスコアファンクションはどれくらい正確か？CASF-2013 ベンチマーク](https://computational-chemistry.com/top/blog/2018/07/27/autodock_benchmark/)  \n",
    "3. 香川大学　ケミカルバイオロジー研究室 [Docking simulation](http://www.ag.kagawa-u.ac.jp/charlesy/memo/docking-simulation/)  \n",
    "4. Slide Share [AutoDock_vina_japanese_ver.3.0](https://www.slideshare.net/BiophysicsOsaka/autodockvinajapanesever30) \n",
    "\n",
    "[^2]: AutoDock Vina: improving the speed and accuracy of docking with a new scoring function, efficient optimization and multithreading [Trott, O., and Olson, A.J., J. Comput. Chem. 2010(31)455](https://www.ncbi.nlm.nih.gov/pmc/articles/PMC3041641/)\n",
    "\n",
    "[^3]: 「GPU を用いたエネルギー計算の並列化による ドッキングシミュレーションの高速化」東京工業大学　佐々木 崇浩 宇田川 拓郎 関嶋 政和\n",
    " \n",
    "[^4]: タンパク質計算科学 基礎と創薬への応用　神谷成敏・肥後順一・福西快文・中村春樹　著　共立出版 2009年初版１刷の記述も参考にしています。\n",
    "\n",
    "[^5]: Jay Ponder [MOLECULAR MODELING](https://dasher.wustl.edu/chem478/) (Chemistry 478) Spring Term 2014  \n",
    "Lecture 20 [Small Molecular & Protein Docking](https://dasher.wustl.edu/chem478/lectures/lecture-20.pdf)  \n",
    "Lecture 21 [Tutorial & Introduction to AutoDock](https://dasher.wustl.edu/chem478/lectures/lecture-21.pdf)  \n",
    "あるいは  \n",
    "Marc A. Marti-Renom  / Structural Genomics Unit / Bioinformatics Department / Prince Felipe Resarch Center (CIPF)  \n",
    "[Docking of small molecules. AutoDock.](http://sgt.cnag.cat/www/presentations/files/slides/20081007_UBA.pdf)  \n",
    "などを参考にしました。\n",
    "\n",
    "[^6]: [What is the format of a PDBQT file?](http://autodock.scripps.edu/faqs-help/faq/what-is-the-format-of-a-pdbqt-file)\n",
    "\n",
    "[^7]: タンパク質計算科学 基礎と創薬への応用　神谷成敏・肥後順一・福西快文・中村春樹　著　共立出版 2009年初版１刷\n",
    "\n",
    "[^9]: Chimeraの使用にあたって以下のファイルを参考にしました。  \n",
    "* [複合体構造モデリング](http://www.iu.a.u-tokyo.ac.jp/lectures/AG07/140609/140609.pdf)  \n",
    "東京大学大学院農学生命科学研究科 アグリバイオインフォマティクス 教育研究プログラム  \n",
    "寺田 透  \n",
    "\n",
    "* Autodock tutorial [VINA with UCSF Chimera](http://www.free-bit.org/course/2014-SriLanka/pdf/034-chimera_vina.pdf)  \n",
    "José R. Valverde  \n",
    "CNB/CSIC\n",
    "\n",
    "[^10]:  Wójcikowski, M., Zielenkiewicz, P., and Siedlecki, P. Open Drug Discovery Toolkit (ODDT): a new open-source player in the drug discovery field Journal of Cheminformatics 2015(7)26"
   ]
  }
 ],
 "metadata": {
  "kernelspec": {
   "display_name": "Python 3",
   "language": "python",
   "name": "python3"
  },
  "language_info": {
   "codemirror_mode": {
    "name": "ipython",
    "version": 3
   },
   "file_extension": ".py",
   "mimetype": "text/x-python",
   "name": "python",
   "nbconvert_exporter": "python",
   "pygments_lexer": "ipython3",
   "version": "3.6.8"
  },
  "toc": {
   "base_numbering": 1,
   "nav_menu": {},
   "number_sections": true,
   "sideBar": true,
   "skip_h1_title": false,
   "title_cell": "Table of Contents",
   "title_sidebar": "Contents",
   "toc_cell": true,
   "toc_position": {},
   "toc_section_display": true,
   "toc_window_display": true
  }
 },
 "nbformat": 4,
 "nbformat_minor": 2
}
