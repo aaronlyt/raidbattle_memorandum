{
 "cells": [
  {
   "cell_type": "markdown",
   "metadata": {
    "toc": true
   },
   "source": [
    "<h1>Table of Contents<span class=\"tocSkip\"></span></h1>\n",
    "<div class=\"toc\"><ul class=\"toc-item\"><li><span><a href=\"#第４章２節：オルト位置換基で絞り込む話\" data-toc-modified-id=\"第４章２節：オルト位置換基で絞り込む話-1\"><span class=\"toc-item-num\">1&nbsp;&nbsp;</span>第４章２節：オルト位置換基で絞り込む話</a></span></li><li><span><a href=\"#オルト位置換基による絞り込み\" data-toc-modified-id=\"オルト位置換基による絞り込み-2\"><span class=\"toc-item-num\">2&nbsp;&nbsp;</span><u><b>オルト位置換基による絞り込み</b></u></a></span><ul class=\"toc-item\"><li><span><a href=\"#PandasToolsでSDFをよみこむ\" data-toc-modified-id=\"PandasToolsでSDFをよみこむ-2.1\"><span class=\"toc-item-num\">2.1&nbsp;&nbsp;</span><u><b>PandasToolsでSDFをよみこむ</b></u></a></span></li><li><span><a href=\"#Pandas上で部分構造検索\" data-toc-modified-id=\"Pandas上で部分構造検索-2.2\"><span class=\"toc-item-num\">2.2&nbsp;&nbsp;</span><u><b>Pandas上で部分構造検索</b></u></a></span></li></ul></li><li><span><a href=\"#オルト位の置換基の構造的意義\" data-toc-modified-id=\"オルト位の置換基の構造的意義-3\"><span class=\"toc-item-num\">3&nbsp;&nbsp;</span><u><b>オルト位の置換基の構造的意義</b></u></a></span><ul class=\"toc-item\"><li><span><a href=\"#3次元構造を眺める\" data-toc-modified-id=\"3次元構造を眺める-3.1\"><span class=\"toc-item-num\">3.1&nbsp;&nbsp;</span><u><b>3次元構造を眺める</b></u></a></span></li><li><span><a href=\"#アラインメントをとって重ねる\" data-toc-modified-id=\"アラインメントをとって重ねる-3.2\"><span class=\"toc-item-num\">3.2&nbsp;&nbsp;</span><u><b>アラインメントをとって重ねる</b></u></a></span></li><li><span><a href=\"#二面角を計算してみる\" data-toc-modified-id=\"二面角を計算してみる-3.3\"><span class=\"toc-item-num\">3.3&nbsp;&nbsp;</span><u><b>二面角を計算してみる</b></u></a></span></li><li><span><a href=\"#フィンガープリントではどう認識される？\" data-toc-modified-id=\"フィンガープリントではどう認識される？-3.4\"><span class=\"toc-item-num\">3.4&nbsp;&nbsp;</span><u><b>フィンガープリントではどう認識される？</b></u></a></span></li></ul></li><li><span><a href=\"#オルト位置換を創薬の話に繋げようとする\" data-toc-modified-id=\"オルト位置換を創薬の話に繋げようとする-4\"><span class=\"toc-item-num\">4&nbsp;&nbsp;</span><u><b>オルト位置換を創薬の話に繋げようとする</b></u></a></span><ul class=\"toc-item\"><li><span><a href=\"#Fasiglifam(TAK-875)の構造\" data-toc-modified-id=\"Fasiglifam(TAK-875)の構造-4.1\"><span class=\"toc-item-num\">4.1&nbsp;&nbsp;</span><u><b>Fasiglifam(TAK-875)の構造</b></u></a></span></li><li><span><a href=\"#受容体との共結晶構造-\" data-toc-modified-id=\"受容体との共結晶構造--4.2\"><span class=\"toc-item-num\">4.2&nbsp;&nbsp;</span><u><b>受容体との共結晶構造 </b></u></a></span></li></ul></li><li><span><a href=\"#まとめ\" data-toc-modified-id=\"まとめ-5\"><span class=\"toc-item-num\">5&nbsp;&nbsp;</span><u><b>まとめ</b></u></a></span></li><li><span><a href=\"#脚注\" data-toc-modified-id=\"脚注-6\"><span class=\"toc-item-num\">6&nbsp;&nbsp;</span>脚注</a></span></li></ul></div>"
   ]
  },
  {
   "cell_type": "markdown",
   "metadata": {},
   "source": [
    "# 第４章２節：オルト位置換基で絞り込む話"
   ]
  },
  {
   "cell_type": "markdown",
   "metadata": {},
   "source": [
    "前回の記事で、SMARTS記法の扱い方がなんとなくわかりました。本題にもどって、ライブラリを**オルト位に置換基の入ったビフェニル**で絞り込みたいと思います。\n",
    "\n",
    "その前に、現在残っている化合物数の確認です。\n",
    "\n",
    "\n",
    "||Enamine_Premium|Enamie_Advenced|Enamine_HTS|UOS_HTS|total|\n",
    "|:---:|:---:|:---:|:---:|:---:|:---:|\n",
    "|指標でのフィルタリング後|4060|37431|414562|106948|563001|\n",
    "|ビフェニル有|12|329|3182|697|4220 <br> (0.7%)|\n",
    "|ビフェニル無|4048|37102|411380|106251|558781 <br> (99.3%)|\n",
    "\n",
    "合計4000個程度残っています。このうちオルト位に置換基が入ったものはいくつあるでしょうか？"
   ]
  },
  {
   "cell_type": "markdown",
   "metadata": {},
   "source": [
    "# <u><b>オルト位置換基による絞り込み</b></u>\n",
    "\n",
    "## <u><b>PandasToolsでSDFをよみこむ</b></u>\n",
    "\n",
    "４種類のライブラリから抽出した、ビフェニルを部分構造として含む化合物のリストを連結（**extend()**を使った）し、SDFファイル「biphenyl_library.sdf」として保存しました。こちらをRDKitのPandasToolsをもちいてDataFrameでよみこみます。\n",
    "\n",
    "PandasToolsの使い方に関しては化学の新しいカタチさんの記事「[RDKitのPandasToolsでデータ分析を加速する](https://future-chem.com/rdkit-pandastools/)」を参考にさせていただきました。\n"
   ]
  },
  {
   "cell_type": "markdown",
   "metadata": {},
   "source": [
    "```python\n",
    "from rdkit import rdBase, Chem\n",
    "from rdkit.Chem import AllChem, Draw\n",
    "from rdkit.Chem import PandasTools\n",
    "import pandas as pd\n",
    "\n",
    "biphenyl_df = PandasTools.LoadSDF('./biphenyl_library.sdf')\n",
    "# 数を確認\n",
    "len(biphenyl_df)\n",
    "# 4220\n",
    "```"
   ]
  },
  {
   "cell_type": "markdown",
   "metadata": {},
   "source": [
    "こんな感じになりました。\n",
    "\n",
    "<img src=\"./images/4-2_image1.png\">\n"
   ]
  },
  {
   "cell_type": "markdown",
   "metadata": {},
   "source": [
    "## <u><b>Pandas上で部分構造検索</b></u>\n",
    "\n",
    "PandasToolsを使うと「** >=（ge比較演算子）**」で部分構造検索が行えるとのことですので試しに利用して見ます\n"
   ]
  },
  {
   "cell_type": "markdown",
   "metadata": {},
   "source": [
    "```python\n",
    "ortho_biphenyl= Chem.MolFromSmarts('c1ccc(c(*)c1)c1ccccc1')\n",
    "ortho_df = biphenyl_df[biphenyl_df['ROMol'] >= ortho_biphenyl]\n",
    "\n",
    "len(ortho_df)\n",
    "# 2353\n",
    "```"
   ]
  },
  {
   "cell_type": "markdown",
   "metadata": {},
   "source": [
    "オルト位に置換基を持つ化合物は約半数程度の2353個でした。\n",
    "\n",
    "一致検索後のDataFrameでは、Molオブジェクトを格納したカラムにおいて、一致した部分構造が赤色でハイライトされて表示されています。\n",
    "\n",
    "<img src=\"./images/4-2_image2.png\">\n",
    "\n",
    "忘れずにSDFに書き出しておきます。SDFに残すプロパティを指定するため、DataFrameのカラム名をリストとして取得します。\n"
   ]
  },
  {
   "cell_type": "markdown",
   "metadata": {},
   "source": [
    "```python\n",
    "property_names = list(biphenyl_df.columns)\n",
    "print(property_names)\n",
    "# ['ID', 'MW', 'MolLogP', 'NumHAcceptors', 'NumHDonors', 'NumRotatableBonds', 'ROMol', 'TPSA', 'original_id']\n",
    "```"
   ]
  },
  {
   "cell_type": "markdown",
   "metadata": {},
   "source": [
    "「ROMol」は不要なのでリストから除きます。\n"
   ]
  },
  {
   "cell_type": "markdown",
   "metadata": {},
   "source": [
    "```python\n",
    "property_names.remove('ROMol')\n",
    "print(property_names)\n",
    "# ['ID', 'MW', 'MolLogP', 'NumHAcceptors', 'NumHDonors', 'NumRotatableBonds', 'TPSA', 'original_id']\n",
    "```"
   ]
  },
  {
   "cell_type": "markdown",
   "metadata": {},
   "source": [
    "出力します。\n"
   ]
  },
  {
   "cell_type": "markdown",
   "metadata": {},
   "source": [
    "```python\n",
    "PandasTools.WriteSDF(ortho_df, 'ortho_biphenyl_library.sdf', properties = property_names)\n",
    "```\n"
   ]
  },
  {
   "cell_type": "markdown",
   "metadata": {},
   "source": [
    "以上で、オルト位に置換基をもつ部分構造での絞り込みが完了しました。\n"
   ]
  },
  {
   "cell_type": "markdown",
   "metadata": {},
   "source": [
    "# <u><b>オルト位の置換基の構造的意義</b></u>\n",
    "\n",
    "なぜ「オルト位に置換基を持つ」ということを、絞り込みの基準として重要視するのか？ついでなので「オルト位に置換基を持つ」ということの意味について考えたいと思います。\n",
    "\n",
    "・・・といっても立体障害でビフェニル骨格が捻れるというだけなのですが、、、、\n"
   ]
  },
  {
   "cell_type": "markdown",
   "metadata": {},
   "source": [
    "## <u><b>3次元構造を眺める</b></u>\n",
    "\n",
    "\n",
    "オルト位の置換基の有無が３次元構造（コンフォメーション）にどのような影響を与えるか？ということを眺めて見ます。３次元構造の生成は「化学の新しいカタチ」さんの記事「[RDKitによる3次元構造の生成](https://future-chem.com/rdkit-3dstruct/)」を参考にしました。\n",
    "\n",
    "まずは構造を準備。無置換、オルト位にメチル基を1つもつもの、2つ持つものの3つを作りました。\n"
   ]
  },
  {
   "cell_type": "markdown",
   "metadata": {},
   "source": [
    "```python\n",
    "biPh = Chem.MolFromSmiles('c1ccc(cc1)c1ccccc1')\n",
    "ortho_Me_biPh = Chem.MolFromSmiles('c1ccc(c(C)c1)c1ccccc1')\n",
    "ortho_diMe_biPh = Chem.MolFromSmiles('c1cc(C)c(c(C)c1)c1ccccc1')\n",
    "\n",
    "biPh_list = [biPh, ortho_Me_biPh, ortho_diMe_biPh]\n",
    "Draw.MolsToGridImage(biPh_list)\n",
    "```"
   ]
  },
  {
   "cell_type": "markdown",
   "metadata": {},
   "source": [
    "<img src=\"./images/4-2_image3.png\">\n",
    "\n",
    "水素原子を付加し、ETKDG法で3次元構造を生成します。"
   ]
  },
  {
   "cell_type": "markdown",
   "metadata": {},
   "source": [
    "```python\n",
    "biPh_3D_list = []\n",
    "\n",
    "for mol in biPh_list:\n",
    "    mol_H = AllChem.AddHs(mol)\n",
    "    AllChem.EmbedMolecule(mol_H, AllChem.ETKDG())\n",
    "    biPh_3D_list.append(mol_H)\n",
    "```"
   ]
  },
  {
   "cell_type": "markdown",
   "metadata": {},
   "source": [
    "生成した構造を眺めます。"
   ]
  },
  {
   "cell_type": "markdown",
   "metadata": {},
   "source": [
    "```python\n",
    "from rdkit.Chem.Draw import IPythonConsole\n",
    "import py3Dmol\n",
    "\n",
    "v = py3Dmol.view(width=600, height=300, linked=False, viewergrid=(1,3))\n",
    "\n",
    "for m, i in zip(biPh_3D_list, [(0,0), (0,1), (0,2)]):\n",
    "    mb = Chem.MolToMolBlock(m)\n",
    "    v.addModel(mb, 'sdf', viewer=i)\n",
    "\n",
    "v.setBackgroundColor('0xeeeeee')\n",
    "v.setStyle({'stick':{}})\n",
    "v.zoomTo()\n",
    "v.show()\n",
    "```"
   ]
  },
  {
   "cell_type": "markdown",
   "metadata": {},
   "source": [
    "無置換、モノ置換、ジ置換の順にねじれ角度が大きくなっているのがわかります。\n",
    "\n",
    "<img src=\"./images/4-2_image4.png\">\n",
    "\n",
    "もっとわかりやすくするために、重ねて見ます。\n"
   ]
  },
  {
   "cell_type": "markdown",
   "metadata": {},
   "source": [
    "## <u><b>アラインメントをとって重ねる</b></u>\n",
    "\n",
    "RDKitブログの[記事](http://rdkit.blogspot.com/2016/07/using-ipywidgets-and-py3dmol-to-browse.html)を参考にして３つとも重ねて見ます。\n",
    "\n",
    "**rdMolAlign.AlignMol**を使って部分構造のアラインメントを取り３次元構造を重ね合わせます。重ねたい部分構造（**template**）を明示的に与えるため引数**atomMap**に無置換のベンゼン環に相当する**atom number**を与えます。\n",
    "\n",
    "[こちら](https://github.com/rdkit/rdkit/issues/324)や、[こちら](https://sourceforge.net/p/rdkit/mailman/message/35747201/)を参考にエラーに対処していたらやたらと**list()**を使うことになってしまった・・・\n"
   ]
  },
  {
   "cell_type": "markdown",
   "metadata": {},
   "source": [
    "```python\n",
    "from rdkit.Chem import rdMolAlign\n",
    "\n",
    "# 無置換フェニルのテンプレートをSmartsから作成\n",
    "template = Chem.MolFromSmarts('[cH1]1[cH1][cH1][cH1][cH1]c1-c')\n",
    "\n",
    "# テンプレートに一致する無置換ビフェニルの原子を基準にする\n",
    "# タプルのタプルで得られる　\n",
    "template_atoms = biPh_3D_list[0].GetSubstructMatches(template)\n",
    "\n",
    "# アラインメントを取る\n",
    "for m in biPh_3D_list:\n",
    "    matched_atoms = m.GetSubstructMatches(template)\n",
    "    rdMolAlign.AlignMol(m, biPh_3D_list[0], atomMap = list(zip(list(matched_atoms[0]), list(template_atoms[0]))))  \n",
    "# 描く\n",
    "v = py3Dmol.view(width=300, height=300)\n",
    "\n",
    "for m in biPh_3D_list:\n",
    "    mb = Chem.MolToMolBlock(m)\n",
    "    v.addModel(mb, 'sdf')\n",
    "\n",
    "v.setBackgroundColor('0xeeeeee')\n",
    "v.setStyle({'stick':{}})\n",
    "v.zoomTo()\n",
    "v.show()\n",
    "```\n"
   ]
  },
  {
   "cell_type": "markdown",
   "metadata": {},
   "source": [
    "<img src=\"./images/4-2_image5.png\"> <img src=\"./images/4-2_image6.png\">\n",
    "\n",
    "静止画ではわかりにくいですが、無置換、モノ置換、ジ置換の順に二面角（Torsion Angle）が大きくなっているのがわかります。\n",
    "\n"
   ]
  },
  {
   "cell_type": "markdown",
   "metadata": {},
   "source": [
    "## <u><b>二面角を計算してみる</b></u>\n",
    "\n",
    "それぞれ一つずつコンフォマーを取得して二面角を計算して見ます。\n",
    "\n",
    "まず二面角を計算するために、目的の部分のatom numberを確認します。無置換ビフェニルの場合・・・\n"
   ]
  },
  {
   "cell_type": "markdown",
   "metadata": {},
   "source": [
    "```python\n",
    "Draw.MolToImage(biPh_3D_list[0], includeAtomNumbers = True)\n",
    "```"
   ]
  },
  {
   "cell_type": "markdown",
   "metadata": {},
   "source": [
    "<img src=\"./images/4-2_image7.png\">\n",
    "\n",
    "atom numberがわかったので目的の４原子を指定して、２面角を求めます。\n"
   ]
  },
  {
   "cell_type": "markdown",
   "metadata": {},
   "source": [
    "```python\n",
    "from rdkit.Chem import rdMolTransforms\n",
    "conf=biPh_3D_list[0].GetConformer(0)\n",
    "rdMolTransforms.GetDihedralDeg(conf, 2,3,6,7)\n",
    "# 148.88976772600805\n",
    "```"
   ]
  },
  {
   "cell_type": "markdown",
   "metadata": {},
   "source": [
    "モノ置換、ジ置換も同様に計算し、0° - 90°の範囲に値を修正すると以下のようになります。\n",
    "\n",
    "||無置換|モノ置換|ジ置換|\n",
    "|:---:|:---:|:---:|\n",
    "|二面角|31°|50°|81°|\n",
    "\n",
    "順に二面角が大きくなり、特にジ置換ではほぼ直角近くになっています。"
   ]
  },
  {
   "cell_type": "markdown",
   "metadata": {},
   "source": [
    "## <u><b>フィンガープリントではどう認識される？</b></u>\n",
    "\n",
    "上記の二面角の差異がフィンガープリントとしてはどのように認識できるか、少し見てみたいと思います。**Atom Pairs**と**Topological Torsions**でそれぞれ類似性を比較した際にどのようになるか試してみます。\n",
    "\n",
    "この二つを選んだ理由は名前の雰囲気です・・・（計算方法を理解していません。すみません）。\n"
   ]
  },
  {
   "cell_type": "markdown",
   "metadata": {},
   "source": [
    "```python\n",
    "from rdkit import DataStructs\n",
    "\n",
    "from rdkit.Chem.AtomPairs import Pairs\n",
    "pair_fps = [Pairs.GetAtomPairFingerprint(mol) for mol in biPh_3D_list]\n",
    "\n",
    "from rdkit.Chem.AtomPairs import Torsions\n",
    "tts_fps = [Torsions.GetTopologicalTorsionFingerprintAsIntVect(mol) for mol in biPh_3D_list]\n",
    "\n",
    "# Tanimoto係数、Dice係数をそれぞれの組み合わせで計算\n",
    "pair_Dice_0_1 = DataStructs.DiceSimilarity(pair_fps[0], pair_fps[1])\n",
    "pair_Tani_0_1 = DataStructs.TanimotoSimilarity(pair_fps[0], pair_fps[1])\n",
    "\n",
    "# 残りの組み合わせ、TorsionFingerprintについても同じ計算をしたので省略\n",
    "```"
   ]
  },
  {
   "cell_type": "markdown",
   "metadata": {},
   "source": [
    "結果をまとめると以下になりました。\n",
    "\n",
    "||無置換-モノ置換|無置換-ジ置換|モノ置換-ジ置換|\n",
    "|:---:|:---:|:---:|\n",
    "|AtomPair_Tanimoto係数|0.76|0.59|0.77|\n",
    "|AtomPair_Dice係数|0.86|0.75|0.87|\n",
    "|Torsion_Tanimoto係数|0.87|0.77|0.88|\n",
    "|Torsion_Dice係数|0.93|0.86|0.94|\n",
    "\n",
    "Torsionの方が差異が大きくなると面白いと思っていたのですが、今回の結果ではAtom Pairの方が置換の数の差を反映しているようにも見えます。いずれにせよ、メチルの数が１つ増えるか２つ増えるかで類似度が下がっていくことに代わりわなさそうです。\n"
   ]
  },
  {
   "cell_type": "markdown",
   "metadata": {},
   "source": [
    "# <u><b>オルト位置換を創薬の話に繋げようとする</b></u>\n",
    "\n",
    "オルト位に置換基を加えることで分子がねじれ、立体的な構造が変化するということがわかりました。では、このねじれを医薬品に活用した事例は？？？ということでFasiglifam(TAK-875)の構造を眺めて見たいと思います。２型糖尿病を適応として開発が行われていた武田薬品の化合物で、GPCRの一つGPR40の作動薬です。残念ながら臨床試験第三相で肝臓における安全性の懸念から開発中止となり、上市にはいたらなかったそうです。\n"
   ]
  },
  {
   "cell_type": "markdown",
   "metadata": {},
   "source": [
    "## <u><b>Fasiglifam(TAK-875)の構造</b></u>\n",
    "\n",
    "なぜこちらを取り上げるのか？　構造を見ていただくとお分かりいただけると思います。\n",
    "印象的なビフェニル、オルト-ジ置換構造を持っています。\n"
   ]
  },
  {
   "cell_type": "markdown",
   "metadata": {},
   "source": [
    "```python\n",
    "Fasiglifam_mol = Chem.MolFromSmiles('CC1=CC(=CC(=C1C2=CC(=CC=C2)COC3=CC4=C(C=C3)[C@@H](CO4)CC(=O)O)C)OCCCS(=O)(=O)C')\n",
    "\n",
    "from rdkit.Chem.Draw import rdMolDraw2D\n",
    "from IPython.display import SVG\n",
    "\n",
    "highlights = Fasiglifam_mol.GetSubstructMatch(ortho_diMe_biPh)\n",
    "view = rdMolDraw2D.MolDraw2DSVG(500,500)\n",
    "pre_mol = rdMolDraw2D.PrepareMolForDrawing(Fasiglifam_mol)\n",
    "view.DrawMolecule(pre_mol, highlightAtoms=highlights)\n",
    "view.FinishDrawing()\n",
    "svg = view.GetDrawingText()\n",
    "\n",
    "SVG(svg.replace('svg:,',''))\n",
    "```\n"
   ]
  },
  {
   "cell_type": "markdown",
   "metadata": {},
   "source": [
    "<img src=\"./images/4-2_image8.png\">\n",
    "\n",
    "Fasiglifamを見出した構造活性相関の研究に関していくつかの論文が出されています。ずいぶんと以前に読んだ論文のため引用しようにも忘れてしまいました（おそらくJ.Med.ChemやACS Med. Chem. Lett.だったような・・・）。その中でビフェニル構造に置換基を加えることで２面角が変化すること、その構造の変化が活性に大きな影響を与えたことが議論されていたように思います。（いろいろぼんやりとした記憶で不確かですみません・・・）\n",
    "\n",
    "では立体的にはどのような構造なのか？眺めて見ます。PubChemのID「cid: 24857286」をつかってpy3Dmolで描画して見ます。\n",
    "\n",
    "化学の新しいカタチさんの記事「[py3Dmolを使って化学構造をJupyter上で美しく表示する](https://future-chem.com/py3dmol/)」を参考にさせていただきました。\n"
   ]
  },
  {
   "cell_type": "markdown",
   "metadata": {},
   "source": [
    "```python\n",
    "view = py3Dmol.view(width= 800, height=300, viewergrid=(1,3), query='cid:24857286')\n",
    "view.setStyle({'cartoon': {}}, viewer=(0,0))\n",
    "view.setStyle({'stick': {}}, viewer=(0,1))\n",
    "view.setStyle({'sphere': {}}, viewer=(0,2))\n",
    "view.show()\n",
    "```"
   ]
  },
  {
   "cell_type": "markdown",
   "metadata": {},
   "source": [
    "<img src=\"./images/4-2_image9.png\">\n",
    "\n",
    "ビフェニル構造がほぼ直角にねじれています。\n"
   ]
  },
  {
   "cell_type": "markdown",
   "metadata": {},
   "source": [
    "## <u><b>受容体との共結晶構造 </b></u>\n",
    "\n",
    "FasiglifamとGPR40との共結晶構造が解かれています（PDB id: 4PHU [^1] ）。ついでに眺めて見ます。[^2] \n"
   ]
  },
  {
   "cell_type": "markdown",
   "metadata": {},
   "source": [
    "```python\n",
    "view = py3Dmol.view(width=680, height=480, query='pdb:4PHU', viewergrid=(1,1))\n",
    "view.setStyle({'cartoon': {'color': 'spectrum'}}, viewer=(0,0))\n",
    "view.setStyle({'resn': '2YB'}, {'sphere': {'colorsheme': 'default'}}, viewer=(0,0))\n",
    "view.addSurface(py3Dmol.SES, {'opacity': 0.6, 'color': '#FADBD8'}, viewer=(0,0))\n",
    "view.show()\n",
    "```\n"
   ]
  },
  {
   "cell_type": "markdown",
   "metadata": {},
   "source": [
    "<img src=\"./images/4-2_image10.png\">\n",
    "\n",
    "とても興味深いことに、Fasiglifamはその構造の半分程度がGPR40のヘリックスの合間から外に向かって飛び出しています。\n",
    "\n",
    "上の図では少しわかりにくいのでRCSD PDBのビューワーでリガンドと受容体の相互作用部位を拡大して眺めます。[^3] \n",
    "\n",
    "こんな感じ・・・\n",
    "\n",
    "<img src=\"./images/4-2_image11.png\">\n",
    "\n",
    "\n",
    "ちょうど直角にねじれたビフェニル構造の部分が受容体内-外の境目に来ています。最近ではGPCRの構造が多数解かれるようになってきますが、この構造が公開された当時（2014年）はまだそこまで多くなく、さらにリガンドの結合様式も見たことがないものでこんな結合の仕方あるのか！！！と、とても驚いたのを覚えています。\n"
   ]
  },
  {
   "cell_type": "markdown",
   "metadata": {},
   "source": [
    "# <u><b>まとめ</b></u>\n",
    "\n",
    "以上、今回はオルト位に置換基を含む化合物のライブラリからの抽出と、その構造的意義についてざっと眺めて見ました。オルト位に置換基を加えることでライブラリ化合物は2400弱にまで絞り込むことができました。後半、古い記憶を辿ってFasiglifamの話などをし始めたのは、ライブラリスクリーニングの方法に行き詰まったからです・・・困難から逃走するタイプ・・・"
   ]
  },
  {
   "cell_type": "markdown",
   "metadata": {},
   "source": [
    "# 脚注\n",
    "\n",
    "[^1]: Crystal structure of Human GPR40 bound to allosteric agonist TAK-875 DOI: 10.2210/pdb4PHU/pdb\n",
    "\n",
    "[^2]:  High-resolution structure of the human GPR40 receptor bound to allosteric agonist TAK-875. (2014) Nature 513: 124-127\n",
    "\n",
    "[^3]:  AS Rose et al. (2018) NGL viewer: web-based molecular graphics for large complexes. Bioinformatics dio:10.1093/bioinformatics/bty419"
   ]
  }
 ],
 "metadata": {
  "kernelspec": {
   "display_name": "Python 3",
   "language": "python",
   "name": "python3"
  },
  "language_info": {
   "codemirror_mode": {
    "name": "ipython",
    "version": 3
   },
   "file_extension": ".py",
   "mimetype": "text/x-python",
   "name": "python",
   "nbconvert_exporter": "python",
   "pygments_lexer": "ipython3",
   "version": "3.6.8"
  },
  "toc": {
   "base_numbering": 1,
   "nav_menu": {},
   "number_sections": true,
   "sideBar": true,
   "skip_h1_title": false,
   "title_cell": "Table of Contents",
   "title_sidebar": "Contents",
   "toc_cell": true,
   "toc_position": {},
   "toc_section_display": true,
   "toc_window_display": true
  }
 },
 "nbformat": 4,
 "nbformat_minor": 2
}
