{
 "cells": [
  {
   "cell_type": "markdown",
   "metadata": {
    "toc": true
   },
   "source": [
    "<h1>Table of Contents<span class=\"tocSkip\"></span></h1>\n",
    "<div class=\"toc\"><ul class=\"toc-item\"><li><span><a href=\"#第５章４節：ファーマコフォアスクリーニングをする話\" data-toc-modified-id=\"第５章４節：ファーマコフォアスクリーニングをする話-1\"><span class=\"toc-item-num\">1&nbsp;&nbsp;</span>第５章４節：ファーマコフォアスクリーニングをする話</a></span></li><li><span><a href=\"#ファーマコフォアの準備\" data-toc-modified-id=\"ファーマコフォアの準備-2\"><span class=\"toc-item-num\">2&nbsp;&nbsp;</span><u><b>ファーマコフォアの準備</b></u></a></span></li><li><span><a href=\"#ファーマコフォアサーチの関数作成（関数1）\" data-toc-modified-id=\"ファーマコフォアサーチの関数作成（関数1）-3\"><span class=\"toc-item-num\">3&nbsp;&nbsp;</span><u><b>ファーマコフォアサーチの関数作成（関数1）</b></u></a></span><ul class=\"toc-item\"><li><span><a href=\"#関数1の検証とエラー\" data-toc-modified-id=\"関数1の検証とエラー-3.1\"><span class=\"toc-item-num\">3.1&nbsp;&nbsp;</span><u><b>関数1の検証とエラー</b></u></a></span></li><li><span><a href=\"#エラーの原因は不斉点？\" data-toc-modified-id=\"エラーの原因は不斉点？-3.2\"><span class=\"toc-item-num\">3.2&nbsp;&nbsp;</span><u><b>エラーの原因は不斉点？</b></u></a></span></li><li><span><a href=\"#水素原子の取り扱いが原因？\" data-toc-modified-id=\"水素原子の取り扱いが原因？-3.3\"><span class=\"toc-item-num\">3.3&nbsp;&nbsp;</span><u><b>水素原子の取り扱いが原因？</b></u></a></span></li></ul></li><li><span><a href=\"#エラーを回避した関数作成（関数2）\" data-toc-modified-id=\"エラーを回避した関数作成（関数2）-4\"><span class=\"toc-item-num\">4&nbsp;&nbsp;</span><u><b>エラーを回避した関数作成（関数2）</b></u></a></span></li><li><span><a href=\"#不斉点を考慮しない関数の作成（関数3）\" data-toc-modified-id=\"不斉点を考慮しない関数の作成（関数3）-5\"><span class=\"toc-item-num\">5&nbsp;&nbsp;</span><u><b>不斉点を考慮しない関数の作成（関数3）</b></u></a></span><ul class=\"toc-item\"><li><span><a href=\"#関数3の検証\" data-toc-modified-id=\"関数3の検証-5.1\"><span class=\"toc-item-num\">5.1&nbsp;&nbsp;</span><u><b>関数3の検証</b></u></a></span></li></ul></li><li><span><a href=\"#スクリーニングの実施\" data-toc-modified-id=\"スクリーニングの実施-6\"><span class=\"toc-item-num\">6&nbsp;&nbsp;</span><u><b>スクリーニングの実施</b></u></a></span><ul class=\"toc-item\"><li><span><a href=\"#スクリーニング対象の再確認\" data-toc-modified-id=\"スクリーニング対象の再確認-6.1\"><span class=\"toc-item-num\">6.1&nbsp;&nbsp;</span><u><b>スクリーニング対象の再確認</b></u></a></span></li><li><span><a href=\"#スクリーニング本番\" data-toc-modified-id=\"スクリーニング本番-6.2\"><span class=\"toc-item-num\">6.2&nbsp;&nbsp;</span><u><b>スクリーニング本番</b></u></a></span></li></ul></li><li><span><a href=\"#まとめ\" data-toc-modified-id=\"まとめ-7\"><span class=\"toc-item-num\">7&nbsp;&nbsp;</span><u><b>まとめ</b></u></a></span></li><li><span><a href=\"#脚注\" data-toc-modified-id=\"脚注-8\"><span class=\"toc-item-num\">8&nbsp;&nbsp;</span>脚注</a></span></li></ul></div>"
   ]
  },
  {
   "cell_type": "markdown",
   "metadata": {},
   "source": [
    "# 第５章４節：ファーマコフォアスクリーニングをする話"
   ]
  },
  {
   "cell_type": "markdown",
   "metadata": {},
   "source": [
    "前回の記事で共結晶構造を元にしたRDKitのファーマコフォアの作成を実施しました。いよいよこちらを用いてスクリーニングを実施したいと思います。"
   ]
  },
  {
   "cell_type": "markdown",
   "metadata": {},
   "source": [
    "# <u><b>ファーマコフォアの準備</b></u>\n",
    "\n",
    "前回の再掲ですが、SAR News No.19の吉森氏による記事「Chemoinformatics Toolkits を用いた創薬システム開発における ラピッドプロトタイピング」での流れを確認します。\n",
    "\n",
    "1. 座標を使って特性基を定義\n",
    "2. 距離情報を使ってファーマコフォアを設定\n",
    "3. ファーマコフォアサーチ\n",
    "    1. 対象のフィーチャーをそもそも含んでいるか？\n",
    "    2. フィーチャー間の距離が条件を満たすか？\n",
    "    3. 距離情報を拘束条件にして3D構造を発生させる。\n",
    "\n",
    "このうちファーマコフォアの設定までは、前回のものをそのまま利用します。\n",
    "\n",
    "<img src=\"./images/5-4_image1.png\">"
   ]
  },
  {
   "cell_type": "markdown",
   "metadata": {},
   "source": [
    "```python\n",
    "import os\n",
    "from rdkit import RDConfig\n",
    "from rdkit.Chem import AllChem\n",
    "from rdkit import Chem\n",
    "from rdkit.Chem import ChemicalFeatures\n",
    "from rdkit.Chem.Pharm3D import Pharmacophore\n",
    "from rdkit import Geometry\n",
    "from rdkit.Chem.Pharm3D import EmbedLib\n",
    "from rdkit.Chem import rdDistGeom\n",
    "\n",
    "Ffactory = AllChem.BuildFeatureFactory(os.path.join(RDConfig.RDDataDir,'BaseFeatures.fdef'))\n",
    "\n",
    "feat_1=ChemicalFeatures.FreeChemicalFeature('Aromatic',Geometry.Point3D(-7.625, 10.407, -21.653))\n",
    "feat_2=ChemicalFeatures.FreeChemicalFeature('Aromatic',Geometry.Point3D(-1.851, 11.051, -24.019))\n",
    "feat_3=ChemicalFeatures.FreeChemicalFeature('Acceptor',Geometry.Point3D(-0.100, 13.586, -28.137)) \n",
    "feats = [feat_1,feat_2,feat_3]\n",
    "\n",
    "pcophore = Pharmacophore.Pharmacophore(feats) # ファーマコフォアの設定\n",
    "d_upper = 1.5  # 特性基間の距離の許容範囲(上限値)\n",
    "d_lower = 0.5 # 特性基間の距離の許容範囲(下限値)\n",
    "\n",
    "# feat_1とfeat_2の距離 6.3Åを基準に、下限と上限を設定\n",
    "pcophore.setLowerBound(0,1, 6.3-d_lower)\n",
    "pcophore.setUpperBound(0,1, 6.3+d_upper)\n",
    "\n",
    "# Acceptor(feat_3)の代表点の選び方によってfeat_2との距離は[5.0~5.6]の値をとる\n",
    "pcophore.setLowerBound(1,2, 5.0-d_lower)\n",
    "pcophore.setUpperBound(1,2, 5.6+d_upper)\n",
    "\n",
    "# 同様にfeat1とfeat_3は[9.8~11.2]の値をとる\n",
    "pcophore.setLowerBound(0,2, 9.8-d_lower)\n",
    "pcophore.setUpperBound(0,2, 11.2+d_upper)\n",
    "```"
   ]
  },
  {
   "cell_type": "markdown",
   "metadata": {},
   "source": [
    "ファーマコフォアを**pcophore**、フィーチャーファクトリーを**Ffactory**として用意しました。molオブジェクトが与えられた場合に、ファーマコフォアサーチを行う関数を作成します。"
   ]
  },
  {
   "cell_type": "markdown",
   "metadata": {},
   "source": [
    "# <u><b>ファーマコフォアサーチの関数作成（関数1）</b></u>\n",
    "\n",
    "距離情報を拘束条件にした3D構造がうまく発生できた場合、その構造をファーマコフォア合致構造とすることとします。また、合致構造間での順位づけとして、構造がうまく生成できた数（条件を満たすコンフォマーの数）をスコアとしてもちいることとしたいと思います。生成させる構造の最大数(**count**)は10としました。\n",
    "\n",
    "具体的な関数を以下のように作成しました。"
   ]
  },
  {
   "cell_type": "markdown",
   "metadata": {},
   "source": [
    "```python\n",
    "def PSearch(mol):\n",
    "    #水素原子を付加（３次元構造利用のため）\n",
    "    molH = AllChem.AddHs(mol)\n",
    "    #水素原子を綺麗に整える座標計算\n",
    "    AllChem.Compute2DCoords(molH)\n",
    "    \n",
    "    #フィーチャーをそもそも持っているか？\n",
    "    match, mList = EmbedLib.MatchPharmacophoreToMol(molH, Ffactory, pcophore)\n",
    "    print(match)\n",
    "    \n",
    "    if match == True:\n",
    "        #距離の検証\n",
    "        #距離行列の取得\n",
    "        bounds = rdDistGeom.GetMoleculeBoundsMatrix(molH)\n",
    "\n",
    "        #ファーマコフォアのマッチング \n",
    "        pList = EmbedLib.GetAllPharmacophoreMatches(mList,bounds,pcophore) \n",
    "        \n",
    "        #pListのそれぞれについてFeatureとマッチする原子のidを取得する\n",
    "        num_match = len(pList)\n",
    "        phMatches = []\n",
    "        for i in range(num_match): \n",
    "            num_feature = len(pList[i])\n",
    "            \n",
    "            phMatch = []\n",
    "            \n",
    "            for j in range(num_feature):\n",
    "                phMatch.append(pList[i][j].GetAtomIds())\n",
    "                \n",
    "            phMatches.append(phMatch)\n",
    "        \n",
    "        #原子のidとファーマコフォアをもとに3次元構造を埋め込む    \n",
    "        Generated_embeds = []\n",
    "\n",
    "        for phMatch in phMatches:\n",
    "            bm,embeds,nFail =EmbedLib.EmbedPharmacophore(molH, phMatch, pcophore,count=5, silent=1)\n",
    "            Generated_embeds.append(len(embeds))        \n",
    "        return sum(Generated_embeds)           \n",
    "\n",
    "    else:\n",
    "        return 0\n",
    "```"
   ]
  },
  {
   "cell_type": "markdown",
   "metadata": {},
   "source": [
    "## <u><b>関数1の検証とエラー</b></u>\n",
    "\n",
    "この関数をもちいて動作確認のため、[共闘用シェアデータ](https://github.com/masahiro-mochizuki/pd1_inhibitor_dataset)から取り出した分子のうち、前回用いなかったものを含めて検証します。 [^1] "
   ]
  },
  {
   "cell_type": "markdown",
   "metadata": {},
   "source": [
    "```python\n",
    "chain_suppl = Chem.SDMolSupplier('./chain_compounds.sdf', removeHs=False)\n",
    "chain_mols = [x for x in chain_suppl if x is not None]\n",
    "```"
   ]
  },
  {
   "cell_type": "markdown",
   "metadata": {},
   "source": [
    "この化合物群に適用したところ早速以下のエラーで止まりました。"
   ]
  },
  {
   "cell_type": "markdown",
   "metadata": {},
   "source": [
    "```python\n",
    "---------------------------------------------------------------------------\n",
    "KeyError                                  Traceback (most recent call last)\n",
    "<ipython-input-40-74609285009c> in <module>()\n",
    "----> 1 PSearch(test_m3)\n",
    "\n",
    "<ipython-input-38-904fad3ab3c2> in PSearch(mol)\n",
    "     34 \n",
    "     35         for phMatch in phMatches:\n",
    "---> 36             bm,embeds,nFail =EmbedLib.EmbedPharmacophore(molH, phMatch, pcophore,count=20, silent=1)\n",
    "     37 \n",
    "     38             Generated_embeds.append(embeds)\n",
    "\n",
    "~/.pyenv/versions/anaconda3-4.4.0/lib/python3.6/site-packages/rdkit/Chem/Pharm3D/EmbedLib.py in EmbedPharmacophore(mol, atomMatch, pcophore, randomSeed, count, smoothFirst, silent, bounds, excludedVolumes, targetNumber, useDirs)\n",
    "    427       for idx, stereo in mol._chiralCenters:\n",
    "    428         if stereo in ('R', 'S'):\n",
    "--> 429           vol = ComputeChiralVolume(m2, idx)\n",
    "    430           if (stereo == 'R' and vol >= 0) or (stereo == 'S' and vol <= 0):\n",
    "    431             keepIt = False\n",
    "\n",
    "~/.pyenv/versions/anaconda3-4.4.0/lib/python3.6/site-packages/rdkit/Chem/Pharm3D/EmbedLib.py in ComputeChiralVolume(mol, centerIdx, confId)\n",
    "   1241   nbrRanks = []\n",
    "   1242   for nbr in nbrs:\n",
    "-> 1243     rank = int(nbr.GetProp('_CIPRank'))\n",
    "   1244     pos = conf.GetAtomPosition(nbr.GetIdx())\n",
    "   1245     nbrRanks.append((rank, pos))\n",
    "\n",
    "KeyError: '_CIPRank'\n",
    "```\n"
   ]
  },
  {
   "cell_type": "markdown",
   "metadata": {},
   "source": [
    "EmbedPharmacophoreの部分で止まっているようです。ComputeChiralVolumeという箇所のようです。\n",
    "\n",
    "エラーの出た構造はこちら、\n",
    "\n",
    "<img src=\"./images/5-4_image2.png\">\n",
    "\n",
    "不斉点をもつ構造でエラーが出たようです。  "
   ]
  },
  {
   "cell_type": "markdown",
   "metadata": {},
   "source": [
    "## <u><b>エラーの原因は不斉点？</b></u>\n",
    "\n",
    "pythonファイルの該当部分の周辺をみると、nbrは不斉中心の近隣（neigbhbor）の原子を指定しているように見えました。\n",
    "\n",
    "エラー箇所、  \n"
   ]
  },
  {
   "cell_type": "markdown",
   "metadata": {},
   "source": [
    "```python\n",
    "1243     rank = int(nbr.GetProp('_CIPRank'))\n",
    "```"
   ]
  },
  {
   "cell_type": "markdown",
   "metadata": {},
   "source": [
    "は、近隣原子の特性(atom property)を取得した際に、[マジックプロパティ](https://www.rdkit.org/docs/RDKit_Book.html#magic-property-values)の一つ**\\_CIPRank**の情報が見当たらないと言う内容のようです。\n",
    "\n",
    "不斉に関する設定なので、CIPはカーン・インゴルド・プレローグ順位則（wikipedia: [Cahn–Ingold–Prelog priority rules](https://en.wikipedia.org/wiki/Cahn–Ingold–Prelog_priority_rules)の略と推測できます。不斉中心の近隣の原子のCIPRank、ということですから、CIP順位則に従って各原子に割り当てられた番号（rank）、を意味していそうです。\n",
    "\n",
    "描画を見る限り光学活性体として認識されているのに、この情報が見当たらない、設定されていないというのはなぜ？？？\n",
    "\n",
    "おそらくですが、一番最初に水素原子を付加（AllChem.AddHs()）した際に、不斉中心（３級炭素）の周りの原子のプロパティ情報（**\\_CIPRank**）失われているように見えます。\n",
    "\n",
    "検証してみたいと思います。"
   ]
  },
  {
   "cell_type": "markdown",
   "metadata": {},
   "source": [
    "## <u><b>水素原子の取り扱いが原因？</b></u>\n",
    "\n",
    "まずは水素原子を付与する前のMolオブジェクトでプロパティを確認します。  \n",
    "不斉中心の情報を取得します。"
   ]
  },
  {
   "cell_type": "markdown",
   "metadata": {},
   "source": [
    "```python\n",
    "Chem.FindMolChiralCenters(test_m3)\n",
    "#[(31, 'S')]\n",
    "```"
   ]
  },
  {
   "cell_type": "markdown",
   "metadata": {},
   "source": [
    "AtomID: 31の原子に不斉 *S* が割り当てられています。**GetNeighbors()**を使って近隣の原子のidを取得します。"
   ]
  },
  {
   "cell_type": "markdown",
   "metadata": {},
   "source": [
    "```python\n",
    "chiral_center = test_m3.GetAtomWithIdx(31)\n",
    "nbrs = chiral_center.GetNeighbors()\n",
    "```"
   ]
  },
  {
   "cell_type": "markdown",
   "metadata": {},
   "source": [
    "取得した近隣の原子について、AtomIDと元素記号、問題の**\\_CIPrank**を出力します。"
   ]
  },
  {
   "cell_type": "markdown",
   "metadata": {},
   "source": [
    "```python\n",
    "for x in nbrs:\n",
    "    print('AtomID: ', x.GetIdx(), 'Symbol: ', x.GetSymbol(), 'CIPRank: ', x.GetProp('_CIPRank'))\n",
    "\n",
    "#AtomID:  30 Symbol:  C CIPRank:  4\n",
    "#AtomID:  32 Symbol:  C CIPRank:  39\n",
    "#AtomID:  26 Symbol:  N CIPRank:  42\n",
    "```"
   ]
  },
  {
   "cell_type": "markdown",
   "metadata": {},
   "source": [
    "水素原子を付与する前のMolオブジェクトでは問題なくCIPRankが割り当てられています。値の意味はわかりません・・・・（1,2,3,4の順位かと思っていましたが、なんらかの基準でもっと広い範囲の値が割り当てられ大小を比較していそう・・・）\n",
    "\n",
    "続いて水素を付与した場合の確認をします。"
   ]
  },
  {
   "cell_type": "markdown",
   "metadata": {},
   "source": [
    "```python\n",
    "test_m3H = AllChem.AddHs(test_m3)\n",
    "AllChem.Compute2DCoords(test_m3H)\n",
    "Chem.FindMolChiralCenters(test_m3H)\n",
    "#[(31, 'S')]\n",
    "```"
   ]
  },
  {
   "cell_type": "markdown",
   "metadata": {},
   "source": [
    "不斉中心を持つということは認識されていそうです。"
   ]
  },
  {
   "cell_type": "markdown",
   "metadata": {},
   "source": [
    "```python\n",
    "chiral_centerH = test_m3H.GetAtomWithIdx(31)\n",
    "nbrsH = chiral_centerH.GetNeighbors()\n",
    "\n",
    "for i in nbrsH:\n",
    "    print('AtomID: ', i.GetIdx(), 'Symbol: ', i.GetSymbol())\n",
    "#AtomID:  30 Symbol:  C\n",
    "#AtomID:  32 Symbol:  C\n",
    "#AtomID:  26 Symbol:  N\n",
    "#AtomID:  79 Symbol:  H\n",
    "```"
   ]
  },
  {
   "cell_type": "markdown",
   "metadata": {},
   "source": [
    "CIPRankを確認します。"
   ]
  },
  {
   "cell_type": "markdown",
   "metadata": {},
   "source": [
    "```python\n",
    "nbrsH[0].GetProp('_CIPRank')\n",
    "\n",
    "\"\"\"\n",
    "---------------------------------------------------------------------------\n",
    "KeyError                                  Traceback (most recent call last)\n",
    "<ipython-input-99-89378a1786f7> in <module>()\n",
    "----> 1 nbrsH[0].GetProp('_CIPRank')\n",
    "\n",
    "KeyError: '_CIPRank'\n",
    "\"\"\"\n",
    "```"
   ]
  },
  {
   "cell_type": "markdown",
   "metadata": {},
   "source": [
    "付与した水素原子だけでなく、もともとあった炭素原子からも**\\_CIPRank**の情報が失われていました。\n",
    "\n",
    "立体化学を再度割り当てれば良いのかと思い、**Chem.AssignStereochemistry()**を使ってみましたが、**\\_CIPRank**の情報は付与されていませんでした。\n",
    "\n",
    "そもそも水素原子を付加していたのは、３次元構造を扱うためでした。今回、embedできたか否かを判定するだけ（３次元構造の最適化といった処理をしない）ですので、水素原子付加をしなくても良さそうです。\n",
    "\n",
    "したがって、最初の2つの処理"
   ]
  },
  {
   "cell_type": "markdown",
   "metadata": {},
   "source": [
    "```python\n",
    "molH = AllChem.AddHs(mol)\n",
    "AllChem.Compute2DCoords(molH)\n",
    "```"
   ]
  },
  {
   "cell_type": "markdown",
   "metadata": {},
   "source": [
    "を除いてしまえば良さそうです。"
   ]
  },
  {
   "cell_type": "markdown",
   "metadata": {},
   "source": [
    "# <u><b>エラーを回避した関数作成（関数2）</b></u>\n",
    "\n",
    "上記2つを除いた関数を**PSearch2**として作成しました。（コード省略）\n",
    "\n",
    "この関数を用いたところエラーで止まることなく最後まで計算できました。"
   ]
  },
  {
   "cell_type": "markdown",
   "metadata": {},
   "source": [
    "```python\n",
    "PScore2_list = []\n",
    "\n",
    "for x in chain_mols:\n",
    "    num_embeds = PSearch2(x)\n",
    "    PScore2_list.append(num_embeds)\n",
    "    print(num_embeds)\n",
    "    x.SetIntProp('PScore', num_embeds)\n",
    "\n",
    "print(PScore2_list)\n",
    "#[4, 62, 0, 7, 7, 2, 11, 78, 0, 0, 0, 0, 0, 60, 0, 2, 0, 0, 51, 0, 75, 0, 0, 29, 157, 0, 0, 0, 0, 0, 0, 0, 0, 0, 0, 14, 0, 0, 20]\n",
    "```"
   ]
  },
  {
   "cell_type": "markdown",
   "metadata": {},
   "source": [
    "0の数が多いようなので確認してみます。"
   ]
  },
  {
   "cell_type": "markdown",
   "metadata": {},
   "source": [
    "```python\n",
    "#リストから要素が0となっている数を求める\n",
    "print( len([i for i, x in enumerate(PScore2_list) if x == 0]) )\n",
    "#24\n",
    "```"
   ]
  },
  {
   "cell_type": "markdown",
   "metadata": {},
   "source": [
    "活性化合物群のなかでもembedできた数が0となる構造が多数ありました（24個）。\n",
    "\n",
    "実行結果で気になる点として、"
   ]
  },
  {
   "cell_type": "markdown",
   "metadata": {},
   "source": [
    "```python\n",
    "RDKit DEBUG: [22:55:56] DEBUG: Removed embedding due to chiral constraints.\n",
    "```"
   ]
  },
  {
   "cell_type": "markdown",
   "metadata": {},
   "source": [
    "という表示が多く出力されました。不斉の制限のせいで弾かれている構造が多そうです。かなり荒い３次元構造の取り扱いをしているので、不斉点にそこまで強い制約を加えない方が良い気がします。"
   ]
  },
  {
   "cell_type": "markdown",
   "metadata": {},
   "source": [
    "# <u><b>不斉点を考慮しない関数の作成（関数3）</b></u>\n",
    "\n",
    "今回の計算にあたって、不斉点を無視して処理したいと思います。具体的にはSMILESに変換（オプションで**isomericSmiles=False**とする）して不斉の情報を除いてからMolオブジェクトに戻すという処理を加えます。"
   ]
  },
  {
   "cell_type": "markdown",
   "metadata": {},
   "source": [
    "```python\n",
    "#そのままSMILESに変換した場合\n",
    "test_iso_smi = Chem.MolToSmiles(test_m3)\n",
    "print('chiral:', test_iso_smi)\n",
    "#出力: chiral: Cc1c(COc2cc(OCc3cncc(C#N)c3)c(CN3CCCC[C@H]3C(=O)O)cc2Cl)cccc1-c1cccc(OCCCN2CCC(O)CC2)c1C\n",
    "\n",
    "#立体の情報を除いてSMILESに変換した場合\n",
    "test_smi = Chem.MolToSmiles(test_m3, isomericSmiles=False)\n",
    "print('achiral: ', test_smi)\n",
    "#出力: achiral:  Cc1c(COc2cc(OCc3cncc(C#N)c3)c(CN3CCCCC3C(=O)O)cc2Cl)cccc1-c1cccc(OCCCN2CCC(O)CC2)c1C\n",
    "\n",
    "#もう一度Molオブジェクトに戻す\n",
    "test_mol_re = Chem.MolFromSmiles(test_smi)\n",
    "AllChem.Compute2DCoords(test_mol_re)\n",
    "#立体の確認\n",
    "print(Chem.FindMolChiralCenters(test_mol_re))\n",
    "#空のリストが出力された\n",
    "```"
   ]
  },
  {
   "cell_type": "markdown",
   "metadata": {},
   "source": [
    "**isomericSmiles=False**としたものでは**@H**がなくなっており、また**Chem.FindMolChiralCenters()**が空のリストを返すことから、不斉の情報がなくなっていることが確認できました。\n",
    "\n",
    "上記の処理を加えた関数を再定義します。"
   ]
  },
  {
   "cell_type": "markdown",
   "metadata": {},
   "source": [
    "```python\n",
    "def PSearch3(mol):\n",
    "    #水素原子を付加しない\n",
    "    \n",
    "    smi = Chem.MolToSmiles(mol, isomericSmiles=False)\n",
    "    mol_re = Chem.MolFromSmiles(smi)\n",
    "    AllChem.Compute2DCoords(mol_re)\n",
    "    \n",
    "    #フィーチャーをそもそも持っているか？\n",
    "    match, mList = EmbedLib.MatchPharmacophoreToMol(mol_re, Ffactory, pcophore)\n",
    "    \n",
    "    if match == True:\n",
    "        #距離の検証\n",
    "        #距離行列の取得\n",
    "        bounds = rdDistGeom.GetMoleculeBoundsMatrix(mol_re)\n",
    "\n",
    "        #ファーマコフォアのマッチング \n",
    "        pList = EmbedLib.GetAllPharmacophoreMatches(mList,bounds,pcophore) \n",
    "        \n",
    "        #pListのそれぞれについてFeatureとマッチする原子のidを取得する\n",
    "        num_match = len(pList)\n",
    "        phMatches = []\n",
    "        for i in range(num_match): \n",
    "            num_feature = len(pList[i])\n",
    "            \n",
    "            phMatch = []\n",
    "            \n",
    "            for j in range(num_feature):\n",
    "                phMatch.append(pList[i][j].GetAtomIds())\n",
    "                \n",
    "            phMatches.append(phMatch)\n",
    "        \n",
    "        #原子のidとファーマコフォアをもとに3次元構造を埋め込む    \n",
    "        Generated_embeds = []\n",
    "\n",
    "        for phMatch in phMatches:\n",
    "            bm,embeds,nFail =EmbedLib.EmbedPharmacophore(mol_re, phMatch, pcophore,count=5, silent=1)\n",
    "            Generated_embeds.append(len(embeds))    \n",
    "        return sum(Generated_embeds)           \n",
    "    else:\n",
    "        return 0\n",
    "```"
   ]
  },
  {
   "cell_type": "markdown",
   "metadata": {},
   "source": [
    "## <u><b>関数3の検証</b></u>\n",
    "\n",
    "活性化合物群に適用します。"
   ]
  },
  {
   "cell_type": "markdown",
   "metadata": {},
   "source": [
    "```python\n",
    "PScore3_list = []\n",
    "\n",
    "for x in chain_mols:\n",
    "    num_embeds = PSearch3(x)\n",
    "    PScore3_list.append(num_embeds)\n",
    "    #Molオブジェクトのプロパティに結果を保持させる\n",
    "    x.SetIntProp('PScore', num_embeds)\n",
    "```"
   ]
  },
  {
   "cell_type": "markdown",
   "metadata": {},
   "source": [
    "今回は**RDKit DEBUG**は出ませんでした。期待した挙動を示していそうです。\n",
    "embedできなかった数を数えます。"
   ]
  },
  {
   "cell_type": "markdown",
   "metadata": {},
   "source": [
    "```python\n",
    "False_list = [i for i, x in enumerate(PScore3_list) if x == 0]\n",
    "\n",
    "print(False_list)\n",
    "#出力: [8, 14, 21, 25, 27, 28, 29, 30, 31, 32, 33, 34]\n",
    "print(len(False_list))\n",
    "#出力: 12\n",
    "```"
   ]
  },
  {
   "cell_type": "markdown",
   "metadata": {},
   "source": [
    "今回はembedできた数が0となった構造は12個でした。キラルの制約を無くしたことで、活性化合物群のファーマコフォアベースのヒット率が上がったようです。\n",
    "\n",
    "embedできなかった化合物について具体的な構造を一つ見てみます。"
   ]
  },
  {
   "cell_type": "markdown",
   "metadata": {},
   "source": [
    "```python\n",
    "test_m8 = chain_mols[8]\n",
    "print(test_m8.GetProp('PScore'))\n",
    "# 0\n",
    "\n",
    "Draw.MolToImage(test_m8)\n",
    "```"
   ]
  },
  {
   "cell_type": "markdown",
   "metadata": {},
   "source": [
    "<img src=\"./images/5-4_image3.png\">\n",
    "\n",
    "Property「'PScore'」に値が保持されていることが確認できました。\n",
    "\n",
    "ipywidgetsをつかって順番に眺めてみます。\n"
   ]
  },
  {
   "cell_type": "markdown",
   "metadata": {},
   "source": [
    "```python\n",
    "from ipywidgets import interact,fixed,IntSlider\n",
    "import ipywidgets\n",
    "\n",
    "def False_mols(idx):\n",
    "    mol_idx = False_list[idx]\n",
    "    mol = chain_mols[mol_idx]\n",
    "    return(display(Draw.MolToImage(mol)))\n",
    "    \n",
    "interact(False_mols, idx=ipywidgets.IntSlider(min=0,max=len(False_list)-1, step=1));\n",
    "```"
   ]
  },
  {
   "cell_type": "markdown",
   "metadata": {},
   "source": [
    "<img src=\"./images/5-4_gif1.gif\">\n",
    "\n",
    "最初のいくつかはファーマコフォアを満たすとして認識されても良さそうですが、後半は芳香環を一つしかもたないなど、確かに要件を満たしていない、ということがわかります。\n",
    "\n"
   ]
  },
  {
   "cell_type": "markdown",
   "metadata": {},
   "source": [
    "# <u><b>スクリーニングの実施</b></u>\n",
    "## <u><b>スクリーニング対象の再確認</b></u>\n",
    "\n",
    "関数の動作確認ができたので、いよいよ本題のスクリーニングに進みたいと思います。\n",
    "\n",
    "スクリーニング対象の化合物群に関しては、以下の処理をこれまでに行いました。（だいぶ日があいたので再確認）\n",
    "\n",
    "||処理|内容|\n",
    "|:---:|:---:|:---:|\n",
    "|①|指標による絞り込み|Rule of Five & フラグメントライクな化合物の除去|\n",
    "|②|部分構造で絞り込み-1|ビフェニル構造をもつもの|\n",
    "|③|部分構造で絞り込み-2|オルト位に置換基を持つもの|\n",
    "\n",
    "指標としては以下を用いています。\n",
    "\n",
    "|指標|分子量|LogP|水素結合供与体数|水素結合受容体数|回転可能結合数|極性表面積|\n",
    "|:---:|:---:|:---:|:---:|:---:|:---:|:---:|:---:|\n",
    "|Rule of 5|≦500|≦5|≦5|≦10|||\n",
    "|基準|>300|>3||>3|>3|>60|\n",
    "\n",
    "上記の結果として4220個の化合物まで絞り込み、**biphenyl_library.sdf**というSDFで保存しています。"
   ]
  },
  {
   "cell_type": "markdown",
   "metadata": {},
   "source": [
    "## <u><b>スクリーニング本番</b></u>\n",
    "\n",
    "この化合物群にファーマコフォアサーチを実施します。"
   ]
  },
  {
   "cell_type": "markdown",
   "metadata": {},
   "source": [
    "```python\n",
    "biphenyl_suppl = Chem.SDMolSupplier('./biphenyl_library.sdf')\n",
    "biphenyl_mols = [x for x in biphenyl_suppl if x is not None]\n",
    "biphenyl_PScores = []\n",
    "\n",
    "for x in biphenyl_mols:\n",
    "    num_embeds = PSearch3(x)\n",
    "    biphenyl_PScores.append(num_embeds)\n",
    "    x.SetIntProp('PScore', num_embeds)\n",
    "```"
   ]
  },
  {
   "cell_type": "markdown",
   "metadata": {},
   "source": [
    "ヒット（一つ以上ファーマコフォアを満たす構造がembedできた化合物）の数を確認します。"
   ]
  },
  {
   "cell_type": "markdown",
   "metadata": {},
   "source": [
    "```python\n",
    "Hit_list = [i for i, x in enumerate(biphenyl_PScores) if x != 0]\n",
    "\n",
    "print(len(Hit_list))\n",
    "# 2463\n",
    "```"
   ]
  },
  {
   "cell_type": "markdown",
   "metadata": {},
   "source": [
    "合計2463個の化合物が残りました。約半数に絞り込めたようです。\n",
    "\n",
    "上記の計算過程で、"
   ]
  },
  {
   "cell_type": "markdown",
   "metadata": {},
   "source": [
    "```python\n",
    "RDKit ERROR: [23:37:56] DEBUG: Removed embedding due to c[00:09:28] UFFTYPER: Unrecognized charge state for atom: 1\n",
    "```"
   ]
  },
  {
   "cell_type": "markdown",
   "metadata": {},
   "source": [
    "といったエラーが出ましたが、4つだったので今回は深追いするのをやめようと思います。（困難から逃げるダメな大人）\n",
    "\n",
    "embedの数が最も多かった化合物を確認してみます。"
   ]
  },
  {
   "cell_type": "markdown",
   "metadata": {},
   "source": [
    "```python\n",
    "print([i for i, x in enumerate(biphenyl_PScores) if x == max(biphenyl_PScores)])\n",
    "# [1351]\n",
    "\n",
    "max_mol = biphenyl_mols[1351]\n",
    "max_mol.GetProp('PScore')\n",
    "#'99'\n",
    "Draw.MolToImage(max_mol)\n",
    "```"
   ]
  },
  {
   "cell_type": "markdown",
   "metadata": {},
   "source": [
    "数は99で、構造は以下でした。\n",
    "\n",
    "<img src=\"./images/5-4_image4.png\">\n",
    "\n",
    "・・・ほとんどsp2です。溶解度悪そう、、、\n",
    "\n",
    "とりあえず結果をSDFで出力しておきます。"
   ]
  },
  {
   "cell_type": "markdown",
   "metadata": {},
   "source": [
    "```python\n",
    "#保持するためのpropertyを確認\n",
    "check_mol = biphenyl_mols[0]\n",
    "prop_names = [p for p in check_mol.GetPropNames()]\n",
    "print(prop_names)\n",
    "# ['original_id', 'MW', 'MolLogP', 'NumHDonors', 'NumHAcceptors', 'NumRotatableBonds', 'TPSA', 'PScore']\n",
    "\n",
    "writer = Chem.SDWriter('PSearched.sdf')\n",
    "\n",
    "writer.SetProps(prop_names)\n",
    "for mol in biphenyl_mols:\n",
    "    writer.write(mol)\n",
    "writer.close()\n",
    "```"
   ]
  },
  {
   "cell_type": "markdown",
   "metadata": {},
   "source": [
    "おしまい。"
   ]
  },
  {
   "cell_type": "markdown",
   "metadata": {},
   "source": [
    "# <u><b>まとめ</b></u>\n",
    "\n",
    "今回は、前回作成したファーマコフォアをもちいて、スクリーニングを実施してみました。不斉点を持つ化合物に対して期待した挙動をしめさず、いくつか修正が必要となりましたが、最終的に約4000個の化合物から、2500個程度に絞ることができました。思っていたほど減りませんでしたが、ファーマコフォアの設定ポイント（フィーチャー）として、ビフェニル骨格の芳香環２つを選んでいることに由来しているかもしれません。すでに「ビフェニル構造を部分構造として持つ」という絞り込みを行なったリストに対してスクリーニングを実施しているので、「より数を絞り込む」と言う観点からはビフェニル以外のフィーチャーを選択すべきであったかもしれません。\n",
    "\n"
   ]
  },
  {
   "cell_type": "markdown",
   "metadata": {},
   "source": [
    "# 脚注\n",
    "\n",
    "[^1]: 取り出した分子については以前の[記事](https://magattaca.hatenablog.com/entry/2019/01/27/111134?_ga=2.162477756.1870008823.1552777991-757748411.1499518588)をご参照ください。"
   ]
  }
 ],
 "metadata": {
  "kernelspec": {
   "display_name": "Python 3",
   "language": "python",
   "name": "python3"
  },
  "language_info": {
   "codemirror_mode": {
    "name": "ipython",
    "version": 3
   },
   "file_extension": ".py",
   "mimetype": "text/x-python",
   "name": "python",
   "nbconvert_exporter": "python",
   "pygments_lexer": "ipython3",
   "version": "3.6.8"
  },
  "toc": {
   "base_numbering": 1,
   "nav_menu": {},
   "number_sections": true,
   "sideBar": true,
   "skip_h1_title": false,
   "title_cell": "Table of Contents",
   "title_sidebar": "Contents",
   "toc_cell": true,
   "toc_position": {},
   "toc_section_display": true,
   "toc_window_display": true
  }
 },
 "nbformat": 4,
 "nbformat_minor": 2
}
