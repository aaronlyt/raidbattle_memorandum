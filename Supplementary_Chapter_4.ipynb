{
 "cells": [
  {
   "cell_type": "markdown",
   "metadata": {
    "toc": true
   },
   "source": [
    "<h1>Table of Contents<span class=\"tocSkip\"></span></h1>\n",
    "<div class=\"toc\"><ul class=\"toc-item\"><li><span><a href=\"#タンパク質編_第４章　PDBフォーマットの見方\" data-toc-modified-id=\"タンパク質編_第４章　PDBフォーマットの見方-1\"><span class=\"toc-item-num\">1&nbsp;&nbsp;</span>タンパク質編_第４章　PDBフォーマットの見方</a></span><ul class=\"toc-item\"><li><span><a href=\"#発端となった疑惑の構造\" data-toc-modified-id=\"発端となった疑惑の構造-1.1\"><span class=\"toc-item-num\">1.1&nbsp;&nbsp;</span>発端となった疑惑の構造</a></span></li><li><span><a href=\"#PDBフォーマットの見方について\" data-toc-modified-id=\"PDBフォーマットの見方について-1.2\"><span class=\"toc-item-num\">1.2&nbsp;&nbsp;</span>PDBフォーマットの見方について</a></span><ul class=\"toc-item\"><li><span><a href=\"#PDBファイル冒頭：メタデータ\" data-toc-modified-id=\"PDBファイル冒頭：メタデータ-1.2.1\"><span class=\"toc-item-num\">1.2.1&nbsp;&nbsp;</span>PDBファイル冒頭：メタデータ</a></span></li><li><span><a href=\"#３次元構造の情報\" data-toc-modified-id=\"３次元構造の情報-1.2.2\"><span class=\"toc-item-num\">1.2.2&nbsp;&nbsp;</span>３次元構造の情報</a></span></li><li><span><a href=\"#リガンドの表記方法\" data-toc-modified-id=\"リガンドの表記方法-1.2.3\"><span class=\"toc-item-num\">1.2.3&nbsp;&nbsp;</span>リガンドの表記方法</a></span></li><li><span><a href=\"#アミノ酸残基間の相互作用情報\" data-toc-modified-id=\"アミノ酸残基間の相互作用情報-1.2.4\"><span class=\"toc-item-num\">1.2.4&nbsp;&nbsp;</span>アミノ酸残基間の相互作用情報</a></span></li><li><span><a href=\"#REMARK-番号\" data-toc-modified-id=\"REMARK-番号-1.2.5\"><span class=\"toc-item-num\">1.2.5&nbsp;&nbsp;</span>REMARK 番号</a></span></li><li><span><a href=\"#DBRES、SEQRES、SEQADV\" data-toc-modified-id=\"DBRES、SEQRES、SEQADV-1.2.6\"><span class=\"toc-item-num\">1.2.6&nbsp;&nbsp;</span>DBRES、SEQRES、SEQADV</a></span></li><li><span><a href=\"#ファイル末尾：レコード全体の情報\" data-toc-modified-id=\"ファイル末尾：レコード全体の情報-1.2.7\"><span class=\"toc-item-num\">1.2.7&nbsp;&nbsp;</span>ファイル末尾：レコード全体の情報</a></span></li><li><span><a href=\"#結晶格子に関する情報\" data-toc-modified-id=\"結晶格子に関する情報-1.2.8\"><span class=\"toc-item-num\">1.2.8&nbsp;&nbsp;</span>結晶格子に関する情報</a></span></li></ul></li></ul></li><li><span><a href=\"#まとめ\" data-toc-modified-id=\"まとめ-2\"><span class=\"toc-item-num\">2&nbsp;&nbsp;</span>まとめ</a></span></li><li><span><a href=\"#脚注\" data-toc-modified-id=\"脚注-3\"><span class=\"toc-item-num\">3&nbsp;&nbsp;</span>脚注</a></span></li></ul></div>"
   ]
  },
  {
   "cell_type": "markdown",
   "metadata": {},
   "source": [
    "# タンパク質編\\_第４章　PDBフォーマットの見方\n",
    "\n",
    "PDBに登録されている情報をもとに共結晶構造の観察を行ってきましたが、PDBの低分子構造について「自動でアノテーションされているため、間違いが生じる可能性がある」と教えていただきました。実際に構造の一つ「PDB ID: 5NIX」に登録されている低分子のリガンド構造には不自然な点がありました。この原因を調査、構造情報の妥当性を検証するため、以降４回にわたって\n",
    "\n",
    "* PDBファイル / フォーマットの中身の確認　（補遺４）\n",
    "* 問題の構造ファイルについての検証とPDBの情報を利用する際の注意点　（補遺５）\n",
    "* RCSB PDBページ上での構造妥当性の検証　（補遺６）\n",
    "* 電子密度を用いた構造の検証　（補遺７）\n",
    "\n",
    "を行いました。"
   ]
  },
  {
   "cell_type": "markdown",
   "metadata": {},
   "source": [
    "## 発端となった疑惑の構造\n",
    "\n",
    "疑問を抱くきっかけとなったリガンドの構造を下に示します。\n",
    "\n",
    "<img src=\"./images/sup-4_image1.png\">***Fig. 1 リガンド２次元構造の比較***\n",
    "\n",
    "左に示した２次元構造は、RCSB PDBで確認できる、共結晶[PDB id: 5NIX] に含まれるのリガンドの構造ですが、末端部位が1,4-Benzodioxineとなっています。「こんな不安定そうな構造をつくるだろうか？ そもそもどうやって合成するの？」ということで、PDBの元文献と構造が報告されている元の特許を確認しました（図中右）。\n",
    "\n",
    "どちらも1,4-Benzodioxaneとなっており、PDBの構造が間違っている可能性が高そうです。他にもPDB上の構造は、シアノ基の３重結合がなかったり、ピロリジン環のNの位置が違うなど、つっこみどころの多い構造となっています（図左、青枠で示した部分）。\n",
    "\n",
    "PDBの中身についても知っておく必要がありそうです。"
   ]
  },
  {
   "cell_type": "markdown",
   "metadata": {},
   "source": [
    "## PDBフォーマットの見方について\n",
    "\n",
    "PDBファイルのフォーマットの見方について「PDB id : 5NIX」を例に検証して見ました。\n",
    "\n",
    "テキストファイルなのでテキストエディタで開いて中身を確認することが可能です。\n",
    "\n",
    "### PDBファイル冒頭：メタデータ"
   ]
  },
  {
   "cell_type": "markdown",
   "metadata": {},
   "source": [
    "\n",
    "<img src=\"./images/sup-4_image2.png\"> ***Fig. 2 PDBファイルの中身（最初の方）***\n",
    "\n",
    "PDBファイルは１行80列の固定長からなっており、１行が１つのレコードに対応しています。左端の6列が各レコードの識別に割り当てられており、ここを見るとなんとなく何が書いてあるか内容がわかります。\n",
    "\n",
    "固定長のため不自然に改行されていたりしますが、左端を頼りすれば読めそうです。\n",
    "\n",
    "上図は PDBファイルの冒頭ですが、まずはタンパク質の情報や由来、文献、著者などのメタ・データが記載されています。一部ですが、レコードは以下のような情報に対応しています。"
   ]
  },
  {
   "cell_type": "markdown",
   "metadata": {},
   "source": [
    "***Table 1. 各レコード（Fig. 2）の説明***\n",
    "\n",
    "|レコード名|FIELD|定義| 5NIXの場合|\n",
    "|:---:|:---:|:---:|:---:|\n",
    "|HEADER| 11 - 50 列 : classification | 分子の分類 |免疫系 (IMMUNE SYSTEM)|\n",
    "|| 51 - 59 列 : depDate| PDBがデータを受け取った日 (Deposition date) | 2017年5月27日 (27-MAR-17)|\n",
    "|| 63 - 66列 : idCode| 割り当てられたPDB ID |5NIX|\n",
    "|TITLE|9 - 10 列 : continuation|前の行からの続きかどうか|改行されているので2行目に2の記載 |\n",
    "|| 11-80 列 : title|実験のタイトル|PD-L1と低分子の複合体みたいな内容|\n",
    "|COMPND | 8 - 10 列 : continuation| |5行目まで続くので「空白、2、3、4、5」となる|\n",
    "|| 11-80 列 : compound|エントリー中の高分子(macromolecule)の説明|①MOL_ID:エントリー内の分子のID <br> ②MOLECULE:分子の名前 <br> ③CHAIN:含まれるChain IDのリスト<br> ④SYNONYM:シノニムのリスト<br> ⑤ENGINEERED:リコンビナントや化学合成したものか否か|\n",
    "|SOURCE| 8 - 10 列 : continuation||7行目まで続くので「空白、 2、3、4、5、6、7」となる|\n",
    "|| 11 - 79 列 : srcName|高分子のソースの説明| UniProtに書いてあるような情報や 発現に大腸菌を使った(EXPRESSION_SYSTEM) などなどが書いてある |"
   ]
  },
  {
   "cell_type": "markdown",
   "metadata": {},
   "source": [
    "残りは こちら (→[wwPDB Format version 3.3: Title Section](http://www.wwpdb.org/documentation/file-format-content/format33/sect2.html#HEADER)) をご参照ください。 [KEYEDS : キーワード]、[EXPDTA : 構造決定の実験手法 ]、[AUTHOR : 著者]、[REVDAT : 更新履歴]、[JRNL : 文献]、[REMARK：その他詳細等の説明]・・・という感じで続いていきます。大体6文字でなんの略語か想像できますね。\n"
   ]
  },
  {
   "cell_type": "markdown",
   "metadata": {},
   "source": [
    "### ３次元構造の情報\n",
    "\n",
    "いくつかレコードを挟んでタンパク質の３次元構造の情報が記載されています。"
   ]
  },
  {
   "cell_type": "markdown",
   "metadata": {},
   "source": [
    "<img src=\"./images/sup-4_image3.png\">***Fig. 3 原子座標（三次元座標）の部分***"
   ]
  },
  {
   "cell_type": "markdown",
   "metadata": {},
   "source": [
    "上図はネットで見つけた右の講義資料（PDF: [構造バイオインフォマティクス 基礎　立体構造データベースとその利用](http://www.iu.a.u-tokyo.ac.jp/lectures/AG04/120419/120419.pdf)）をもとに作成しました。　\n",
    "\n",
    "立体の情報は各原子の座標という形で記載されているようです。\n",
    "\n",
    "原子名の記載方法（Fig. 3 ③）など、化学で扱うMOLファイルにはみられないような表記の仕方で、重視する情報の違いなどが見えて面白いですね。"
   ]
  },
  {
   "cell_type": "markdown",
   "metadata": {},
   "source": [
    "### リガンドの表記方法\n",
    "\n",
    "タンパク質以外のリガンドはどのように表記されているか？というと、タンパク質の次に、[HETATM]というレコード名で記載されていました。"
   ]
  },
  {
   "cell_type": "markdown",
   "metadata": {},
   "source": [
    "<img src=\"./images/sup-4_image4.png\">***Fig. 4 リガンドの原子座標***"
   ]
  },
  {
   "cell_type": "markdown",
   "metadata": {},
   "source": [
    "[HETATM] の下には [CONECT] というレコードが続きます。こちらは原子間の結合(connectivity) についての情報で、結合に関与する原子の原子通し番号(Fig. 3 ②)を並べるという形で記載されています。 \n"
   ]
  },
  {
   "cell_type": "markdown",
   "metadata": {},
   "source": [
    "<img src=\"./images/sup-4_image5.png\">***Fig. 5 結合情報の記載方法***"
   ]
  },
  {
   "cell_type": "markdown",
   "metadata": {},
   "source": [
    "CONECT レコードは 水分子以外の HET グループについては記載が義務付けられており、以下のようなものが含まれます。( [Connectivity Section](http://www.wwpdb.org/documentation/file-format-content/format33/sect10.html#CONECT) )\n",
    "\n",
    "* (i) 水分子以外の non-standard (HET) residue における分子内の結合関係 \n",
    "\n",
    "* (ii) HET グループから他の standard group (水 含む)、あるいは他のHET groupへの分子間の結合関係\n",
    "\n",
    "* (iii) SSBOND レコードに記載されているジスルフィド結合\n",
    "\n",
    "話が前後してしまいましたが HETレコードは以下のような感じです。 "
   ]
  },
  {
   "cell_type": "markdown",
   "metadata": {},
   "source": [
    "<img src=\"./images/sup-4_image6.png\">***Fig 6. HET レコード関連***"
   ]
  },
  {
   "cell_type": "markdown",
   "metadata": {},
   "source": [
    "PDBの低分子の表記に「~」などが含まれており、転記ミスかと思っていましたが、上付き文字を表すための特殊文字だそうです。「~{R}」 は 「R」 の意味でしょうか？この表記では PDB以外のフォーマットとの互換性が悪そうです。  "
   ]
  },
  {
   "cell_type": "markdown",
   "metadata": {},
   "source": [
    "### アミノ酸残基間の相互作用情報\n",
    "\n",
    "SSBONDは以下のような情報です。"
   ]
  },
  {
   "cell_type": "markdown",
   "metadata": {},
   "source": [
    "<img src=\"./images/sup-4_image7.png\">***Fig. 7 SSBOND と LINK***"
   ]
  },
  {
   "cell_type": "markdown",
   "metadata": {},
   "source": [
    "### REMARK 番号\n",
    "\n",
    "REMARKの中にも興味深い項目がありました。\n",
    "\n",
    "REMARK の 8-10列目の数字は、[ remarkNum : REAMRK number ]でどんな内容がかいてあることを表します([REMARK](https://www.wwpdb.org/documentation/file-format-content/format33/remarks.html))。\n",
    "\n",
    "例えばREMARK number 800 は結合サイトについての情報です。・・・・こういった意味づけに関する情報も書いてあるのか。 "
   ]
  },
  {
   "cell_type": "markdown",
   "metadata": {},
   "source": [
    "<img src=\"./images/sup-4_image8.png\">**Fig. 8 SITE レコード***"
   ]
  },
  {
   "cell_type": "markdown",
   "metadata": {},
   "source": [
    "他にも２次構造情報のレコード [HELIX] や [SHEET] などの情報もあり、このような情報があるからviewer でいろいろな形式で描画したり、結合サイトを抜き出した表示したりできるのか（・・・たぶん？）。楽屋裏を覗いている感じで面白いですね。"
   ]
  },
  {
   "cell_type": "markdown",
   "metadata": {},
   "source": [
    "### DBRES、SEQRES、SEQADV\n",
    "\n",
    "残りのレコードは\n",
    "\n",
    "* [DBREF]: 複数のデータベースのクロスリファレンス (DataBase REFerence?)\n",
    "    データベースとしては\n",
    "    * 「GenBank : GB」\n",
    "    * 「Protein Data Bank : PDB」\n",
    "    * 「UNIPROT : UNP」、「Norine : NORINE」があります。\n",
    "\n",
    "* [SEQRES]: タンパク質のアミノ酸配列\n",
    "* [SEQADV]: PDBエントリーのアミノ酸配列（SEQRES）と他のデータベースの情報との差異\n",
    "\n",
    " "
   ]
  },
  {
   "cell_type": "markdown",
   "metadata": {},
   "source": [
    "### ファイル末尾：レコード全体の情報\n",
    "\n",
    "そして最後、チェック用の「MASTER」レコードと「END」レコードで終わります。"
   ]
  },
  {
   "cell_type": "markdown",
   "metadata": {},
   "source": [
    "<img src=\"./images/sup-4_image9.png\">***Fig. 9 MASTER / END レコード***"
   ]
  },
  {
   "cell_type": "markdown",
   "metadata": {},
   "source": [
    "### 結晶格子に関する情報 \n",
    "\n",
    "結晶学がわからないため飛ばしたレコード [CRTST1]・・・"
   ]
  },
  {
   "cell_type": "markdown",
   "metadata": {},
   "source": [
    "<img src=\"./images/sup-4_image10.png\">***Fig. 10 CRTST1レコード***"
   ]
  },
  {
   "cell_type": "markdown",
   "metadata": {},
   "source": [
    "# まとめ\n",
    "\n",
    "以上、PDBファイルの情報の正しさを探るため、最初の段階としてPDBフォーマットの見方について確認してみました。予想外にテキストファイルで、手軽に情報を確認することが可能でした。"
   ]
  },
  {
   "cell_type": "markdown",
   "metadata": {},
   "source": [
    "# 脚注\n",
    "\n",
    "PDBフォーマットの読み方については下記を参考に致しました。\n",
    "\n",
    "* PDBj 各書式の説明：　[Data Format - Help - Protein Data Bank Japan](https://pdbj.org/help/data-format)\n",
    "\n",
    "* より詳しい各項目の説明 (英語)： [Atomic Coordinate Entry Format Version 3.3](http://www.wwpdb.org/documentation/file-format-content/format33/v3.3.html)\n",
    "\n",
    "* タンパク質計算科学 -基礎と創薬への応用-\n",
    "    神谷成敏,肥後順一,福西快文,中村春木 著\n",
    "    共立出版　初版１刷\n",
    "\n",
    "* MOLファイルの中身について 「化学の新しいカタチ」\n",
    "    [MOLファイル・SDFとはどんな化学情報ファイルなのか？](https://future-chem.com/mol-sdf/)\n",
    "\n",
    "* 対称性について\n",
    "    [PDBの生物学的構造単位について — 生物学的集合体と対称性 1.0 ドキュメント](https://www1.gifu-u.ac.jp/~fujilab/biounit_html/index.html)"
   ]
  }
 ],
 "metadata": {
  "kernelspec": {
   "display_name": "Python 3",
   "language": "python",
   "name": "python3"
  },
  "language_info": {
   "codemirror_mode": {
    "name": "ipython",
    "version": 3
   },
   "file_extension": ".py",
   "mimetype": "text/x-python",
   "name": "python",
   "nbconvert_exporter": "python",
   "pygments_lexer": "ipython3",
   "version": "3.6.8"
  },
  "toc": {
   "base_numbering": 1,
   "nav_menu": {},
   "number_sections": true,
   "sideBar": true,
   "skip_h1_title": false,
   "title_cell": "Table of Contents",
   "title_sidebar": "Contents",
   "toc_cell": true,
   "toc_position": {},
   "toc_section_display": true,
   "toc_window_display": true
  }
 },
 "nbformat": 4,
 "nbformat_minor": 2
}
