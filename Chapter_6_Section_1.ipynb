{
 "cells": [
  {
   "cell_type": "markdown",
   "metadata": {
    "toc": true
   },
   "source": [
    "<h1>Table of Contents<span class=\"tocSkip\"></span></h1>\n",
    "<div class=\"toc\"><ul class=\"toc-item\"><li><span><a href=\"#第６章１節：LBVSしようとする話\" data-toc-modified-id=\"第６章１節：LBVSしようとする話-1\"><span class=\"toc-item-num\">1&nbsp;&nbsp;</span>第６章１節：LBVSしようとする話</a></span></li><li><span><a href=\"#1.-フィンガープリントによるスコア化\" data-toc-modified-id=\"1.-フィンガープリントによるスコア化-2\"><span class=\"toc-item-num\">2&nbsp;&nbsp;</span><b><u>1. フィンガープリントによるスコア化</u></b></a></span><ul class=\"toc-item\"><li><span><a href=\"#1-1.-スコア化手順\" data-toc-modified-id=\"1-1.-スコア化手順-2.1\"><span class=\"toc-item-num\">2.1&nbsp;&nbsp;</span><b><u>1-1. スコア化手順</u></b></a></span></li><li><span><a href=\"#1-2.-step-1.-活性化合物の選別\" data-toc-modified-id=\"1-2.-step-1.-活性化合物の選別-2.2\"><span class=\"toc-item-num\">2.2&nbsp;&nbsp;</span><b><u>1-2. step 1. 活性化合物の選別</u></b></a></span></li><li><span><a href=\"#1-3.-step-2.-フィンガープリントを計算\" data-toc-modified-id=\"1-3.-step-2.-フィンガープリントを計算-2.3\"><span class=\"toc-item-num\">2.3&nbsp;&nbsp;</span><b><u>1-3. step 2. フィンガープリントを計算</u></b></a></span></li><li><span><a href=\"#1-4.-step-3.-共通するビットの抜き出し\" data-toc-modified-id=\"1-4.-step-3.-共通するビットの抜き出し-2.4\"><span class=\"toc-item-num\">2.4&nbsp;&nbsp;</span><b><u>1-4. step 3. 共通するビットの抜き出し</u></b></a></span></li><li><span><a href=\"#1-5.-step-4.-類似度の指標を作成\" data-toc-modified-id=\"1-5.-step-4.-類似度の指標を作成-2.5\"><span class=\"toc-item-num\">2.5&nbsp;&nbsp;</span><b><u>1-5. step 4. 類似度の指標を作成</u></b></a></span></li><li><span><a href=\"#1-6.-step-5.-統合したスコアの作成\" data-toc-modified-id=\"1-6.-step-5.-統合したスコアの作成-2.6\"><span class=\"toc-item-num\">2.6&nbsp;&nbsp;</span><b><u>1-6. step 5. 統合したスコアの作成</u></b></a></span></li></ul></li><li><span><a href=\"#2.-上位化合物の検証\" data-toc-modified-id=\"2.-上位化合物の検証-3\"><span class=\"toc-item-num\">3&nbsp;&nbsp;</span><b><u>2. 上位化合物の検証</u></b></a></span></li><li><span><a href=\"#3.-まとめ\" data-toc-modified-id=\"3.-まとめ-4\"><span class=\"toc-item-num\">4&nbsp;&nbsp;</span><b><u>3. まとめ</u></b></a></span></li><li><span><a href=\"#脚注\" data-toc-modified-id=\"脚注-5\"><span class=\"toc-item-num\">5&nbsp;&nbsp;</span>脚注</a></span></li></ul></div>"
   ]
  },
  {
   "cell_type": "markdown",
   "metadata": {},
   "source": [
    "# 第６章１節：LBVSしようとする話"
   ]
  },
  {
   "cell_type": "markdown",
   "metadata": {},
   "source": [
    "さて、ファーマコフォアを用いた化合物の絞り込みも終わりました・・・と言いたい所ですが、またしても間違いに気づきました。ファーマコフォアサーチに用いたsdfは、オルト位置換基で絞り込む前の、ビフェニルで絞り込んだ段階のものでした！！！\n",
    "\n",
    "順番は入れ替わってしまいますが、ファーマコフォアスクリーニング後の化合物群に対して部分構造（オルト位置換基）で絞り込みをかけても結果は変わらない、、、はず。。。ということで、改めて部分構造のフィルターをかけます。\n"
   ]
  },
  {
   "cell_type": "markdown",
   "metadata": {},
   "source": [
    "```python\n",
    "from rdkit import Chem\n",
    "from rdkit.Chem import AllChem\n",
    "\n",
    "ortho_biphenyl= Chem.MolFromSmarts('c1ccc(c(*)c1)c1ccccc1')\n",
    "P_Matched2_suppl = Chem.ForwardSDMolSupplier('./P_Matched2.sdf')\n",
    "P_Matched2_mols = [mol for mol in P_Matched2_suppl if mol is not None]\n",
    "\n",
    "print(len(P_Matched2_mols))\n",
    "#997\n",
    "\n",
    "#オルト置換ありのリスト\n",
    "ortho_cpds = []\n",
    "#オルト置換なしのリスト\n",
    "w_o_ortho = []\n",
    "\n",
    "for mol in P_Matched2_mols:\n",
    "    if mol.HasSubstructMatch(ortho_biphenyl):\n",
    "        ortho_cpds.append(mol)\n",
    "    else:\n",
    "        w_o_ortho.append(mol)\n",
    "\n",
    "print('Number of ortho substituted compounds', len(ortho_cpds))\n",
    "# Number of ortho substituted compounds 494\n",
    "print('Number of ortho unsubstituted compounds', len(w_o_ortho))\n",
    "# Number of ortho unsubstituted compounds 503\n",
    "```"
   ]
  },
  {
   "cell_type": "markdown",
   "metadata": {},
   "source": [
    "ファーマコフォアスクリーニングで残った化合物（997個）のうち、オルト位に置換基を有するものは約半数の494個でした。こちらを「**P_Matched_ortho.sdf**」という名前で保存しておきました。\n",
    "\n",
    "さて、ようやく今回の本題に、、、\n",
    "\n",
    "これまで既知の活性化合物の情報をもとに\n",
    "\n",
    "1. 部分構造（オルト置換ビフェニル）の有無\n",
    "2. ファーマコフォア（Aromatic x2、Acceptor x1）を満たすか否か\n",
    "\n",
    "と、すこしずつ構造を抽象化（？）しながら数を絞り込んできたことになります。次のステップとして、さらに抽象化した基準で、スコアとして評価する、ということを目指したいと思います。\n",
    "\n",
    "具体的には\n",
    "\n",
    "1. フィンガープリントの使用（複数種類）\n",
    "2. Tanimoto係数による評価\n",
    "\n",
    "を行います。複数のフィンガープリントを使用するのは、前回の記事で参照した DeNA 望月氏の資料で単一のものを用いるよりも、統合した方が良い結果が出た、との記載があったからです。 "
   ]
  },
  {
   "cell_type": "markdown",
   "metadata": {},
   "source": [
    "# <b><u>1. フィンガープリントによるスコア化</b></u>\n",
    "## <b><u>1-1. スコア化手順</b></u>\n",
    "\n",
    "具体的な手順としては以下とします。\n",
    "\n",
    "1. 活性化合物群からファーマコフォア基準を満たすものを選ぶ  \n",
    "2. フィンガープリントを計算\n",
    "3. 複数の活性化合物で共通するビットを重要なビットとして抜き出す\n",
    "4. 3.で抜き出したビットのベクトルと比較した類似度をスコアとする\n",
    "5. 複数のフィンフガープリントにおけるスコアを統合"
   ]
  },
  {
   "cell_type": "markdown",
   "metadata": {},
   "source": [
    "## <b><u>1-2. step 1. 活性化合物の選別</b></u>\n",
    "\n",
    "まずは活性化合物群から、前回スクリーニングに用いたファーマコフォア基準を満たすものを選別します。すべての化合物を用いないのは、すでにライブラリ側の絞り込みをおこなっているため、条件を等しくした方がファーマコフォアに明示的に取り込めなかった重要な情報を反映させることができるのではないか、と考えたからです。\n",
    "\n",
    "（ちょっと自分でも何を言っているかよく分からないですが、そんな気がしました。）\n",
    "\n",
    "同じことの繰り返しなので詳細は省きますが、[共闘用シェアデータ](https://github.com/masahiro-mochizuki/pd1_inhibitor_dataset)から抜き出した、環状ペプチドを除く低分子 39個のうち、24個の分子で２段階のファーマコフォアスクリーニングの条件を満たしました。\n",
    "\n",
    "この化合物群に、共結晶構造から抜き出したリガンド6個を加えて、合計30個をフィンガープリントを計算する対象の活性化合物群とします。(**fp_mols**というリストに格納しました)"
   ]
  },
  {
   "cell_type": "markdown",
   "metadata": {},
   "source": [
    "## <b><u>1-3. step 2. フィンガープリントを計算</b></u>\n",
    "\n",
    "つづいてフィンガープリントを計算します。以下の６つを使います（Morganを2種類使用）。\n",
    "\n",
    "1. MACCS keys [RDKit documentation](https://www.rdkit.org/docs/GettingStartedInPython.html?highlight=maccs#maccs-keys) / [Python API](https://www.rdkit.org/docs/source/rdkit.Chem.rdMolDescriptors.html?highlight=maccs#rdkit.Chem.rdMolDescriptors.GetMACCSKeysFingerprint)\n",
    "2. RDKit [RDKit documentation](https://www.rdkit.org/docs/GettingStartedInPython.html?highlight=maccs#topological-fingerprints) / [Python API](https://www.rdkit.org/docs/source/rdkit.Chem.Fingerprints.FingerprintMols.html#rdkit.Chem.Fingerprints.FingerprintMols.FingerprintMol) / [Python API](https://www.rdkit.org/docs/source/rdkit.Chem.rdmolops.html?highlight=chem%20rdkfingerprint#rdkit.Chem.rdmolops.RDKFingerprint)\n",
    "3. Morgan(Circular) [RDKit documentation](https://www.rdkit.org/docs/GettingStartedInPython.html?highlight=maccs#morgan-fingerprints-circular-fingerprints) / [Python API](https://www.rdkit.org/docs/source/rdkit.Chem.rdMolDescriptors.html?highlight=getmorganfingerprintasbitvect#rdkit.Chem.rdMolDescriptors.GetMorganFingerprintAsBitVect)\n",
    "    * ECFP-like (Morgan(radius=2)) \n",
    "    * FCFP-like (Morgan(radius=2, ,useFeatures=True))\n",
    "4. AtomPairs [RDKit documentation](https://www.rdkit.org/docs/GettingStartedInPython.html?highlight=maccs#atom-pairs-and-topological-torsions) / [Python API](https://www.rdkit.org/docs/source/rdkit.Chem.rdMolDescriptors.html?highlight=getatompairfingerprint#rdkit.Chem.rdMolDescriptors.GetAtomPairFingerprint)\n",
    "5. Avalon [Python API](https://www.rdkit.org/docs/source/rdkit.Avalon.pyAvalonTools.html?highlight=getavalonfp#rdkit.Avalon.pyAvalonTools.GetAvalonFP)\n",
    "\n",
    "これ以外に、Topological Torsions （ [RDKit documentation](https://www.rdkit.org/docs/GettingStartedInPython.html?highlight=maccs#atom-pairs-and-topological-torsions) / [Python API](https://www.rdkit.org/docs/source/rdkit.Chem.rdMolDescriptors.html?highlight=torsionfinger#rdkit.Chem.rdMolDescriptors.GetTopologicalTorsionFingerprint) )も候補にあったのですが、ビット数が多すぎて異音、発熱とともにjupyter notebookのカーネルが落ちたので省きました。\n",
    "\n",
    "計算にあたっては以下の記事、資料を参考とさせていただきました。\n",
    "\n",
    "* 参考1:  [化合物をベクトルにして比較しプロットする](https://qiita.com/Mochimasa/items/f1b60246ece7da46f6a9)  \n",
    "* 参考2:  [AI創薬のためのケモインフォマティクス入門](https://github.com/Mishima-syk/py4chemoinformatics/blob/) 6章  \n",
    "* 参考3:  化学の新しいカタチ [RDKitでフィンガープリントを使った分子類似性の判定](https://future-chem.com/rdkit-fingerprint/)  "
   ]
  },
  {
   "cell_type": "markdown",
   "metadata": {},
   "source": [
    "```python\n",
    "maccs_fps = [AllChem.GetMACCSKeysFingerprint(mol) for mol in fp_mols]\n",
    "rdkit_fps = [AllChem.RDKFingerprint(mol) for mol in fp_mols]\n",
    "ECFP_fps = [AllChem.GetMorganFingerprintAsBitVect(mol, 2, 2048) for mol in fp_mols]\n",
    "FCFP_fps = [AllChem.GetMorganFingerprintAsBitVect(mol, 2, 2048, useFeatures=True) for mol in fp_mols]\n",
    "Apair_fps = [AllChem.GetAtomPairFingerprint(mol) for mol in fp_mols]\n",
    "\n",
    "from rdkit.Avalon import pyAvalonTools\n",
    "avalon_fps = [pyAvalonTools.GetAvalonFP(mol) for mol in fp_mols]\n",
    "```"
   ]
  },
  {
   "cell_type": "markdown",
   "metadata": {},
   "source": [
    "## <b><u>1-4. step 3. 共通するビットの抜き出し</b></u>\n",
    "\n",
    "ついで各フィンガープリントから複数の活性化合物で共通するビットを抜き出します。\n",
    "\n",
    "まずはフィンガープリントをnumpyのarrayに変換します。(上記、参考記事1 をご参照ください)  \n",
    "MACCS keysを使って、試し実験を行います。"
   ]
  },
  {
   "cell_type": "markdown",
   "metadata": {},
   "source": [
    "```python\n",
    "import numpy as np\n",
    "\n",
    "#関数作成（コピペ）\n",
    "def fp2arr(fp):\n",
    "    from rdkit import DataStructs\n",
    "    arr = np.zeros((1,))\n",
    "    DataStructs.ConvertToNumpyArray(fp, arr)\n",
    "    return arr\n",
    "\n",
    "#MACCS keysについてアレイを作成、行列化する\n",
    "maccs_fpMtx = np.array([fp2arr(fp) for fp in maccs_fps])\n",
    "```"
   ]
  },
  {
   "cell_type": "markdown",
   "metadata": {},
   "source": [
    "この行列を使って、**第５章１節**でPLIFを作成した時と同様の可視化を行おうと思います。"
   ]
  },
  {
   "cell_type": "markdown",
   "metadata": {},
   "source": [
    "```python\n",
    "import pandas as pd\n",
    "\n",
    "#行列からDataFrameへ\n",
    "maccs_df = pd.DataFrame(maccs_fpMtx)\n",
    "\n",
    "#各列の合計値をもとめ、DataFrameに追加\n",
    "sums = maccs_df.sum()\n",
    "maccs_df = maccs_df.append(sums, ignore_index=True)\n",
    "\n",
    "#Heatmapで可視化\n",
    "%matplotlib inline\n",
    "import matplotlib as mpl\n",
    "import matplotlib.pyplot as plt\n",
    "import seaborn as sns\n",
    "\n",
    "plt.figure(figsize=(20, 10))\n",
    "sns.heatmap(maccs_df)\n",
    "```"
   ]
  },
  {
   "cell_type": "markdown",
   "metadata": {},
   "source": [
    "<img src=\"./images/6-1_image1.png\">\n",
    "\n",
    "少々見づらいですが、縦軸上から「0 ~ 29」が化合物(30個)、一番下の行「30」が各列の合計値です。横軸はMACCS keyの各ビット(１６７個)です。数に応じて着色されていて、一番下の行をみるとMACCS keyのビットの番号が大きいもので、特に多数の化合物でビットが立っている傾向があることがわかります。\n",
    "\n",
    "予想以上にわかりにくいので、最後の行を抜き出して棒グラフにします。"
   ]
  },
  {
   "cell_type": "markdown",
   "metadata": {},
   "source": [
    "```python\n",
    "plt.figure(figsize=(20, 10))\n",
    "sums.plot(kind='bar', color='k', alpha=0.7)\n",
    "```"
   ]
  },
  {
   "cell_type": "markdown",
   "metadata": {},
   "source": [
    "<img src=\"./images/6-1_image2.png\">\n",
    "\n",
    "要約統計量を眺めて見ます。"
   ]
  },
  {
   "cell_type": "markdown",
   "metadata": {},
   "source": [
    "```python\n",
    "sums.describe()\n",
    "\"\"\"\n",
    "count    167.000000\n",
    "mean      10.377246\n",
    "std       11.409474\n",
    "min        0.000000\n",
    "25%        0.000000\n",
    "50%        3.000000\n",
    "75%       21.000000\n",
    "max       30.000000\n",
    "dtype: float64\n",
    "\"\"\"\n",
    "```"
   ]
  },
  {
   "cell_type": "markdown",
   "metadata": {},
   "source": [
    "各ビットは30個の化合物のうち、平均して10個でビットがたっているようです。10個以上の活性化合物でビットが立っていることを基準として、重要なビット、と捉えることにしてみます。"
   ]
  },
  {
   "cell_type": "markdown",
   "metadata": {},
   "source": [
    "```python\n",
    "maccs_common_bit = []\n",
    "\n",
    "for x in sums:\n",
    "    if x >= 10:\n",
    "        maccs_common_bit.append(1)\n",
    "    else:\n",
    "        maccs_common_bit.append(0)\n",
    "\n",
    "print(sum(maccs_common_bit))\n",
    "#75\n",
    "```"
   ]
  },
  {
   "cell_type": "markdown",
   "metadata": {},
   "source": [
    "MACCS keysフィンガープリントのうち、活性化合物群で重要と考えられるビットのベクトルが手に入りました。75 個 (167 個中)から構成されているようです。\n",
    "\n",
    "上記処理を関数としますが、いちいちデータフレームにするのは意味がなさそうなので合計値と、ビットのアレイをそれぞれ作ることとします。まずはMACCS keysを例に手順を確認してみます。"
   ]
  },
  {
   "cell_type": "markdown",
   "metadata": {},
   "source": [
    "```python\n",
    "maccs_size = len(fp2arr(maccs_fps[0]))\n",
    "#合計値を格納するnumpyのarrayを用意\n",
    "sum_arr = np.zeros(maccs_size)\n",
    "\n",
    "#numpy行列の足し算\n",
    "for i in maccs_fps:\n",
    "    arr = fp2arr(i)\n",
    "    sum_arr += arr\n",
    "\n",
    "print(sum_arr.mean())\n",
    "#10.377245508982035\n",
    "```"
   ]
  },
  {
   "cell_type": "markdown",
   "metadata": {},
   "source": [
    "先ほどと同じ平均値を返しました。DataFrameを介さずにすみそうです。  \n",
    "平均値の小数点以下を切り捨てた整数部分を閾値とするため、**math**の**floor**を使います"
   ]
  },
  {
   "cell_type": "markdown",
   "metadata": {},
   "source": [
    "```python\n",
    "import math\n",
    "maccs_threshold = math.floor(sum_arr.mean())\n",
    "print(maccs_threshold)\n",
    "#10\n",
    "```"
   ]
  },
  {
   "cell_type": "markdown",
   "metadata": {},
   "source": [
    "閾値を求めるところまで確認できたので関数とします。フィンガープリントのサイズと、閾値、各ビットで30個の化合物で立っている数、そして平均以上の数立っているビットのベクトルの４つを戻り値とします。"
   ]
  },
  {
   "cell_type": "markdown",
   "metadata": {},
   "source": [
    "```python\n",
    "def common_bit(fps):\n",
    "    fp_size = len(fp2arr(fps[0]))\n",
    "    sumarr = np.zeros(fp_size)\n",
    "    for i in fps:\n",
    "        arr = fp2arr(i)\n",
    "        sumarr += arr\n",
    "    mean = sumarr.mean()\n",
    "    threshold = math.floor(mean)\n",
    "    \n",
    "    common_bit = []\n",
    "    for x in sumarr:\n",
    "        if x >= threshold:\n",
    "            common_bit.append(1)\n",
    "        else:\n",
    "            common_bit.append(0)\n",
    "    return fp_size, threshold, sumarr, common_bit\n",
    "```"
   ]
  },
  {
   "cell_type": "markdown",
   "metadata": {},
   "source": [
    "フィンガープリント6種に対して適用します。"
   ]
  },
  {
   "cell_type": "markdown",
   "metadata": {},
   "source": [
    "```python\n",
    "fingerprints = [maccs_fps, rdkit_fps, ECFP_fps, FCFP_fps, Apair_fps, avalon_fps]\n",
    "fp_names = ['maccs_fps', 'rdkit_fps', 'ECFP_fps', 'FCFP_fps', 'Apair_fps',  'avalon_fps']\n",
    "\n",
    "#各返り値を格納するためのリストを用意\n",
    "fp_size_list = []\n",
    "threshold_list = []\n",
    "sumarr_list = []\n",
    "common_bit_list = []\n",
    "\n",
    "#計算実行\n",
    "for fps in fingerprints:\n",
    "    sz, th, ar, cb = common_bit(fps)\n",
    "    fp_size_list.append(sz)\n",
    "    threshold_list.append(th)\n",
    "    sumarr_list.append(ar)\n",
    "    common_bit_list.append(cb)\n",
    "```"
   ]
  },
  {
   "cell_type": "markdown",
   "metadata": {},
   "source": [
    "各フィンガープリントのサイズと閾値を確認してみます。"
   ]
  },
  {
   "cell_type": "markdown",
   "metadata": {},
   "source": [
    "```python\n",
    "for name, size, threshold in zip(fp_names, fp_size_list, threshold_list):\n",
    "    print(name, ':', size, ':', threshold)\n",
    "\n",
    "\"\"\"\n",
    "maccs_fps : 167 : 10\n",
    "rdkit_fps : 2048 : 14\n",
    "ECFP_fps : 2048 : 0\n",
    "FCFP_fps : 2048 : 0\n",
    "Apair_fps : 8388608 : 0\n",
    "avalon_fps : 512 : 10\n",
    "\"\"\"\n",
    "```"
   ]
  },
  {
   "cell_type": "markdown",
   "metadata": {},
   "source": [
    "ECFP、FCFP、Atom_pairでは閾値が0となってしまっています。ビットベクトルのサイズの大きさの割に立っているビットが少なく（スパース？）、平均値がとても小さな値となってしまっているのでしょうか？？？\n",
    "\n",
    "これでは閾値として不適合なので、フィンガープリント全体ではなく、**合計値がゼロではない**ビットのみについての平均値を代わりに用いたいと思います。\n",
    "\n",
    "MACCS keysで実験してみます。"
   ]
  },
  {
   "cell_type": "markdown",
   "metadata": {},
   "source": [
    "```python\n",
    "#np.nonzero()は戻り値がインデックスであることに注意\n",
    "non_zero_sum = sum_arr[np.nonzero(sum_arr)]\n",
    "print(non_zero_sum.mean())\n",
    "#16.349056603773583\n",
    "```"
   ]
  },
  {
   "cell_type": "markdown",
   "metadata": {},
   "source": [
    "今度は閾値が16という結果となりました。MACCS keyにおいて非ゼロのビットのみを考慮すると、30個の化合物群のうち、平均して半数で同一のビットが立っているということになります。（この解釈で正しいでしょうか？自信がありません。）\n",
    "\n",
    "上記の新しい閾値をとりいれた関数に書き換えます。"
   ]
  },
  {
   "cell_type": "markdown",
   "metadata": {},
   "source": [
    "```python\n",
    "def common_bit2(fps):\n",
    "    fp_size = len(fp2arr(fps[0]))\n",
    "    sumarr = np.zeros(fp_size)\n",
    "    for i in fps:\n",
    "        arr = fp2arr(i)\n",
    "        sumarr += arr\n",
    "    NonZeroArr = sumarr[np.nonzero(sumarr)]\n",
    "    NonZeroMean = NonZeroArr.mean()\n",
    "    threshold = math.floor(NonZeroMean)\n",
    "    \n",
    "    common_bit = []\n",
    "    for x in sumarr:\n",
    "        if x >= threshold:\n",
    "            common_bit.append(1)\n",
    "        else:\n",
    "            common_bit.append(0)\n",
    "    return fp_size, threshold, sumarr, common_bit\n",
    "```"
   ]
  },
  {
   "cell_type": "markdown",
   "metadata": {},
   "source": [
    "実行の部分は同じなので省略し、結果のみ記載します。"
   ]
  },
  {
   "cell_type": "markdown",
   "metadata": {},
   "source": [
    "```python\n",
    "for name, size, threshold in zip(fp_names, fp_size_list2, threshold_list2):\n",
    "    print(name, ':', size, ':', threshold)\n",
    "\"\"\"\n",
    "maccs_fps : 167 : 16\n",
    "rdkit_fps : 2048 : 14\n",
    "ECFP_fps : 2048 : 4\n",
    "FCFP_fps : 2048 : 5\n",
    "Apair_fps : 8388608 : 14\n",
    "avalon_fps : 512 : 11\n",
    "\"\"\"\n",
    "```"
   ]
  },
  {
   "cell_type": "markdown",
   "metadata": {},
   "source": [
    "全て閾値が0ではなくなりました！スパース性を解決した！  \n",
    "レイドバトルは非ゼロサムゲーム！（知らんけど）  \n",
    "\n",
    "くどいですが再度MACCS keysの値を確認します。"
   ]
  },
  {
   "cell_type": "markdown",
   "metadata": {},
   "source": [
    "```python\n",
    "print('MACCS NonZero: ', len(non_zero_sum))\n",
    "#MACCS NonZero:  106\n",
    "print('MACCS base bits: ', sum(common_bit_list2[0]))\n",
    "#MACCS base bits:  61\n",
    "```"
   ]
  },
  {
   "cell_type": "markdown",
   "metadata": {},
   "source": [
    "MACCS keyに関しては「非ゼロのビットが106個で、このうち61個で閾値を満たす」、となりました。先の棒グラフを見てもそこまでおかしな値とはなっていなさそうです。\n",
    "\n",
    "取り急ぎ、手に入れたビットベクトルを基準としてもちいることとし、辞書に格納しておきます。"
   ]
  },
  {
   "cell_type": "markdown",
   "metadata": {},
   "source": [
    "```python\n",
    "base_BitVect_dict={}\n",
    "\n",
    "for k, v in zip(fp_names, common_bit_list2):\n",
    "    base_BitVect_dict[k] = v\n",
    "```"
   ]
  },
  {
   "cell_type": "markdown",
   "metadata": {},
   "source": [
    "## <b><u>1-5. step 4. 類似度の指標を作成</b></u>\n",
    "\n",
    "基準となるビットベクトルが用意できたので、このベクトルに対してスクリーニング対象の化合物のビットベクトルの類似度を計算したいと思います。\n",
    "\n",
    "タニモト係数を使いたいのですが、numpyのarrayとしており、RDKitのオブジェクトではなくなってしまったので[**DataStructs.TanimotoSimilarity()**](https://www.rdkit.org/docs/source/rdkit.DataStructs.cDataStructs.html?highlight=datastructs%20tanimotosimilarity#rdkit.DataStructs.cDataStructs.BulkTanimotoSimilarity)を使えるかわかりません。\n",
    "\n",
    "Tanimoto類似度の説目を見る限り、ビットが立っている要素について積集合を和集合で割れば良いということのようですから、比較対象のビットベクトル同士を足し合わせて、「**2の要素数**」を「**1 or 2の要素数**」で割ってしまえば良さそうです。\n",
    "\n",
    "まずはファーマコフォアで絞り込んだスクリーニング対象の化合物（オルト位置換も考慮済みのもの）をSDFから読み込み、**scr_mols**というリストに格納しました。\n",
    "\n",
    "一番最初の分子をテスト化合物として取り出し、各フィンガープリントを計算したのち、アレイに変換し、辞書型として格納します。"
   ]
  },
  {
   "cell_type": "markdown",
   "metadata": {},
   "source": [
    "```python\n",
    "test_mol = scr_mols[0]\n",
    "\n",
    "#関数を作成\n",
    "def array_dict(mol):\n",
    "    maccsFP_arr = fp2arr(AllChem.GetMACCSKeysFingerprint(mol))\n",
    "    rdkitFP_arr = fp2arr(AllChem.RDKFingerprint(mol))\n",
    "    ECFP_arr = fp2arr(AllChem.GetMorganFingerprintAsBitVect(mol, 2, 2048))\n",
    "    FCFP_arr = fp2arr(AllChem.GetMorganFingerprintAsBitVect(mol, 2, 2048, useFeatures=True))\n",
    "    Apair_arr = fp2arr(AllChem.GetAtomPairFingerprint(mol))    \n",
    "    avalon_arr = fp2arr(pyAvalonTools.GetAvalonFP(mol))\n",
    "    \n",
    "    tmp_dict = {}\n",
    "    fp_names = ['maccs_fps', 'rdkit_fps', 'ECFP_fps', 'FCFP_fps', 'Apair_fps',  'avalon_fps']\n",
    "    fp_arrs = [maccsFP_arr, rdkitFP_arr, ECFP_arr, FCFP_arr, Apair_arr, avalon_arr]\n",
    "    for k, v in zip(fp_names, fp_arrs):\n",
    "        tmp_dict[k] = v\n",
    "    \n",
    "    return tmp_dict\n",
    "\n",
    "#テスト分子で実行\n",
    "test_array_dict = array_dict(test_mol)\n",
    "```"
   ]
  },
  {
   "cell_type": "markdown",
   "metadata": {},
   "source": [
    "MACCS key に関して、テスト分子と、先に作成した基準ビットベクトルでTanimoto係数を計算してみます。"
   ]
  },
  {
   "cell_type": "markdown",
   "metadata": {},
   "source": [
    "```python\n",
    "#それぞれのビットベクトル（array）を読み込む\n",
    "base_maccsAR = base_BitVect_dict['maccs_fps']\n",
    "test_maccsAR = test_array_dict['maccs_fps']\n",
    "\n",
    "#array同士を足し算\n",
    "maccsAR_sum = base_maccsAR + test_maccsAR\n",
    "\n",
    "#各値の数を確認\n",
    "test_count_1 = np.sum(maccsAR_sum == 1)\n",
    "print('1 :', test_count_1)\n",
    "# 1 : 32\n",
    "test_count_2 = np.sum(maccsAR_sum == 2)\n",
    "print('2 :', test_count_2)\n",
    "# 2 : 36\n",
    "\n",
    "#Tanimoto類似度を計算\n",
    "test_Tanimoto = test_count_2 / (test_count_1 + test_count_2)\n",
    "print('Tamimoto :', test_Tanimoto)\n",
    "#Tamimoto : 0.5294117647058824\n",
    "```"
   ]
  },
  {
   "cell_type": "markdown",
   "metadata": {},
   "source": [
    "うまくいったようです。関数化します。"
   ]
  },
  {
   "cell_type": "markdown",
   "metadata": {},
   "source": [
    "```python\n",
    "def TaniSimCal(arr1, arr2):\n",
    "    arr_sum = arr1 + arr2\n",
    "    count1 = np.sum(arr_sum == 1)\n",
    "    count2 = np.sum(arr_sum == 2)\n",
    "    Tanimoto = count2 / (count1 + count2)\n",
    "    return Tanimoto\n",
    "```"
   ]
  },
  {
   "cell_type": "markdown",
   "metadata": {},
   "source": [
    "スクリーニング対象の化合物について、6種類のフィンガープリントのそれぞれのTanimoto類似度を計算します。"
   ]
  },
  {
   "cell_type": "markdown",
   "metadata": {},
   "source": [
    "```python\n",
    "Scores = [MACCS_Scores, RDkit_Scores, ECFP_Scores, FCFP_Scores, Apair_Scores, Avalon_Scores]\n",
    "\n",
    "MACCS_Scores = []\n",
    "RDkit_Scores = []\n",
    "ECFP_Scores = []\n",
    "FCFP_Scores = []\n",
    "Apair_Scores = []\n",
    "Avalon_Scores = []\n",
    "\n",
    "for mol in scr_mols:\n",
    "    #スクリーニング対象のFPのアレイを作成（辞書）\n",
    "    fp_arr_dict = array_dict(mol)\n",
    "    \n",
    "    #基準の各ビットベクトルに対するTanimoto類似度を計算\n",
    "    for fp, sc in zip(fp_names, Scores):\n",
    "        base_arr = base_BitVect_dict[fp]\n",
    "        scr_arr = fp_arr_dict[fp]\n",
    "        \n",
    "        TaniScore = TaniSimCal(scr_arr, base_arr)\n",
    "        \n",
    "        #各フィンガープリントのスコアリストに追加\n",
    "        sc.append(TaniScore)\n",
    "```"
   ]
  },
  {
   "cell_type": "markdown",
   "metadata": {},
   "source": [
    "スクリーニング対象４９４化合物の、６種類のフィンガープリントについて、活性化合物群から導いた基準ビットベクトルに対する類似度をプロットしてみました。"
   ]
  },
  {
   "cell_type": "markdown",
   "metadata": {},
   "source": [
    "```python\n",
    "for i in range(6):\n",
    "    plt.subplot(2, 3, i+1)\n",
    "    plt.hist(Scores[i], bins=20, range=(0, 1))\n",
    "    plt.title(fp_names[i])\n",
    "```"
   ]
  },
  {
   "cell_type": "markdown",
   "metadata": {},
   "source": [
    "<img src=\"./images/6-1_image3.png\">"
   ]
  },
  {
   "cell_type": "markdown",
   "metadata": {},
   "source": [
    "## <b><u>1-6. step 5. 統合したスコアの作成</b></u>\n",
    "\n",
    "上記で求めた値を統合して、各化合物の統合スコアとしたいのですが、このままではフィンガープリントごとにスコアの分布のばらつきが大きいです。Tanimoto類似度にこのような処理をするのが適切かわかりませんが、各フィンガープリントにおいてスコアを標準化（平均 0, 分散 1）したのち、和をとった値を統合したスコアとしたいと思います。 [^1]"
   ]
  },
  {
   "cell_type": "markdown",
   "metadata": {},
   "source": [
    "```python\n",
    "import statistics\n",
    "\n",
    "Scores_STD = []\n",
    "for l in Scores:\n",
    "    l_mean = statistics.mean(l)\n",
    "    l_stdev = statistics.stdev(l)\n",
    "    s = [(i-l_mean) / l_stdev for i in l]\n",
    "    Scores_STD.append(s)\n",
    "```"
   ]
  },
  {
   "cell_type": "markdown",
   "metadata": {},
   "source": [
    "標準化したスコアを先と同様にプロットします。"
   ]
  },
  {
   "cell_type": "markdown",
   "metadata": {},
   "source": [
    "```python\n",
    "for i in range(6):\n",
    "    plt.subplot(2, 3, i+1)\n",
    "    plt.hist(Scores_STD[i], bins=20)\n",
    "    plt.title(fp_names[i])\n",
    "```"
   ]
  },
  {
   "cell_type": "markdown",
   "metadata": {},
   "source": [
    "<img src=\"./images/6-1_image4.png\">\n",
    "\n",
    "標準化が完了したので、各スコアを足しあわせて統合スコアとします。なんとなく0以上の値にしたいので最小値分シフトさせます。"
   ]
  },
  {
   "cell_type": "markdown",
   "metadata": {},
   "source": [
    "```python\n",
    "Integrated_SC_arr = np.zeros(494)\n",
    "for i in Scores_STD:\n",
    "    Integrated_SC_arr += np.array(i)\n",
    "\n",
    "#最小値を求める\n",
    "int_min = min(Integrated_SC_arr)\n",
    "#最小値の絶対値分シフト\n",
    "Integrated_SC = [i + abs(int_min) for i in Integrated_SC_arr]\n",
    "\n",
    "#グラフ化\n",
    "plt.hist(Integrated_SC, bins=20)\n",
    "```"
   ]
  },
  {
   "cell_type": "markdown",
   "metadata": {},
   "source": [
    "<img src=\"./images/6-1_image5.png\">\n",
    "\n",
    "スコア化が完了したので、**SetDoubleProp**を使って、Molオブジェクトにプロパティ（*Similarity_Score*）として持たせ、SDFで出力しました（*SCR_compounds_SimScore.sdf*）。"
   ]
  },
  {
   "cell_type": "markdown",
   "metadata": {},
   "source": [
    "# <b><u>2. 上位化合物の検証</b></u>\n",
    "\n",
    "スコアの付与とデータの書き出しが完了しました。今回設定したスコアで、上位となった化合物はどのようなものか、確認して見たいと思います。PandasToolsでDataFrameに読み込みます。"
   ]
  },
  {
   "cell_type": "markdown",
   "metadata": {},
   "source": [
    "```python\n",
    "from rdkit.Chem import PandasTools\n",
    "\n",
    "SIM_df = PandasTools.LoadSDF('./SCR_compounds_SimScore.sdf')\n",
    "```"
   ]
  },
  {
   "cell_type": "markdown",
   "metadata": {},
   "source": [
    "スコアの順に並べ替えたいので、typeをstrからfloatに変換しておきます。"
   ]
  },
  {
   "cell_type": "markdown",
   "metadata": {},
   "source": [
    "```python\n",
    "SIM_df['Similarity_Score'] = SIM_df['Similarity_Score'].astype(float)\n",
    "```"
   ]
  },
  {
   "cell_type": "markdown",
   "metadata": {},
   "source": [
    "新しく追加したスコアをつかって降順にソートします。"
   ]
  },
  {
   "cell_type": "markdown",
   "metadata": {},
   "source": [
    "```python\n",
    "SIM_df_st = SIM_df.sort_values('Similarity_Score', ascending=False)\n",
    "```"
   ]
  },
  {
   "cell_type": "markdown",
   "metadata": {},
   "source": [
    "スコアの良いものから１０個取り出してスコアととともに描画します。"
   ]
  },
  {
   "cell_type": "markdown",
   "metadata": {},
   "source": [
    "```python\n",
    "from rdkit.Chem import Draw\n",
    "\n",
    "#Molオブジェクトの取り出し\n",
    "Top_10 = SIM_df_st.iloc[:10, 8]\n",
    "#スコアの取り出しとstrへの変換\n",
    "Top_10_scores = SIM_df_st['Similarity_Score'][:10]\n",
    "legends = [str(i) for i in Top_10_scores]\n",
    "\n",
    "Draw.MolsToGridImage(Top_10, legends = legends)\n",
    "```"
   ]
  },
  {
   "cell_type": "markdown",
   "metadata": {},
   "source": [
    "<img src=\"./images/6-1_image6.png\">\n",
    "\n",
    "かなりそれらしい化合物が選択できてきているのではないでしょうか？\n",
    "\n",
    "少し想定外だったのは、オルト位に置換基の入ったビフェニル構造でスクリーニングした際に、置換基の大きさ（原子数？）をしていなかったためか、オルト位からそのまま分子が伸長したような化合物が上位にヒットしてきているということです。\n",
    "\n",
    "例えばこれまで何度かみてきた下の構造のように、オルト位置換基をもちつつ、他の位置（メタ位など）からさらに分子が伸長している、というのがぼんやりとした理想だったのですが、、、\n",
    "\n",
    "<img src=\"./images/6-1_image7.png\">"
   ]
  },
  {
   "cell_type": "markdown",
   "metadata": {},
   "source": [
    "# <b><u>3. まとめ</b></u>\n",
    "\n",
    "今回は、リガンドをベースにしたスクリーニングを行うにあたって、これまでよりも抽象化し、フィンガープリントを使って見ました。また、使用にあたって\n",
    "\n",
    "* 複数の活性化合物の情報の取り組み\n",
    "* 複数の種類のフィンガープリントの組み合わせ\n",
    "\n",
    "というのを試みて見ました。  \n",
    "上位ランク化合物は、なんとなく頭の中で「こういう化合物がひっかかったらいいな」と思っていた構造とはことなりました。適切な情報にまで落とし込むことと、それを表現することがまだまでできていないようです。\n",
    "\n",
    "ひとまずLBVSっぽいということにしたい！　\n",
    "\n",
    "ところで、創薬レイドバトルの候補化合物絞り込みトップ500と、トップ10の提出みたいなのですが、すでに500個ない。\n",
    "どうしよう・・・\n",
    "\n",
    "それっぽいことをやって見たいというだけで、スコアの標準化や統合（アンサンブル？）などかなり適当なことをしています。間違っている点等あればご指摘いただければ幸いです。\n"
   ]
  },
  {
   "cell_type": "markdown",
   "metadata": {},
   "source": [
    " # 脚注\n",
    " \n",
    "[^1]: Pythonで正規化・標準化(リスト、NumPy配列、pandas.DataFrame) [https://note.nkmk.me/python-list-ndarray-dataframe-normalize-standardize/]"
   ]
  },
  {
   "cell_type": "code",
   "execution_count": null,
   "metadata": {
    "collapsed": true
   },
   "outputs": [],
   "source": []
  }
 ],
 "metadata": {
  "kernelspec": {
   "display_name": "Python 3",
   "language": "python",
   "name": "python3"
  },
  "language_info": {
   "codemirror_mode": {
    "name": "ipython",
    "version": 3
   },
   "file_extension": ".py",
   "mimetype": "text/x-python",
   "name": "python",
   "nbconvert_exporter": "python",
   "pygments_lexer": "ipython3",
   "version": "3.6.8"
  },
  "toc": {
   "base_numbering": 1,
   "nav_menu": {},
   "number_sections": true,
   "sideBar": true,
   "skip_h1_title": false,
   "title_cell": "Table of Contents",
   "title_sidebar": "Contents",
   "toc_cell": true,
   "toc_position": {},
   "toc_section_display": true,
   "toc_window_display": true
  }
 },
 "nbformat": 4,
 "nbformat_minor": 2
}
