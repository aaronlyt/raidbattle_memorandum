{
 "cells": [
  {
   "cell_type": "markdown",
   "metadata": {
    "toc": true
   },
   "source": [
    "<h1>Table of Contents<span class=\"tocSkip\"></span></h1>\n",
    "<div class=\"toc\"><ul class=\"toc-item\"><li><span><a href=\"#第５章　Step-4.-ファーマコフォアスクリーニング\" data-toc-modified-id=\"第５章　Step-4.-ファーマコフォアスクリーニング-1\"><span class=\"toc-item-num\">1&nbsp;&nbsp;</span>第５章　Step 4. ファーマコフォアスクリーニング</a></span></li></ul></div>"
   ]
  },
  {
   "cell_type": "markdown",
   "metadata": {},
   "source": [
    "# 第５章　Step 4. ファーマコフォアスクリーニング"
   ]
  },
  {
   "cell_type": "markdown",
   "metadata": {
    "collapsed": true
   },
   "source": [
    "第５章ではファーマコフォアスクリーニングを実施しています。ファーマコフォアとして２種類の組み合わせをもちいて、２段階のスクリーニングを実施しました。\n",
    "\n",
    "いずれもファーマコフォアの選定には共結晶構造を利用していますが、１段階目では\n",
    "\n",
    "* 複数の共結晶構造から**PLIF**を作成して、**タンパク質側**の相互作用に重要な残基を推定　（第５章１節）\n",
    "* 相互作用に重要と思われる**リガンド側**の特徴を抜き出し、ファーマコフォアを作成\n",
    "* **既知活性化合物群**に対して上記ファーマコフォアによる検索を実施し処理方法を確認　（第５章３節）\n",
    "* **スクリーニング対象化合物群**に対して実際に適用　（第５章４節）\n",
    "\n",
    "という手順で実施しています。また、RDKitをもちいてファーマコフォアスクリーニングを実施するための予備調査として、認識される特徴構造（フィーチャー）の定義を確認しています（第５章２節）\n",
    "\n",
    "ファーマコフォアスクリーニング　２段階目ではファーマコフォアの選定基準をより明確にするため、\n",
    "\n",
    "* 複数の共結晶構造を重ね合わせ、残基とリガンドとの相互作用を確認\n",
    "* 既知活性化合物のSAR（伸長による疎水性ポケットの利用）を踏まえたファーマコフォアの選定　（第５章４節）\n",
    "\n",
    "に取り組みました。\n"
   ]
  },
  {
   "cell_type": "markdown",
   "metadata": {},
   "source": [
    "具体的な処理としては以下の操作となります。\n",
    "\n",
    "（１）１段階目\n",
    "\n",
    "**Protein-Ligand Interaction Profiler(PLIP)**による相互作用解析結果を、残基ごとに相互作用の有無をビット（0 or 1）で表すことで**PLIF**の模倣を試みました。PandasのDataFrameを用いてビットをヒートマップで表した場合が以下のような図となります。\n",
    "\n",
    "```python\n",
    "%matplotlib inline\n",
    "sns.heatmap(FP_df_num)\n",
    "```\n",
    "\n",
    "<img src=\"./images/5-1_image9.png\">\n",
    "\n",
    "（横軸：残基、縦軸：共結晶構造のPDB ID（最下段はビットの合計））\n",
    "\n",
    "\n",
    "\n",
    "ここから「PDB id:5NIX(Ligand:8YQ)」を例に重要と思われる相互作用を以下のように推定しました。\n",
    "\n",
    "||残基番号|アミノ酸|距離|相互作用||残基番号|アミノ酸|距離|相互作用|\n",
    "|:---:|:---:|:---:|:---:|:---:|:---:|:---:|:---:|:---:|:---:|\n",
    "|8YQ</br>(chain A/B)|||||8YQ</br>(chain C/D)|54C|ILE|3.89|Hydrophobic|\n",
    "||56B|TYR|3.82|Hydrophobic||56C|TYR|3.42/3.62|Hydrophobic|\n",
    "||66B|GLN|3.72|Hydrophobic||||||\n",
    "||115A/B|MET|3.70/3.80|Hydrophobic||115C/D|MET|3.85/3.82|Hydrophobic|\n",
    "||121A/B|ALA|3.69/3.75|Hydrophobic||121C/D|ALA|3.96/3.57|Hydrophobic|\n",
    "||123A|TYR|3.80/3.52/3.85|Hydrophobic||123D|TYR|3.72|Hydrophobic|\n",
    "||124A|LYS|5.03/3.18|π-cation/Salt Bridges||124D|Lys|3.70|Water Bridges/Salt Bridges|\n",
    "\n"
   ]
  },
  {
   "cell_type": "markdown",
   "metadata": {},
   "source": [
    "PyMolを利用して上記相互作用を確認し、３点の特徴構造（フィーチャー）を選択、互いの位置関係（距離、角度）からファーマコフォアを作成しました。\n",
    "\n",
    "<img src=\"./images/5-3_image13.png\">\n"
   ]
  },
  {
   "cell_type": "markdown",
   "metadata": {},
   "source": [
    "RDKitを用いたファーマコフォアスクリーニング手順の流れ（①〜⑤）は以下となります。\n",
    "\n",
    "① フィーチャーの設定\n",
    "\n",
    "* ChemicalFeatures.FreeChemicalFeature(**Feature Family**, **Feature Type**, **位置**) \n",
    "* 位置の指定はGeometry.Point3D(**x座標**, **y座標**, **z座標**)\n",
    "\n",
    "```python\n",
    "# Aromaticフィーチャーの場合\n",
    "feat_1=ChemicalFeatures.FreeChemicalFeature('Aromatic',Geometry.Point3D(-7.625, 10.407, -21.653))\n",
    "# feat_2、feat_3も同様に設定 \n",
    "feats = [feat_1,feat_2,feat_3]\n",
    "```\n",
    "\n",
    "② ファーマコフォアの設定\n",
    "\n",
    "設定した複数のフィーチャーの組み合わせ（リストオブジェクト）に対して、互いの位置関係（距離情報）を設定します。この時、距離は範囲（上限、下限を設定した許容範囲）として指定することができます。\n",
    "\n",
    "```python\n",
    "pcophore = Pharmacophore.Pharmacophore(feats) # ファーマコフォアの設定\n",
    "d_upper = 1.5  # 特性基間の距離の許容範囲(上限値)\n",
    "d_lower = 0.5 # 特性基間の距離の許容範囲(下限値)\n",
    "\n",
    "# feat_1とfeat_2の距離 6.3Åを基準に、下限と上限を設定\n",
    "pcophore.setLowerBound(0,1, 6.3-d_lower)\n",
    "pcophore.setUpperBound(0,1, 6.3+d_upper)\n",
    "\n",
    "# feat_2とfeat_3、feat_1とfeat_3の関係性も同様に定義\n",
    "```\n",
    "\n",
    "③ フィーチャーの有無でのスクリーニング\n",
    "\n",
    "EmbedLib.MatchPharmacophoreToMolを使うことで対象の化合物に対してファーマコフォアのマッピングを行い、「全てのフィーチャーが見つけられたか否か（True / False）」、「Trueの場合、見つけられたフィーチャーのリスト」を取得します。\n",
    "\n",
    "```python\n",
    "# test_mHは対象の分子のmolオブジェクト\n",
    "match, mList = EmbedLib.MatchPharmacophoreToMol(test_mH, fdef, pcophore)\n",
    "```\n",
    "\n",
    "④　距離条件を用いたスクリーニング\n",
    "\n",
    "rdDistGeom.GetMoleculeBoundsMatrixで対象化合物の距離行列を取得し、Parm3D.EmbedLib.GetAllPharmacophoreMatchesでファーマコフォアで定義されている距離の条件を満たすか否かを判定します。\n",
    "\n",
    "```python\n",
    "# 距離行列の取得\n",
    "bounds = rdDistGeom.GetMoleculeBoundsMatrix(test_mH)\n",
    "#　ファーマコフォアの距離条件を満たす組み合わせの取得 \n",
    "pList =EmbedLib.GetAllPharmacophoreMatches(mList,bounds,pcophore) \n",
    "```\n",
    "\n",
    "⑤　距離条件を満たす３次元構造を発生させられるか否かを判断基準とした判定\n",
    "\n",
    "ファーマコフォアの条件満たす原子IDのリストを取得し、Pharm3D.EmbedLib.EmbedPharmacophoreで距離情報を拘束条件にした3D構造を発生させます。構造発生の可否（発生数）を基準としてスクリーニングを実施しました。\n",
    "\n",
    "```python\n",
    "Generated_embeds = []\n",
    "for phMatch in phMatches:\n",
    "    bm,embeds,nFail =EmbedLib.EmbedPharmacophore(test_mH, phMatch,\n",
    "                                                 pcophore,count=20,\n",
    "                                                 silent=1)\n",
    "    Generated_embeds.append(len(embeds))\n",
    "\n",
    "#発生数の合計値「sum(Generated_embeds)」を判定基準として使用\n",
    "```\n",
    "\n",
    "以上がファーマコフォアスクリーニングの流れですが、注意点として今回はエラーの回避のため、不斉点の情報を無視して実行しています。（スクリーニング前に一度SMILESに変換してから、２次元に再度戻すという処理を加えています）\n",
    "\n",
    "```python\n",
    "smi = Chem.MolToSmiles(mol, isomericSmiles=False)\n",
    "mol_re = Chem.MolFromSmiles(smi)\n",
    "AllChem.Compute2DCoords(mol_re)\n",
    "```\n"
   ]
  },
  {
   "cell_type": "markdown",
   "metadata": {},
   "source": [
    "（２） ２段階目\n",
    "\n",
    "ファーマコフォアスクリーニングの手順としては（１）と同様ですが、PyMolで共結晶構造を重ね合わせた結果から、以下のファーマコフォアを選定して実施しました。\n",
    "\n",
    "<img src=\"./images/5-5_image16.png\">\n",
    "\n"
   ]
  },
  {
   "cell_type": "markdown",
   "metadata": {},
   "source": [
    "以上、２段階のファーマコフォアスクリーニングを実施し、部分構造による絞り込み(Step 3)と合わせて494個の化合物に絞り込みました。"
   ]
  }
 ],
 "metadata": {
  "kernelspec": {
   "display_name": "Python 3",
   "language": "python",
   "name": "python3"
  },
  "language_info": {
   "codemirror_mode": {
    "name": "ipython",
    "version": 3
   },
   "file_extension": ".py",
   "mimetype": "text/x-python",
   "name": "python",
   "nbconvert_exporter": "python",
   "pygments_lexer": "ipython3",
   "version": "3.6.8"
  },
  "toc": {
   "base_numbering": 1,
   "nav_menu": {},
   "number_sections": true,
   "sideBar": true,
   "skip_h1_title": false,
   "title_cell": "Table of Contents",
   "title_sidebar": "Contents",
   "toc_cell": true,
   "toc_position": {},
   "toc_section_display": true,
   "toc_window_display": true
  }
 },
 "nbformat": 4,
 "nbformat_minor": 2
}
