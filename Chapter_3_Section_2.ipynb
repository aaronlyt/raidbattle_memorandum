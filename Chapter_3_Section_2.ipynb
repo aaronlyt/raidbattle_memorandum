{
 "cells": [
  {
   "cell_type": "markdown",
   "metadata": {
    "toc": true
   },
   "source": [
    "<h1>Table of Contents<span class=\"tocSkip\"></span></h1>\n",
    "<div class=\"toc\"><ul class=\"toc-item\"><li><span><a href=\"#第３章２節：活性化合物群を分析して指標の閾値を決めようとする話\" data-toc-modified-id=\"第３章２節：活性化合物群を分析して指標の閾値を決めようとする話-1\"><span class=\"toc-item-num\">1&nbsp;&nbsp;</span>第３章２節：活性化合物群を分析して指標の閾値を決めようとする話</a></span></li><li><span><a href=\"#SAR-Newsで用いられている指標\" data-toc-modified-id=\"SAR-Newsで用いられている指標-2\"><span class=\"toc-item-num\">2&nbsp;&nbsp;</span><u><b>SAR Newsで用いられている指標</b></u></a></span></li><li><span><a href=\"#PD/PD-L1阻害活性　化合物群の指標の分析\" data-toc-modified-id=\"PD/PD-L1阻害活性　化合物群の指標の分析-3\"><span class=\"toc-item-num\">3&nbsp;&nbsp;</span><u><b>PD/PD-L1阻害活性　化合物群の指標の分析</b></u></a></span><ul class=\"toc-item\"><li><span><a href=\"#指標の計算\" data-toc-modified-id=\"指標の計算-3.1\"><span class=\"toc-item-num\">3.1&nbsp;&nbsp;</span><u><b>指標の計算</b></u></a></span></li><li><span><a href=\"#指標をプロット\" data-toc-modified-id=\"指標をプロット-3.2\"><span class=\"toc-item-num\">3.2&nbsp;&nbsp;</span><u><b>指標をプロット</b></u></a></span></li><li><span><a href=\"#外れ値を取り除く\" data-toc-modified-id=\"外れ値を取り除く-3.3\"><span class=\"toc-item-num\">3.3&nbsp;&nbsp;</span><u><b>外れ値を取り除く</b></u></a></span></li></ul></li><li><span><a href=\"#クラスタリングによる分類\" data-toc-modified-id=\"クラスタリングによる分類-4\"><span class=\"toc-item-num\">4&nbsp;&nbsp;</span><u><b>クラスタリングによる分類</b></u></a></span><ul class=\"toc-item\"><li><span><a href=\"#Morganフィンガープリントとタニモト係数による類似性評価\" data-toc-modified-id=\"Morganフィンガープリントとタニモト係数による類似性評価-4.1\"><span class=\"toc-item-num\">4.1&nbsp;&nbsp;</span><b><u>Morganフィンガープリントとタニモト係数による類似性評価</u></b></a></span></li><li><span><a href=\"#k平均法によるクラスタリング\" data-toc-modified-id=\"k平均法によるクラスタリング-4.2\"><span class=\"toc-item-num\">4.2&nbsp;&nbsp;</span><u><b>k平均法によるクラスタリング</b></u></a></span></li><li><span><a href=\"#ペアプロットへのクラス分類の反映\" data-toc-modified-id=\"ペアプロットへのクラス分類の反映-4.3\"><span class=\"toc-item-num\">4.3&nbsp;&nbsp;</span><u><b>ペアプロットへのクラス分類の反映</b></u></a></span></li></ul></li><li><span><a href=\"#各クラスターに含まれる構造のインタラクティブな描画\" data-toc-modified-id=\"各クラスターに含まれる構造のインタラクティブな描画-5\"><span class=\"toc-item-num\">5&nbsp;&nbsp;</span><u><b>各クラスターに含まれる構造のインタラクティブな描画</b></u></a></span><ul class=\"toc-item\"><li><span><a href=\"#プロット上での描画\" data-toc-modified-id=\"プロット上での描画-5.1\"><span class=\"toc-item-num\">5.1&nbsp;&nbsp;</span><u><b>プロット上での描画</b></u></a></span></li><li><span><a href=\"#スライドバー形式での描画\" data-toc-modified-id=\"スライドバー形式での描画-5.2\"><span class=\"toc-item-num\">5.2&nbsp;&nbsp;</span><u><b>スライドバー形式での描画</b></u></a></span></li></ul></li><li><span><a href=\"#環状ペプチドと低分子とで２つに再度クラス分け\" data-toc-modified-id=\"環状ペプチドと低分子とで２つに再度クラス分け-6\"><span class=\"toc-item-num\">6&nbsp;&nbsp;</span><u><b>環状ペプチドと低分子とで２つに再度クラス分け</b></u></a></span><ul class=\"toc-item\"><li><span><a href=\"#活性化合物群に基づき指標の閾値を考察\" data-toc-modified-id=\"活性化合物群に基づき指標の閾値を考察-6.1\"><span class=\"toc-item-num\">6.1&nbsp;&nbsp;</span><u><b>活性化合物群に基づき指標の閾値を考察</b></u></a></span></li></ul></li><li><span><a href=\"#まとめ\" data-toc-modified-id=\"まとめ-7\"><span class=\"toc-item-num\">7&nbsp;&nbsp;</span><u><b>まとめ</b></u></a></span></li><li><span><a href=\"#脚注\" data-toc-modified-id=\"脚注-8\"><span class=\"toc-item-num\">8&nbsp;&nbsp;</span>脚注</a></span></li></ul></div>"
   ]
  },
  {
   "cell_type": "markdown",
   "metadata": {},
   "source": [
    "# 第３章２節：活性化合物群を分析して指標の閾値を決めようとする話"
   ]
  },
  {
   "cell_type": "markdown",
   "metadata": {},
   "source": [
    "前回、約13万個の化合物を含む**Enamine_Premium_collection**から、分子量300を基準とした分子の絞り込みにより約11万個まで化合物数を減らすことができました。\n",
    "\n",
    "まだまだ多い・・・と思っていたら@iwatobipen先生に分子を絞り込む指標を考える上でとても参考になる記事 [SAR News Np.19](http://bukai.pharm.or.jp/bukai_kozo/SARNews/SARNews_19.pdf)\n",
    "をご紹介いただきました。\n",
    "\n",
    "SAR newsは日本薬学会 構造活性相関部会の[HP](http://bukai.pharm.or.jp/bukai_kozo/jindex.html)の発行しているニュースレターで、だいたい年に２本のペースで発行されており、部会に所属していなくても過去のニュースレターを含めて自由に閲覧可能となっています（バックナンバーは[こちら](http://bukai.pharm.or.jp/bukai_kozo/news.html)から閲覧可能です）。\n"
   ]
  },
  {
   "cell_type": "markdown",
   "metadata": {
    "collapsed": true
   },
   "source": [
    "# <u><b>SAR Newsで用いられている指標</b></u>\n",
    "\n",
    "さて、ご紹介いただいたニュースレターの 株式会社理論創薬研究所 吉森篤史 氏による記事では「**標的タンパク質指向型フラグメントライブラリの構築**」を適用例として、RDKitを用いたフィルタリングの方法が実際のコード含めて解説されています。\n",
    "\n",
    "用いられているフィルタリング基準は、フラグメント指標「**Rule of Three**」で、具体的には以下となっています。\n",
    "\n",
    "||指標|基準|記事中のコード|現在のコード？|\n",
    "|:---:|:---:|:---:|:---:|:---:|\n",
    "|①|分子量| ≦300 |AvailDescriptors.descDict\\['MolWt'\\](*mol*)|Descriptors.MolWt(*mol*)|\n",
    "|②|cLogP| ≦3 |AvailDescriptors.descDict\\['MolLogP'\\](*mol*)|Descriptors.MolLogP(*mol*)|\n",
    "|③|水素結合供与体数| ≦3 |AvailDescriptors.descDict\\['NumHDonors'\\](*mol*)|Descriptors.NumHDonors(*mol*)|\n",
    "|④|水素結合受容体数| ≦3 |AvailDescriptors.descDict\\['NumHAcceptors'\\](*mol*)|Descriptors.NumHAcceptors(*mol*)|\n",
    "|⑤|回転可能結合数| ≦3 |AvailDescriptors.descDict\\['NumRotatableBonds'\\](*mol*)|Descriptors.NumRotatableBonds(*mol*)|\n",
    "|⑥|極性表面積| ≦60 |AvailDescriptors.descDict\\['TPSA'\\](*mol*)|Descriptors.TPSA(*mol*)|\n",
    "\n",
    "記事が2010年のもののためか、現在のRDKitのモジュールを眺めても**AvailDescriptors**というものが見つけられませんでした。「化学の新しいカタチ」さんの記事「 [RDKitにおける記述子の扱い方をリピンスキーの法則を通して学ぶ](https://future-chem.com/rdkit-descriptors/)」 に同じ目的と思われるモジュール（**Descriptors**）が紹介されていましたので、こちらも上記の表に追加しました。\n",
    "\n",
    "上記、指標の基準は**フラグメント**（\"活性が弱いながらも適切な結合を形成できる小分子\"）を対象としているためか、かなり小さな値となっているように見えます。今回の創薬レイドバトルの目標は、ある程度活性が強いものを取得することなので、この基準をそのまま適用するのは良くなさそうです。\n",
    "\n",
    "また、他の指標として**リピンスキーの法則**を用いる、というのも良さそうですが、前回活性化合物群の分子量のデータを眺めた印象では、分子量 500以上の大きなものも多く、すでに**Rule of Five** を外れてしまっています。\n",
    "\n",
    "一般的な指標をそのまま適用するだけでは、既知活性化合物群ですら外れてしまいそうなので、まずは活性化合物群の値がどのようになっているかを検証したいと思います。\n",
    "\n"
   ]
  },
  {
   "cell_type": "markdown",
   "metadata": {},
   "source": [
    "# <u><b>PD/PD-L1阻害活性　化合物群の指標の分析</b></u>\n",
    "\n",
    "## <u><b>指標の計算</b></u>\n",
    "\n",
    "まずは必要なものをimportします。"
   ]
  },
  {
   "cell_type": "markdown",
   "metadata": {},
   "source": [
    "```python\n",
    "from rdkit import rdBase, Chem\n",
    "from rdkit.Chem import AllChem, Draw, Descriptors, PandasTools\n",
    "import pandas as pd\n",
    " \n",
    "print('rdkit version: ',rdBase.rdkitVersion)\n",
    "print('pandas version: ', pd.__version__)\n",
    "#rdkit version:  2018.09.1\n",
    "#pandas version:  0.23.4\n",
    "```"
   ]
  },
  {
   "cell_type": "markdown",
   "metadata": {},
   "source": [
    "前回同様、創薬レイドバトルの共闘用シェアデータを使用します。"
   ]
  },
  {
   "cell_type": "markdown",
   "metadata": {},
   "source": [
    "```python\n",
    "#csv形式のデータをPandasのDataFrameで読み込む\n",
    "df = pd.read_csv('../pd1_inhibitor_dataset-master/PD1_inhibitor_dataset.csv')\n",
    "\n",
    "#smilesカラムのSMILES情報を使ってをMolオブジェクトを追加する\n",
    "PandasTools.AddMoleculeColumnToFrame(df, 'smiles')\n",
    "\n",
    "#ROMolカラムに追加されているMolオブジェクトを使って記述子を計算し、値を追加する。\n",
    "#①分子量\n",
    "df['MW'] = df.ROMol.map(Descriptors.MolWt)\n",
    "#②LogP\n",
    "df['MolLogP'] = df.ROMol.map(Descriptors.MolLogP)\n",
    "#③水素結合供与体数\n",
    "df['NumHDonors'] = df.ROMol.map(Descriptors.NumHDonors)\n",
    "#④水素結合受容体数\n",
    "df['NumHAcceptors'] = df.ROMol.map(Descriptors.NumHAcceptors)\n",
    "#⑤回転可能結合数\n",
    "df['NumRotatableBonds'] = df.ROMol.map(Descriptors.NumRotatableBonds)\n",
    "#⑥極性表面積\n",
    "df['TPSA'] = df.ROMol.map(Descriptors.TPSA)\n",
    "```\n"
   ]
  },
  {
   "cell_type": "markdown",
   "metadata": {},
   "source": [
    "計算した指標の要約統計量を求めてみます。"
   ]
  },
  {
   "cell_type": "markdown",
   "metadata": {},
   "source": [
    "```python\n",
    "#計算した指標のリスト\n",
    "Descriptors_list = ['MW', 'MolLogP', 'NumHDonors', 'NumHAcceptors', 'NumRotatableBonds', 'TPSA']\n",
    "\n",
    "#要約統計量を計算。小数点以下の桁数が多いので丸める\n",
    "df[Descriptors_list].describe().round(2)\n",
    "```"
   ]
  },
  {
   "cell_type": "markdown",
   "metadata": {},
   "source": [
    "<img src=\"./images/3-2_image1.png\">\n",
    "\n",
    "相関係数は以下のようになっています。\n"
   ]
  },
  {
   "cell_type": "markdown",
   "metadata": {},
   "source": [
    "```python\n",
    "#相関係数の計算\n",
    "df[Descriptors_list].corr().round(2)\n",
    "```"
   ]
  },
  {
   "cell_type": "markdown",
   "metadata": {},
   "source": [
    "<img src=\"./images/3-2_image2.png\">\n",
    "\n",
    "ざっと見る限り**MolLogP**のみが他の指標との相関係数が**負**かつ絶対値が小さくなっています。"
   ]
  },
  {
   "cell_type": "markdown",
   "metadata": {},
   "source": [
    "## <u><b>指標をプロット</b></u>\n",
    "\n",
    "数字を見てもイマイチ感触がつかめません。前回分子量を眺めた際に描画すると値の分布がわかりやすかったので今回も描画を行います。一つ一つみるのは面倒なのでSeabornを使ってペアプロットを作成します。\n"
   ]
  },
  {
   "cell_type": "markdown",
   "metadata": {},
   "source": [
    "```python\n",
    "import matplotlib\n",
    "import matplotlib.pyplot as plt\n",
    "import seaborn as sns\n",
    "\n",
    "%matplotlib inline\n",
    "\n",
    "#Seabornを用いたペアプロットの作成\n",
    "sns.pairplot(df[Descriptors_list])\n",
    "```\n"
   ]
  },
  {
   "cell_type": "markdown",
   "metadata": {},
   "source": [
    "<img src=\"./images/3-2_image3.png\">\n",
    "\n",
    "確かに、MolLogPだけが他の指標とのプロットした際に相関が悪そうです。\n",
    "\n",
    "見やすさのためMolLogPを外して再度プロットして見ます。\n"
   ]
  },
  {
   "cell_type": "markdown",
   "metadata": {},
   "source": [
    "```python\n",
    "#計算した指標のリストから MolLogPを除いたもの\n",
    "Descriptors_list_2 = ['MW', 'NumHDonors', 'NumHAcceptors', 'NumRotatableBonds', 'TPSA']\n",
    "sns.pairplot(df[Descriptors_list_2])\n",
    "```\n"
   ]
  },
  {
   "cell_type": "markdown",
   "metadata": {},
   "source": [
    "<img src=\"./images/3-2_image4.png\">\n",
    "\n",
    "残りの指標間は直線上に乗っているようにみえわかりやすくなりました。\n"
   ]
  },
  {
   "cell_type": "markdown",
   "metadata": {},
   "source": [
    "## <u><b>外れ値を取り除く</b></u>\n",
    "\n",
    "各プロットを見ると、最大値となっている分子が１つだけ他の分子から遠く、外れ値のようになっています。特に**NumRotatableBonds**で顕著にみえるので、こちらの最大値がどのような分子なのか眺めて見たいと思います。\n"
   ]
  },
  {
   "cell_type": "markdown",
   "metadata": {},
   "source": [
    "```python\n",
    "#NumRotatableBondsが最大値となる化合物を眺める。\n",
    "#まずは最大値となる化合物の行番号を取得する\n",
    "print(df['NumRotatableBonds'].idxmax())\n",
    "#5と出力\n",
    "\n",
    "#Molオブジェクトの格納されているcolumnの番号を確認\n",
    "print(df.columns.get_loc('ROMol'))\n",
    "#6と出力\n",
    "```"
   ]
  },
  {
   "cell_type": "markdown",
   "metadata": {},
   "source": [
    "\n",
    "DatafFrameの(5, 6) がみたい構造のMOlオブジェクトがある場所のようです。これを描画します。描画の手順は省きます。\n",
    "\n",
    "<img src=\"./images/3-2_image5.png\">\n",
    "\n",
    "環状ペプチドにさらに長い鎖状構造がつながっています。他の構造と比べてかなり特異な構造なので、こちらは外れ値として省いてしまっても良さそうです。\n",
    "\n",
    "新しいDataFrameを作成し、再度ペアプロットを作成します。\n"
   ]
  },
  {
   "cell_type": "markdown",
   "metadata": {},
   "source": [
    "```python\n",
    "#行番号5を除去する\n",
    "df_new = df.drop(5, axis=0)\n",
    "sns.pairplot(df_new[Descriptors_list_2])\n",
    "```"
   ]
  },
  {
   "cell_type": "markdown",
   "metadata": {},
   "source": [
    "<img src=\"./images/3-2_image6.png\">\n",
    "\n",
    "\n",
    "かなり分布がわかりやすくなってきました。いずれの指標においても大きく２つのグループに分子を分けることができそうです。\n",
    "\n",
    "これは・・・クラスタリングというやつが使えるのではないか？？？\n"
   ]
  },
  {
   "cell_type": "markdown",
   "metadata": {},
   "source": [
    "# <u><b>クラスタリングによる分類</b></u>\n",
    "## <b><u>Morganフィンガープリントとタニモト係数による類似性評価</u></b>\n",
    "\n",
    "「化学の新しいカタチ」さんのこちらの記事（[RDKitとk平均法による化合物の非階層型クラスタリング](https://future-chem.com/rdkit-kmeans-clustering/) ）を参考に化合物を2つのクラスターに分けたいと思います。以下の操作は上記記事の処理手順をほぼそのまま使用させていただいています。\n",
    "\n",
    "各分子のMorganフィンガープリントを計算し、分子間の類似性をタニモト係数によって比較、クラスタリングに用いるための距離行列を作成します。\n",
    "\n"
   ]
  },
  {
   "cell_type": "markdown",
   "metadata": {},
   "source": [
    "```python\n",
    "from rdkit import DataStructs\n",
    "from rdkit.Chem import AllChem\n",
    "import numpy as np\n",
    "\n",
    "#計算に使用するためMolオブジェクトのリストを作成\n",
    "mol_list = list(df_new['ROMol'])\n",
    "print(len(mol_list))\n",
    "#52個の分子を含む\n",
    "\n",
    "#Morganフィンガープリントの計算\n",
    "morgan_fp = [AllChem.GetMorganFingerprintAsBitVect(x,2,2048) for x in mol_list]\n",
    "\n",
    "#総数52の分子間で距離行列の計算\n",
    "dis_matrix = [DataStructs.BulkTanimotoSimilarity(morgan_fp[i], morgan_fp[:52],returnDistance=True) for i in range(52)]\n",
    "\n",
    "### numpy.ndarrayへの変換\n",
    "dis_array = np.array(dis_matrix)\n",
    "dis_array.shape\n",
    "```"
   ]
  },
  {
   "cell_type": "markdown",
   "metadata": {},
   "source": [
    "52 x 52 の距離行列が得られました。\n",
    "\n"
   ]
  },
  {
   "cell_type": "markdown",
   "metadata": {},
   "source": [
    "## <u><b>k平均法によるクラスタリング</b></u>\n",
    "\n",
    "k平均法で２つのクラスターに分類します。"
   ]
  },
  {
   "cell_type": "markdown",
   "metadata": {},
   "source": [
    "```python\n",
    "from sklearn.cluster import KMeans\n",
    "import pandas as pd\n",
    "kmeans = KMeans(n_clusters=2)\n",
    "kmeans.fit(dis_array)\n",
    "pd.value_counts(kmeans.labels_)\n",
    "```"
   ]
  },
  {
   "cell_type": "markdown",
   "metadata": {},
   "source": [
    "<img src=\"./images/3-2_image7.png\">\n",
    "\n",
    "\n",
    "10個の分子を含むクラス0と、42個の分子を含むクラス1に分類できました。\n",
    "このクラス分類もDataFrameに追加しておきます。\n"
   ]
  },
  {
   "cell_type": "markdown",
   "metadata": {},
   "source": [
    "```python\n",
    "class_list = []\n",
    "for i in range(len(kmeans.labels_)):\n",
    "    if kmeans.labels_[i] == 0:\n",
    "        class_list.append('class_0')\n",
    "    elif kmeans.labels_[i] == 1:\n",
    "        class_list.append('class_1')\n",
    "        \n",
    "df_new['kmeans_class'] = class_list\n",
    "```\n"
   ]
  },
  {
   "cell_type": "markdown",
   "metadata": {},
   "source": [
    "## <u><b>ペアプロットへのクラス分類の反映</b></u>\n",
    "\n",
    "先に作成したpairplotをkmeans法で分類したクラスに応じて色分けするとどうなるか、見て見たいと思います。\n",
    "\n",
    "もともと他の指標との相関が悪そうだったMolLogPについても、色分けしたらどうなるか気になるので、今回はpairplotに加えたいと思います。\n"
   ]
  },
  {
   "cell_type": "markdown",
   "metadata": {},
   "source": [
    "```python\n",
    "#計算した指標のリスト（MolLogPを含む）にkmeansで形成したクラスも加える\n",
    "Descriptors_class = ['MW', 'MolLogP', 'NumHDonors', 'NumHAcceptors', 'NumRotatableBonds', 'TPSA', 'kmeans_class']\n",
    "sns.pairplot(df_new[Descriptors_class], hue='kmeans_class')\n",
    "```\n"
   ]
  },
  {
   "cell_type": "markdown",
   "metadata": {},
   "source": [
    "<img src=\"./images/3-2_image8.png\">\n",
    "\n",
    "\n",
    "Morganフィンガープリントをつかって２つのクラスターに分けた結果で色分けすると、指標の分布でも比較的良好に２つのクラスターに分かれているように見えます。\n",
    "\n",
    "とくに興味深いのが、MolLogPで、ヒストグラムでは２つのクラスターが重なっていますが、ペアプロット上では割と良好に分布が分かれているように見えます。\n",
    "\n",
    "Morganフィンガープリントがどのように計算しているのか、まだ理解していないのですが指標の分布をうまく説明するようなクラスタリングができているのは面白い結果です。\n",
    "\n"
   ]
  },
  {
   "cell_type": "markdown",
   "metadata": {},
   "source": [
    "# <u><b>各クラスターに含まれる構造のインタラクティブな描画</b></u>\n",
    "## <u><b>プロット上での描画</b></u>\n",
    "\n",
    "各点の構造がどのようなものか、分布の広がりがありつつ２つのクラスターが綺麗に分かれている**MolLogP**と**TPSA**の２軸によるプロットを用いて可視化して見たいと思います。\n",
    "\n",
    "こちらの記事 [Plot Chemical space with d3js based library](https://iwatobipen.wordpress.com/2019/01/19/plot-chemical-space-with-d3js-based-library-rdkit-chemoinformatics/)を参考にさせていただきました。"
   ]
  },
  {
   "cell_type": "markdown",
   "metadata": {},
   "source": [
    "```python\n",
    "import mpld3  #別途インストールしておかないとimportできない\n",
    "from mpld3 import plugins\n",
    "mpld3.enable_notebook()\n",
    "\n",
    "#描画を作成するためのモジュール\n",
    "from rdkit.Chem.Draw import rdMolDraw2D\n",
    "from IPython.display import SVG\n",
    "\n",
    "#svgを格納するための空のリスト\n",
    "svgs_list = []\n",
    "\n",
    "\n",
    "for i in range(len(df_new)):\n",
    "    view = rdMolDraw2D.MolDraw2DSVG(300,300)\n",
    "    \n",
    "    #Molオブジェクトを含むカラムの番号\n",
    "    ROMol_col = df_new.columns.get_loc('ROMol')\n",
    "    \n",
    "    #i行目のMolオブジェクトを取得\n",
    "    mol = df_new.iloc[i, ROMol_col]\n",
    "    \n",
    "    #描画する分子の前処理\n",
    "    prepro_mol = rdMolDraw2D.PrepareMolForDrawing(mol)\n",
    "    \n",
    "    #分子をコンテナに追加\n",
    "    view.DrawMolecule(prepro_mol)\n",
    "    \n",
    "    #コンテナをファイナライズ\n",
    "    view.FinishDrawing()\n",
    "    \n",
    "    #コンテナに書き込んだデータを取り出す\n",
    "    svg = view.GetDrawingText()\n",
    "    \n",
    "    #データをリストに追加\n",
    "    svgs_list.append(svg.replace('svg:,',''))\n",
    "```\n"
   ]
  },
  {
   "cell_type": "markdown",
   "metadata": {},
   "source": [
    "以上で、見たい化合物の構造情報（svg形式）を含むリストが作成できました。あとは、プロットと組み合わせて、プロット上の各点がどのような構造に相当するのかを眺めます。"
   ]
  },
  {
   "cell_type": "markdown",
   "metadata": {},
   "source": [
    "```python\n",
    "fig, ax = plt.subplots()\n",
    "ax.set_xlabel('MolLogP')\n",
    "ax.set_ylabel('TPSA')\n",
    "points = ax.scatter(df_new['MolLogP'], df_new['TPSA'])\n",
    "tooltip = plugins.PointHTMLTooltip(points, svgs_list)\n",
    "plugins.connect(fig, tooltip)\n",
    "```"
   ]
  },
  {
   "cell_type": "markdown",
   "metadata": {},
   "source": [
    "<img src=\"./images/3-2_gif1.gif\">\n",
    "\n",
    "y軸（**TPSA**）値が 500よりも上に位置するのがclass_1、500よりも下に位置するのがclass_0となっています。\n",
    "\n",
    "カーソルをうまくGIFに写すことができずわかりづらくなってしまいましたが、プロット上を右上から反時計回りに順にカーソルを移動させ、構造を表示させています。\n",
    "class_1は全て環状ペプチド、class_0はほとんどが環状ペプチドではない低分子ですが、左下に位置する３つは環状ペプチド構造となっています。\n",
    "\n"
   ]
  },
  {
   "cell_type": "markdown",
   "metadata": {},
   "source": [
    "## <u><b>スライドバー形式での描画</b></u>\n",
    "\n",
    "少しわかりづらかったので、もうひとつのインタラクティブな描画方法を試します。こちらはRDKitの[Blog](https://rdkit.blogspot.com/2018/10/using-new-fingerprint-bit-rendering-code.html)で紹介されていたものです。\n",
    "\n",
    "まずは　class_0 のみを要素とするDataFrameを作成し、さらにMolオブジェクトのリストとします。\n"
   ]
  },
  {
   "cell_type": "markdown",
   "metadata": {},
   "source": [
    "```pyton\n",
    "df_class_0 = df_new[df_new['kmeans_class']== 'class_0']\n",
    "class_0_list = list(df_class_0['ROMol'])\n",
    "```\n"
   ]
  },
  {
   "cell_type": "markdown",
   "metadata": {},
   "source": [
    "\n",
    "以下の方法ではipywidgetsを使って可視化します。\n",
    "\n"
   ]
  },
  {
   "cell_type": "markdown",
   "metadata": {},
   "source": [
    "```python\n",
    "from ipywidgets import interact,fixed,IntSlider\n",
    "import ipywidgets\n",
    "\n",
    "#class_0 に分類された構造を順番に眺めていく\n",
    "def class_0_viewer(idx):\n",
    "    mol = class_0_list[idx]\n",
    "    return(display(Draw.MolToImage(mol)))\n",
    "    \n",
    "interact(class_0_viewer, idx=ipywidgets.IntSlider(min=0,max=len(class_0_list)-1, step=1));\n",
    "```\n"
   ]
  },
  {
   "cell_type": "markdown",
   "metadata": {},
   "source": [
    "<img src=\"./images/3-2_gif2.gif\">\n",
    "\n",
    "class_0 のうち idx = [29, 30, 32] は環状ペプチド構造となっており、その他の構造とは少し違った形となっています。\n",
    "\n",
    "ついでにclass_1もやってみます。同様の操作なのでコードは省略します。\n",
    "\n",
    "<img src=\"./images/3-2_gif3.gif\">\n",
    "\n",
    "順番に構造をおくるとかなりわかりやすくなりました。"
   ]
  },
  {
   "cell_type": "markdown",
   "metadata": {},
   "source": [
    "# <u><b>環状ペプチドと低分子とで２つに再度クラス分け</b></u>\n",
    "\n",
    "環状ペプチドと、それ以外で分けた方がより良いクラス分けとなりそうです。\n",
    "そこでclass_0 に含まれる環状構造 をclass_1に移動し、新しいデータフレームを２つ作成します。"
   ]
  },
  {
   "cell_type": "markdown",
   "metadata": {},
   "source": [
    "```python\n",
    "df_peptides = pd.concat([df_class_1, df_class_0.iloc[[29,30,32]]])\n",
    "df_small_molecules = df_class_0.drop([40,41,43])  # idx=[29, 30, 32]番目の行のindexは[40,41,43]\n",
    "\n",
    "print(len(df_peptides))  # 13と出力\n",
    "print(len(df_small_molecules)) # 39と出力\n",
    "```"
   ]
  },
  {
   "cell_type": "markdown",
   "metadata": {},
   "source": [
    "合計52（13 + 39）個の２つのデータフレームに分けることができました。　処理の最初の段階で、外れ値とも思える大きな分子を一つ取り除いているので、もともとのデータセット（53個）よりも一つ少なくなっています。\n",
    "\n"
   ]
  },
  {
   "cell_type": "markdown",
   "metadata": {},
   "source": [
    "## <u><b>活性化合物群に基づき指標の閾値を考察</b></u>\n",
    "\n",
    "さて、いろいろと操作してきたため、本来の目的を見失ってきました。\n",
    "\n",
    "もともとの目的は、化合物ライブラリから化合物の数を絞り込むための**指標の閾値**を、活性があると報告されている化合物群のデータをもとに決めよう、というものでした。\n",
    "\n",
    "活性化合物群を可視化した結果、２つのクラスターに分類することができ、これをもとに環状ペプチドと、それ以外の低分子との２つに分けることができました。このうち、「PD/PD-L1の相互作用を阻害する低分子を見つける」という目標として参照するのに適しているのは、後者となりそうです。\n",
    "\n",
    "以下のテーブルでは、低分子化合物クラスター(small_molecules)と環状ペプチドクラスター（peptides）における各指標の最小値と最大値、およびLipinski の Rule of Five の値を並べています。\n",
    "\n",
    "化合物を絞り込む際に用いる指標の閾値としては、値の範囲よりも少し広めにとって最右列のフィルタリング目安とするのが手かもしれません。\n",
    "\n",
    "\n",
    "||指標||small_molecules <br> min|small_molecules <br> max|peptides <br> min|peptides <br> max|Lipinski <br> Rule of 5 |フィルタリング目安|\n",
    "|:---:|:---:|:---:|:---:|:---:|:---:|:---:|:---:|:---:|:---:|\n",
    "|①|分子量|MW |215|835|491|2096| <= 500|> 300 <br>（実施済）|\n",
    "|②|cLogP|MolLogP|-2.5|9.5|-6.35|3.20| <= 5 |-3 ~ 10|\n",
    "|③|水素結合供与体数|NumHDonoes|1|7|9|22| <= 5 | < 10| \n",
    "|④|水素結合受容体数|NumHAcceptors |3|9|10|26| <= 10 | < 10|\n",
    "|⑤|回転可能結合数| NumRotatableBonds |2|15|3|39| |< 15|\n",
    "|⑥|極性表面積|TPSA|48|250|237|713| | < 250|\n",
    "\n",
    "念のため今回クラス分類した２つのデータフレームを出力しておきます。"
   ]
  },
  {
   "cell_type": "markdown",
   "metadata": {},
   "source": [
    "```python\n",
    "properties = df_small_molecules.columns.values\n",
    "Chem.PandasTools.WriteSDF(df_small_molecules, 'small_molecules.sdf', molColName='ROMol', idName='compound_id', properties=properties)\n",
    "Chem.PandasTools.WriteSDF(df_peptides, 'peptides.sdf', molColName='ROMol', idName='compound_id', properties=properties)\n",
    "```"
   ]
  },
  {
   "cell_type": "markdown",
   "metadata": {},
   "source": [
    "# <u><b>まとめ</b></u>\n",
    "\n",
    "以上、本記事では分子量以外の化合物絞り込みの基準を探すべく、活性化合物群の情報を分析して見ました。\n",
    "\n",
    "Morganフィンガープリントとk平均法を組み合わせた分類では、環状ペプチドのような構造もいくつかは鎖状低分子と同一のクラスにふくまれるなど、想定外のクラス分けがされて興味深い結果になりました。\n",
    "また、ある程度構造が限られた化合物セットであれば順番に表示させるような機能を利用することで、化合物セットの雰囲気をつかむことができることがわかりました。\n",
    "\n",
    "本記事を作成するにあたって、さまざまなページを参照させていただきました。また、多くのコードを拝借させていただいております。誤り等ございましたらご指摘いただければ幸いです。\n",
    "\n",
    "\n",
    "*~~追記~~*\n",
    "\n",
    "前回の記事で分子量で絞り込んだあとの化合物群（約11万個）の指標を計算してみたら、上記のテーブルのフィルタリング目安ではほとんど絞り込みにならなさそうです。\n",
    "もっとちゃんと考えないとダメそうです・・・私の休日・・・\n",
    "\n",
    "<img src=\"./images/3-2_image9.png\">\n"
   ]
  },
  {
   "cell_type": "markdown",
   "metadata": {},
   "source": [
    "# 脚注\n",
    "\n",
    "参考記事\n",
    "\n",
    "① SAR News No.19     \n",
    "Chemoinformatics Toolkits を用いた創薬システム開発におけるラピッドラタイピング　吉森　篤史   \n",
    "[http://bukai.pharm.or.jp/bukai_kozo/SARNews/SARNews_19.pdf]\n",
    "\n",
    "② 化学の新しいカタチ  \n",
    "[https://future-chem.com/rdkit-descriptors/:title]\n",
    "\n",
    "③ 化学の新しいカタチ  \n",
    "[https://future-chem.com/rdkit-kmeans-clustering/:title]\n",
    "\n",
    "④ IS LIFE WORTH LIVING?\n",
    "[https://iwatobipen.wordpress.com/2019/01/19/plot-chemical-space-with-d3js-based-library-rdkit-chemoinformatics/:title]\n",
    "\n",
    "⑤ The RDKit Blog  \n",
    "[https://rdkit.blogspot.com/2018/10/using-new-fingerprint-bit-rendering-code.html:title]\n",
    "\n",
    "⑥ ipywidgetsのインストール方法  \n",
    "[https://kivantium.net/python-ipywidgets:title]\n",
    "\n",
    "⑦ ipywidgets の User Guide  \n",
    "[https://ipywidgets.readthedocs.io/en/latest/index.html:title]\n",
    "\n"
   ]
  }
 ],
 "metadata": {
  "kernelspec": {
   "display_name": "Python 3",
   "language": "python",
   "name": "python3"
  },
  "language_info": {
   "codemirror_mode": {
    "name": "ipython",
    "version": 3
   },
   "file_extension": ".py",
   "mimetype": "text/x-python",
   "name": "python",
   "nbconvert_exporter": "python",
   "pygments_lexer": "ipython3",
   "version": "3.6.8"
  },
  "toc": {
   "base_numbering": 1,
   "nav_menu": {},
   "number_sections": true,
   "sideBar": true,
   "skip_h1_title": false,
   "title_cell": "Table of Contents",
   "title_sidebar": "Contents",
   "toc_cell": true,
   "toc_position": {},
   "toc_section_display": true,
   "toc_window_display": true
  }
 },
 "nbformat": 4,
 "nbformat_minor": 2
}
