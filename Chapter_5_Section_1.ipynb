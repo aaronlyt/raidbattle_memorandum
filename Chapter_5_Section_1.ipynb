{
 "cells": [
  {
   "cell_type": "markdown",
   "metadata": {
    "toc": true
   },
   "source": [
    "<h1>Table of Contents<span class=\"tocSkip\"></span></h1>\n",
    "<div class=\"toc\"><ul class=\"toc-item\"><li><span><a href=\"#第５章１節：共結晶構造でPLIFを作ろうとした話\" data-toc-modified-id=\"第５章１節：共結晶構造でPLIFを作ろうとした話-1\"><span class=\"toc-item-num\">1&nbsp;&nbsp;</span>第５章１節：共結晶構造でPLIFを作ろうとした話</a></span></li><li><span><a href=\"#PLIP？\" data-toc-modified-id=\"PLIP？-2\"><span class=\"toc-item-num\">2&nbsp;&nbsp;</span><u><b>PLIP？</b></u></a></span><ul class=\"toc-item\"><li><span><a href=\"#認識される相互作用\" data-toc-modified-id=\"認識される相互作用-2.1\"><span class=\"toc-item-num\">2.1&nbsp;&nbsp;</span><u><b>認識される相互作用</b></u></a></span></li><li><span><a href=\"#自分のPCにインストール\" data-toc-modified-id=\"自分のPCにインストール-2.2\"><span class=\"toc-item-num\">2.2&nbsp;&nbsp;</span><u><b>自分のPCにインストール</b></u></a></span></li><li><span><a href=\"#解析対象の共結晶構造\" data-toc-modified-id=\"解析対象の共結晶構造-2.3\"><span class=\"toc-item-num\">2.3&nbsp;&nbsp;</span><u><b>解析対象の共結晶構造</b></u></a></span></li><li><span><a href=\"#解析実行\" data-toc-modified-id=\"解析実行-2.4\"><span class=\"toc-item-num\">2.4&nbsp;&nbsp;</span><u><b>解析実行</b></u></a></span></li></ul></li><li><span><a href=\"#RDKitと組み合わせてPLIFを計算\" data-toc-modified-id=\"RDKitと組み合わせてPLIFを計算-3\"><span class=\"toc-item-num\">3&nbsp;&nbsp;</span><u><b>RDKitと組み合わせてPLIFを計算</b></u></a></span><ul class=\"toc-item\"><li><span><a href=\"#PLIF？\" data-toc-modified-id=\"PLIF？-3.1\"><span class=\"toc-item-num\">3.1&nbsp;&nbsp;</span><u><b>PLIF？</b></u></a></span></li><li><span><a href=\"#OPIGの真似をする\" data-toc-modified-id=\"OPIGの真似をする-3.2\"><span class=\"toc-item-num\">3.2&nbsp;&nbsp;</span><u><b>OPIGの真似をする</b></u></a></span><ul class=\"toc-item\"><li><span><a href=\"#解析ステップ１\" data-toc-modified-id=\"解析ステップ１-3.2.1\"><span class=\"toc-item-num\">3.2.1&nbsp;&nbsp;</span><u><b>解析ステップ１</b></u></a></span></li><li><span><a href=\"#解析ステップ２\" data-toc-modified-id=\"解析ステップ２-3.2.2\"><span class=\"toc-item-num\">3.2.2&nbsp;&nbsp;</span><u><b>解析ステップ２</b></u></a></span></li><li><span><a href=\"#DataFrameとheatmapで可視化\" data-toc-modified-id=\"DataFrameとheatmapで可視化-3.2.3\"><span class=\"toc-item-num\">3.2.3&nbsp;&nbsp;</span><u><b>DataFrameとheatmapで可視化</b></u></a></span></li><li><span><a href=\"#図から雑に解釈\" data-toc-modified-id=\"図から雑に解釈-3.2.4\"><span class=\"toc-item-num\">3.2.4&nbsp;&nbsp;</span><u><b>図から雑に解釈</b></u></a></span></li><li><span><a href=\"#解析ステップ3\" data-toc-modified-id=\"解析ステップ3-3.2.5\"><span class=\"toc-item-num\">3.2.5&nbsp;&nbsp;</span><u><b>解析ステップ3</b></u></a></span></li></ul></li></ul></li><li><span><a href=\"#残基番号のみで再解析\" data-toc-modified-id=\"残基番号のみで再解析-4\"><span class=\"toc-item-num\">4&nbsp;&nbsp;</span><u><b>残基番号のみで再解析</b></u></a></span><ul class=\"toc-item\"><li><span><a href=\"#ビットのリストを取得\" data-toc-modified-id=\"ビットのリストを取得-4.1\"><span class=\"toc-item-num\">4.1&nbsp;&nbsp;</span><u><b>ビットのリストを取得</b></u></a></span></li><li><span><a href=\"#大事そうな残基を探す\" data-toc-modified-id=\"大事そうな残基を探す-4.2\"><span class=\"toc-item-num\">4.2&nbsp;&nbsp;</span><u><b>大事そうな残基を探す</b></u></a></span></li></ul></li><li><span><a href=\"#まとめ\" data-toc-modified-id=\"まとめ-5\"><span class=\"toc-item-num\">5&nbsp;&nbsp;</span><u><b>まとめ</b></u></a></span></li><li><span><a href=\"#脚注\" data-toc-modified-id=\"脚注-6\"><span class=\"toc-item-num\">6&nbsp;&nbsp;</span>脚注</a></span></li></ul></div>"
   ]
  },
  {
   "cell_type": "markdown",
   "metadata": {},
   "source": [
    "# 第５章１節：共結晶構造でPLIFを作ろうとした話"
   ]
  },
  {
   "cell_type": "markdown",
   "metadata": {},
   "source": [
    "これまで化合物ライブラリーの①指標での絞り込み、②部分構造での絞り込みを行なって来ました。今まではリガンド側のことしか考えていなかったので、そろそろタンパク質との関係を考慮に入れたいと思います。ですが、いきなりドッキング（？）はハードルが高いので、まずは共結晶構造をもとに重要な相互作用を確認することから始めたいと思います。\n",
    "\n",
    "以前、RCSB PDBのviewerを使ってリガンド-受容体相互作用を眺めて遊びました。こんな図が見られます。(PDB id: 5J89) [^1] \n",
    "\n",
    "<img src=\"./images/5-1_image1.png\">\n",
    "\n",
    "こういう情報をなんとか格好いい感じで利用したい！！ということで色々と検索していると似たような相互作用解析方法を見つけました。\n",
    "\n",
    "[Protein-Ligand Interaction Profiler(PLIP)](http://plip.biotec.tu-dresden.de/plip-web/plip/index)というものです。\n",
    "文献はこちら[Nucleic Acids Res. 2015(43)W443-447](https://www.ncbi.nlm.nih.gov/pmc/articles/PMC4489249/)\n",
    "\n",
    "いい感じで相互作用を解析してくれるみたいなのでPLIPで遊んでみたいと思います。\n",
    "\n"
   ]
  },
  {
   "cell_type": "markdown",
   "metadata": {},
   "source": [
    "# <u><b>PLIP？</b></u>\n",
    "\n",
    "まずはページの見た目から・・・こんなページです。\n",
    "\n",
    "<img src=\"./images/5-1_image2.png\">\n",
    "\n",
    "試しに上の複合体（PDB id: 5J89）を投げ込んで見ます。\n",
    "\n",
    "<img src=\"./images/5-1_image3.png\">\n",
    "\n",
    "\n",
    "相互作用を形式に分けてリストアップしてくれるみたいです。結果をダウンロードしてPyMolで眺めることもできるそうです。プロファイラー格好良い！\n"
   ]
  },
  {
   "cell_type": "markdown",
   "metadata": {},
   "source": [
    "## <u><b>認識される相互作用</b></u>\n",
    "\n",
    "Supplementary　Informationによるとデフォルトで以下のような非共有結合性の相互作用を認識してくれるそうです。\n",
    "\n",
    "|相互作用||基準|変数|\n",
    "|:---:|:---:|:---:|\n",
    "|疎水性相互作用|Hydrophobic interacrtions|距離 (4.0Å以下)|HYDROPH_DIST_MAX| \n",
    "|水素結合|Hydrogen Bonds|距離 (4.1Å以下) <br> 角度 (100°以上)|HBOND_DIST_MAX <br>  HBOND_DON_ANGLE_MIN|\n",
    "|π-πスタッキング|Aromatic Stacking|距離 (7.5Å以下) <br> 角度<br>(T-stacking 90°±30°、<br> P-stacking 180°±30°) <br> 環の中心同士の距離 (2.0Å以下)|PISTACK_DIST_MAX <br> PISTACK_ANG_DEV <br>  PISTACK_OFFSET_MAX|\n",
    "|π-カチオン相互作用|Pi-Cation interactions|距離 (6.0Å以下)<br>（３級アミンは角度も）|PICATION_DIST_MAX|\n",
    "|塩橋|Salt Bridges|電荷の中心間の距離 (5.5Å以下)|SALTBRIDGE_DIST_MAX|\n",
    "|水を介した水素結合|Water-brodged hydrogen bonds|水分子の位置 (2.5Å~4.0Å)<br> 角度２つ<br> (75°<ω<140°, 100°<θ) )|WATER_BRIDGE_MINDIST, WATER_BRIDGE_MAXDIST <br>  WATER_BRIDGE_OMEGA_MIN, WATER_BRIDGE_OMEGA_MAX <br>  WATER_BRIDGE_THETA_MIN|\n",
    "|ハロゲン結合|Halogen bonds|距離 (4.0Å以下) <br> 角度<br>(Donor 165°±30°,<br> Acceptor 120°±30°) |HALOGEN_DIST_MAX, <br> HALOGEN_DON_ANGLE, HALOGEN_ACC_ANGLE, HALOGEN_ANG_DEV|\n"
   ]
  },
  {
   "cell_type": "markdown",
   "metadata": {},
   "source": [
    "## <u><b>自分のPCにインストール</b></u>\n",
    "\n",
    "コマンドラインからも使えるそうなのでインストールしてみます。\n",
    "\n",
    "[Githubの説明](https://github.com/ssalentin/plip)によると原子の属性の判別にOpenBabelを使っているそうで、OpenBabel（>= 2.3.2）のインストールが必要だそうです。他にはオプションですが\n",
    "\n",
    "* PyMOL（>=1.7.x　with Python bindings）\n",
    "* Imagemagick（>=1.7.x）\n",
    "* swig\n",
    "\n",
    "などに依存しているそうです。\n",
    "\n",
    "```console\n",
    "pip install plip\n",
    "```\n",
    "とすることでインストールできますが、Python 2.7.x.で実行してくださいとのことで、pip3としてみたらOpenBabelのwheelがどうのこうのというエラーで止まりました。\n",
    "\n"
   ]
  },
  {
   "cell_type": "markdown",
   "metadata": {},
   "source": [
    "## <u><b>解析対象の共結晶構造</b></u>\n",
    "\n",
    "今回、相互作用解析を行いたい結晶構造はPD-L1と低分子の共結晶構造です。以前、UniProtの情報をもとに作成した[記事](https://magattaca.hatenablog.com/entry/2018/10/14/152355?_ga=2.3499120.1162587969.1550149100-757748411.1499518588)から、低分子のものを取り出すと以下となります。\n",
    "\n",
    "\n",
    "| PDB entry | Resolution (Å) | Chain   | Positions |リガンド|リガンドID| 文献 |\n",
    "|:----:|:----:|:----:|:----:|:----:|:----:|:----:|\n",
    "|5J89|2.20| A/B/C/D |2-134| BMS-202 |6GX| Oncotarget 2016(7)30323|\n",
    "|5J8O|2.30| A/B| 18-134| BMS-8  |6GZ| Oncotarget 2016(7)30323|\n",
    "|5N2D|2.35| A/B/C/D | 2-134|BMS-37|8J8| J. Med. Chem. 2017(60)5857|\n",
    "|5N2F|1.70| A/B | 18-134| BMS-200|8HW| J. Med. Chem. 2017(60)5857|\n",
    "|5NIU|2.01| A/B/C/D | 18-134| BMS-1001|8YZ| Oncotarget 2017(8)72167|\n",
    "|5NIX|2.20| A/B/C/D | 18-134| BMS-1166|8YQ| Oncotarget 2017(8)72167|\n",
    "\n",
    "登録されている低分子の構造がおかしいのではないか？といった問題はありますが、今回はそのあたりは無視します。（ご興味のある方は以前の記事をご参照いただければと思います。[記事1](https://magattaca.hatenablog.com/entry/2018/11/06/224500) [記事2](https://magattaca.hatenablog.com/entry/2018/11/11/102403) [記事3](https://magattaca.hatenablog.com/entry/2018/11/11/183440)）\n"
   ]
  },
  {
   "cell_type": "markdown",
   "metadata": {},
   "source": [
    "## <u><b>解析実行</b></u>\n",
    "\n",
    "PLIPはPDB idさえあればPDBのサーバーからデータをとってきて解析してくれるとのことなので、以下のコマンドをターミナルで実行しました。\n",
    "（Pythonのパス？の通し方がわからなくてJupyter notebookから使えなかった・・・）\n",
    "\n",
    "```console\n",
    "alias plip='python ~/pliptool/plip/plipcmd.py'\n",
    "plip -i 5J89 -x\n",
    "```\n",
    "\n",
    "「-i PDBID」で解析したい構造のIDを、「-x」とすることで結果をXMLレポートファイルで出力できます。\n",
    "\n",
    "このまま実行しようとしたところ、以下のようなエラーが出て来ました。\n",
    "\n",
    "```python\n",
    "File \"/usr/local/lib/python3.7/site-packages/plip/modules/supplemental.py\", line 388, in read_pdb\n",
    "    resource.setrlimit(resource.RLIMIT_STACK, (min(2 ** 28, maxsize), maxsize))\n",
    "ValueError: current limit exceeds maximum limit\n",
    "```\n",
    "\n",
    "よくわからないので該当の箇所を確認して見ました。\n",
    "\n",
    "```python\n",
    "def read_pdb(pdbfname, as_string=False):\n",
    "    \"\"\"Reads a given PDB file and returns a Pybel Molecule.\"\"\"\n",
    "    pybel.ob.obErrorLog.StopLogging()  # Suppress all OpenBabel warnings\n",
    "    if os.name != 'nt':  # Resource module not available for Windows\n",
    "        maxsize = resource.getrlimit(resource.RLIMIT_STACK)[-1]\n",
    "        resource.setrlimit(resource.RLIMIT_STACK, (min(2 ** 28, maxsize), maxsize))\n",
    "    sys.setrecursionlimit(10 ** 5)  # increase Python recoursion limit\n",
    "    return readmol(pdbfname, as_string=as_string)\n",
    "```\n",
    "\n",
    "PDBファイルを読み込むための関数のようです。Pythonライブラリの[resource](https://docs.python.org/ja/3.8/library/resource.html)の説明を見るかぎり、エラーとなっている箇所はプログラムによって使用されているシステムリソースを制限する処理のようです。PDBファイルを読み込むリソースの制限なら外してしまっても良さそうなので、コメントアウトして見ました。\n",
    "\n",
    "```python\n",
    "def read_pdb(pdbfname, as_string=False):\n",
    "    \"\"\"Reads a given PDB file and returns a Pybel Molecule.\"\"\"\n",
    "    pybel.ob.obErrorLog.StopLogging()  # Suppress all OpenBabel warnings\n",
    "    #if os.name != 'nt':  # Resource module not available for Windows\n",
    "        #maxsize = resource.getrlimit(resource.RLIMIT_STACK)[-1]\n",
    "        #resource.setrlimit(resource.RLIMIT_STACK, (min(2 ** 28, maxsize), maxsize))\n",
    "    sys.setrecursionlimit(10 ** 5)  # increase Python recoursion limit\n",
    "    return readmol(pdbfname, as_string=as_string)\n",
    "```\n",
    "\n",
    "保存して再度実行したらエラーで止まらずに動き、無事XMLファイルが出力されました。こんな雑なことしていいのかよくわかりませんが、とりあえず動いたので良しとします。\n"
   ]
  },
  {
   "cell_type": "markdown",
   "metadata": {},
   "source": [
    "# <u><b>RDKitと組み合わせてPLIFを計算</b></u>\n",
    "\n",
    "共結晶構造、全6構造に対して実行し、相互作用の情報を持つXMLファイルを手に入れたもののこれをどうしよう？？？と思っていたところOxford Protein Informatics Group（OPIG）のブログ記事（[How to Calculate PLIFs Using RDKit and PLIP](https://www.blopig.com/blog/2016/11/how-to-calculate-plifs-using-rdkit-and-plip/) ）に行き当たりました。PLIPのデータとRDKitを使ってProtein-Ligand interaction fingerprints (PLIFs)というのを計算できるそうです。\n",
    "\n"
   ]
  },
  {
   "cell_type": "markdown",
   "metadata": {},
   "source": [
    "## <u><b>PLIF？</b></u>\n",
    "\n",
    "株式会社MOLSISの[MOEの機能紹介](https://www.molsis.co.jp/lifescience/moe/sbdd/)にPLIFの説明がありました。\n",
    "\n",
    "\n",
    "> 「リガンド-受容体間の相互作用の種類と強さをフィンガープリントで表現し、複数の結合状態を統計的に解析します。ドッキング結果や複数の複合体構造に含まれる相互作用を解析することで、活性/不活性に関連する相互作用の検出や、活性/不活性を分類する相互作用組み合わせルールの抽出、ルールに適合する活性ポーズに共通するファーマコフォアの検出などが行えます。」\n",
    "\n",
    "化合物間の類似性評価にフィンガープリントが用いていましたが、タンパク質との相互作用解析にも拡張した、ということのようです。[SAR News No.18](http://bukai.pharm.or.jp/bukai_kozo/SARNews/SARNews_18.pdf)の記事「**実験と連携できる SBDD へ向けて**」によるとPLIFの他にもSIFt([JMC2004(47)337](https://pubs.acs.org/doi/abs/10.1021/jm030331x))、aPLIF、aPLIED、Pharm-IF([JCIM2010(50)170](https://pubs.acs.org/doi/abs/10.1021/ci900382e))といった手法があるようです。 [^2] \n",
    "\n"
   ]
  },
  {
   "cell_type": "markdown",
   "metadata": {},
   "source": [
    "## <u><b>OPIGの真似をする</b></u>\n",
    "\n",
    "OPIGで紹介されていた方法は、\n",
    "\n",
    "1. PLIPの解析結果を使って結合サイトに含まれるアミノ酸残基と、リガンドとの相互作用に関わる残基を抜き出す\n",
    "2. 1.の情報をもとにRDKitでフィンガープリントにする\n",
    "3. 2.のフィンガープリントで複合体間の相互作用の類似性を評価\n",
    "\n",
    "といった流れでした。\n",
    "\n",
    "早速OPIGのコードをコピペしていきます。（日本語の部分は備忘録として私が加えたものです。）\n",
    "\n"
   ]
  },
  {
   "cell_type": "markdown",
   "metadata": {},
   "source": [
    "### <u><b>解析ステップ１</b></u>\n",
    "\n",
    " PLIPの解析結果（XMLファイル）から情報を取得します。\n"
   ]
  },
  {
   "cell_type": "markdown",
   "metadata": {},
   "source": [
    "```python\n",
    "# XMLを扱う標準ライブラリ（ElementTree）を使う\n",
    "import xml.etree.ElementTree as ET\n",
    "\n",
    "# 結合サイトのアミノ酸残基情報を取り出すための関数を定義\n",
    "def generate_plif_lists(report_file, residue_list, lig_ident):\n",
    "    # uses report.xml from PLIP to return list of interacting residues \n",
    "    # and update list of residues in binding site\n",
    "    plif_list_all = []\n",
    "        \n",
    "    tree = ET.parse(report_file) #ファイルの読み込み\n",
    "        \n",
    "    root = tree.getroot() #ルート要素を取得する\n",
    "        \n",
    "    # list of residue keys that form an interaction\n",
    "        \n",
    "    for binding_site in root.findall('bindingsite'): #findall()で直接の子要素を検索\n",
    "                \n",
    "        nest = binding_site.find('identifiers') #find()で最初の子要素にアクセス\n",
    "                \n",
    "        lig_code = nest.find('hetid') #<hetid>タグに記載されたリガンドIDを取得\n",
    "\n",
    "        if str(lig_code.text) == str(lig_ident):\n",
    "            #関数の引数に与えたlig_identとリガンドIDが等しい時だけ情報を取得\n",
    "            #get the plifs stuff here\n",
    "            nest_residue = binding_site.find('bs_residues')\n",
    "            #結合サイトに含まれるアミノ酸残基のリストを取得\n",
    "            residue_list_tree = nest_residue.findall('bs_residue')\n",
    "\n",
    "            for residue in residue_list_tree:\n",
    "                res_id = residue.text\n",
    "                                \n",
    "                dict_res_temp = residue.attrib #要素の属性(attribute)を取得\n",
    "\n",
    "                #結合サイトの残基一覧に含まれていない場合は残基を追加する\n",
    "                if res_id not in residue_list:\n",
    "                    residue_list.append(res_id)\n",
    "\n",
    "                #リガンドとの相互作用（contact）TRUEのものだけPLIFリストに追加\n",
    "                if dict_res_temp['contact'] == 'True':\n",
    "                    if res_id not in plif_list_all:\n",
    "                        plif_list_all.append(res_id)\n",
    "\n",
    "    return plif_list_all, residue_list\n",
    "```"
   ]
  },
  {
   "cell_type": "markdown",
   "metadata": {},
   "source": [
    "では定義した関数を使いましょう。まずは結合サイトに含まれるアミノ酸残基（リガンドとの相互作用の有無は関係なし）を格納するための空のリストを作っておきます。\n"
   ]
  },
  {
   "cell_type": "markdown",
   "metadata": {},
   "source": [
    "```python\n",
    "bs_res_list = [] \n",
    "```"
   ]
  },
  {
   "cell_type": "markdown",
   "metadata": {},
   "source": [
    "PDBの6つの構造についてPDB IDと、リガンドIDの組み合わせの辞書を作ります。\n"
   ]
  },
  {
   "cell_type": "markdown",
   "metadata": {},
   "source": [
    "```python\n",
    "P_L_dict = {\"5J89\":\"6GX\",\"5J8O\":\"6GZ\",\"5N2D\":\"8J8\",\n",
    "            \"5N2F\":\"8HW\",\"5NIU\":\"8YZ\",\"5NIX\":\"8YQ\"}\n",
    "\n",
    "contact_res_dict = {}\n",
    "for pdb_id, lig_id in P_L_dict.items():\n",
    "    pl = \"conres_\" + pdb_id\n",
    "    \n",
    "    # xmlファイルは各PDB ID名のフォルダにそれぞれ格納した\n",
    "    xml_path = \"PLIP_results/\" + pdb_id + \"/report.xml\"\n",
    "\n",
    "    pl, bs_res_list = generate_plif_lists(xml_path, bs_res_list, lig_id)\n",
    "    \n",
    "    contact_res_dict[pdb_id] = pl\n",
    "```"
   ]
  },
  {
   "cell_type": "markdown",
   "metadata": {},
   "source": [
    "得られた辞書（contact_res_dict）はPDB IDをキーとして、リガンドと接触する残基を値としています。"
   ]
  },
  {
   "cell_type": "markdown",
   "metadata": {},
   "source": [
    "```python\n",
    "print(contact_res_dict.keys())\n",
    "# dict_keys(['5J89', '5J8O', '5N2D', '5N2F', '5NIU', '5NIX'])\n",
    "\n",
    "print(contact_res_dict['5J89'])\n",
    "# ['66B', '56B', '121B', '121A', '56A', '115A', '54B', '123A', '115D', '121D', '115C', '121C', '124C', '54D', '56D', '123C', '20C', '56C', '66D']\n",
    "```\n"
   ]
  },
  {
   "cell_type": "markdown",
   "metadata": {},
   "source": [
    "結合サイトに含まれるアミノ酸残基の全体はbs_res_listに格納されています。\n"
   ]
  },
  {
   "cell_type": "markdown",
   "metadata": {},
   "source": [
    "```python\n",
    "print(len(bs_res_list))\n",
    "# 136\n",
    "```\n"
   ]
  },
  {
   "cell_type": "markdown",
   "metadata": {},
   "source": [
    "136個と非常に多いように思います。今回用いた共結晶構造ではPD-L1の２量体に対してリガンドが１つ結合しています。配列の位置としては等しくても、CHAIN名が異なるものを別の残基としてカウントしているため、多くなっているのではないかと思います。\n"
   ]
  },
  {
   "cell_type": "markdown",
   "metadata": {},
   "source": [
    "### <u><b>解析ステップ２</b></u>\n",
    "\n",
    "残基のリストが得られたのでRDKitのPLIFとします。\n",
    "\n",
    "以下の関数では結合サイトに含まれるアミノ酸残基全体の長さの次元のビットベクトルを用意し、相互作用に関わっている残基についてビットを立てます。\n"
   ]
  },
  {
   "cell_type": "markdown",
   "metadata": {},
   "source": [
    "```python\n",
    "from rdkit import Chem,  DataStructs\n",
    "from rdkit.DataStructs import cDataStructs\n",
    "\n",
    "def generate_rdkit_plif(residue_list, plif_list_all):\n",
    "    #generates RDKit plif given list of residues in binding site and list of interacting residues\n",
    "    \n",
    "    plif_rdkit = DataStructs.ExplicitBitVect(len(residue_list), False)\n",
    "    for index, res in enumerate(residue_list):\n",
    "        if res in plif_list_all:\n",
    "            # print('here') もともとのコードにはあったが面倒なのでコメントアウト\n",
    "            plif_rdkit.SetBit(index)\n",
    "        else:\n",
    "            continue\n",
    "    return plif_rdkit\n",
    "\n",
    "rdkit_plif_dict = {}\n",
    "for pdb_id in contact_res_dict.keys():\n",
    "    con_res = contact_res_dict[pdb_id]\n",
    "    \n",
    "    generated_plif = generate_rdkit_plif(bs_res_list, con_res)\n",
    "    rdkit_plif_dict [pdb_id] = generated_plif\n",
    "\n",
    "print(rdkit_plif_dict.keys())\n",
    "# dict_keys(['5J89', '5J8O', '5N2D', '5N2F', '5NIU', '5NIX'])\n",
    "```\n"
   ]
  },
  {
   "cell_type": "markdown",
   "metadata": {},
   "source": [
    "６つとも計算されていそうです。一つ取り出して確認してみます。"
   ]
  },
  {
   "cell_type": "markdown",
   "metadata": {},
   "source": [
    "```python\n",
    "print(len(rdkit_plif_dict['5J89']))\n",
    "# 136\n",
    "print(rdkit_plif_dict['5J89'])\n",
    "# <rdkit.DataStructs.cDataStructs.ExplicitBitVect object at 0x10d246d88>\n",
    "```"
   ]
  },
  {
   "cell_type": "markdown",
   "metadata": {},
   "source": [
    "長さ136のベクトルが生成されています。ExplictiBitVectオブジェクトの扱い方は「化学の新しいカタチ」さんのこちらの記事[RDKitでフィンガープリントを使った分子類似性の判定](https://future-chem.com/rdkit-fingerprint/)に記載されていました。\n",
    "\n",
    "どんな情報が含まれているのか見てみます。"
   ]
  },
  {
   "cell_type": "markdown",
   "metadata": {},
   "source": [
    "```python\n",
    "print(\"全体の長さ:\", rdkit_plif_dict['5J89'].GetNumBits())\n",
    "# 全体の長さ: 136\n",
    "\n",
    "print(\"ONビット:\", list(rdkit_plif_dict['5J89'].GetOnBits()))\n",
    "print(\"ONビットの数:\", rdkit_plif_dict['5J89'].GetNumOnBits())\n",
    "print(\"OFFビットの数:\",rdkit_plif_dict['5J89'].GetNumOffBits())\n",
    "print(\"相互作用残基の数:\",len(contact_res_dict['5J89']))\n",
    "# ONビット: [5, 9, 14, 17, 20, 23, 33, 36, 45, 46, 49, 58, 64, 73, 77, 79, 80, 82, 84]\n",
    "# ONビットの数: 19\n",
    "# OFFビットの数: 117\n",
    "# 相互作用残基の数: 19\n",
    "```"
   ]
  },
  {
   "cell_type": "markdown",
   "metadata": {},
   "source": [
    "PDB id 5J89における相互作用に関わる残基の数とRDKitで変換後のONビットの数が一致しています。"
   ]
  },
  {
   "cell_type": "markdown",
   "metadata": {},
   "source": [
    "### <u><b>DataFrameとheatmapで可視化</b></u>\n",
    "\n",
    "ビットベクトルをもう少しわかりやすく眺めたいと思います。目標は先に見た[株式会社MOLSISのページ](https://www.molsis.co.jp/lifescience/moe/sbdd/)のページのように複数の共結晶構造間におけるONビットの位置の違いを並べて可視化することです。\n",
    "\n",
    "1. BitVectをnumpyのarrayに変換\n",
    "2. データフレームに変換\n",
    "3. heatmapで図示\n",
    "\n",
    "という手順を行ってみます。\n"
   ]
  },
  {
   "cell_type": "markdown",
   "metadata": {},
   "source": [
    "```python\n",
    "import numpy as np\n",
    "\n",
    "# DataFrameのindex としてPDBのIDを使うためにリストを作成\n",
    "PDB_id_list = []\n",
    "finger_print_arrays = []\n",
    "for pdb_id in rdkit_plif_dict.keys():\n",
    "    PDB_id_list.append(pdb_id)\n",
    "    \n",
    "    # RDKitのBitVectそのままではDataFrameにできなさそうなのでarrayに変換する。\n",
    "    fp = rdkit_plif_dict[pdb_id]\n",
    "    arr = np.zeros((1,))\n",
    "    DataStructs.ConvertToNumpyArray(fp, arr)\n",
    "    finger_print_arrays.append(arr)\n",
    "\n",
    "import pandas as pd\n",
    "\n",
    "#DataFrameを作成\n",
    "FP_df = pd.DataFrame(finger_print_arrays, index=PDB_id_list)\n",
    "\n",
    "FP_df\n",
    "```\n"
   ]
  },
  {
   "cell_type": "markdown",
   "metadata": {},
   "source": [
    "<img src=\"./images/5-1_image4.png\">\n",
    "\n",
    "うまくできていそうです。０ばっかり・・・これがスパースという奴か！！！（適当）\n",
    "\n",
    "可視化します。\n"
   ]
  },
  {
   "cell_type": "markdown",
   "metadata": {},
   "source": [
    "```python\n",
    "import matplotlib as mpl\n",
    "import matplotlib.pyplot as plt\n",
    "import seaborn as sns\n",
    "%matplotlib inline\n",
    "\n",
    "sns.heatmap(FP_df)\n",
    "```\n"
   ]
  },
  {
   "cell_type": "markdown",
   "metadata": {},
   "source": [
    "<img src=\"./images/5-1_image5.png\">\n",
    "\n",
    "おお！それっぽい！y軸は各複合体（PDB id）で、x軸方向にビットベクトルが並んでいます。各ビットが**結合サイトに含まれるアミノ酸残基**相当し、黒いところがビットベクトルが立っている**リガンドと相互作用する残基**となっています。\n",
    "\n",
    "（私の理解が正しければ・・・X軸方向の並びがアミノ酸配列の並びと正確に一致するかはわかりません。）\n",
    "\n",
    "各複合体で共通してビットが立っているアミノ酸残基が、複数の複合体で相互作用が維持されている重要な残基と解釈できる・・・はず？\n",
    "\n"
   ]
  },
  {
   "cell_type": "markdown",
   "metadata": {},
   "source": [
    "### <u><b>図から雑に解釈</b></u>\n",
    "\n",
    "上の図をみると5J8O、5N2FがもっともONビットの分散が小さく、5NIU、5NIXがよりベクトル全体に広がってビットが立っています。\n",
    "\n",
    "先に、今回のPLIFの方法ではCHAIN毎に区別を行っていると述べました。6つの共結晶構造は全てPD-L1の２量体とリガンド１つとの２対１の複合体ですが、より詳しく見ると\n",
    "\n",
    "* 5J8O、5N2Fは「**PD-L1** 2: **Ligand** 1」\n",
    "* 5J89、5N2D、5NIU、5NIXは「**PD-L1** 4: **Ligand** 2」\n",
    "\n",
    "という違いがあります。タンパク質側のCHAINが４つ含まれている他の複合体と比較して２つしか含まれていない5J8O、5N2Fではとりうるビットベクトルの範囲がそもそも小さいため以上のような結果となっていそうです。\n",
    "\n",
    "また、5NIU、5NIXでは結合しているリガンドが、他の複合体よりも大きいものとなっています。リガンドが大きい分相互作用する残基が広がっているのかもしれません。\n",
    "\n",
    "一覧を再掲します。\n",
    "\n",
    "| PDB entry | Chain |リガンド|リガンドID| リガンド分子量 |\n",
    "|:----:|:----:|:----:|:----:|:----:|\n",
    "|5J89| A/B/C/D | BMS-202 |6GX| 419.52|\n",
    "|5J8O| A/B　| BMS-8  |6GZ| 494.42|\n",
    "|5N2D| A/B/C/D |BMS-37|8J8| 448.55|\n",
    "|5N2F| A/B | BMS-200|8HW| 497.49|\n",
    "|5NIU| A/B/C/D | BMS-1001|8YZ| 594.65|\n",
    "|5NIX| A/B/C/D | BMS-1166|8YQ| 643.13|\n",
    "\n",
    "だいたい分子量とビットの広がりが相関があるような気もします。なんとなく３つのグループ（①5J89と5N2D、②5J8Oと5N2F、③5NIUと5NIX）に分かれそうです。\n",
    "\n",
    "図をぼんやりと眺めていても定性的な類似性しかわかりませんので、定量的な評価を行いたいと思います。\n"
   ]
  },
  {
   "cell_type": "markdown",
   "metadata": {},
   "source": [
    "### <u><b>解析ステップ3</b></u>\n",
    "\n",
    "フィンガープリント間の類似性評価をTanimoto係数を計算して比較します。関数をコピペ・・・"
   ]
  },
  {
   "cell_type": "markdown",
   "metadata": {},
   "source": [
    "```python\n",
    "def similarity_plifs(plif_1, plif_2):\n",
    "\n",
    "    sim = DataStructs.TanimotoSimilarity(plif_1, plif_2)\n",
    "\n",
    "    print(sim)\n",
    "\n",
    "    return sim\n",
    "```"
   ]
  },
  {
   "cell_type": "markdown",
   "metadata": {},
   "source": [
    "６つの構造から２つ取り出してTanimoto係数を計算しますが、一つずつやるのは大変なので**itertools**を使ってみます。\n"
   ]
  },
  {
   "cell_type": "markdown",
   "metadata": {},
   "source": [
    "```python\n",
    "import itertools\n",
    "\n",
    "# 重複無しの順列 itertools.permutations(PDB_id_list, 2)\n",
    "# 重複順列 itertools.product(PDB_id_list, repeat = 2)\n",
    "# 今回は可視化のために重複ありの組み合わせを使う\n",
    "tanimoto_list = []\n",
    "\n",
    "for v in itertools.combinations_with_replacement(PDB_id_list, 2):\n",
    "    #6つから2つ取り出しi, j とする。\n",
    "    i, j = v[0], v[1]\n",
    "    \n",
    "    plif_i = rdkit_plif_dict[i]\n",
    "    plif_j = rdkit_plif_dict[j]\n",
    "    sim = similarity_plifs(plif_i, plif_j)\n",
    "    \n",
    "    #用いた2つの構造とTanimoto係数をもつリストを作成\n",
    "    temp_list = [i, j, sim]\n",
    "    \n",
    "    #リストのリストを作成\n",
    "    tanimoto_list.append(temp_list)\n",
    "\n",
    "#DataFrameとする\n",
    "tanimoto_df = pd.DataFrame()\n",
    "for k in tanimoto_list:\n",
    "    tanimoto_df.at[k[0], k[1]] = k[2]\n",
    "\n",
    "#heatmapで可視化\n",
    "sns.heatmap(tanimoto_df)\n",
    "```\n"
   ]
  },
  {
   "cell_type": "markdown",
   "metadata": {},
   "source": [
    "<img src=\"./images/5-1_image6.png\">\n",
    "\n",
    "<img src=\"./images/5-1_image7.png\">\n",
    "\n",
    "色の濃い組み合わせを見ると\n",
    "\n",
    "1. 5J89、5N2D、0.63\n",
    "2. 5J8O、5N2F、0.42\n",
    "3. 5NIU、5NIZ、0.56\n",
    "\n",
    "となっています。ビットベクトルをそのまま可視化した際の定性的な解釈と似た結果となっており、うまく数値化できていそうです。\n"
   ]
  },
  {
   "cell_type": "markdown",
   "metadata": {},
   "source": [
    "# <u><b>残基番号のみで再解析</b></u>\n",
    "\n",
    "ところで、共結晶構造を見る限りリガンドを挟んでPD-L1の二量体が対称的に配置されているように見えます。対称的ならば配列の番号が大事で、CHAINを区別していることでむしろ同じ相互作用を別のものと判断しているかもしれません。そこでCHAINの情報を取り除いて同じことをやってみたいと思います。\n",
    "\n",
    "・・・といっても**Step 1**で取り出した残基の情報から最後のアルファベットを除くだけですが。。。\n"
   ]
  },
  {
   "cell_type": "markdown",
   "metadata": {},
   "source": [
    "```python\n",
    "# 結合サイトの残基からCHAINの情報を除く\n",
    "bs_res_list_num = []\n",
    "for i in bs_res_list:\n",
    "    #文字列から最後の一文字の手前まで取り出す\n",
    "    j = i[:-1]\n",
    "    #後でソートしたいので整数型に変換してからリストに加える\n",
    "    bs_res_list_num.append(int(j))\n",
    "```"
   ]
  },
  {
   "cell_type": "markdown",
   "metadata": {},
   "source": [
    "重複している情報を取り除き、ソートします。\n"
   ]
  },
  {
   "cell_type": "markdown",
   "metadata": {},
   "source": [
    "```python\n",
    "bs_res_list_num_unique = sorted(set(bs_res_list_num))\n",
    "\n",
    "print(len(bs_res_list_num_unique))\n",
    "print(bs_res_list_num_unique)\n",
    "\n",
    "# 40\n",
    "# [18, 19, 20, 21, 22, 23, 26, 53, 54, 55, 56, 57, 58, 60, 61, 62, 63, 65, 66, 67, 68, 73, 75, 76, 77, 78, 112, 113, 114, 115, 116, 117, 118, 120, 121, 122, 123, 124, 125, 126]\n",
    "```\n"
   ]
  },
  {
   "cell_type": "markdown",
   "metadata": {},
   "source": [
    "相互作用の残基からCHAINの情報を除きます。今回は重複も先に除きます。\n",
    "\n"
   ]
  },
  {
   "cell_type": "markdown",
   "metadata": {},
   "source": [
    "```python\n",
    "contact_res_dict_num_unique = {}\n",
    "\n",
    "for k, v in contact_res_dict.items():\n",
    "    tmp_list = []\n",
    "    \n",
    "    for i in v:\n",
    "        j = i[:-1]\n",
    "        tmp_list.append(int(j))\n",
    "    \n",
    "    tmp_unique = sorted(set(tmp_list))\n",
    "    contact_res_dict_num_unique[k] = tmp_unique\n",
    "```\n"
   ]
  },
  {
   "cell_type": "markdown",
   "metadata": {},
   "source": [
    "## <u><b>ビットのリストを取得</b></u>\n",
    "\n",
    "RDKitのBitVectを介してからnumpyのarrayに戻すと残基番号の情報が失われてしまうので、OPIGの関数を参考に新しくビットのリストを返す関数を作成してみたいと思います。\n"
   ]
  },
  {
   "cell_type": "markdown",
   "metadata": {},
   "source": [
    "```python\n",
    "def PLIF_list_generator(bs_residues, contact_residues):\n",
    "    tmp = []\n",
    "    \n",
    "    for i in bs_residues:\n",
    "        if i in contact_residues:\n",
    "            tmp.append(1)\n",
    "        else:\n",
    "            tmp.append(0)\n",
    "    return tmp\n",
    "```\n"
   ]
  },
  {
   "cell_type": "markdown",
   "metadata": {},
   "source": [
    "PDB idを行、残基番号を列とするDataFrameを作成します。\n"
   ]
  },
  {
   "cell_type": "markdown",
   "metadata": {},
   "source": [
    "```python\n",
    "FP_df_num = pd.DataFrame(index =PDB_id_list, columns = bs_res_list_num_unique)\n",
    "\n",
    "for k, v in contact_res_dict_num_unique.items():\n",
    "    FP_df_num.loc[k] = PLIF_list_generator(bs_res_list_num_unique, v)\n",
    "```\n",
    "\n"
   ]
  },
  {
   "cell_type": "markdown",
   "metadata": {},
   "source": [
    "<img src=\"./images/5-1_image8.png\">\n",
    "\n",
    "複数の共結晶構造で各残基が相互作用に使われているかを確認したいので、残基ごとのビットの足し算も行っておきます。"
   ]
  },
  {
   "cell_type": "markdown",
   "metadata": {},
   "source": [
    "```python\n",
    "FP_df_num.loc['bit_sum']=FP_df_num.sum()\n",
    "\n",
    "%matplotlib inline\n",
    "sns.heatmap(FP_df_num)\n",
    "```"
   ]
  },
  {
   "cell_type": "markdown",
   "metadata": {},
   "source": [
    "<img src=\"./images/5-1_image9.png\">\n",
    "\n",
    "なんだかいい感じになってきました！"
   ]
  },
  {
   "cell_type": "markdown",
   "metadata": {},
   "source": [
    "## <u><b>大事そうな残基を探す</b></u>\n",
    "\n",
    "先のBitVectを眺めた際の解釈で、6つの共構造は3つのグループに分かれそうだということでした。ということはbit_sumが**5以上**のものは3つのグループのすべてで少なくとも一度は使われている残基です。（たぶん・・・）\n",
    "\n",
    "取り出して見ましょう。"
   ]
  },
  {
   "cell_type": "markdown",
   "metadata": {},
   "source": [
    "```python\n",
    "# queryメソッドは行の抽出なので転置してから使う\n",
    "# bitの合計5以上を取り出し、indexをリスト化\n",
    "Frequent_residues = list(FP_df_num.T.query('bit_sum >= 5').index)\n",
    "print(Frequent_residues)\n",
    "#[54, 56, 115, 121, 123]\n",
    "```"
   ]
  },
  {
   "cell_type": "markdown",
   "metadata": {},
   "source": [
    "\n",
    "これらは具体的にどんな相互作用なのでしょうか？すべての残基を含んでいそうな「PDB id:5NIX(Ligand:8YQ)」をPLIPのサイトで解析してみましょう。（コマンドラインでの解析を諦めた）\n",
    "\n",
    "「**PD-L1** 4: **Ligand** 2」の複合体なのでリガンドが２つ含まれています。結果をテーブルにまとめました。\n",
    "\n",
    "||残基番号|アミノ酸|距離|相互作用||残基番号|アミノ酸|距離|相互作用|\n",
    "|:---:|:---:|:---:|:---:|:---:|:---:|:---:|:---:|:---:|:---:|\n",
    "|8YQ</br>(chain A/B)|||||8YQ</br>(chain C/D)|54C|ILE|3.89|Hydrophobic|\n",
    "||56B|TYR|3.82|Hydrophobic||56C|TYR|3.42/3.62|Hydrophobic|\n",
    "||115A/B|MET|3.70/3.80|Hydrophobic||115C/D|MET|3.85/3.82|Hydrophobic|\n",
    "||121A/B|ALA|3.69/3.75|Hydrophobic||121C/D|ALA|3.96/3.57|Hydrophobic|\n",
    "||123A|TYR|3.80/3.52/3.85|Hydrophobic||123D|TYR|3.72|Hydrophobic|\n",
    "\n",
    "リガンドの芳香環が目立っていたのでπ-π相互作用ばかりかと思っていましたが、予想外にメチオニンやアラニンとの相互作用が複数見られました。\n",
    "\n",
    "もう少し広くカウント数４以上の残基として見ます。\n"
   ]
  },
  {
   "cell_type": "markdown",
   "metadata": {},
   "source": [
    "```python\n",
    "# bitの合計4以上の場合\n",
    "Frequent_residues4 = list(FP_df_num.T.query('bit_sum >= 4').index)\n",
    "print(Frequent_residues4)\n",
    "# [54, 56, 66, 115, 121, 123, 124]\n",
    "```\n"
   ]
  },
  {
   "cell_type": "markdown",
   "metadata": {},
   "source": [
    "先の結果に**66**、**124**が加わりました。アミノ酸残基でいうと以下となります。\n",
    "\n",
    "||残基番号|アミノ酸|距離|相互作用||残基番号|アミノ酸|距離|相互作用|\n",
    "|:---:|:---:|:---:|:---:|:---:|:---:|:---:|:---:|:---:|:---:|\n",
    "|8YQ</br>(chain A/B)|66B|GLN|3.72|Hydrophobic|8YQ</br>(chain C/D)||||\n",
    "||124A|LYS|5.03/3.18|π-cation/Salt Bridges||124D|Lys|3.70|Water Bridges/Salt Bridges|\n",
    "\n",
    "疎水性相互作用ばかりだったところに親水性残基のLysが加わりました。こちらの方がバラエティがあって良さそうです。\n",
    "\n",
    "PLIPのスナップショットを貼っておきます。こんな相互作用です・・・\n",
    "\n",
    "<img src=\"./images/5-1_image10.png\">\n",
    "\n"
   ]
  },
  {
   "cell_type": "markdown",
   "metadata": {},
   "source": [
    "# <u><b>まとめ</b></u>\n",
    "\n",
    "以上、今回はタンパク質とリガンドの相互作用情報を考察するためPLIP、PLIFといった手法を導入して見ました（コピペですが・・・）。この情報をうまく使えばファーマコフォア（?）を考察できるはず・・・？\n",
    "\n",
    "色々と間違いがあると思うのでご指摘いただければ幸いです。"
   ]
  },
  {
   "cell_type": "markdown",
   "metadata": {},
   "source": [
    "# 脚注\n",
    "\n",
    "[^1]: AS Rose et al. (2018) NGL viewer: web-based molecular graphics for large complexes. Bioinformatics dio:10.1093/bioinformatics/bty419\n",
    "\n",
    "[^2]: [他の参考になりそうなスライド](https://www.slideshare.net/chupvl?utm_campaign=profiletracking&utm_medium=sssite&utm_source=ssslideview)\n"
   ]
  }
 ],
 "metadata": {
  "kernelspec": {
   "display_name": "Python 3",
   "language": "python",
   "name": "python3"
  },
  "language_info": {
   "codemirror_mode": {
    "name": "ipython",
    "version": 3
   },
   "file_extension": ".py",
   "mimetype": "text/x-python",
   "name": "python",
   "nbconvert_exporter": "python",
   "pygments_lexer": "ipython3",
   "version": "3.6.8"
  },
  "toc": {
   "base_numbering": 1,
   "nav_menu": {},
   "number_sections": true,
   "sideBar": true,
   "skip_h1_title": false,
   "title_cell": "Table of Contents",
   "title_sidebar": "Contents",
   "toc_cell": true,
   "toc_position": {},
   "toc_section_display": true,
   "toc_window_display": true
  }
 },
 "nbformat": 4,
 "nbformat_minor": 2
}
