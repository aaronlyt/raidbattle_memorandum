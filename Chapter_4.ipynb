{
 "cells": [
  {
   "cell_type": "markdown",
   "metadata": {
    "toc": true
   },
   "source": [
    "<h1>Table of Contents<span class=\"tocSkip\"></span></h1>\n",
    "<div class=\"toc\"><ul class=\"toc-item\"><li><span><a href=\"#第４章　Step3.-部分構造による絞り込み\" data-toc-modified-id=\"第４章　Step3.-部分構造による絞り込み-1\"><span class=\"toc-item-num\">1&nbsp;&nbsp;</span>第４章　Step3. 部分構造による絞り込み</a></span></li></ul></div>"
   ]
  },
  {
   "cell_type": "markdown",
   "metadata": {},
   "source": [
    "# 第４章　Step3. 部分構造による絞り込み"
   ]
  },
  {
   "cell_type": "markdown",
   "metadata": {},
   "source": [
    "第３章で指標による絞り込みを行なった化合物に対して、部分構造による絞り込みを行いました。\n",
    "\n",
    "既知活性化合物群の構造的特徴として「**オルト位に置換基を有するビフェニル構造**」を指摘し、この部分構造を有する化合物に絞り込む処理例をTwitterで拝見しました。この処理例に従い、以下の２段階の絞り込みを実施しました。\n",
    "\n",
    "* **ビフェニル構造**（置換基指定：無し）　（第４章１節）\n",
    "* **オルト位に置換基を有するビフェニル構造** （第４章２節）\n"
   ]
  },
  {
   "cell_type": "markdown",
   "metadata": {},
   "source": [
    "１段階目は**SMILES**から構成した構造を検索のテンプレートとして用いました。部分構造検索はRDKitのHasSubstrucsMatnc　\n",
    "\n",
    "```python\n",
    "biphenyl = Chem.MolFromSmiles('c1ccc(cc1)c1ccccc1')\n",
    "biphenyl_compounds = []\n",
    "w_o_biphenyl = []\n",
    "\n",
    "for mol in filtered_mols:\n",
    "    if mol.HasSubstructMatch(biphenyl):\n",
    "        biphenyl_compounds.append(mol)\n",
    "    else:\n",
    "        w_o_biphenyl.append(mol)\n",
    "```\n",
    "\n",
    "||Enamine_Premium|Enamie_Advenced|Enamine_HTS|UOS_HTS|total|\n",
    "|:---:|:---:|:---:|:---:|:---:|:---:|\n",
    "|指標でのフィルタリング後|4060|37431|414562|106948|563001|\n",
    "|ビフェニル有|12|329|3182|697|4220 <br> (0.7%)|\n",
    "|ビフェニル無|4048|37102|411380|106251|558781 <br> (99.3%)|\n",
    "\n",
    "全体を合わせて 4220 個の分子が残りました。"
   ]
  },
  {
   "cell_type": "markdown",
   "metadata": {},
   "source": [
    "２段階目はオルト位に置換基を指定しました。この際、置換基の種類を指定しない（ワイルドカード「\\*」を利用する）ため、**SMARTS**からクエリ構造を作成しました。RDKitのPandasToolsでスクリーニング化合物をDataFrameとして取り込んだのち、ge比較演算子を適用することで部分構造検索を実施しました。\n",
    "\n",
    "```python\n",
    "ortho_biphenyl= Chem.MolFromSmarts('c1ccc(c(*)c1)c1ccccc1')\n",
    "ortho_df = biphenyl_df[biphenyl_df['ROMol'] >= ortho_biphenyl]\n",
    "\n",
    "len(ortho_df)\n",
    "# 2353\n",
    "```\n",
    "\n",
    "これにより2353個の分子が残りました。\n",
    "\n"
   ]
  },
  {
   "cell_type": "markdown",
   "metadata": {},
   "source": [
    "また構造検索のクエリに関連して、第４章コラムではSMARTS表記方法について取り上げています。"
   ]
  },
  {
   "cell_type": "code",
   "execution_count": null,
   "metadata": {
    "collapsed": true
   },
   "outputs": [],
   "source": []
  }
 ],
 "metadata": {
  "kernelspec": {
   "display_name": "Python 3",
   "language": "python",
   "name": "python3"
  },
  "language_info": {
   "codemirror_mode": {
    "name": "ipython",
    "version": 3
   },
   "file_extension": ".py",
   "mimetype": "text/x-python",
   "name": "python",
   "nbconvert_exporter": "python",
   "pygments_lexer": "ipython3",
   "version": "3.6.8"
  },
  "toc": {
   "base_numbering": 1,
   "nav_menu": {},
   "number_sections": true,
   "sideBar": true,
   "skip_h1_title": false,
   "title_cell": "Table of Contents",
   "title_sidebar": "Contents",
   "toc_cell": true,
   "toc_position": {},
   "toc_section_display": true,
   "toc_window_display": true
  }
 },
 "nbformat": 4,
 "nbformat_minor": 2
}
