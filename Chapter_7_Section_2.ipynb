{
 "cells": [
  {
   "cell_type": "markdown",
   "metadata": {
    "toc": true
   },
   "source": [
    "<h1>Table of Contents<span class=\"tocSkip\"></span></h1>\n",
    "<div class=\"toc\"><ul class=\"toc-item\"><li><span><a href=\"#第７章２節：スコア関数を変えてドッキング結果を再解析する話\" data-toc-modified-id=\"第７章２節：スコア関数を変えてドッキング結果を再解析する話-1\"><span class=\"toc-item-num\">1&nbsp;&nbsp;</span>第７章２節：スコア関数を変えてドッキング結果を再解析する話</a></span></li><li><span><a href=\"#1.-RF-Score-VS-（Sci.Rep.-2017(7)46710）文献紹介\" data-toc-modified-id=\"1.-RF-Score-VS-（Sci.Rep.-2017(7)46710）文献紹介-2\"><span class=\"toc-item-num\">2&nbsp;&nbsp;</span><b><u>1. RF-Score-VS （Sci.Rep. 2017(7)46710）文献紹介</u></b></a></span><ul class=\"toc-item\"><li><span><a href=\"#1-1.-スコア関数の種類\" data-toc-modified-id=\"1-1.-スコア関数の種類-2.1\"><span class=\"toc-item-num\">2.1&nbsp;&nbsp;</span><b><u>1-1. スコア関数の種類</u></b></a></span></li><li><span><a href=\"#1-2.-既存のスコア関数の問題点\" data-toc-modified-id=\"1-2.-既存のスコア関数の問題点-2.2\"><span class=\"toc-item-num\">2.2&nbsp;&nbsp;</span><b><u>1-2. 既存のスコア関数の問題点</u></b></a></span><ul class=\"toc-item\"><li><span><a href=\"#関数の構造上の問題\" data-toc-modified-id=\"関数の構造上の問題-2.2.1\"><span class=\"toc-item-num\">2.2.1&nbsp;&nbsp;</span><b><u>関数の構造上の問題</u></b></a></span></li><li><span><a href=\"#モデル作成上の問題\" data-toc-modified-id=\"モデル作成上の問題-2.2.2\"><span class=\"toc-item-num\">2.2.2&nbsp;&nbsp;</span><b><u>モデル作成上の問題</u></b></a></span></li></ul></li><li><span><a href=\"#1-3.-著者らによる機械学習スコア関数（RF-Score-シリーズ）\" data-toc-modified-id=\"1-3.-著者らによる機械学習スコア関数（RF-Score-シリーズ）-2.3\"><span class=\"toc-item-num\">2.3&nbsp;&nbsp;</span><b><u>1-3. 著者らによる機械学習スコア関数（RF-Score シリーズ）</u></b></a></span></li><li><span><a href=\"#1-4.-RF-Scoreの仕組み\" data-toc-modified-id=\"1-4.-RF-Scoreの仕組み-2.4\"><span class=\"toc-item-num\">2.4&nbsp;&nbsp;</span><b><u>1-4. RF-Scoreの仕組み</u></b></a></span></li><li><span><a href=\"#1-5.-RF-Score-VSでの取り組み\" data-toc-modified-id=\"1-5.-RF-Score-VSでの取り組み-2.5\"><span class=\"toc-item-num\">2.5&nbsp;&nbsp;</span><b><u>1-5. RF-Score-VSでの取り組み</u></b></a></span><ul class=\"toc-item\"><li><span><a href=\"#データセットの工夫\" data-toc-modified-id=\"データセットの工夫-2.5.1\"><span class=\"toc-item-num\">2.5.1&nbsp;&nbsp;</span><b><u>データセットの工夫</u></b></a></span></li><li><span><a href=\"#学習データ分割方法の工夫\" data-toc-modified-id=\"学習データ分割方法の工夫-2.5.2\"><span class=\"toc-item-num\">2.5.2&nbsp;&nbsp;</span><b><u>学習データ分割方法の工夫</u></b></a></span></li></ul></li><li><span><a href=\"#1-6.-RF-Score-VSの性能\" data-toc-modified-id=\"1-6.-RF-Score-VSの性能-2.6\"><span class=\"toc-item-num\">2.6&nbsp;&nbsp;</span><b><u>1-6. RF-Score-VSの性能</u></b></a></span><ul class=\"toc-item\"><li><span><a href=\"#評価指標\" data-toc-modified-id=\"評価指標-2.6.1\"><span class=\"toc-item-num\">2.6.1&nbsp;&nbsp;</span><b><u>評価指標</u></b></a></span></li><li><span><a href=\"#性能\" data-toc-modified-id=\"性能-2.6.2\"><span class=\"toc-item-num\">2.6.2&nbsp;&nbsp;</span><b><u>性能</u></b></a></span></li></ul></li></ul></li><li><span><a href=\"#2.-RF-Score-VS-を使ってみる\" data-toc-modified-id=\"2.-RF-Score-VS-を使ってみる-3\"><span class=\"toc-item-num\">3&nbsp;&nbsp;</span><b><u>2. RF-Score-VS を使ってみる</u></b></a></span><ul class=\"toc-item\"><li><span><a href=\"#2-1.-ドッキングスコアを再計算\" data-toc-modified-id=\"2-1.-ドッキングスコアを再計算-3.1\"><span class=\"toc-item-num\">3.1&nbsp;&nbsp;</span><b><u>2-1. ドッキングスコアを再計算</u></b></a></span></li><li><span><a href=\"#2-2.-スコアを確認\" data-toc-modified-id=\"2-2.-スコアを確認-3.2\"><span class=\"toc-item-num\">3.2&nbsp;&nbsp;</span><b><u>2-2. スコアを確認</u></b></a></span></li><li><span><a href=\"#2-3.-化合物ごとのベストポーズを取得\" data-toc-modified-id=\"2-3.-化合物ごとのベストポーズを取得-3.3\"><span class=\"toc-item-num\">3.3&nbsp;&nbsp;</span><b><u>2-3. 化合物ごとのベストポーズを取得</u></b></a></span></li><li><span><a href=\"#2-4.-RF-Score-VSにおけるスコアTop-10の取得\" data-toc-modified-id=\"2-4.-RF-Score-VSにおけるスコアTop-10の取得-3.4\"><span class=\"toc-item-num\">3.4&nbsp;&nbsp;</span><b><u>2-4. RF-Score VSにおけるスコアTop 10の取得</u></b></a></span></li></ul></li><li><span><a href=\"#3.-まとめ\" data-toc-modified-id=\"3.-まとめ-4\"><span class=\"toc-item-num\">4&nbsp;&nbsp;</span><b><u>3. まとめ</u></b></a></span></li><li><span><a href=\"#脚注\" data-toc-modified-id=\"脚注-5\"><span class=\"toc-item-num\">5&nbsp;&nbsp;</span>脚注</a></span></li></ul></div>"
   ]
  },
  {
   "cell_type": "markdown",
   "metadata": {},
   "source": [
    "# 第７章２節：スコア関数を変えてドッキング結果を再解析する話"
   ]
  },
  {
   "cell_type": "markdown",
   "metadata": {},
   "source": [
    "さて、前回の記事でドッキングによるSBVSもなんとか終わったので\n",
    "後は化合物IDのリストを提出するだけ・・・、というところですがとても気になる文献を知ってしまいました。\n",
    "\n",
    "Performance of machine-learning scoring functions in structure-based virtual screening.\n",
    "Wójcikowski, M., Ballester, P.J., and Siedlecki, P., Sci.Rep. 2017(7)46710\n",
    "[pubmed](https://www.ncbi.nlm.nih.gov/pubmed/28440302)\n",
    "\n",
    "こちらの文献は前回使用したODDT(Open Drug Dicovery Toolkit)と同一の筆頭著者によるもので、どうやら**ドッキングのスコアを機械学習を用いて改善した**という内容のようです。しかも**ODDT**同様に、このスコア関数（**RF-ScoreVS**）を利用できるとのこと！！\n",
    "\n",
    "前回の記事で参照した「タンパク質計算科学 基礎と創薬への応用」((タンパク質計算科学 基礎と創薬への応用　神谷成敏・肥後順一・福西快文・中村春樹　著　共立出版 2009年初版１刷)) において、ドッキングのスコア関数は依然として精度に課題がある（実験値との乖離がある）といった趣旨の記述がありました。AutoDock VinaはAutoDockよりも精度が改善している、とはいえ10年ほど前のソフトウェアです。より改善したものがあるのであれば使ってみたい！\n",
    "\n",
    "（・・・というのは建前でMachine Learningって言って格好つけたかった）\n"
   ]
  },
  {
   "cell_type": "markdown",
   "metadata": {},
   "source": [
    "# <b><u>1. RF-Score-VS （Sci.Rep. 2017(7)46710）文献紹介</b></u>\n",
    "\n",
    "まずは文献を読んでみようと思います。Scientific ReportsはOpen Accessなのが良いですね。([CC BY 4.0](https://creativecommons.org/licenses/by/4.0/))  \n",
    "すでに記憶があやふやなのでスコア関数について少し復習します。"
   ]
  },
  {
   "cell_type": "markdown",
   "metadata": {},
   "source": [
    "## <b><u>1-1. スコア関数の種類</b></u>\n",
    "\n",
    "スコア関数にはどのようなものがあるか？  \n",
    "先の記事で参照した日本化学会情報化学部会誌の文献（ [タンパク質-リガンドドッキングの現状と課題](https://www.jstage.jst.go.jp/article/cicsj/34/1/34_10/_article/-char/ja)((Uehara, S., Tanaka, S., CICSJ Bulletin 2016(34)10))  によると、大きく３つ\n",
    "\n",
    "* ①力場に基づいたスコア関数（force-field-based scoring function）\n",
    "* ②経験的なスコア関数 (empirical scoring function)\n",
    "* ③ 統計に基づいたスコア関数(knowledge-based scoring function)\n",
    "\n",
    "があり、さらに近年の動きとして、\n",
    "\n",
    "* ④複数のスコア関数を利用するコンセンサススコア(concensus scoring)\n",
    "* ⑤機械学習に基づいたスコア関数(machine-learning based scoring function)\n",
    "\n",
    "が開発されている、とのことでした。\n",
    "\n",
    "「④ コンセンサススコア」について「タンパク質計算科学」の説明を参照します。  \n",
    "「コンセンサス（consensus、合意）」をとる目的は、単一の手法の結果のみに頼らず、複数のスクリーニング結果を統合することで**ヒット率の向上**、**当たり外れの低減**を目指すことです。結果を統合する方法として、各化合物に対して複数の手法でスコアを得たのち\n",
    "\n",
    "* **積集合**: 複数の手法で共通に選ばれた化合物をヒットとする\n",
    "* **和集合**: 複数の手法で少なくとも一つに選ばれた化合物をヒットとする\n",
    "* **rank by scoring**: 各手法のスコアを「0~1」の範囲にスケールした上で和をとり、新しいスコアとする\n",
    "* **rank by rank**: 各手法における化合物の順位（ランク）の平均によってランキングする\n",
    "\n",
    "といった手法が例に挙げられていました。\n",
    "\n",
    "では、「⑤ 機械学習に基づいたスコア関数」はどのようなものか？　論文の中身に進みます。\n"
   ]
  },
  {
   "cell_type": "markdown",
   "metadata": {},
   "source": [
    "## <b><u>1-2. 既存のスコア関数の問題点</b></u>\n",
    "\n",
    "### <b><u>関数の構造上の問題</b></u>\n",
    "\n",
    "そもそもなぜ機械学習の導入にいたったか？  論文中では従来から用いられているスコア関数を\"**classical scoring functions (SFs)**\" （おそらく「①力場」や「②経験的」、「③統計」によるスコア関数のこと？）としており、結合親和性の予測精度の向上に限界が見られていることの理由として、以下の問題点を指摘しています。\n",
    "\n",
    "* コンフォメーションのエントロピーをうまく説明しない\n",
    "* 溶媒和によるエネルギーの寄与をうまく説明しない\n",
    "\n",
    "また、従来のスコア関数は**線形回帰モデル**(linear regression model)を下敷きにしているため、\n",
    "\n",
    "* 大量のタンパク質構造や結合に関する情報を吸収してモデルに取り込むことに限界がある(universal SFの限界)\n",
    "* 標的のタンパク質（protein family）に焦点を合わせてスコア関数のパラメーターをチューニングしたくても、回帰モデルが変更できる形では提供されていない\n",
    "\n",
    "といった問題を指摘しています。・・・難しい。\n",
    "\n",
    "よくわからないので別の文献のFigureを引用します。（WIREs Comput. Mol. Sci.2015(5)405） [^1] \n",
    "\n",
    "<img src=\"./images/7-2_image1.png\">\n",
    "\n",
    "Fig 中に示されているようにClassocal SFでは線型結合の式ですが、Machine-learnig SFでは関数となっています。そもそもモデル化の構造が異なっているということで、異なるパフォーマンスが期待できるよね！ということのようです。"
   ]
  },
  {
   "cell_type": "markdown",
   "metadata": {},
   "source": [
    "### <b><u>モデル作成上の問題</b></u>\n",
    "\n",
    "さらに、classical SFのモデル作成時の問題点として、トレーニングセットとテストセットに重複(**overlap**)があるということが挙げられています。機械学習であればcross validationにより、より厳密なバリデーションの取り扱いが可能になります。  \n",
    "\n",
    "また、classical SFは結晶構造の情報を元に作成されていますが、これは結合するという**プラスのベクトルの事例**のみの情報を用いて構築していることになります。一方でスコア関数を適用するVirtual Screeningの目的は、スクリーニング結果として得られた「実際に結合する正例(**プラスのベクトル**/ +ve）」と「結合しない負例（**マイナスのベクトル**/ -ve）」が入り混じった状態である一連の結合ポーズの中から、正しい**true binder**を見つけ出すということです。つまり、Virtual Screeningでは負例（**inactive**のリガンド / -ve）の比率の方が高いのに、その情報が関数作成段階に考慮されていないと指摘されていました。\n",
    "\n",
    "（なるほど確かに言われてみればそう・・・なのでしょうか？勉強不足のため十分に理解できていません。）\n",
    "\n",
    "ということで、機械学習を導入することで、これらの問題点を解決して行きましょう！　"
   ]
  },
  {
   "cell_type": "markdown",
   "metadata": {},
   "source": [
    "## <b><u>1-3. 著者らによる機械学習スコア関数（RF-Score シリーズ）</b></u>\n",
    "\n",
    "文献中では機械学習スコア関数の例としてRF-Score、NNScore、SFCscoreといった名前が挙げられています。このうち、RF-Scoreは今回の文献の著者の一人、De. Pedro Ballester（[CRCM](http://crcm.marseille.inserm.fr/en/researchteams/pedro-ballester/)）が筆頭著者として2010年に報告しているものです。[^2] RFはRandom Forestの略のようですが、こちらをversion 1 （RF-Score v1）として、RF-Score v2、RF-Score v3 が報告されています。特にRF-Score v3の文献はタイトルが「Improving AutoDock Vina Using Random Forest: The Growing Accuracy of Binding Affinity Prediction by the Effective Exploitation of Larger Data Sets.」、とAutoDock Vinaを使った以上とても気になる文献です（アクセスできなかった・・・）。 [^3][^4] \n",
    "\n",
    "これらのスコア関数の提案に対する議論、「overfittingしているのでは？」「新しいターゲットにも適用できるの？(applicablity)」に対して、非常に大きなデータセットを使って学習を実施し、virtual screeningのパフォーマンスが上げられることを示した、というのが2017年のSci. Rep.の概要となります。"
   ]
  },
  {
   "cell_type": "markdown",
   "metadata": {},
   "source": [
    "## <b><u>1-4. RF-Scoreの仕組み</b></u>\n",
    "\n",
    "では、ベースとなったRF-Scoreはどのようなものなのか？ちょうど良いスライド資料があったので参照していきたいと思います。（元文献を読む能力がなくてすみません）[^5] [^6]\n",
    "\n",
    "RF-Scoreではランダムフォレストを使ってスコア関数をモデル化していますが、元々の発想としては\"classical SF\"のうちの「3. 統計に基づいたスコア関数(knowledge-based scoring function)」を改善する、ということから始まっているようです。\n",
    "\n",
    "統計的スコア関数の流れは以下のようになっています。\n",
    "\n",
    "* ①多数の結晶構造（PDBのタンパク質-リガンド複合体構造(P-L complex)）を比較\n",
    "* ②原子（あるいは官能基/フラグメント）にタイプを割り当てる\n",
    "* ③中心の原子と周囲の原子のtype-type間の距離のヒストグラムを作成する（存在確率の空間分布）\n",
    "* ④存在確率（*P*）を結合自由エネルギー（Δ*F*）に変換する（Δ*F* = -*k*<sub>B</sub>*T* ln*P*）\n",
    "* ⑤全てのP-Lアトムペアのエネルギーを合計して全体のエネルギーとする。\n",
    "\n",
    "上記の「④ヒストグラムのエネルギー関数への変換」では\"reverse Boltzmann\"の手法が使われています。ここで、「温度Tの平衡状態においてタンパク質とリガンドの各原子は**独立な粒子**である」という仮定が入りますが、これは仮定としては粗すぎる、というのが問題となるようです。  \n",
    "理由として \n",
    "\n",
    "* 分子中の原子と原子は結合している（Molecular connectivity）から、原子と原子の距離は独立とはいえない\n",
    "* 排除体積の影響（Excluded volume）\n",
    "* 平衡状態の仮定に物理的根拠がない\n",
    "* 温度(T)による構造変化は小さく、ボルツマン分布により暗に考慮されているほどではない\n",
    "\n",
    "といったことが挙げられています。\n",
    "以上をふまえて、著者らは「ヒストグラム（距離の分布 / distance distribution）と結合自由エネルギーとを関係付ける」ために、Boltzmannの公式のような公式を仮定するのではなく、「構造情報と結合親和性の関係性を機械学習を使って学習すれば良い」と考えたのがRF-Scoreの出発点となっているそうです。\n",
    "\n",
    "上記の考えに基づき、以下の操作を行って作成したモデルがRF-Score (v1) となります。\n",
    "\n",
    "* ①PDBの構造情報(PDBbind Benchmark)と質の高い結合親和性データ（*K*<sub>*d*</sub>, *K*<sub>*i*</sub>）\n",
    "* ②タンパク質とリガンドの、閾値以下(*d*<sub>*cutoff*</sub>)の距離にある原子をみつける\n",
    "* ③アトムタイプペアをフィーチャーとして出現率を求める\n",
    "* ④各タンパク質-リガンド複合体をフィーチャーのベクトルとして表す\n",
    "* ⑤ベクトルを入力（説明変数）、結合親和性を出力（目的変数）としてランダムフォレストによる機械学習を実施\n",
    "\n",
    "加えてさらに、スコア関数の精度向上にむけて公共データと様々な製薬企業の企業内データを用いてスコア関数の精度向上を目指したコンソーシアム（**Scoring Function Consrtium**）のデータに基づきフィーチャーの選択を改良した（RF-Score v2 / Data-driven feature selection）や、AutoDock Vinaのフィーチャーを取り入れる(RF-Score v3)、といった改良を加えてモデルの精度を高めてきた、というのが流れとなります。"
   ]
  },
  {
   "cell_type": "markdown",
   "metadata": {},
   "source": [
    "## <b><u>1-5. RF-Score-VSでの取り組み</b></u>\n",
    "\n",
    "先に述べたようにRF-Score-VSでは、学習のデータセットに工夫を加えることでVirtual Screeningにおけるスコアの改善が目指されています。"
   ]
  },
  {
   "cell_type": "markdown",
   "metadata": {},
   "source": [
    "### <b><u>データセットの工夫</b></u>\n",
    "\n",
    "まず、データセットとして**DUD-E** (A Database of Useful Decoys: Enganced)データセットが使われています。**DUD-E**はスクリーニングソフトの性能テスト（ベンチマーク）として利用されている**DUD**の改良版であり、DUDは市販化合物の３次元データベースであるZINCのデータを既知の標的タンパク質ごとに、その既知の活性化合物（**active**）と、類似した化合物（**inacitive**）との組み合わせとして整理したデータセットであるとのことです。[^7][^8]\n",
    "\n",
    "先述のように、RF-Scoreの学習セットとしてはPDBの情報が用いられていました。これに対してRF-Score-VSの利用している学習セットには\n",
    "\n",
    "* より大きなデータセット\n",
    "* 結晶構造ではなく、active リガンド(+ve)とinactive リガンド(-ve)のドッキングポーズ\n",
    "\n",
    "を利用するという違いがあります。結晶構造はactiveリガンドのポーズしか含まないので、こちらを学習セットとして用いるよりも、activeとinactive両方の結合ポーズを学習データとして用いる方がVirtual Screeningに用いるスコア関数としてはより実際の使用状況に類似しているだろう、というのが背景にあるようです。"
   ]
  },
  {
   "cell_type": "markdown",
   "metadata": {},
   "source": [
    "### <b><u>学習データ分割方法の工夫</b></u>\n",
    "\n",
    "また、興味深いことに学習データセットのcross-validationを行うにあたって、  \n",
    "\n",
    "* ①標的タンパク質ごと（**per-terget**）\n",
    "* ②訓練データ、テストデータともに全ての種類のタンパクを含む（**horizontal split**）\n",
    "* ③訓練データとテストデータで、標的タンパク質が重複しないようにした上で分割する（**vertival split**）\n",
    "\n",
    "という３種類の分割方法が用いられています。\n",
    "\n",
    "論文中の図を引用します。\n",
    "\n",
    "<img src=\"./images/7-2_image2.png\">\n",
    "\n",
    "②**horizontal split**は「すでに活性化合物（active ligand）が知られている標的についてvirtual screeningを行う」という状況を、③**vertical split**は「既知の活性化合物がない状態でvirutal screeningを行う」という状況を模倣する、というのを目的としているそうです。\n",
    "\n",
    "Virtual Screeningが行われる状況の場合分けを想定して、訓練データとテストデータの分割方法を分けるというのは、なるほど〜という感じでとても面白いと思いました（・・・よく使われる方法なのでしょうか？）。"
   ]
  },
  {
   "cell_type": "markdown",
   "metadata": {},
   "source": [
    "## <b><u>1-6. RF-Score-VSの性能</b></u>\n",
    "\n",
    "### <b><u>評価指標</b></u>\n",
    "\n",
    "評価指標（**metrics**）としては**Enrichment factor(EF)**というものが用いられています。\n",
    "  \n",
    "$$\n",
    "    EF_{x\\%} = \\frac{\\frac{ActiveMolecules(x\\%)}{Molecules(x\\%)}}{\\frac{ActiveMolecules(100\\%)}{Molecules(100\\%)}}\n",
    "$$\n",
    "  \n",
    "ランク付けした化合物の上位x%を取り出して、その中に本当の活性化合物が含まれている割合を求めます。この割合と、全化合物（x = 100）中に含まれる活性化合物の割合の**比**をとったものがEFとなります。Virtual Screeningの性能指標としてよく用いられるものには、EF以外にROC（Receiver Operating Characteristc）曲線のAUC（Area Under the Curve）があるそうです。  \n",
    "EFを用いた理由として、Virtual Screeningを行って選んだ化合物を実際にアッセイするとしたら、上位数パーセントを選んで行うことになる。その数パーセントに\"当たり\"が含まれていることが大事なので、その状況をより反映しているEFの方が適している、といった説明がなされていました。\n",
    "\n",
    "確かに創薬レイドバトルも「スコアでランキングをつけて上位10個をアッセイ候補として提出」ということになっていました。この論文とても勉強になる。"
   ]
  },
  {
   "cell_type": "markdown",
   "metadata": {},
   "source": [
    "### <b><u>性能</b></u>\n",
    "\n",
    "ではAutoDock Vinaをドッキングに用い、得られた結合ポーズを各種スコア関数でスコアリングして比較した結果を引用します。横軸が Enrichment Factor 1% （EF<sub>1%</sub>）で、縦軸にスコア関数が並んでいます。\n",
    "\n",
    "<img src=\"./images/7-2_image3.png\">\n",
    "\n",
    "分割方法として② **horizontal split**を用いた、RF-Score-VSに置いて非常に良い結果が得られており、従来のclassical SFと比較して高いEF1%となっています。① **per-target**は平均値としては、性能が向上しているものの、標的によって性能のばらつきが大きいという結果になっています。また、③ **vertical split**は ② **horizontal**よりも性能は落ちていますが、classical SFよりも性能が向上していると記載されていました。\n",
    "\n",
    "AutoDock Vinaのスコア関数を改善したという「**RF-Score v3**」が上記の結果では「**AutoDock Vina Score**」と比べて良くなっているように見えないのが気になる点ですが、評価対象のデータセットの質が変わった（結晶構造　→　ドッキングポーズ）ことが理由なのかもしれません。\n",
    "\n",
    "他のドッキングソフト(Docking engine)を使った比較結果、DUD-Eとは異なるデータセット DEKOIS 2.0 に対して適用した際の結果についても記載されていましたので、ご興味のある方は論文を参照していただければと思います。\n",
    "\n",
    "要するに、とにかく良い結果が出るっぽい！！！　使いましょう！"
   ]
  },
  {
   "cell_type": "markdown",
   "metadata": {},
   "source": [
    "# <b><u>2. RF-Score-VS を使ってみる</b></u>\n",
    "\n",
    "## <b><u>2-1. ドッキングスコアを再計算</b></u>\n",
    "\n",
    "とても有り難いことにRF-Score-VSに関して、データセット（ http://github.com/oddt/rfscorevs ）、学習済みのモデル （http://github.com/oddt/rfscorevs_binary ）ともにGitHubで公開されています。\n",
    "\n",
    "各OS向けの学習済みのbinaryが用意されているので、ready-to-use RF-Score-VSをローカルに落として来ました。  \n",
    "こちらのbinaryにはRD-SCORE-VS v2 が入っている、とのことです。\n",
    "\n",
    "使い方は簡単で、ターミナルでダウンロードして来たフォルダ（rd-score-vs_v1）に移動します。\n",
    "\n",
    "以下でヘルプを参照できます。"
   ]
  },
  {
   "cell_type": "markdown",
   "metadata": {},
   "source": [
    "```console\n",
    "$ ./rf-score-vs --help\n",
    "```"
   ]
  },
  {
   "cell_type": "markdown",
   "metadata": {},
   "source": [
    "ドッキングに使ったタンパク質のpdbファイル（今回は**5nix_chainAB.pdb**という名前）と、AutoDock Vinaのドッキングで得たリガンド構造を含むsdf（**ODDT_Dock_All_Result_mod.sdf**という名前）を同じフォルダに入れてコマンドを実行します。"
   ]
  },
  {
   "cell_type": "markdown",
   "metadata": {},
   "source": [
    "```console\n",
    "./rf-score-vs_v1 --receptor 5nix_chainAB.pdb ODDT_Dock_All_Result_mod.sdf -O ODDT_All_ligands_rescored.sdf\n",
    "```"
   ]
  },
  {
   "cell_type": "markdown",
   "metadata": {},
   "source": [
    "引数 **--receptor** に続いてpdb、sdfを入力し、 **-O**　で指定したファイル名で、再計算されたスコア（フィールド名: RFScoreVS_v2）が書き込まれたsdfが出力されました。\n",
    "\n",
    "今回は全てのドッキングポーズ（50化合物 ポーズ合計449個）についてスコアを再計算しています。では結果を確認していきましょう。"
   ]
  },
  {
   "cell_type": "markdown",
   "metadata": {},
   "source": [
    "## <b><u>2-2. スコアを確認</b></u>\n",
    "\n",
    "RDKitでSDFを読み込んでおきます。"
   ]
  },
  {
   "cell_type": "markdown",
   "metadata": {},
   "source": [
    "```python\n",
    "from rdkit import Chem\n",
    "from rdkit.Chem import AllChem, PandasTools \n",
    "import pandas as pd\n",
    "\n",
    "#PandasToolsで読み込み、スコアのTypeをfloatに変換する\n",
    "Rescored_df = PandasTools.LoadSDF('./ODDT_All_ligands_rescored.sdf')\n",
    "Rescored_df['RFScoreVS_v2'] = Rescored_df['RFScoreVS_v2'].astype(float)\n",
    "Rescored_df['vina_affinity'] = Rescored_df['vina_affinity'].astype(float)\n",
    "```"
   ]
  },
  {
   "cell_type": "markdown",
   "metadata": {},
   "source": [
    "<img src=\"./images/7-2_image4.png\">\n",
    "\n",
    "AutoDock Vinaのスコアは結合自由エネルギ-の予測値（kcal/mol）で与えられるのに対し、RF-Score-vsのスコア再計算結果は pK<sub>d/i</sub> の単位で与えられます。  \n",
    "学習の段階でDUD-Eの化合物の活性を pK<sub>d/i</sub> = **6** よりも弱い（小さい）場合に**inactive**としています。また、トレーニングセットのDecoy（構造類似の不活性化合物?）には一律に pK<sub>d/i</sub> = **5.95** を設定しています。従って予測値が6よりも大きければ活性あり、となりそうです。\n",
    "\n",
    "スコアの分布をみてみましょう。ヒストグラムを描きます。"
   ]
  },
  {
   "cell_type": "markdown",
   "metadata": {},
   "source": [
    "```python\n",
    "import matplotlib.pyplot as plt\n",
    "%matplotlib inline\n",
    "plt.hist(Rescored_df['RFScoreVS_v2'], bins=20, range=(5.8, 6.8))\n",
    "```"
   ]
  },
  {
   "cell_type": "markdown",
   "metadata": {},
   "source": [
    "<img src=\"./images/7-2_image5.png\">\n",
    "\n",
    "要約統計量を確認します。"
   ]
  },
  {
   "cell_type": "markdown",
   "metadata": {},
   "source": [
    "```python\n",
    "Rescored_df['RFScoreVS_v2'].describe()\n",
    "\"\"\"\n",
    "count    449.000000\n",
    "mean       6.005943\n",
    "std        0.075275\n",
    "min        5.950000\n",
    "25%        5.960443\n",
    "50%        5.977587\n",
    "75%        6.023838\n",
    "max        6.438919\n",
    "Name: RFScoreVS_v2, dtype: float64\n",
    "\"\"\"\n",
    "```"
   ]
  },
  {
   "cell_type": "markdown",
   "metadata": {},
   "source": [
    "最小値は 5.95で、inactiveのスコア設定にあった値が出ています。第1四分位数 5.96、第3四分位数 6.02と、3/4近くの結合ポーズが pK<sub>d/i</sub>=6以下となっています。活性値の判断基準（6以上）からすると、活性なしと判別されたポーズが 3/4 近いということになりそうです。（・・・この解釈で良いのだろうか？？）\n",
    "\n",
    "AutoDock Vinaのスコアと一緒にプロットしてみます。"
   ]
  },
  {
   "cell_type": "markdown",
   "metadata": {},
   "source": [
    "```python\n",
    "x = Rescored_df['RFScoreVS_v2']\n",
    "y = Rescored_df['vina_affinity']\n",
    "\n",
    "plt.scatter(x,y)\n",
    "plt.title(\"RF-Score-VS vs AutoDock Vina\")\n",
    "plt.xlabel(\"RF-Score-VS\")\n",
    "plt.ylabel(\"AutoDock Vina\")\n",
    "plt.grid(True)\n",
    "```\n",
    "\n",
    "<img src=\"./images/7-2_image6.png\">\n",
    "\n",
    "AutoDock Vinaのスコアは小さいほど良く、RF-Score-VSは大きいほど良い結果、となりますので左上から右下に向かう対角線方向に動いて入れば、予測結果に相関があることになりそうです。\n",
    "\n",
    "図を見るとRF-Score-VS （x = 5.5, inactive）の線上に様々なy値の点が分布ししており、今回の再スコアリングではかなり異なるスコアリング結果が得られていそうです。特に興味深い結果なのが、y軸で最小値に近い点（前回記事でスコアが良いとして選択していた点）が、再スコアではかなりスコアが悪いという結果になることです。こんなに違う結果になるとは。。。"
   ]
  },
  {
   "cell_type": "markdown",
   "metadata": {},
   "source": [
    "## <b><u>2-3. 化合物ごとのベストポーズを取得</b></u>\n",
    "\n",
    "上のプロットは全499個の結合ポーズ全てなので、ここから各化合物ごとに最も良いスコアとなっているポーズのみを取り出したいと思います。元々の化合物のIDを「original_id」というフィールドに格納しているので、これを使ってgroupbyすれば良さそうです。"
   ]
  },
  {
   "cell_type": "markdown",
   "metadata": {},
   "source": [
    "```python\n",
    "# 各化合物ごとのポーズ数を確認してみる\n",
    "Rescored_df.groupby('original_id').size()\n",
    "\"\"\"\n",
    "original_id\n",
    "PB27242793     9\n",
    "PB300184784    9\n",
    "PB57131569     9\n",
    "PB90021090     9\n",
    "・・・以下略\n",
    "\"\"\"\n",
    "```\n",
    "```python\n",
    "len(Rescored_df.groupby('original_id').size())\n",
    "#50\n",
    "```"
   ]
  },
  {
   "cell_type": "markdown",
   "metadata": {},
   "source": [
    "original_idでグループ化したものから、RFScoreVS_v2の値が最大となっているものを取り出して新しいデータフレームとします。[^9] "
   ]
  },
  {
   "cell_type": "markdown",
   "metadata": {},
   "source": [
    "```python\n",
    "id_group = Rescored_df.groupby('original_id')\n",
    "best_scores = Rescored_df.loc[id_group['RFScoreVS_v2'].idxmax(), :]\n",
    "\n",
    "# 化合物数を行数で確認\n",
    "best_scores.shape\n",
    "# (50, 18)\n",
    "```"
   ]
  },
  {
   "cell_type": "markdown",
   "metadata": {},
   "source": [
    "再度、二つのスコアでプロットしてみます。（コード省略）\n",
    "\n",
    "<img src=\"./images/7-2_image7.png\">\n",
    "\n",
    "だいぶんスッキリした見た目になりました。要約統計量を確認します。"
   ]
  },
  {
   "cell_type": "markdown",
   "metadata": {},
   "source": [
    "```python\n",
    "best_scores['RFScoreVS_v2'].describe()\n",
    "\"\"\"\n",
    "count    50.000000\n",
    "mean      6.079934\n",
    "std       0.111637\n",
    "min       5.967962\n",
    "25%       6.004503\n",
    "50%       6.054512\n",
    "75%       6.096116\n",
    "max       6.438919\n",
    "Name: RFScoreVS_v2, dtype: float64\n",
    "\"\"\"\n",
    "```"
   ]
  },
  {
   "cell_type": "markdown",
   "metadata": {},
   "source": [
    "今回は第１四分位数で6.00、第２四分位数で6.05と、各化合物のベストスコアを抜き出したことで安心できる分布になりました。これなら希望が持てるかもしれません・・・\n",
    "\n",
    "プロットに合わせて構造を確認してみたいと思います。こちらの記事[Plot Chemical space with d3js based library](https://iwatobipen.wordpress.com/2019/01/19/plot-chemical-space-with-d3js-based-library-rdkit-chemoinformatics/)を参考にさせていただき、d3jsを使います。"
   ]
  },
  {
   "cell_type": "markdown",
   "metadata": {},
   "source": [
    "```python\n",
    "import mpld3  \n",
    "from mpld3 import plugins\n",
    "mpld3.enable_notebook()\n",
    "\n",
    "#描画を作成するためのモジュール\n",
    "from rdkit.Chem.Draw import rdMolDraw2D\n",
    "from IPython.display import SVG\n",
    "\n",
    "#svgを格納するための空のリスト\n",
    "svgs_list = []\n",
    "\n",
    "for i in range(len(best_scores)):\n",
    "    view = rdMolDraw2D.MolDraw2DSVG(300,300)\n",
    "    \n",
    "    ROMol_col = best_scores.columns.get_loc('ROMol')\n",
    "    mol = best_scores.iloc[i, ROMol_col]\n",
    "    \n",
    "    prepro_mol = rdMolDraw2D.PrepareMolForDrawing(mol)\n",
    "    \n",
    "    view.DrawMolecule(prepro_mol)\n",
    "    view.FinishDrawing()\n",
    "    \n",
    "    svg = view.GetDrawingText()\n",
    "    svgs_list.append(svg.replace('svg:,',''))\n",
    "\n",
    "x = best_scores['RFScoreVS_v2']\n",
    "y = best_scores['vina_affinity']\n",
    "\n",
    "fig, ax =plt.subplots()\n",
    "ax.set_xlabel(\"RF-Score-VS\")\n",
    "ax.set_ylabel(\"AutoDock Vina\")\n",
    "points = ax.scatter(x, y)\n",
    "\n",
    "tooltip = plugins.PointHTMLTooltip(points, svgs_list)\n",
    "plugins.connect(fig, tooltip)\n",
    "```\n",
    "\n",
    "<img src=\"./images/7-2_gif1.gif\">\n",
    "\n",
    "gifではわかりにくいですが、スポットにカーソルを合わせると構造式が表示されます。\n"
   ]
  },
  {
   "cell_type": "markdown",
   "metadata": {},
   "source": [
    "## <b><u>2-4. RF-Score VSにおけるスコアTop 10の取得</b></u>\n",
    "\n",
    "Top 10を取り出してSDFとして書き出しておきます。"
   ]
  },
  {
   "cell_type": "markdown",
   "metadata": {},
   "source": [
    "```python\n",
    "#スコアでソートし、上から10個を取り出す\n",
    "best_scores_10 = best_scores.sort_values('RFScoreVS_v2', ascending=False).iloc[:10]\n",
    "PandasTools.WriteSDF(best_scores_10, 'RF-ScoreVS_Top10.sdf', properties=best_scores.columns)\n",
    "```"
   ]
  },
  {
   "cell_type": "markdown",
   "metadata": {},
   "source": [
    "描画します。前回と同じなのでコードは省略しますが、レジェンドのRFがRF-Score VSのスコアを、ADがAutoDock Vinaのスコアを表します。\n",
    "\n",
    "<img src=\"./images/7-2_image8.png\">\n",
    "\n",
    "AutoDock Vinaのスコアで選択したTop 10の結果と並べてみます。\n",
    "\n",
    "<img src=\"./images/7-2_image9.png\">\n",
    "\n",
    "両スコア関数で選択される化合物の違いを見てみてると、ぼんやりとですがRF-Score-VSではリガンドの中心付近にヘテロ芳香族環が位置していたり、AutoDock Vinaによる選択と比較して、分子全体が丸まっているように見えるものなどもあります。"
   ]
  },
  {
   "cell_type": "markdown",
   "metadata": {},
   "source": [
    "# <b><u>3. まとめ</b></u>\n",
    "\n",
    "今回はODDTに関して調べているうちに行き当たった論文、Sci.Rep. 2017(7)46710 に魅かれて機械学習を用いたドッキングスコア関数について調べてみました。実際に適用して見るとAutoDock Vinaによるスコアリングと異なる傾向が見え、とても面白い結果だと感じました。文献中ではまだまだ修正・改善が必要だ、と書かれていましたが、既存のスコア関数のモデルの問題点など、非常に学ぶことが多い論文だと思いました。\n",
    "\n",
    "前回の記事でドッキングを行なった際には、とりあえず動いてデータが出れば良し！ということで進めていきましたが、AutoDock Vinaが少し古いソフトウェアなのかな？これだけで良いのかな？という懸念がありました。ドッキングそのものは時間がかかるので、何度も条件を変えて試すのは大変ですが、結合ポーズが出ていればスコア関数を修正して評価精度をあげることができる、というのを学べて良かったです。（新しいっぽいことをやって格好つけたかった）\n",
    "\n",
    "とりあえずデフォルト+α のことが少しできたので満足！"
   ]
  },
  {
   "cell_type": "markdown",
   "metadata": {},
   "source": [
    "# 脚注\n",
    "\n",
    "[^1]:  Machine-learning scoring functions to improve structure-based binding affinity prediction and virtual screening\n",
    "Ain, Q.U., Aleksandrova, A., Roessler, F.D., and Ballester P.J. [WIREs Comput. Mol. Sci.2015(5)405](https://www.ncbi.nlm.nih.gov/pmc/articles/PMC4832270/)\n",
    "\n",
    "[^2]: A machine learning approach to predicting protein-ligand binding affinity with applications to molecular docking. Ballester, P.J. and Mitchell., J.B.O.,  [Bioinformatics. 2010(26)1169](https://www.ncbi.nlm.nih.gov/pubmed/20236947)\n",
    "\n",
    "[^3]: Does a more precise chemical description of protein-ligand complexes lead to more accurate prediction of binding affinity? Ballester, P.J., Schreyer, A., Blundell. T.L., [J. Chem. Inf. Model. 2014(54)944](https://www.ncbi.nlm.nih.gov/pubmed/24528282)\n",
    "\n",
    "[^4]: Li, H., Leung, KS., Wong, M.H., Ballester P.J., [Mol. Inform. 2015(34)115](https://www.ncbi.nlm.nih.gov/pubmed/27490034)\n",
    "\n",
    "[^5]: [ML to improve scoring functions binding and virtual screening](http://ukqsar.org/wp-content/uploads/2018/05/11-Ballester.pdf)  \n",
    "\n",
    "[^6]: [RF-Score: a Machine Learning Scoring Function for Protein-Ligand Binding Affinities](https://studylib.net/doc/5624122/rf-score--a-new-scoring-function-for-protein)\n",
    "\n",
    "[^7]: Mysinger,M.M.,Carchia,M.,Irwin,J.J.,Shoichet,B.K.,[J.Med.Chem.2012(55)6582](http://pubs.acs.org/doi/abs/10.1021/jm300687e)\n",
    "\n",
    "[^8]: 「タンパク質計算科学」の記述参考\n",
    "\n",
    "[^9]: [pandasのgroupbyを使ってグループ内で最大値（最小値）を持つ行を取得する](https://qiita.com/ground0state/items/245c4f122f29c74c0e08)"
   ]
  }
 ],
 "metadata": {
  "kernelspec": {
   "display_name": "Python 3",
   "language": "python",
   "name": "python3"
  },
  "language_info": {
   "codemirror_mode": {
    "name": "ipython",
    "version": 3
   },
   "file_extension": ".py",
   "mimetype": "text/x-python",
   "name": "python",
   "nbconvert_exporter": "python",
   "pygments_lexer": "ipython3",
   "version": "3.6.8"
  },
  "toc": {
   "base_numbering": 1,
   "nav_menu": {},
   "number_sections": true,
   "sideBar": true,
   "skip_h1_title": false,
   "title_cell": "Table of Contents",
   "title_sidebar": "Contents",
   "toc_cell": true,
   "toc_position": {},
   "toc_section_display": true,
   "toc_window_display": true
  }
 },
 "nbformat": 4,
 "nbformat_minor": 2
}
