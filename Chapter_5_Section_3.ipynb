{
 "cells": [
  {
   "cell_type": "markdown",
   "metadata": {
    "toc": true
   },
   "source": [
    "<h1>Table of Contents<span class=\"tocSkip\"></span></h1>\n",
    "<div class=\"toc\"><ul class=\"toc-item\"><li><span><a href=\"#第５章３節：ファーマコフォアを作ろうとする話\" data-toc-modified-id=\"第５章３節：ファーマコフォアを作ろうとする話-1\"><span class=\"toc-item-num\">1&nbsp;&nbsp;</span>第５章３節：ファーマコフォアを作ろうとする話</a></span></li><li><span><a href=\"#1.-活性化合物で検証\" data-toc-modified-id=\"1.-活性化合物で検証-2\"><span class=\"toc-item-num\">2&nbsp;&nbsp;</span><u><b>1. 活性化合物で検証</b></u></a></span><ul class=\"toc-item\"><li><span><a href=\"#1-1.-フィーチャーの探索\" data-toc-modified-id=\"1-1.-フィーチャーの探索-2.1\"><span class=\"toc-item-num\">2.1&nbsp;&nbsp;</span><u><b>1-1. フィーチャーの探索</b></u></a></span></li><li><span><a href=\"#1-2.-フィーチャーの可視化\" data-toc-modified-id=\"1-2.-フィーチャーの可視化-2.2\"><span class=\"toc-item-num\">2.2&nbsp;&nbsp;</span><u><b>1-2. フィーチャーの可視化</b></u></a></span></li><li><span><a href=\"#1-3.-SMARTSの表現を再確認\" data-toc-modified-id=\"1-3.-SMARTSの表現を再確認-2.3\"><span class=\"toc-item-num\">2.3&nbsp;&nbsp;</span><u><b>1-3. SMARTSの表現を再確認</b></u></a></span></li><li><span><a href=\"#1-4.-PyMol-x-RDKit\" data-toc-modified-id=\"1-4.-PyMol-x-RDKit-2.4\"><span class=\"toc-item-num\">2.4&nbsp;&nbsp;</span><u><b>1-4. PyMol x RDKit</b></u></a></span></li><li><span><a href=\"#1-5.-PyMolでフィーチャーを可視化\" data-toc-modified-id=\"1-5.-PyMolでフィーチャーを可視化-2.5\"><span class=\"toc-item-num\">2.5&nbsp;&nbsp;</span><u><b>1-5. PyMolでフィーチャーを可視化</b></u></a></span></li></ul></li><li><span><a href=\"#2.-共結晶構造をつかって検証\" data-toc-modified-id=\"2.-共結晶構造をつかって検証-3\"><span class=\"toc-item-num\">3&nbsp;&nbsp;</span><u><b>2. 共結晶構造をつかって検証</b></u></a></span><ul class=\"toc-item\"><li><span><a href=\"#2-1.-共結晶構造のリガンドでフィーチャーを確認\" data-toc-modified-id=\"2-1.-共結晶構造のリガンドでフィーチャーを確認-3.1\"><span class=\"toc-item-num\">3.1&nbsp;&nbsp;</span><u><b>2-1. 共結晶構造のリガンドでフィーチャーを確認</b></u></a></span></li><li><span><a href=\"#2-2.-共結晶構造の相互作用をPyMolで眺める\" data-toc-modified-id=\"2-2.-共結晶構造の相互作用をPyMolで眺める-3.2\"><span class=\"toc-item-num\">3.2&nbsp;&nbsp;</span><u><b>2-2. 共結晶構造の相互作用をPyMolで眺める</b></u></a></span></li><li><span><a href=\"#2-3.-ファーマコフォア作成に向けた偽アトムの設定\" data-toc-modified-id=\"2-3.-ファーマコフォア作成に向けた偽アトムの設定-3.3\"><span class=\"toc-item-num\">3.3&nbsp;&nbsp;</span><u><b>2-3. ファーマコフォア作成に向けた偽アトムの設定</b></u></a></span></li><li><span><a href=\"#2-4.-相互作用を順番に\" data-toc-modified-id=\"2-4.-相互作用を順番に-3.4\"><span class=\"toc-item-num\">3.4&nbsp;&nbsp;</span><u><b>2-4. 相互作用を順番に</b></u></a></span><ul class=\"toc-item\"><li><span><a href=\"#~-Tyr-/-Gln-~\" data-toc-modified-id=\"~-Tyr-/-Gln-~-3.4.1\"><span class=\"toc-item-num\">3.4.1&nbsp;&nbsp;</span>~ Tyr / Gln ~</a></span></li><li><span><a href=\"#~-Ala-/-Met-~\" data-toc-modified-id=\"~-Ala-/-Met-~-3.4.2\"><span class=\"toc-item-num\">3.4.2&nbsp;&nbsp;</span>~ Ala / Met ~</a></span></li><li><span><a href=\"#~-Tyr-/-Lys-~\" data-toc-modified-id=\"~-Tyr-/-Lys-~-3.4.3\"><span class=\"toc-item-num\">3.4.3&nbsp;&nbsp;</span>~ Tyr / Lys ~</a></span></li></ul></li></ul></li><li><span><a href=\"#3.-共結晶構造をもとにファーマコフォアを作成\" data-toc-modified-id=\"3.-共結晶構造をもとにファーマコフォアを作成-4\"><span class=\"toc-item-num\">4&nbsp;&nbsp;</span><u><b>3. 共結晶構造をもとにファーマコフォアを作成</b></u></a></span><ul class=\"toc-item\"><li><span><a href=\"#3-1.-フィーチャーの選択と相対配置\" data-toc-modified-id=\"3-1.-フィーチャーの選択と相対配置-4.1\"><span class=\"toc-item-num\">4.1&nbsp;&nbsp;</span><u><b>3-1. フィーチャーの選択と相対配置</b></u></a></span></li><li><span><a href=\"#3-2.-共結晶構造におけるフィーチャーの座標の取得\" data-toc-modified-id=\"3-2.-共結晶構造におけるフィーチャーの座標の取得-4.2\"><span class=\"toc-item-num\">4.2&nbsp;&nbsp;</span><u><b>3-2. 共結晶構造におけるフィーチャーの座標の取得</b></u></a></span></li></ul></li><li><span><a href=\"#4.-RDKitでファーマコフォアを設定\" data-toc-modified-id=\"4.-RDKitでファーマコフォアを設定-5\"><span class=\"toc-item-num\">5&nbsp;&nbsp;</span><u><b>4. RDKitでファーマコフォアを設定</b></u></a></span><ul class=\"toc-item\"><li><span><a href=\"#4-1.-ファーマコフォア設定方法の流れ\" data-toc-modified-id=\"4-1.-ファーマコフォア設定方法の流れ-5.1\"><span class=\"toc-item-num\">5.1&nbsp;&nbsp;</span><u><b>4-1. ファーマコフォア設定方法の流れ</b></u></a></span></li><li><span><a href=\"#4-2.-ファーマコフォアの設定を実践\" data-toc-modified-id=\"4-2.-ファーマコフォアの設定を実践-5.2\"><span class=\"toc-item-num\">5.2&nbsp;&nbsp;</span><u><b>4-2. ファーマコフォアの設定を実践</b></u></a></span></li><li><span><a href=\"#4-3.-ファーマコフォアサーチ--~step-1.-フィーチャーの有無~-\" data-toc-modified-id=\"4-3.-ファーマコフォアサーチ--~step-1.-フィーチャーの有無~--5.3\"><span class=\"toc-item-num\">5.3&nbsp;&nbsp;</span><u><b>4-3. ファーマコフォアサーチ </b> ~step 1. フィーチャーの有無~ </u></a></span></li><li><span><a href=\"#4-4.-ファーマコフォアサーチ--~step-2.-距離条件~-\" data-toc-modified-id=\"4-4.-ファーマコフォアサーチ--~step-2.-距離条件~--5.4\"><span class=\"toc-item-num\">5.4&nbsp;&nbsp;</span><u><b>4-4. ファーマコフォアサーチ </b> ~step 2. 距離条件~ </u></a></span></li><li><span><a href=\"#4-5.-ファーマコフォアサーチ--~step-3.-3D構造の発生~-\" data-toc-modified-id=\"4-5.-ファーマコフォアサーチ--~step-3.-3D構造の発生~--5.5\"><span class=\"toc-item-num\">5.5&nbsp;&nbsp;</span><u><b>4-5. ファーマコフォアサーチ </b> ~step 3. 3D構造の発生~ </u></a></span></li></ul></li><li><span><a href=\"#5.-ファーマコフォアを基準に共結晶構造に重ね合わせ-\" data-toc-modified-id=\"5.-ファーマコフォアを基準に共結晶構造に重ね合わせ--6\"><span class=\"toc-item-num\">6&nbsp;&nbsp;</span><u><b>5. ファーマコフォアを基準に共結晶構造に重ね合わせ </b></u></a></span><ul class=\"toc-item\"><li><span><a href=\"#5-1.-PDB座標にアラインメント\" data-toc-modified-id=\"5-1.-PDB座標にアラインメント-6.1\"><span class=\"toc-item-num\">6.1&nbsp;&nbsp;</span><u><b>5-1. PDB座標にアラインメント</b></u></a></span></li></ul></li><li><span><a href=\"#まとめ\" data-toc-modified-id=\"まとめ-7\"><span class=\"toc-item-num\">7&nbsp;&nbsp;</span><u><b>まとめ</b></u></a></span></li><li><span><a href=\"#脚注\" data-toc-modified-id=\"脚注-8\"><span class=\"toc-item-num\">8&nbsp;&nbsp;</span>脚注</a></span></li></ul></div>"
   ]
  },
  {
   "cell_type": "markdown",
   "metadata": {},
   "source": [
    "# 第５章３節：ファーマコフォアを作ろうとする話"
   ]
  },
  {
   "cell_type": "markdown",
   "metadata": {},
   "source": [
    "前回の記事でRDKitのファーマコフォアがどのような化学的構造を認識しているのか、その定義を眺めました。実際の化合物に適応するとどうなるのか、活性化合物のデータセット （[共闘用シェアデータ](https://github.com/masahiro-mochizuki/pd1_inhibitor_dataset) ） から取り出した分子（マクロサイクル型を除いたもの）で試したいと思います。\n"
   ]
  },
  {
   "cell_type": "markdown",
   "metadata": {},
   "source": [
    "# <u><b>1. 活性化合物で検証</b></u>\n",
    "## <u><b>1-1. フィーチャーの探索</b></u>\n",
    "\n",
    "まずは活性化合物群を読み込みます。"
   ]
  },
  {
   "cell_type": "markdown",
   "metadata": {},
   "source": [
    "```python\n",
    "import os\n",
    "from rdkit import RDConfig\n",
    "from rdkit.Chem import AllChem\n",
    "from rdkit import Chem\n",
    "\n",
    "chain_suppl = Chem.SDMolSupplier('./chain_compounds.sdf', removeHs=False)\n",
    "chain_mols = [x for x in chain_suppl if x is not None]\n",
    "```"
   ]
  },
  {
   "cell_type": "markdown",
   "metadata": {},
   "source": [
    "FDefファイルを読み込んでフィーチャーファクトリーを作成します。"
   ]
  },
  {
   "cell_type": "markdown",
   "metadata": {},
   "source": [
    "```python\n",
    "fdef = AllChem.BuildFeatureFactory(os.path.join(RDConfig.RDDataDir,'BaseFeatures.fdef'))\n",
    "print(fdef.GetFeatureFamilies())\n",
    "#('Donor', 'Acceptor', 'NegIonizable', 'PosIonizable', 'ZnBinder', 'Aromatic', 'Hydrophobe', 'LumpedHydrophobe')\n",
    "```"
   ]
  },
  {
   "cell_type": "markdown",
   "metadata": {},
   "source": [
    "一つ目の化合物を取り出し、特性基（フィーチャー）の探索を行います。"
   ]
  },
  {
   "cell_type": "markdown",
   "metadata": {},
   "source": [
    "```python\n",
    "test_m = chain_mols[0]\n",
    "# そのままfeatureを検索\n",
    "rawFeats = fdef.GetFeaturesForMol(test_m)\n",
    "len(rawFeats)\n",
    "#17\n",
    "```"
   ]
  },
  {
   "cell_type": "markdown",
   "metadata": {},
   "source": [
    "17個のフィーチャーが認識されました。各フィーチャーがどのフィーチャーファミリーのものか確認します。"
   ]
  },
  {
   "cell_type": "markdown",
   "metadata": {},
   "source": [
    "```python\n",
    "feat_fam = []\n",
    "for feat in rawFeats:\n",
    "    feat_fam.append(feat.GetFamily())\n",
    "```"
   ]
  },
  {
   "cell_type": "markdown",
   "metadata": {},
   "source": [
    "Python標準ライブラリcollectionsを使って、上記のリストの各要素の個数を確認します。[^1] "
   ]
  },
  {
   "cell_type": "markdown",
   "metadata": {},
   "source": [
    "```python\n",
    "import collections\n",
    "c = collections.Counter(feat_fam)\n",
    "print(c)\n",
    "# Counter({'Hydrophobe': 5, 'Acceptor': 4, 'Aromatic': 3, 'Donor': 2, 'LumpedHydrophobe': 2, 'PosIonizable': 1})\n",
    "```"
   ]
  },
  {
   "cell_type": "markdown",
   "metadata": {},
   "source": [
    "用意されている８種類ファミリーのうち「'Hydrophobe', 'LumpedHydrophobe', 'ZnBinder'」の３つは特殊なように思えたので、より基本的な残りの５種類「'Donor', 'Acceptor', 'NegIonizable', 'PosIonizable', 'Aromatic'」を使うことにします。 [^2] "
   ]
  },
  {
   "cell_type": "markdown",
   "metadata": {},
   "source": [
    "```python\n",
    "keep = ('Donor','Acceptor','NegIonizable','PosIonizable','Aromatic')\n",
    "featLists = []\n",
    "for feat in rawFeats:\n",
    "    # ファミリーを取得し、keepに含まれている時のみリストに追加\n",
    "    if feat.GetFamily() in keep:\n",
    "        featLists.append(feat)\n",
    "len(featLists)\n",
    "# 10\n",
    "```"
   ]
  },
  {
   "cell_type": "markdown",
   "metadata": {},
   "source": [
    "Hydrophobe（5個）とLumpedHydrophobe（2個）を除くと、基本的なフィーチャーは10個となりました。"
   ]
  },
  {
   "cell_type": "markdown",
   "metadata": {},
   "source": [
    "## <u><b>1-2. フィーチャーの可視化</b></u>\n",
    "\n",
    "こちらの記事[visualize-pharmacophore-in-rdkit](https://iwatobipen.wordpress.com/2018/11/27/visualize-pharmacophore-in-rdkit-rdkit/)を参考に、フィーチャーとして認識された構造を眺めます。"
   ]
  },
  {
   "cell_type": "markdown",
   "metadata": {},
   "source": [
    "```python\n",
    "atom_ids_list = [] \n",
    "legend_list = []\n",
    "for feat in featLists:\n",
    "    # feat_family_list.append(feat.GetFamily())\n",
    "    atom_ids_list.append(feat.GetAtomIds())\n",
    "    # feat_type_list.append(feat.GetType())\n",
    "    legend_list.append(feat.GetFamily() + ':' + feat.GetType())\n",
    "\n",
    "from rdkit.Chem.Draw import IPythonConsole\n",
    "from rdkit.Chem import Draw\n",
    "\n",
    "Draw.MolsToGridImage([test_m]*10, molsPerRow=5, subImgSize=(200, 200), legends=legend_list, highlightAtomLists=atom_ids_list)\n",
    "```"
   ]
  },
  {
   "cell_type": "markdown",
   "metadata": {},
   "source": [
    "<img src=\"./images/5-3_image1.png\">\n",
    "\n",
    "水素結合ドナー(Donor)としてはアミンやアミドのNH、アクセプターとしてはアミド結合のカルボニル酸素、エーテル結合の酸素原子が認識されています。また、ピリジンのNは塩基性があるので、プラス電荷を帯びる塩基性グループ（PosIonizable:BasicGroup）としても良さそうですが、デフォルトのフィーチャーファクトリーでは、水素結合アクセプターとして認識されるようです（下段左端）。\n"
   ]
  },
  {
   "cell_type": "markdown",
   "metadata": {},
   "source": [
    "## <u><b>1-3. SMARTSの表現を再確認</b></u>\n",
    "\n",
    "前回フィーチャーのSMARTSを眺めましたが、ピリジンのNを認識していると思われる部分を再度確認しましょう。\n",
    "**Acceptor**ファミリーのフィーチャー**Acceptor.SingleAtomAcceptor**、「[n;+0;!X3;!\\$([n;H1]\\(cc)cc)]」あたりでしょうか?\n",
    "\n",
    "[SMARTSviewer](https://smartsview.zbh.uni-hamburg.de)を使ってみます。 [^3] \n",
    "\n",
    "<img src=\"./images/5-3_image2.png\">\n",
    "\n",
    "「1」で囲まれた芳香族NH（ピロールのような構造？）ではない（「!:否定」）、芳香族Nと解釈できそうなので、ピリジンNを認識しそうです。\n",
    "\n",
    "もっとかっこよく眺めたい！ということで、RDKitとPyMolの組み合わせを使ってみたいと思います。"
   ]
  },
  {
   "cell_type": "markdown",
   "metadata": {},
   "source": [
    "## <u><b>1-4. PyMol x RDKit</b></u>\n",
    "\n",
    "こちらの記事[Visualize pharmacophore with RDKit](https://iwatobipen.wordpress.com/2019/01/14/visualize-pharmacophore-with-rdkit-rdkit-pymol-chemoinformatics/)とこちらのノート[Show_Ph4_Features_in_PyMOL.ipynb](https://gist.github.com/greglandrum/1af83f6260fdd2d9171dfc9427791885)を参考にさせていただきました。\n",
    "\n",
    "まず、ターミナルでpymolを xml-rpc（remote procedure call）サーバーモードで起動します。\n"
   ]
  },
  {
   "cell_type": "markdown",
   "metadata": {},
   "source": [
    "```console\n",
    "# ターミナル\n",
    "pymol -R\n",
    "```"
   ]
  },
  {
   "cell_type": "markdown",
   "metadata": {},
   "source": [
    "jupyter notebookに戻って以下を実行します。"
   ]
  },
  {
   "cell_type": "markdown",
   "metadata": {},
   "source": [
    "```python\n",
    "from IPython import display\n",
    "from rdkit.Chem import PyMol\n",
    "IPythonConsole.ipython_useSVG=True\n",
    "\n",
    "# viewerを作成\n",
    "v = PyMol.MolViewer()\n",
    "\n",
    "# viewerを一旦綺麗に掃除\n",
    "v.DeleteAll()\n",
    "\n",
    "# 先の構造を表示\n",
    "v.ShowMol(test_m)\n",
    "```"
   ]
  },
  {
   "cell_type": "markdown",
   "metadata": {},
   "source": [
    "先に起動していたpymolを眺めると構造式が出ていました。グリグリ回してポーズを決めてから次のコマンドをjupyter notebookで実行するとノート上に静止画（PNG）が表示されました。"
   ]
  },
  {
   "cell_type": "markdown",
   "metadata": {},
   "source": [
    "```python\n",
    "png=v.GetPNG()\n",
    "display.display(png)\n",
    "```"
   ]
  },
  {
   "cell_type": "markdown",
   "metadata": {},
   "source": [
    "<img src=\"./images/5-3_image3.png\">\n",
    "\n",
    "PyMol綺麗・・・\n",
    "\n",
    "PyMolが無事動いたので、フィーチャーの可視化に進みます。"
   ]
  },
  {
   "cell_type": "markdown",
   "metadata": {},
   "source": [
    "## <u><b>1-5. PyMolでフィーチャーを可視化</b></u>\n",
    "\n",
    "フィーチャーを表示させるための関数を作成します。さっぱりわからないので先述のノート （ipynb）からコピペさせていただきます。\n",
    "\n",
    "RDKitの[Features.ShowFeats](http://rdkit.org/docs/source/rdkit.Chem.Features.ShowFeats.html?highlight=showfeats#module-rdkit.Chem.Features.ShowFeats)モジュールを使っているようですが、CGOなど全くわからない・・・"
   ]
  },
  {
   "cell_type": "markdown",
   "metadata": {},
   "source": [
    "```python\n",
    "# コピペ\n",
    "from rdkit.Chem.Features import ShowFeats\n",
    "\n",
    "def showMolFeats(mol,factory,viewer,name=\"mol\",showOnly=True):\n",
    "    featLabel = f'{name}-feats'\n",
    "    dirLabel = f'{name}-feats-dirs'\n",
    "    if(showOnly):\n",
    "        ShowFeats._globalSphereCGO = []\n",
    "        ShowFeats._globalArrowCGO = []\n",
    "    # workaround for what is either a bug in the way pymol handles CGOs\n",
    "    # or a gap in my understanding of how it should work\n",
    "    viewer.server.resetCGO(featLabel)\n",
    "    viewer.server.resetCGO(dirLabel)\n",
    "    viewer.server.sphere((0, 0, 0), .01, (1, 0, 1), featLabel)\n",
    "    viewer.server.cylinder((0, 0, 0), (.01, .01, .01), .01, (1, 0, 1), dirLabel)\n",
    "    ShowFeats.ShowMolFeats(mol,factory,v,name=name,featLabel=featLabel,dirLabel=dirLabel,\n",
    "                           useFeatDirs=False,showOnly=showOnly)\n",
    "    viewer.server.renderCGO(ShowFeats._globalSphereCGO,featLabel,1)\n",
    "    viewer.server.renderCGO(ShowFeats._globalArrowCGO,dirLabel,1)\n",
    "```"
   ]
  },
  {
   "cell_type": "markdown",
   "metadata": {},
   "source": [
    "フィーチャーを眺めたい分子（molオブジェクト）は**test_m**、フィーチャーファクトリーは**fdef**、ビューワーは**v**、という名前にしているので、これらを引数にして上の関数を使います。"
   ]
  },
  {
   "cell_type": "markdown",
   "metadata": {},
   "source": [
    "```python\n",
    "showMolFeats(test_m,fdef,v)\n",
    "```"
   ]
  },
  {
   "cell_type": "markdown",
   "metadata": {},
   "source": [
    "pymolに移動して回転してから、jupyter notebookに表示します。"
   ]
  },
  {
   "cell_type": "markdown",
   "metadata": {},
   "source": [
    "```python\n",
    "png=v.GetPNG()\n",
    "display.display(png)\n",
    "```"
   ]
  },
  {
   "cell_type": "markdown",
   "metadata": {},
   "source": [
    "<img src=\"./images/5-3_image4.png\">\n",
    "\n",
    "格好いい！！\n",
    "\n",
    "認識されたフィーチャーが球として表示されています。  \n",
    "\n",
    "先にMolsToGridImageで並べて見ていた時との違いは、黄土色の球の部位です。\n",
    "\n",
    "表示されないようにFeatureFamilyから除いた「Hydrophobe」や「LumpedHydrophobe」のようです。\n"
   ]
  },
  {
   "cell_type": "markdown",
   "metadata": {},
   "source": [
    "# <u><b>2. 共結晶構造をつかって検証</b></u>\n",
    "## <u><b>2-1. 共結晶構造のリガンドでフィーチャーを確認</b></u>\n",
    "\n",
    "かなりいい感じでフィーチャーを眺められるようになってきたので、PLIPを検証した記事で眺めた共結晶構造（PDB id: 5NIX）のリガンド（ID: 8YQ）でも、同じことをしてみようと思います。\n",
    "\n",
    "まず、PDBからリガンドの構造をSDFでとってきて、Chain Aに含まれるリガンドの座標のみ残して保存しました（8YQ_noH.sdf）。\n"
   ]
  },
  {
   "cell_type": "markdown",
   "metadata": {},
   "source": [
    "```python\n",
    "suppl_8YQ = Chem.SDMolSupplier('./8YQ_noH.sdf')\n",
    "mol_8YQ = [x for x in suppl_8YQ if x is not None][0]\n",
    "\n",
    "showMolFeats(mol_8YQ,fdef,v)\n",
    "png=v.GetPNG()\n",
    "display.display(png)\n",
    "```"
   ]
  },
  {
   "cell_type": "markdown",
   "metadata": {},
   "source": [
    "<img src=\"./images/5-3_image5.png\">\n",
    "\n",
    "なかなかごつい感じになりました。ほとんどの原子がフィーチャーに認識されていて、単なるBall&Stick表示のようにも見えてしまいます。\n",
    "\n",
    "このフィーチャーのなかから、PLIPで探した「複数の共結晶構造に共通する相互作用」に該当する「フィーチャー」を取り出して組み合わせればファーマコフォアのモデルができるはず！"
   ]
  },
  {
   "cell_type": "markdown",
   "metadata": {},
   "source": [
    "## <u><b>2-2. 共結晶構造の相互作用をPyMolで眺める</b></u>\n",
    "\n",
    "まずは、取り出した相互作用形式を再度確認します。\n",
    "\n",
    "「PDB id:5NIX(Ligand:8YQ)」の場合・・・\n",
    "\n",
    "||残基番号|アミノ酸|距離|相互作用||残基番号|アミノ酸|距離|相互作用|\n",
    "|:---:|:---:|:---:|:---:|:---:|:---:|:---:|:---:|:---:|:---:|\n",
    "|8YQ(chain A/B)|||||8YQ(chain C/D)|54C|ILE|3.89|Hydrophobic|\n",
    "||56B|TYR|3.82|Hydrophobic||56C|TYR|3.42/3.62|Hydrophobic|\n",
    "||66B|GLN|3.72|Hydrophobic||||||\n",
    "||115A/B|MET|3.70/3.80|Hydrophobic||115C/D|MET|3.85/3.82|Hydrophobic|\n",
    "||121A/B|ALA|3.69/3.75|Hydrophobic||121C/D|ALA|3.96/3.57|Hydrophobic|\n",
    "||123A|TYR|3.80/3.52/3.85|Hydrophobic||123D|TYR|3.72|Hydrophobic|\n",
    "||124A|LYS|5.03/3.18|π-cation/Salt Bridges||124D|LYS|3.70|Water Bridges/Salt Bridges|\n",
    "\n",
    "このうちChain A/B の残基（左半分）についてpymol上でハイライトして眺めて見ます。\n",
    "\n",
    "pymolの設定などに関してはこちらのブログ [話題のXofluzaの変異をPymolで見てみる](https://keetaneblog.hatenablog.com/entry/2019/02/08/210016)を参考にさせてきただきました。\n",
    "\n",
    "「5nix.pdb」を表示させた後、\n",
    "\n",
    "1. set cartoon_transparency, 0.8\n",
    "2. リガンドを中心に持ってくる（Command+左クリック）\n",
    "3. 水を消す（object panelのallで**H(hide)**から**waters**を選択）\n",
    "4. 見たい残基を選択（sequenceを表示「右下**S**をクリック」して順番に選択）\n",
    "5. 残基をLine表示（object panelの(sele)で**S(show)**から**as**→**wire**→**lines**）\n",
    "\n",
    "とします。スナップショットを保存するには、右上の「Draw/ray」というボタンから出力したいサイズを選んで**Draw**→**save image to file**としてやれば良いそうです。以下のようになりました。\n",
    "\n",
    "<img src=\"./images/5-3_image6.png\">"
   ]
  },
  {
   "cell_type": "markdown",
   "metadata": {},
   "source": [
    "## <u><b>2-3. ファーマコフォア作成に向けた偽アトムの設定</b></u>\n",
    "\n",
    "ファーマコフォアを作るには、フィーチャー間の距離や角度といった情報をつかって定義するようです。\n",
    "フィーチャーが原子一つに帰着できるなら良いですが、芳香環みたいな複数の原子からなるグループ（官能基）の場合は、どの点を基準にして距離計測を行うかで結果が変わりそうです。\n",
    "\n",
    "先に描画した図では芳香環（Aromatic フィーチャー）の真ん中に**球** が表示されていました。同じような点（偽原子）を作って見たいと思います。\n",
    "\n",
    "PyMolWikiを参考に[Pseudoatom](https://pymolwiki.org/index.php/Pseudoatom)というのを作って見ました。\n",
    "\n",
    "1. 右下緑文字の**Selecting**をクリックして**Atoms**に変更\n",
    "2. 芳香環の各原子を選択\n",
    "3. pseudoatom arom1, sele\n",
    "\n",
    "と打ち込みました。これで真ん中の芳香環の中に、新しい点(arom1という名前のobjectにしました)ができました。\n",
    "\n",
    "<img src=\"./images/5-3_image7.png\">\n",
    "\n",
    "同様にして他の環にもpseudoatomを作っていきました。\n"
   ]
  },
  {
   "cell_type": "markdown",
   "metadata": {},
   "source": [
    "## <u><b>2-4. 相互作用を順番に</b></u>\n",
    "### ~ Tyr / Gln ~ \n",
    "\n",
    "だいたい準備ができた感じがするので一つ一つの相互作用部位を見ていきます。\n",
    "\n",
    "||残基番号|アミノ酸|距離|相互作用|\n",
    "|:---:|:---:|:---:|:---:|:---:|\n",
    "|8YQ(chain A/B)|56B|TYR|3.82|Hydrophobic|\n",
    "||66B|GLN|3.72|Hydrophobic|\n",
    "\n",
    "<img src=\"./images/5-3_image8.png\">\n",
    "\n",
    "距離（点線）は**Wizard**の**Measurement**を選択してから、atomをクリックしていくと表示されました。\n",
    "Chain Bの残基56 Tyrと66 GLNは芳香環と疎水性相互作用をしているようです。"
   ]
  },
  {
   "cell_type": "markdown",
   "metadata": {},
   "source": [
    "### ~ Ala / Met ~\n",
    "\n",
    "||残基番号|アミノ酸|距離|相互作用|\n",
    "|:---:|:---:|:---:|:---:|:---:|\n",
    "|8YQ(chain A/B)|115A/B|MET|3.70/3.80|Hydrophobic|\n",
    "||121A/B|ALA|3.69/3.75|Hydrophobic|\n",
    "\n",
    "<img src=\"./images/5-3_image9.png\">\n",
    "\n",
    "Chain Aの残基115 METとChain Bの残基121 ALA、Chain Bの残基115 METとChain Aの残基121 ALAがそれぞれ組み合わせとなって別々の芳香環と疎水性相互作用をしているようです。\n"
   ]
  },
  {
   "cell_type": "markdown",
   "metadata": {},
   "source": [
    "### ~ Tyr / Lys ~\n",
    "\n",
    "||残基番号|アミノ酸|距離|相互作用|\n",
    "|:---:|:---:|:---:|:---:|:---:|\n",
    "|8YQ(chain A/B)|123A|TYR|3.80/3.52/3.85|Hydrophobic|\n",
    "||124A|LYS|5.03/3.18|π-cation/Salt Bridges|\n",
    "\n",
    "<img src=\"./images/5-3_image10.png\">\n",
    "\n",
    "Chain Aの残基123 TYR（黄色）は芳香環と疎水性相互作用、Chain Aの残基124 LYS（オレンジ色）は芳香環との相互作用に加えて、末端カルボキシ基とも相互作用が見られるようです。\n",
    "\n"
   ]
  },
  {
   "cell_type": "markdown",
   "metadata": {},
   "source": [
    "# <u><b>3. 共結晶構造をもとにファーマコフォアを作成</b></u>\n",
    "## <u><b>3-1. フィーチャーの選択と相対配置</b></u>\n",
    "\n",
    "タンパク質残基との相互作用を眺めることで、リガンド側で大事そうな部位がわかってきました。\n",
    "\n",
    "[SAR news No.19](http://bukai.pharm.or.jp/bukai_kozo/SARNews/SARNews_19.pdf)の記事を参考に、aromatic ２つとacceptor 1つの３点のフィーチャーをファーマコフォアとして選んで見ました。\n",
    "\n",
    "（大事な点が３つあります！っていうと格好いいから３にした）\n",
    "\n",
    "<img src=\"./images/5-3_image11.png\">\n",
    "\n",
    "距離をPymol上で確認して見ます。\n",
    "\n",
    "1. **Mouse Mode**を**3-Button Editing**に変更\n",
    "2. ２点を選ぶと距離、３点では角度、４点で２面角が表示される\n",
    "\n",
    "<img src=\"./images/5-3_image12.png\">\n",
    "\n",
    "結果をまとめると以下のようです。\n",
    "\n",
    "<img src=\"./images/5-3_image13.png\">\n",
    "\n",
    "便宜的にAcceptorはカルボキシ基の炭素原子との距離を測りました。\n",
    "酸素原子を使った場合の距離はそれぞれ、5.1Åが[5.0, 5.6] 、10.4Åが[9.8, 11.2]となります。\n",
    "\n",
    "着目するフィーチャー３点と、その位置関係が決まりました。このファーマコフォアを定義するため、フィーチャーの座標（位置情報）を確認します。\n"
   ]
  },
  {
   "cell_type": "markdown",
   "metadata": {},
   "source": [
    "## <u><b>3-2. 共結晶構造におけるフィーチャーの座標の取得</b></u>\n",
    "\n",
    "pymolでshowfeatを使う際に、**--writeFeats**のオプションをつかうことで、フィーチャーの座標を出力できるようになるそうです。こちらの記事[Visualize pharmacophore with RDKit](https://iwatobipen.wordpress.com/2019/01/14/visualize-pharmacophore-with-rdkit-rdkit-pymol-chemoinformatics/)のコードをまたしてもそのままコピペさせていただきました。\n",
    "\n",
    "(先の記事の関数「**showMolFeats**」のどこかに--writeFeatsを書き込めばよかったのかもしれませんが私の能力ではわかりませんでした・・・)\n",
    "\n"
   ]
  },
  {
   "cell_type": "markdown",
   "metadata": {},
   "source": [
    "```python\n",
    "import subprocess\n",
    "import pprint\n",
    "showfeatpath = os.path.join(RDConfig.RDCodeDir, 'Chem/Features/ShowFeats.py')\n",
    "\n",
    "v = PyMol.MolViewer()\n",
    "v.DeleteAll()\n",
    "process = subprocess.Popen(['python', showfeatpath, '--writeFeats','./8YQ_noH.sdf'], stdout=subprocess.PIPE)\n",
    "stdout = process.communicate()[0]\n",
    "\n",
    "res = stdout.decode('utf-8').replace('\\t', ' ').split('\\n')\n",
    "pprint.pprint(res)\n",
    "```\n"
   ]
  },
  {
   "cell_type": "markdown",
   "metadata": {},
   "source": [
    "下の図のように、座標が出力されます。（一部抜粋。全フィーチャーが並んでいる。）\n",
    "\n",
    "<img src=\"./images/5-3_image14.png\">\n",
    "\n",
    "ここから必要なフィーチャーの座標を抜き出します。フィーチャーを間違えないようにAtom_Idを確認しておきます。\n"
   ]
  },
  {
   "cell_type": "markdown",
   "metadata": {},
   "source": [
    "```python\n",
    "Draw.MolToImage(mol_8YQ, includeAtomNumbers = True)\n",
    "```"
   ]
  },
  {
   "cell_type": "markdown",
   "metadata": {},
   "source": [
    "<img src=\"./images/5-3_image15.png\">\n",
    "\n",
    "Atomid と Familyから該当の座標を取り出してきます。Draw.MolToImageで表示させたAtomNumberと、ShowFeatのAtom Idは何故か１ずつ番号がずれていました。理由はよくわかりません・・・とりあえず先に進みます。\n",
    "\n",
    "芳香環２つの座標は以下・・・\n",
    "\n",
    "* 'Aromatic -7.625 10.407 -21.653 1.0 # 1 10 11 36 35 34'\n",
    "* 'Aromatic -1.851 11.051 -24.019 1.0 # 6 8 37 38 39 19'\n",
    "\n",
    "アクセプター２点（カルボキシル基酸素原子）の間が、ちょうど'NegIonizable'として認識されているのでこちらの座標を使いたいと思います。\n",
    "\n",
    "* 'NegIonizable -0.100 13.586 -28.137 1.0 # 45 28 20'\n",
    "* 'Acceptor 0.862 14.067 -27.897 1.0 # 20', 'Acceptor -1.171 13.517 -28.363 1.0 # 28'\n",
    "\n",
    "フィーチャーの座標位置とその位置関係が決まりました。いよいよRDKitを使ってファーマコフォアを設定したいと思います。\n"
   ]
  },
  {
   "cell_type": "markdown",
   "metadata": {},
   "source": [
    "# <u><b>4. RDKitでファーマコフォアを設定</b></u>\n",
    "## <u><b>4-1. ファーマコフォア設定方法の流れ</b></u>\n",
    "\n",
    "SAR News No.19の吉森氏による記事「Chemoinformatics Toolkits を用いた創薬システム開発における ラピッドプロトタイピング」での流れを確認します。\n",
    "\n",
    "1. 座標を使って特性基を定義\n",
    "2. 距離情報を使ってファーマコフォアを設定\n",
    "3. ファーマコフォアサーチ\n",
    "    1. 対象のフィーチャーをそもそも含んでいるか？\n",
    "    2. フィーチャー間の距離が条件を満たすか？\n",
    "    3. 距離情報を拘束条件にして3D構造を発生させる。\n",
    "\n",
    "以上の流れを辿って見ます。テストとして、記事冒頭に用**共闘用シェアデータ**から取り出した分子を用います。\n",
    "\n"
   ]
  },
  {
   "cell_type": "markdown",
   "metadata": {},
   "source": [
    "## <u><b>4-2. ファーマコフォアの設定を実践</b></u>\n",
    "\n",
    "フィーチャーの定義には[ChemicalFeaturesモジュール](https://www.rdkit.org/docs/source/rdkit.Chem.rdChemicalFeatures.html#rdkit.Chem.rdChemicalFeatures.FreeChemicalFeature)を使うようです。\n",
    "\n",
    "ChemicalFeatures.FreeChemicalFeature(**Feature Family**, **Feature Type**, **位置**) とすることで、フィーチャーを定義できます（Typeは省略可能）。\n",
    "位置の指定には**Geometry**の**Point3D**をもちいます。\n",
    "\n"
   ]
  },
  {
   "cell_type": "markdown",
   "metadata": {},
   "source": [
    "```python\n",
    "from rdkit.Chem import ChemicalFeatures\n",
    "from rdkit.Chem.Pharm3D import Pharmacophore\n",
    "from rdkit import Geometry\n",
    "\n",
    "feat_1=ChemicalFeatures.FreeChemicalFeature('Aromatic',Geometry.Point3D(-7.625, 10.407, -21.653))\n",
    "feat_2=ChemicalFeatures.FreeChemicalFeature('Aromatic',Geometry.Point3D(-1.851, 11.051, -24.019))\n",
    "feat_3=ChemicalFeatures.FreeChemicalFeature('Acceptor',Geometry.Point3D(-0.100, 13.586, -28.137)) \n",
    "feats = [feat_1,feat_2,feat_3]\n",
    "```"
   ]
  },
  {
   "cell_type": "markdown",
   "metadata": {},
   "source": [
    "Aromatic ２つとAcceptor１つが定義できました。\n",
    "\n",
    "続いて[Pharm3D.Pharmacophoreモジュール](http://rdkit.org/docs/source/rdkit.Chem.Pharm3D.Pharmacophore.html)を使って距離情報を設定します。先に定義したフィーチャーのリストでファーマコフォアを設定した後、フィーチャー間の距離のとりうる範囲を下限値（**setLowerBound**）、上限値（**setUpperBound**）という形で与えます。\n",
    "\n",
    "SAR Newsの記事では距離の許容範囲の値として、下限値に**0.5**（d_lower）、上限値に**1.5**（d_upper）が用いられていました。"
   ]
  },
  {
   "cell_type": "markdown",
   "metadata": {},
   "source": [
    "```python\n",
    "pcophore = Pharmacophore.Pharmacophore(feats) # ファーマコフォアの設定\n",
    "d_upper = 1.5  # 特性基間の距離の許容範囲(上限値)\n",
    "d_lower = 0.5 # 特性基間の距離の許容範囲(下限値)\n",
    "\n",
    "# feat_1とfeat_2の距離 6.3Åを基準に、下限と上限を設定\n",
    "pcophore.setLowerBound(0,1, 6.3-d_lower)\n",
    "pcophore.setUpperBound(0,1, 6.3+d_upper)\n",
    "\n",
    "# Acceptor(feat_3)の代表点の選び方によってfeat_2との距離は[5.0~5.6]の値をとる\n",
    "pcophore.setLowerBound(1,2, 5.0-d_lower)\n",
    "pcophore.setUpperBound(1,2, 5.6+d_upper)\n",
    "\n",
    "# 同様にfeat1とfeat_3は[9.8~11.2]の値をとる\n",
    "pcophore.setLowerBound(0,2, 9.8-d_lower)\n",
    "pcophore.setUpperBound(0,2, 11.2+d_upper)\n",
    "\n",
    "print(pcophore)\n",
    "```"
   ]
  },
  {
   "cell_type": "markdown",
   "metadata": {},
   "source": [
    "<img src=\"./images/5-3_image16.png\">\n",
    "\n",
    "以上でファーマコフォアの設定が終わりました。printで出力したPharmacophoreを見てみると、距離行列となっており、対角線右上三角に上限値、左下三角に下限値の情報を持つようです。"
   ]
  },
  {
   "cell_type": "markdown",
   "metadata": {},
   "source": [
    "## <u><b>4-3. ファーマコフォアサーチ </b> ~step 1. フィーチャーの有無~ </u>\n",
    "\n",
    "それではテスト分子を使ってファーマコフォアサーチを行います。３次元構造を扱うので水素原子を付加しておきます。"
   ]
  },
  {
   "cell_type": "markdown",
   "metadata": {},
   "source": [
    "```python\n",
    "test_mH = AllChem.AddHs(test_m)\n",
    "AllChem.Compute2DCoords(test_mH)\n",
    "```"
   ]
  },
  {
   "cell_type": "markdown",
   "metadata": {},
   "source": [
    "まずはフィーチャーをそもそも持っているか？\n",
    "\n",
    "[Parm3D.EmbedLibモジュール](http://rdkit.org/docs/source/rdkit.Chem.Pharm3D.EmbedLib.html)の[MatchPharmacophoreToMol](http://rdkit.org/docs/source/rdkit.Chem.Pharm3D.EmbedLib.html#rdkit.Chem.Pharm3D.EmbedLib.MatchPharmacophoreToMol)を使います。\n",
    "\n",
    "EmbedLib.MatchPharmacophoreToMol（ **molオブジェクト**,**フィーチャーファクトリー**, **ファーマコフォア** )と、することで対象のmolオブジェクトにファーマコフォアのマッピングを行い、可能なマッピングのリストを作成します。\n",
    "\n",
    "戻り値は2要素のタプルで、\n",
    "\n",
    "1. 全てのフィーチャーが見つけられたか否かのブール値\n",
    "2. フィーチャーの並びのリスト\n",
    "\n",
    "となっています。\n",
    "\n",
    "テスト分子を**test_mH**、フィーチャーファクトリーを**fdef**、ファーマコフォアを**pcophore**として実行します。\n"
   ]
  },
  {
   "cell_type": "markdown",
   "metadata": {},
   "source": [
    "```python\n",
    "from rdkit.Chem.Pharm3D import EmbedLib\n",
    "\n",
    "match, mList = EmbedLib.MatchPharmacophoreToMol(test_mH, fdef, pcophore)\n",
    "print(match)\n",
    "# True\n",
    "```"
   ]
  },
  {
   "cell_type": "markdown",
   "metadata": {},
   "source": [
    "どうやら全てのフィーチャーのマッチングはOKだったみたいです。確認のためリストからフィーチャーの情報を取り出して見ます。"
   ]
  },
  {
   "cell_type": "markdown",
   "metadata": {},
   "source": [
    "```python\n",
    "print(len(mList))\n",
    "#3\n",
    "print(len(mList[2]))\n",
    "#4\n",
    "print(mList[2][0].GetFamily())\n",
    "#Acceptor\n",
    "print(mList[2][0].GetType())\n",
    "#SingleAtomAcceptor\n",
    "print(mList[2][2].GetAtomIds())\n",
    "#(15,)\n",
    "```"
   ]
  },
  {
   "cell_type": "markdown",
   "metadata": {},
   "source": [
    "心配なのでAcceptorについて描画して見ます。"
   ]
  },
  {
   "cell_type": "markdown",
   "metadata": {},
   "source": [
    "```python\n",
    "highlight_list = [mList[2][x].GetAtomIds() for x in range(len(mList[2]))]\n",
    "Draw.MolsToGridImage([test_m]*4, molsPerRow=4, subImgSize=(200, 200), highlightAtomLists=highlight_list)\n",
    "```"
   ]
  },
  {
   "cell_type": "markdown",
   "metadata": {},
   "source": [
    "<img src=\"./images/5-3_image17.png\">\n",
    "\n",
    "うまく機能していそうです。"
   ]
  },
  {
   "cell_type": "markdown",
   "metadata": {},
   "source": [
    "## <u><b>4-4. ファーマコフォアサーチ </b> ~step 2. 距離条件~ </u> \n",
    "\n",
    "ついで距離条件の検証を行います。\n",
    "\n",
    "まず、[rdDistGeomモジュール](http://rdkit.org/docs/source/rdkit.Chem.rdDistGeom.html#module-rdkit.Chem.rdDistGeom)の[GetMoleculeBoundsMatrix](http://rdkit.org/docs/source/rdkit.Chem.rdDistGeom.html#rdkit.Chem.rdDistGeom.GetMoleculeBoundsMatrix)を使って分子の距離行列を取得します。\n",
    "\n",
    "Parm3D.EmbedLibモジュールの[GetAllPharmacophoreMatches](http://rdkit.org/docs/source/rdkit.Chem.Pharm3D.EmbedLib.html#rdkit.Chem.Pharm3D.EmbedLib.GetAllPharmacophoreMatches)を使って、先に取得した分子の距離行列が、ファーマコフォアで定義されている距離の条件を満たすか否かを判定します。\n"
   ]
  },
  {
   "cell_type": "markdown",
   "metadata": {},
   "source": [
    "```python\n",
    "from rdkit.Chem import rdDistGeom\n",
    "# 距離行列の取得\n",
    "bounds = rdDistGeom.GetMoleculeBoundsMatrix(test_mH)\n",
    "#ファーマコフォアのマッチング \n",
    "pList =EmbedLib.GetAllPharmacophoreMatches(mList,bounds,pcophore) \n",
    "print(len(pList))\n",
    "# 4\n",
    "```"
   ]
  },
  {
   "cell_type": "markdown",
   "metadata": {},
   "source": [
    "ファーマコフォア（３つのフィーチャー）の条件を満たす組み合わせは４つあったようです。一つ目の組み合わせのフィーチャーを構成する原子のIDを取得して見ます。"
   ]
  },
  {
   "cell_type": "markdown",
   "metadata": {},
   "source": [
    "```python\n",
    "AtomIds_list = []\n",
    "\n",
    "for i in range(len(pList[0])):\n",
    "    p = pList[0][i]\n",
    "    print(p.GetFamily(), ':', p.GetAtomIds())\n",
    "    AtomIds_list.append(p.GetAtomIds())\n",
    "```"
   ]
  },
  {
   "cell_type": "markdown",
   "metadata": {},
   "source": [
    "<img src=\"./images/5-3_image18.png\">"
   ]
  },
  {
   "cell_type": "markdown",
   "metadata": {},
   "source": [
    "```python\n",
    "Draw.MolsToGridImage([test_m]*3, subImgSize=(200, 200), highlightAtomLists=AtomIds_list)\n",
    "```"
   ]
  },
  {
   "cell_type": "markdown",
   "metadata": {},
   "source": [
    "<img src=\"./images/5-3_image19.png\">\n",
    "\n",
    "他の組み合わせでは以下になりました。\n",
    "\n",
    "<img src=\"./images/5-3_image20.png\">\n",
    "\n",
    "想定していたのと異なり、一番遠くの芳香環を使った組み合わせとなっていました。  \n",
    "ところで、このマッチングは距離を条件につかっているのですが、検索対象としているmolオブジェクトは３次元構造を生成させていません（pymolで眺めた時もぺちゃんこだった）。  \n",
    "\n",
    "SAR Newsの記事の該当部分を引用すると\n",
    "\n",
    "> 一般的なファーマコフォアサーチにおいては、分子の3D構造生成後、ファーマコフォアのサーチを行うが、RDKitにおいては、事前に分子の3D構造を生成させるのではなく、ファーマコフォアを満たす3D構造が生成できるか否かを判定基準として、ファーマコフォアのサーチを行うことができる。\n",
    "\n",
    "とのことだそうです。それでは 距離条件をみたすような３次元構造が本当に作れるのかどうか、検証したいと思います。\n"
   ]
  },
  {
   "cell_type": "markdown",
   "metadata": {},
   "source": [
    "## <u><b>4-5. ファーマコフォアサーチ </b> ~step 3. 3D構造の発生~ </u>\n",
    "\n",
    "距離情報を拘束条件にして3D構造を発生させます。まずはマッチしたフィーチャーの原子IDのリストを作成します。コピペ・・・"
   ]
  },
  {
   "cell_type": "markdown",
   "metadata": {},
   "source": [
    "```python\n",
    "num_match = len(pList)\n",
    "phMatches = []\n",
    "for i in range(num_match): \n",
    "    num_feature = len(pList[i])\n",
    "    phMatch = []\n",
    "    for j in range(num_feature):\n",
    "        phMatch.append(pList[i][j].GetAtomIds())\n",
    "    phMatches.append(phMatch)\n",
    "```"
   ]
  },
  {
   "cell_type": "markdown",
   "metadata": {},
   "source": [
    "距離情報を拘束条件にした3D構造の発生にはPharm3D.EmbedLibの[EmbedPharmacophore](http://rdkit.org/docs/source/rdkit.Chem.Pharm3D.EmbedLib.html#rdkit.Chem.Pharm3D.EmbedLib.EmbedPharmacophore)を使います。\n",
    "\n",
    "引数がたくさんありますが、対象のmolオブジェクト(**mol**)に対して、ファーマコフォアのフィーチャーを構成する原子のid(**atomMatch**)をつかって、ファーマコフォア(**pcophore**)の条件を満たすように3次元構造を生成(**embedding**)することができるようです。\n",
    "生成させる構造の最大数を**count**で設定します。（silentはよくわかりません・・・）\n",
    "\n",
    "戻り値は３要素のタプルで、\n",
    "\n",
    "1. ファーマコフォアに合うように調整された拘束条件の距離行列\n",
    "2. ３次元構造（コンフォマー１つを有する分子）のリスト\n",
    "3. ３次元構造の生成に失敗した回数\n",
    "\n",
    "となっています。\n",
    "\n",
    "生成させたのち、ETKDG法を使って３次元構造の最適化を実施します。"
   ]
  },
  {
   "cell_type": "markdown",
   "metadata": {},
   "source": [
    "```python\n",
    "confs = []\n",
    "\n",
    "for phMatch in phMatches:\n",
    "    bm,embeds,nFail =EmbedLib.EmbedPharmacophore(test_mH, phMatch,\n",
    "                                                 pcophore,count=20,\n",
    "                                                 silent=1)\n",
    "    print(\"Generated embeds: \",len(embeds))\n",
    "    print(\"Failed attempts: \",nFail)\n",
    "    for embed in embeds:\n",
    "        AllChem.EmbedMolecule(embed, AllChem.ETKDG())\n",
    "        confs.append(embed)\n",
    "```\n"
   ]
  },
  {
   "cell_type": "markdown",
   "metadata": {},
   "source": [
    "<img src=\"./images/5-3_image21.png\">\n",
    "\n",
    "フィーチャーの組み合わせによって、構造生成の成否回数が異なっているようです。\n",
    "\n",
    "SAR newsの記事ではUniversal Force Field法を使って構造最適化を行うと記載してあったのですが、以下のようなエラーメッセージが出てしまいました。"
   ]
  },
  {
   "cell_type": "markdown",
   "metadata": {},
   "source": [
    "```python\n",
    "RuntimeError                              Traceback (most recent call last)\n",
    "<ipython-input-254-6895836e8c95> in <module>()\n",
    "      8     print(\"Failed attempts: \",nFail)\n",
    "      9     for embed in embeds:\n",
    "---> 10         AllChem.UFFOptimizeMolecule(embed)\n",
    "     11         confs.append(embed)\n",
    "\n",
    "RuntimeError: Invariant Violation\n",
    "\tbad direction in linearSearch\n",
    "\tViolation occurred on line 234 in file Code/Numerics/Optimizer/BFGSOpt.h\n",
    "\tFailed Expression: status >= 0\n",
    "\tRDKIT: 2018.09.1\n",
    "\tBOOST: 1_65_1\n",
    "```"
   ]
  },
  {
   "cell_type": "markdown",
   "metadata": {},
   "source": [
    "よくわからない・・・。飛ばそう・・・\n",
    "\n",
    "念のためETKDGで最適化した３次元構造を一つ眺めて見ます。"
   ]
  },
  {
   "cell_type": "markdown",
   "metadata": {},
   "source": [
    "```python\n",
    "from rdkit.Chem.Draw import IPythonConsole\n",
    "import py3Dmol\n",
    "IPythonConsole.drawMol3D(confs[0])\n",
    "```"
   ]
  },
  {
   "cell_type": "markdown",
   "metadata": {},
   "source": [
    "<img src=\"./images/5-3_image22.png\">\n",
    "\n",
    "いい感じにできていそうです。"
   ]
  },
  {
   "cell_type": "markdown",
   "metadata": {},
   "source": [
    "# <u><b>5. ファーマコフォアを基準に共結晶構造に重ね合わせ </b></u> \n",
    "\n",
    "活性化合物に関して、ファーマコフォアの基準を満たす３次元構造の取得までが確認できました。この3D構造は、共結晶構造のリガンド構造と類似しているはず・・・なので、共結晶構造に重ね合わせてタンパク質と一緒に描いて見たいと思います。"
   ]
  },
  {
   "cell_type": "markdown",
   "metadata": {},
   "source": [
    "## <u><b>5-1. PDB座標にアラインメント</b></u> \n",
    "\n",
    "ファーマコフォア作成に用いたリガンドの座標はPDBの共結晶構造を元にしているので、この座標をテンプレートとしてアライメントをとります。\n",
    "\n",
    "[Numerics.rdAlignmentモジュール](https://www.rdkit.org/docs/source/rdkit.Numerics.rdAlignment.html#module-rdkit.Numerics.rdAlignment)の[GetAlignmentTransform](https://www.rdkit.org/docs/source/rdkit.Numerics.rdAlignment.html#rdkit.Numerics.rdAlignment.GetAlignmentTransform)を使って、参照分子の座標(refPoints)と目的の分子の座標(probePoints)とで、RMSDが最小となる最適なアラインメントを計算します。\n",
    "\n",
    "rdkit.Numerics.rdAlignment.GetAlignmentTransform(refPoints, probePoints)の戻り値として、SSD値（*Sum of Squared Difference*）と、4x4変換行列（*transform matrix*）のアレイを要素として持つ、2-タプルが得られます。\n",
    "\n",
    "得た変換を[AllChem.TransformMol](http://rdkit.org/docs/source/rdkit.Chem.AllChem.html?highlight=transformmol#rdkit.Chem.AllChem.TransformMol)を使って、適用することで、アラインメントをとった座標を持つmolオブジェクトを得ます。 [^4] "
   ]
  },
  {
   "cell_type": "markdown",
   "metadata": {},
   "source": [
    "\n",
    "```python\n",
    "# 生成した構造のフィーチャーを取得\n",
    "match, mList_0 = EmbedLib.MatchPharmacophoreToMol(confs[0], fdef, pcophore)\n",
    "bounds_0 = rdDistGeom.GetMoleculeBoundsMatrix(confs[0])\n",
    "pList_0 =EmbedLib.GetAllPharmacophoreMatches(mList_0,bounds_0,pcophore) \n",
    "\n",
    "# ファーマコフォアで設定したフィーチャーのリストを参照(ref)として使用する\n",
    "refFeats = feats\n",
    "\n",
    "# pList[0]で認識されているフィーチャーを\n",
    "#ファーマコフォアのフィーチャーの定義の順番に並べ替えたリストにする\n",
    "probFeats = [pList_0[0][1], pList_0[0][0], pList_0[0][2]]\n",
    "\n",
    "# ref、prob、それぞれのフィーチャーの座標を取得し、リストにする\n",
    "probPts = [list(x.GetPos()) for x in probFeats]\n",
    "refPts = [list(x.GetPos()) for x in refFeats]\n",
    "\n",
    "# ２つの座標をつかって変換行列を取得\n",
    "ssd,tform = rdAlignment.GetAlignmentTransform(refPts, probPts)\n",
    "# 変換行列を使って、生成した構造の座標を変換\n",
    "AllChem.TransformMol(confs[0], tform)\n",
    "\n",
    "#変換したmolオブジェクトをmolファイルとして出力\n",
    "Chem.MolToMolFile(confs[0], 'conf.mol')\n",
    "```\n"
   ]
  },
  {
   "cell_type": "markdown",
   "metadata": {},
   "source": [
    "\n",
    "出力したmolファイルと、元にした共結晶構造 5NIX.pdb を同時にpymolで表示させました。\n",
    "\n",
    "<img src=\"./images/5-3_image23.png\">\n",
    "\n",
    "\n",
    "もともとのリガンドの色が**シアン**で、重ね合わせたリガンドが**緑色**です。\n",
    "なかなかいい感じで重なっているようにみえます。今回ファーマコフォアとして指定しなかった末端の芳香環についてはズレが大きいように見える一方で、ファーマコフォアマッチングした部分は重なりがよく見えます。うまくいった！！！　・・・のか？？？\n",
    "\n"
   ]
  },
  {
   "cell_type": "markdown",
   "metadata": {},
   "source": [
    "# <u><b>まとめ</b></u> \n",
    "\n",
    "以上、今回はファーマコフォアの作成とテスト分子を使った動作検証を行って見ました。ファーマコフォアの基準を満たす３次元構造の取得までが確認できましたので、この取得ができるか否かまでを、ファーマコフォアを満たすことができるか否かという判定基準として活用していけば多分いい感じでスクリーニングになるはず。。。\n",
    "\n",
    "あまりにもわからないことが多すぎて先生方の記事からひたすらコピペを繰り返しましたが、それでも正しく使えているのか自信がまったくありません。特にBounds Matrixが理解できなかった・・・（3次元に関する条件にしては行列の各要素が3個でもないし・・・）。\n",
    "\n",
    "色々と間違いがあると思うのでご指摘いただければ幸いです。\n",
    "\n"
   ]
  },
  {
   "cell_type": "markdown",
   "metadata": {},
   "source": [
    "# 脚注\n",
    "\n",
    "[^1]: 参考: [PythonのCounterでリストの各要素の出現個数をカウント](https://note.nkmk.me/python-collections-counter/)\n",
    "\n",
    "[^2]: 参考: RDKitブログ記事[Using Feature Maps](http://rdkit.blogspot.com/2017/11/using-feature-maps.html)\n",
    "\n",
    "[^3]: SMARTS viewer 引用:\n",
    "* SMARTS viewer https://smartsview.zbh.uni-hamburg.de\n",
    "* K. Schomburg, H.-C. Ehrlich, K. Stierand, M.Rarey; From Structure Diagrams to Visual Chemical Patterns, J. Chem. Inf. Model., 2010, 50 (9), pp 1529-1535\n",
    "\n",
    "[^4]: 参考: RDKitの[メーリングリスト](https://sourceforge.net/p/rdkit/mailman/message/29573999/)\n",
    "\n",
    "\n",
    "\n"
   ]
  }
 ],
 "metadata": {
  "kernelspec": {
   "display_name": "Python 3",
   "language": "python",
   "name": "python3"
  },
  "language_info": {
   "codemirror_mode": {
    "name": "ipython",
    "version": 3
   },
   "file_extension": ".py",
   "mimetype": "text/x-python",
   "name": "python",
   "nbconvert_exporter": "python",
   "pygments_lexer": "ipython3",
   "version": "3.6.8"
  },
  "toc": {
   "base_numbering": 1,
   "nav_menu": {},
   "number_sections": true,
   "sideBar": true,
   "skip_h1_title": false,
   "title_cell": "Table of Contents",
   "title_sidebar": "Contents",
   "toc_cell": true,
   "toc_position": {},
   "toc_section_display": true,
   "toc_window_display": true
  }
 },
 "nbformat": 4,
 "nbformat_minor": 2
}
