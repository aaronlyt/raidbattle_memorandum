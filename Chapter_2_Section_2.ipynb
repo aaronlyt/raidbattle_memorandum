{
 "cells": [
  {
   "cell_type": "markdown",
   "metadata": {
    "toc": true
   },
   "source": [
    "<h1>Table of Contents<span class=\"tocSkip\"></span></h1>\n",
    "<div class=\"toc\"><ul class=\"toc-item\"><li><span><a href=\"#第２章２節：メモリの節約でColaboratoryの壁を越えようとする話\" data-toc-modified-id=\"第２章２節：メモリの節約でColaboratoryの壁を越えようとする話-1\"><span class=\"toc-item-num\">1&nbsp;&nbsp;</span>第２章２節：メモリの節約でColaboratoryの壁を越えようとする話</a></span></li></ul></div>"
   ]
  },
  {
   "cell_type": "markdown",
   "metadata": {},
   "source": [
    "# 第２章２節：メモリの節約でColaboratoryの壁を越えようとする話"
   ]
  },
  {
   "cell_type": "markdown",
   "metadata": {},
   "source": [
    "先の記事でGoogle colaboratoryの制限により、大きなファイルの処理ができなかったという結果になりました。\n",
    "\n",
    "「先にMolオブジェクトをまとめて作るのではなくてforの中で一つずつ作ればメモリの節約にはなる」とご指摘をいただいたので早速試してみたいと思います。 \n",
    "\n",
    "処理としては先の記事のままで、sdfファイルの読み込み以降の操作が異なります。\n",
    "\n",
    "Google colaboratoryで諸々準備をした後に以下を実行しました。"
   ]
  },
  {
   "cell_type": "markdown",
   "metadata": {},
   "source": [
    "```python\n",
    "#必要なモジュールの読み込み\n",
    "from rdkit import Chem\n",
    "import gzip\n",
    "from rdkit.Chem import MolStandardize\n",
    "\n",
    "#Googleドライブから取ってきた圧縮ファイルの読み込み\n",
    "EPc_gz = gzip.open('Enamine_Premium_collection.sdf.gz')\n",
    "```"
   ]
  },
  {
   "cell_type": "markdown",
   "metadata": {},
   "source": [
    "今回もFowardSDMolSupplierで読み込みますが、Molオブジェクトをforの中でつくるため、リスト内包表記にはいれません。（←前回との違い）"
   ]
  },
  {
   "cell_type": "markdown",
   "metadata": {},
   "source": [
    "```python\n",
    "#ForwardSDMolSupplierで読み込む。まだMolオブジェクトのリストにしない。\n",
    "EPc_suppl = Chem.ForwardSDMolSupplier(EPc_gz)  \n",
    "```"
   ]
  },
  {
   "cell_type": "markdown",
   "metadata": {},
   "source": [
    "それでは脱塩処理してMolオブジェクトのリストを作成します。\n",
    "時間も測ってみます。"
   ]
  },
  {
   "cell_type": "markdown",
   "metadata": {},
   "source": [
    "```python\n",
    "%%time\n",
    "\n",
    "#molオブジェクトのリストを作る段階で前処理を実行してメモリを節約する。\n",
    "#空のリストを作成\n",
    "\n",
    "EPc_mols_pro = []\n",
    "\n",
    "#ループ!!!\n",
    "for x in EPc_suppl:\n",
    "  if x is not None:\n",
    "    mol = x\n",
    "  \n",
    "  #構造の標準化\n",
    "  normalizer =MolStandardize.normalize.Normalizer()\n",
    "  mol_norm = normalizer.normalize(mol)\n",
    "  \n",
    "  #一番大きいサイズのフラグメントのみ残す\n",
    "  lfc = MolStandardize.fragment.LargestFragmentChooser()\n",
    "  mol_desalt = lfc.choose(mol_norm)\n",
    "  \n",
    "  #電荷の中和\n",
    "  uc = MolStandardize.charge.Uncharger()\n",
    "  mol_neu = uc.uncharge(mol_desalt)\n",
    "  \n",
    "  #新しいリストに追加\n",
    "  EPc_mols_pro.append(mol_neu)\n",
    "```"
   ]
  },
  {
   "cell_type": "markdown",
   "metadata": {},
   "source": [
    "かかった時間・・・\n",
    "\n",
    "CPU times: user 3min 37s, sys: 12.5 s, total: 3min 50s\n",
    "Wall time: 3min 50s\n",
    "\n",
    "ここまでの「使用したRAM 1.85GB」でした。\n",
    "\n",
    "念のため処理できた数を確認して見ます。"
   ]
  },
  {
   "cell_type": "markdown",
   "metadata": {},
   "source": [
    "```python\n",
    "len(EPc_mols_pro)\n",
    "```"
   ]
  },
  {
   "cell_type": "markdown",
   "metadata": {},
   "source": [
    "「128816」とでました。前回も「128816」だったので、同じ数だけできているようです。\n",
    "\n",
    "一応出力して、ローカルで確認します。\n"
   ]
  },
  {
   "cell_type": "markdown",
   "metadata": {},
   "source": [
    "```python\n",
    "#構造とidnumberのみを残したsdfファイルを作成\n",
    "writer = Chem.SDWriter('Enamine_Premium_collection_processed_2.sdf')\n",
    "writer.SetProps(['idnumber'])        \n",
    "for mol in EPc_mols_pro:\n",
    "  writer.write(mol)\n",
    "writer.close()\n",
    "\n",
    "#圧縮して出力\n",
    "!gzip -c Enamine_Premium_collection_processed_2.sdf > Enamine_Premium_collection_processed_2.sdf.gz\n",
    "\n",
    "upload_file = drive.CreateFile()\n",
    "upload_file.SetContentFile('Enamine_Premium_collection_processed_2.sdf.gz')\n",
    "upload_file.Upload()\n",
    "```"
   ]
  },
  {
   "cell_type": "markdown",
   "metadata": {},
   "source": [
    "\n",
    "出力まで行って、「使用したRAM 1.92GB」。前回は「3.91GB」だったので、約半分です。\n",
    "Molオブジェクトのリストを２回作っていたのが、１回になったからでしょうか？\n",
    "\n",
    "まさかこんなに簡単にメモリの節約ができるとは・・・・。\n",
    "\n",
    "ちなみに自分のPCでsdfを確認すると前回と同じような構造が出ていました。\n",
    "\n",
    "<img src=\"./images/2-2_image1.png\">\n",
    "\n",
    "\n",
    "**注** ) 上の図は修正前のものです。見た目は変わってしまいますが、こちらの方がわかりやすいので残しておきます。\n",
    "\n",
    "\n",
    "より大きなファイルで同じ処理をした結果は以下の通り。  \n",
    "ファイルごとにセッションを新しくして実行しています。\n",
    "\n",
    "\n",
    "**Enamine_Advanced_collection**の場合  \n",
    "\n",
    "*  処理の時間\n",
    "     CPU times: user 13min 27s, sys: 54.8 s, total: 14min 22s\n",
    "     Wall time: 14min 22s\n",
    "*  化合物総数\n",
    "     486322\n",
    "*  全体のメモリ\n",
    "      6.21GB\n",
    "\n",
    "**UOS_HTS_collection**の場合  \n",
    "\n",
    "*  処理の時間\n",
    "      CPU times: user 15min 17s, sys: 54.5 s, total: 16min 11s\n",
    "      Wall time: 16min 12s\n",
    "*  化合物総数\n",
    "      516664\n",
    "*  全体のメモリ\n",
    "      7.34GB\n",
    "\n",
    "**Enamine_HTS_collection**の場合  \n",
    "\n",
    "残念ながら最後まで至らず・・・ファイルサイズがEnamine_Advanced_collectionの５倍くらいあるので仕方ないかもしれません。\n",
    "\n",
    "私のパソコンでやると総数「1921120」でした。\n",
    "\n",
    "\n",
    "About 2.5 million・・・・ここからどう絞り込めば・・・\n",
    "\n",
    "\n",
    "\n",
    "\n",
    "\n",
    "\n",
    "\n",
    "\n",
    "\n",
    "\n",
    "\n"
   ]
  }
 ],
 "metadata": {
  "kernelspec": {
   "display_name": "Python 3",
   "language": "python",
   "name": "python3"
  },
  "language_info": {
   "codemirror_mode": {
    "name": "ipython",
    "version": 3
   },
   "file_extension": ".py",
   "mimetype": "text/x-python",
   "name": "python",
   "nbconvert_exporter": "python",
   "pygments_lexer": "ipython3",
   "version": "3.6.8"
  },
  "toc": {
   "base_numbering": 1,
   "nav_menu": {},
   "number_sections": true,
   "sideBar": true,
   "skip_h1_title": false,
   "title_cell": "Table of Contents",
   "title_sidebar": "Contents",
   "toc_cell": true,
   "toc_position": {},
   "toc_section_display": true,
   "toc_window_display": true
  }
 },
 "nbformat": 4,
 "nbformat_minor": 2
}
