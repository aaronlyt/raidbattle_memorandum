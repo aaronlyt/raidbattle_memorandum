{
 "cells": [
  {
   "cell_type": "markdown",
   "metadata": {
    "toc": true
   },
   "source": [
    "<h1>Table of Contents<span class=\"tocSkip\"></span></h1>\n",
    "<div class=\"toc\"><ul class=\"toc-item\"><li><span><a href=\"#第１章　全体のまとめ　\" data-toc-modified-id=\"第１章　全体のまとめ　-1\"><span class=\"toc-item-num\">1&nbsp;&nbsp;</span>第１章　全体のまとめ　</a></span></li><li><span><a href=\"#次章以降の章立て\" data-toc-modified-id=\"次章以降の章立て-2\"><span class=\"toc-item-num\">2&nbsp;&nbsp;</span>次章以降の章立て</a></span></li></ul></div>"
   ]
  },
  {
   "cell_type": "markdown",
   "metadata": {},
   "source": [
    "# 第１章　全体のまとめ　\n",
    "\n",
    "まずはじめに、創薬レイドバトルで行った処理の全体像をまとめます。\n",
    "絞り込み対象の元ととなった化合物群は運営元からsdf形式で提供されたもので、化合物総数約300万。こちらから以下の処理を行い、最終的にアッセイ希望化合物10個を評価基準（スコア）と化合物IDのリストとして提出しました。\n",
    "\n",
    "* step 1. 前処理（脱塩、構造標準化）  \n",
    "* step 2. 指標による絞り込み（主にRule of 5の適用）\n",
    "* step 3. 部分構造による絞り込み（オルト置換ビフェニル構造）\n",
    "* step 4. ファーマコフォアスクリーニング（ファーマコフォアを変えて２回実施）\n",
    "        ➡︎ 化合物 Top 500 (厳密には494個)\n",
    "* step 5. LBVS（既知活性化合物に対するフィンガープリントベースの類似性評価による順位づけ）\n",
    "        ➡︎ 化合物 Top 50を次工程へ \n",
    "* step 6. SBVS (AutoDock Vina + RF-Score VS)\n",
    "　　　　 ➡︎ 化合物 Top 10をアッセイ希望に選択\n",
    "\n",
    "以上の６ステップです。\n",
    "\n",
    "このページでは各ステップ１章ずつとして、行った処理を掲載しています。創薬・インフォマティクス、両分野の知識・技術不足のため、各ステップを行ううえで非常に遠回りをしました。わずかながらでも見通しをよくするため、各ステップで最終的に行った処理をまとめとして各章の初めに記載し、ついでブログ記事を再掲する形でそこに至る過程を記載しています。時間が前後してるため、記事の流れとしては不自然なものとなっていますがご了承ください。"
   ]
  },
  {
   "cell_type": "markdown",
   "metadata": {},
   "source": [
    "# 次章以降の章立て\n",
    "\n",
    "* 第２章　Step 1. 前処理\n",
    "    * 第２章１節　RDKitとcolabolatoryで前処理しようとして挫折した話\n",
    "    * 第２章２節　メモリの節約でColaboratoryの壁を越えようとする話\n",
    "    * 第２章３節　失われたIDを探せ！\n",
    "    * 第２章４節　コラム：SDFを読み込んでPythonのジェネレータを理解しようとした話\n",
    "* 第３章　Step 2. 指標による絞り込み\n",
    "    * 第３章１節　分子量で絞り込もうとした話\n",
    "    * 第３章２節　活性化合物群を分析して指標の閾値を決めようとする話\n",
    "    * 第３章３節　ライブラリの指標計算結果まとめ\n",
    "    * 第３章４節　Lipinski先生に従うことにした話\n",
    "    * 第３章５節　コラム：SSSRを使って環状化合物と鎖状化合物を区別しようとする話\n",
    "* 第４章　Step3. 部分構造による絞り込み\n",
    "    * 第４章１節　部分構造で絞り込む話\n",
    "    * 第４章２節　オルト位置換基で絞り込む話\n",
    "    * 第４章３節　コラム：SMARTS記法とRDKitの化学反応で遊んだ話\n",
    "* 第５章　Step 4. ファーマコフォアスクリーニング\n",
    "    * 第５章１節　共結晶構造でPLIFを作ろうとした話\n",
    "    * 第５章２節　RDKitのファーマコフォアの定義を眺める話\n",
    "    * 第５章３節　ファーマコフォアを作ろうとする話\n",
    "    * 第５章４節　ファーマコフォアスクリーニングをする話\n",
    "    * 第５章５節　リガンドを重ね合わせてファーマコフォアを作る話\n",
    "* 第６章　Step 5. LBVS\n",
    "    * 第６章１節　LBVSしようとする話\n",
    "* 第７章　Step 6. SBVS\n",
    "    * 第７章１節　SBVSしようとする話\n",
    "    * 第７章２節　スコア関数を変えてドッキング結果を再解析する話\n",
    "* 第８章　化合物リスト提出・総括"
   ]
  }
 ],
 "metadata": {
  "kernelspec": {
   "display_name": "Python 3",
   "language": "python",
   "name": "python3"
  },
  "language_info": {
   "codemirror_mode": {
    "name": "ipython",
    "version": 3
   },
   "file_extension": ".py",
   "mimetype": "text/x-python",
   "name": "python",
   "nbconvert_exporter": "python",
   "pygments_lexer": "ipython3",
   "version": "3.6.8"
  },
  "toc": {
   "base_numbering": 1,
   "nav_menu": {},
   "number_sections": true,
   "sideBar": true,
   "skip_h1_title": false,
   "title_cell": "Table of Contents",
   "title_sidebar": "Contents",
   "toc_cell": true,
   "toc_position": {},
   "toc_section_display": true,
   "toc_window_display": true
  }
 },
 "nbformat": 4,
 "nbformat_minor": 2
}
