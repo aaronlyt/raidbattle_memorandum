{
 "cells": [
  {
   "cell_type": "markdown",
   "metadata": {
    "toc": true
   },
   "source": [
    "<h1>Table of Contents<span class=\"tocSkip\"></span></h1>\n",
    "<div class=\"toc\"><ul class=\"toc-item\"><li><span><a href=\"#第３章５節　コラム：SSSRを使って環状化合物と鎖状化合物を区別しようとする話\" data-toc-modified-id=\"第３章５節　コラム：SSSRを使って環状化合物と鎖状化合物を区別しようとする話-1\"><span class=\"toc-item-num\">1&nbsp;&nbsp;</span>第３章５節　コラム：SSSRを使って環状化合物と鎖状化合物を区別しようとする話</a></span></li><li><span><a href=\"#GetSSSR関数\" data-toc-modified-id=\"GetSSSR関数-2\"><span class=\"toc-item-num\">2&nbsp;&nbsp;</span><u><b>GetSSSR関数</b></u></a></span></li><li><span><a href=\"#GetSymmSSSR関数\" data-toc-modified-id=\"GetSymmSSSR関数-3\"><span class=\"toc-item-num\">3&nbsp;&nbsp;</span><u><b>GetSymmSSSR関数</b></u></a></span></li><li><span><a href=\"#最大の環構造を探す\" data-toc-modified-id=\"最大の環構造を探す-4\"><span class=\"toc-item-num\">4&nbsp;&nbsp;</span><b><u>最大の環構造を探す</u></b></a></span></li><li><span><a href=\"#環構造を順番に眺める\" data-toc-modified-id=\"環構造を順番に眺める-5\"><span class=\"toc-item-num\">5&nbsp;&nbsp;</span><u><b>環構造を順番に眺める</b></u></a></span></li><li><span><a href=\"#SSSRを利用して大員環を区別\" data-toc-modified-id=\"SSSRを利用して大員環を区別-6\"><span class=\"toc-item-num\">6&nbsp;&nbsp;</span><u><b>SSSRを利用して大員環を区別</b></u></a></span></li><li><span><a href=\"#まとめ\" data-toc-modified-id=\"まとめ-7\"><span class=\"toc-item-num\">7&nbsp;&nbsp;</span><u><b>まとめ</b></u></a></span></li></ul></div>"
   ]
  },
  {
   "cell_type": "markdown",
   "metadata": {},
   "source": [
    "# 第３章５節　コラム：SSSRを使って環状化合物と鎖状化合物を区別しようとする話"
   ]
  },
  {
   "cell_type": "markdown",
   "metadata": {},
   "source": [
    "以前の記事で、創薬レイドバトルの共闘用シェアデータを２つにクラスタリングした後、環状ペプチドとそれ以外の分子の集まりとに手作業で分類しました。これでは数増えた時に大変ですし、見落としもありそうです。そこで今回はRDKit オンラインドキュメンテーションに記載のあったSSSRという考え方を頼りに同様の分類できるかどうか試してみたいと思います。\n",
    "\n",
    "RDKitオンラインドキュメンテーションの該当箇所は下記です。  \n",
    "1. [Ring Information](https://www.rdkit.org/docs/GettingStartedInPython.html#ring-information)    \n",
    "2. [Ring Finding and SSSR](https://www.rdkit.org/docs/RDKit_Book.html#ring-finding-and-sssr)   \n",
    "\n",
    "SSSR（smallest set of smallest rings; SSSR）についてはこちらの記事 [化学構造情報とグラフ理論](https://qiita.com/mojaie/items/92dcc4b1022101f31f2a)の説明が非常にわかりやいのでご参照ください。\n",
    "\n",
    "とにかく、分子に含まれる環構造のうち「環の個数と環の大きさが最小になるような組み合わせ」だそうです。（ふわっとした理解）\n",
    "\n",
    "環の情報がわかるなら、大員環とそれ以外の分子と区別することもできるのでは？？？　というのが今回の記事の目的です。\n",
    "\n",
    "\n",
    "まずはデータの準備\n"
   ]
  },
  {
   "cell_type": "markdown",
   "metadata": {
    "collapsed": true
   },
   "source": [
    "```python\n",
    "from rdkit import rdBase, Chem\n",
    "from rdkit.Chem import AllChem, Draw, Descriptors, PandasTools\n",
    "import pandas as pd\n",
    " \n",
    "\n",
    "df = pd.read_csv('../pd1_inhibitor_dataset-master/PD1_inhibitor_dataset.csv')\n",
    "PandasTools.AddMoleculeColumnToFrame(df, 'smiles')\n",
    "```\n"
   ]
  },
  {
   "cell_type": "markdown",
   "metadata": {},
   "source": [
    "# <u><b>GetSSSR関数</b></u>\n",
    "\n",
    "RDKitのドキュメンテーションによると、SSSRに関してはGetSSSRとGetSymmSSSRの２つの関数があるそうです。\n",
    "\n",
    "まずはGetSSSR関数を用いて見ます。こちらはSSSRの数を取得することができる関数です。\n",
    "\n",
    "データセットの最初の分子をテスト化合物としてどのような結果が出るのか眺めて見ます。\n",
    "\n",
    "最初の分子の構造はこのようなものです。\n",
    "\n"
   ]
  },
  {
   "cell_type": "markdown",
   "metadata": {},
   "source": [
    "```python\n",
    "test_mol = df.loc[0, 'ROMol']\n",
    "Draw.MolToImage(test_mol)\n",
    "```\n"
   ]
  },
  {
   "cell_type": "markdown",
   "metadata": {},
   "source": [
    "<img src=\"./images/3-c_image1.png\">\n",
    "\n",
    "この分子のSSSRの数は？？？\n",
    "\n"
   ]
  },
  {
   "cell_type": "markdown",
   "metadata": {},
   "source": [
    "```python\n",
    "test_SSSR = Chem.GetSSSR(test_mol)\n",
    "print(test_SSSR)\n",
    "# 8\n",
    "```"
   ]
  },
  {
   "cell_type": "markdown",
   "metadata": {},
   "source": [
    "8個だそうです！\n",
    "\n",
    "・・・わからん。\n",
    "\n",
    "SSSRの数だけではよくわかりません。\n",
    "\n"
   ]
  },
  {
   "cell_type": "markdown",
   "metadata": {},
   "source": [
    "# <u><b>GetSymmSSSR関数</b></u>\n",
    "\n",
    "もう一方の関数、GetSymmSSSRを使うと、認識された各環構造の情報を取得することもできるそうです。\n"
   ]
  },
  {
   "cell_type": "markdown",
   "metadata": {},
   "source": [
    "```python\n",
    "test_SymmSSSR = Chem.GetSymmSSSR(test_mol)\n",
    "print(type(test_SymmSSSR))\n",
    "# <class 'rdkit.rdBase._vectNSt3__16vectorIiNS_9allocatorIiEEEE'>\n",
    "\n",
    "print(type(test_SSSR))\n",
    "# <class 'int'>\n",
    "```\n",
    "\n"
   ]
  },
  {
   "cell_type": "markdown",
   "metadata": {},
   "source": [
    "GetSSSRで得た結果は整数値（int）ですが、GetSymmSSSRで得た結果はrdkitのオブジェクトでSSSRについてより詳細な情報をもっていそうです。\n",
    "\n",
    "GetSymmSSSRの結果から、SSSRの数を取得するには長さを求めれば良いそうです。\n"
   ]
  },
  {
   "cell_type": "markdown",
   "metadata": {},
   "source": [
    "```python\n",
    "print(len(test_SymmSSSR))\n",
    "#8\n",
    "```\n"
   ]
  },
  {
   "cell_type": "markdown",
   "metadata": {},
   "source": [
    "先ほどの結果と一致しました。\n",
    "\n"
   ]
  },
  {
   "cell_type": "markdown",
   "metadata": {},
   "source": [
    "# <b><u>最大の環構造を探す</u></b>\n",
    "\n",
    "ドキュメンテーションの説明をみる限り、GetSymmSSSRで得られるものは、認識された環構造のリストとなっており、リストの要素は各環構造に含まれる原子（atom index）のリストとなっているようなオブジェクトのようです（リストのリスト）。\n",
    "\n",
    "8個の各環構造のサイズを求めてみます。\n",
    "\n"
   ]
  },
  {
   "cell_type": "markdown",
   "metadata": {},
   "source": [
    "```python\n",
    "for i in range(len(test_SymmSSSR)):\n",
    "    print('{}番目の環のサイズ:{}'.format(i, len(test_SymmSSSR[i])))\n",
    "\n",
    "\"\"\"\n",
    "出力結果\n",
    "0番目の環のサイズ:45\n",
    "1番目の環のサイズ:5\n",
    "2番目の環のサイズ:5\n",
    "3番目の環のサイズ:6\n",
    "4番目の環のサイズ:5\n",
    "5番目の環のサイズ:6\n",
    "6番目の環のサイズ:5\n",
    "7番目の環のサイズ:6\n",
    "\"\"\"\n",
    "```\n",
    "\n"
   ]
  },
  {
   "cell_type": "markdown",
   "metadata": {},
   "source": [
    "0番目が環員数 45となっています。ぼんやりと眺めていましたが環状ペプチドの長さはこんなにも長いものなんですね。具体的な数値を見るとあらためてびっくりしました。\n",
    "\n",
    "この最大の環構造を構成する原子の番号（atom index）を取得して見ます。\n"
   ]
  },
  {
   "cell_type": "markdown",
   "metadata": {},
   "source": [
    "```python\n",
    "largest_ring_member = list(test_SymmSSSR[0])\n",
    "print(largest_ring_member)\n",
    "\n",
    "# [4, 5, 7, 8, 9, 11, 12, 13, 14, 15, 16, 18, 19, 20, 22, 23, 24, 26, 27, 28, 30, 34, 35, 37, 38, 39, 41, 42, 43, 45, 46, 47, 49, 50, 51, 53, 54, 55, 57, 58, 59, 61, 62, 63, 65]\n",
    "```\n"
   ]
  },
  {
   "cell_type": "markdown",
   "metadata": {},
   "source": [
    "構成要素の原子がわかったので、この情報を用いて分子のどの原子が該当の環構造に含まれるのか、ハイライトして描画して見ました。\n",
    "\n",
    "<img src=\"./images/3-c_image2.png\">\n",
    "\n",
    "期待通り、環状ペプチドの骨格となる構造を認識できていそうです。\n",
    "\n"
   ]
  },
  {
   "cell_type": "markdown",
   "metadata": {},
   "source": [
    "# <u><b>環構造を順番に眺める</b></u>\n",
    "\n",
    "ipywidgetsを利用して各環構造を順番に眺めて見ます。\n",
    "\n"
   ]
  },
  {
   "cell_type": "markdown",
   "metadata": {},
   "source": [
    "```python\n",
    "# 描画用\n",
    "from rdkit.Chem.Draw import rdMolDraw2D\n",
    "from IPython.display import SVG\n",
    "from matplotlib.colors import ColorConverter\n",
    "\n",
    "# インタラクティブなビューワー\n",
    "from ipywidgets import interact,fixed,IntSlider\n",
    "import ipywidgets\n",
    "\n",
    "# ビューワーに与える関数を作成\n",
    "def SSSR_viwer(idx):\n",
    "    ring_member_atoms = list(test_SymmSSSR[idx])\n",
    "    prepro_test_mol = rdMolDraw2D.PrepareMolForDrawing(test_mol)\n",
    "    target_ring_atoms = list(test_SymmSSSR[idx])\n",
    "    \n",
    "    #デフォルトの設定は見づらいので色を変える\n",
    "    color_dict = {}\n",
    "    radius_dict = {}\n",
    "    for i in target_ring_atoms:\n",
    "        color_dict[i] = ColorConverter().to_rgb('khaki')\n",
    "        radius_dict[i] = 0.7\n",
    "    \n",
    "    #コンテナとなるオブジェクトの作成\n",
    "    view = rdMolDraw2D.MolDraw2DSVG(600,600)\n",
    "    \n",
    "    #コンテナの描画設定\n",
    "    option = view.drawOptions()\n",
    "    option.circleAtoms=False\n",
    "    option.continuousHighlights=False\n",
    "    \n",
    "    #最大の環構造に含まれる原子をハイライトに設定\n",
    "    view.DrawMolecule(prepro_test_mol, \n",
    "                      highlightAtoms=target_ring_atoms,\n",
    "                      highlightAtomColors= color_dict,\n",
    "                      highlightAtomRadii= radius_dict,\n",
    "                      highlightBonds=[])\n",
    "\n",
    "    #コンテナをファイナライズ\n",
    "    view.FinishDrawing()\n",
    "\n",
    "    #コンテナに書き込んだデータを取り出す\n",
    "    svg = view.GetDrawingText()\n",
    "\n",
    "    #データを描画\n",
    "    return(SVG(svg.replace('svg:,','')))\n",
    "\n",
    "#ビューワーを実行\n",
    "interact(SSSR_viwer, idx=ipywidgets.IntSlider(min=0,max=len(test_SymmSSSR)-1, step=1));\n",
    "```\n"
   ]
  },
  {
   "cell_type": "markdown",
   "metadata": {},
   "source": [
    "<img src=\"./images/3-c_gif1.gif\">\n",
    "\n",
    "順番に表示させることでSSSRがどのような環構造を認識するのか、非常にわかりやすくなりました。\n",
    "\n"
   ]
  },
  {
   "cell_type": "markdown",
   "metadata": {},
   "source": [
    "# <u><b>SSSRを利用して大員環を区別</b></u>\n",
    "\n",
    "大体SSSRでどのような情報が得られるのかわかったので、これを用いてマクロサイクル型の化合物とそれ以外を区別できるか検証して見たいと思います。\n",
    "\n",
    "Wikipediaによると[大員環化合物（macrocyclic compound)](https://ja.wikipedia.org/wiki/大員環化合物)は「概ね10個以上の原子からなる環状構造を持つ有機化合物」ということなので、これを基準として用います。SSSRで得た環構造のうち、最大の大きさの環構造を構成する原子数が10以上の場合、大員環化合物とすることとしたいと思います。\n",
    "\n",
    "まずは、各化合物のSSSRをもとめ、最大の環構造の情報を取得します。\n",
    "\n",
    "関数を作成し、Molオブジェクトを含むカラムに適用し、得た値を新しいカラムへと格納します。\n"
   ]
  },
  {
   "cell_type": "markdown",
   "metadata": {},
   "source": [
    "```python\n",
    "def largest_ring_member_count(mol):\n",
    "    SymmSSSR = Chem.GetSymmSSSR(mol)\n",
    "\n",
    "    size_list = []\n",
    "    \n",
    "    # 各環の大きさを順番にリストに追加\n",
    "    for i in range(len(SymmSSSR)):\n",
    "        size_list.append(len(SymmSSSR[i]))\n",
    "    \n",
    "    # リストの最大値をとりだす\n",
    "    max_size = max(size_list)\n",
    "                   \n",
    "    return(max_size)\n",
    "\n",
    "# 最大の環の情報をもつ新しいカラムを作成\n",
    "df['largest_ring_size'] = df['ROMol'].map(largest_ring_member_count)\n",
    "```\n"
   ]
  },
  {
   "cell_type": "markdown",
   "metadata": {},
   "source": [
    "環のサイズが10以上の時はマクロサイクル型（macro）、それより小さい場合は鎖型（chain）として分類してみます。\n",
    "\n"
   ]
  },
  {
   "cell_type": "markdown",
   "metadata": {},
   "source": [
    "```python\n",
    "#classifierとか一回言ってみたかった\n",
    "def macro_classifier(size):\n",
    "    if size >= 10:\n",
    "        return('macro')\n",
    "    elif size < 10:\n",
    "        return('chain')\n",
    "\n",
    "df['macro_chain'] = df['largest_ring_size'].map(macro_classifier)\n",
    "```\n",
    "\n"
   ]
  },
  {
   "cell_type": "markdown",
   "metadata": {},
   "source": [
    "どのような分類になったか数を確認してみます。\n"
   ]
  },
  {
   "cell_type": "markdown",
   "metadata": {},
   "source": [
    "```python\n",
    "df['macro_chain'].value_counts()\n",
    "\n",
    "\"\"\"\n",
    "chain    39\n",
    "macro    14\n",
    "Name: macro_chain, dtype: int64\n",
    "\"\"\"\n",
    "```\n"
   ]
  },
  {
   "cell_type": "markdown",
   "metadata": {},
   "source": [
    "\n",
    "マクロサイクル型 14個、鎖状型39個、となりました。\n",
    "\n",
    "前回の分類では、外れ値としたマクロサイクル型化合物１つの除いた、合計52個を、マクロサイクル型13個と鎖状型39個とに分けました。数を見る限り同様の結果が得られていそうです。\n",
    "\n",
    "それぞれ別のDataFrameに分けたあと、構造を確認します。\n",
    "\n",
    "マクロサイクル型・・・\n",
    "\n"
   ]
  },
  {
   "cell_type": "markdown",
   "metadata": {},
   "source": [
    "```python\n",
    "df_macro = df[df['macro_chain']== 'macro']\n",
    "macro_list = list(df_macro['ROMol'])\n",
    "\n",
    "def macro_viewer(idx):\n",
    "    mol = macro_list[idx]\n",
    "    return(display(Draw.MolToImage(mol)))\n",
    "    \n",
    "interact(class_1_viewer, idx=ipywidgets.IntSlider(min=0,max=len(macro_list)-1, step=1));\n",
    "```\n",
    "\n"
   ]
  },
  {
   "cell_type": "markdown",
   "metadata": {},
   "source": [
    "<img src=\"./images/3-c_gif2.gif\">\n",
    "\n",
    "\n",
    "鎖状型・・・\n",
    "\n"
   ]
  },
  {
   "cell_type": "markdown",
   "metadata": {},
   "source": [
    "```python\n",
    "df_chain = df[df['macro_chain']== 'chain']\n",
    "chain_list = list(df_chain['ROMol'])\n",
    "\n",
    "def chain_viewer(idx):\n",
    "    mol = chain_list[idx]\n",
    "    return(display(Draw.MolToImage(mol)))\n",
    "    \n",
    "interact(chain_viewer, idx=ipywidgets.IntSlider(min=0,max=len(chain_list)-1, step=1));\n",
    "```\n",
    "\n",
    "<img src=\"./images/3-c_gif3.gif\">\n"
   ]
  },
  {
   "cell_type": "markdown",
   "metadata": {},
   "source": [
    "\n",
    "しっかりと望み通りの分類ができていそうです。\n",
    "\n"
   ]
  },
  {
   "cell_type": "markdown",
   "metadata": {},
   "source": [
    "# <u><b>まとめ</b></u>\n",
    "\n",
    "今回はSSSRを使って、大員環化合物とそれ以外の化合物を分類できるか？ということを行ってみました。  \n",
    "RDKitのドキュメンテーションを読んでいる時は、どのような目的で使えば良いものかさっぱりわからず、どうして [The SSSR Problem](https://www.rdkit.org/docs/GettingStartedInPython.html#the-sssr-problem) という節を設けるほど解説してあるのか疑問に思っていたのですが、実際に使って見るととても使い勝手の良い重要な考え方ということがわかりました。\n",
    "\n",
    "かなり適当に使ってしまったので、概念の理解の誤り等ございましたらご指摘いただければ幸いです。\n",
    "\n"
   ]
  }
 ],
 "metadata": {
  "kernelspec": {
   "display_name": "Python 3",
   "language": "python",
   "name": "python3"
  },
  "language_info": {
   "codemirror_mode": {
    "name": "ipython",
    "version": 3
   },
   "file_extension": ".py",
   "mimetype": "text/x-python",
   "name": "python",
   "nbconvert_exporter": "python",
   "pygments_lexer": "ipython3",
   "version": "3.6.8"
  },
  "toc": {
   "base_numbering": 1,
   "nav_menu": {},
   "number_sections": true,
   "sideBar": true,
   "skip_h1_title": false,
   "title_cell": "Table of Contents",
   "title_sidebar": "Contents",
   "toc_cell": true,
   "toc_position": {},
   "toc_section_display": true,
   "toc_window_display": true
  }
 },
 "nbformat": 4,
 "nbformat_minor": 2
}
