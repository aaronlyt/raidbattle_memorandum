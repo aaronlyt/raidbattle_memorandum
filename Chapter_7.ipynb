{
 "cells": [
  {
   "cell_type": "markdown",
   "metadata": {
    "toc": true
   },
   "source": [
    "<h1>Table of Contents<span class=\"tocSkip\"></span></h1>\n",
    "<div class=\"toc\"><ul class=\"toc-item\"><li><span><a href=\"#第７章　Step-6.-SBVS\" data-toc-modified-id=\"第７章　Step-6.-SBVS-1\"><span class=\"toc-item-num\">1&nbsp;&nbsp;</span>第７章　Step 6. SBVS</a></span></li></ul></div>"
   ]
  },
  {
   "cell_type": "markdown",
   "metadata": {},
   "source": [
    "# 第７章　Step 6. SBVS"
   ]
  },
  {
   "cell_type": "markdown",
   "metadata": {
    "collapsed": true
   },
   "source": [
    "第７章ではSBVS（Structure-Based Virtual Screening）を実施しています。LBVSで順位づけした化合物群の上位50化合物を対象として、ドッキングシミュレーションを実施しました。\n",
    "\n",
    "第７章１節では**ODDT**（Open drug discovery toolkit for python）をインターフェースとして**AutoDock Vina**を用いたドッキングを実施しました。ついで第７章２節において、**RF-Score-VS**を用いてドッキングスコアの再計算を実行しました。最終的にAutoDock vina のスコア上位５化合物と、RF-Score-VS スコア上位５化合物を合わせた１０化合物をアッセイ希望の化合物リストとして選抜しました。\n",
    "\n",
    "ドッキング計算はこれまでに行なってきた処理と比較して計算量が多く時間がかかるため、LBVS上位50化合物に絞って実施しています。またコマンドラインベースのODDTを用いた50化合物の処理に先立って、GUIベースの**UCSF Chimera**を利用することで、手順・設定値に無理がないかの確認を行っています。\n",
    "\n",
    "ドッキング計算に必要な準備として、タンパク質に加えてスクリーニング対象の化合物群の３次元構造を発生させる必要があります。立体構造は以下の手順で用意しました。\n",
    "\n",
    "* ファーマコフォアスクリーニングで使用したファーマコフォアモデルに適合する立体構造を初期構造として複数個ずつ発生\n",
    "* EDKDG法により各構造を最適化\n",
    "* Feature Mapを用いて共結晶構造中のリガンドに最も類似したコンフォマーを、各化合物につき１つずつ選択\n",
    "\n",
    "コードの詳細は第７章１節に記載しています・\n",
    "\n",
    "ドッキングに関しては背景知識の少なさのため、細かな設定の調整等は行っておらず、ほとんどチュートリアルのデフォルトの設定のままの実行となっています。また、関連する基礎的な内容について情報の整理を試みています。そのため７章１節、７章２節共にページ全体の分量は非常に多くなっていますが、実際の操作内容についてはあまり多くのことをしていません。"
   ]
  }
 ],
 "metadata": {
  "kernelspec": {
   "display_name": "Python 3",
   "language": "python",
   "name": "python3"
  },
  "language_info": {
   "codemirror_mode": {
    "name": "ipython",
    "version": 3
   },
   "file_extension": ".py",
   "mimetype": "text/x-python",
   "name": "python",
   "nbconvert_exporter": "python",
   "pygments_lexer": "ipython3",
   "version": "3.6.8"
  },
  "toc": {
   "base_numbering": 1,
   "nav_menu": {},
   "number_sections": true,
   "sideBar": true,
   "skip_h1_title": false,
   "title_cell": "Table of Contents",
   "title_sidebar": "Contents",
   "toc_cell": true,
   "toc_position": {},
   "toc_section_display": true,
   "toc_window_display": true
  }
 },
 "nbformat": 4,
 "nbformat_minor": 2
}
