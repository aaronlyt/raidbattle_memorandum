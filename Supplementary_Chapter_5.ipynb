{
 "cells": [
  {
   "cell_type": "markdown",
   "metadata": {
    "toc": true
   },
   "source": [
    "<h1>Table of Contents<span class=\"tocSkip\"></span></h1>\n",
    "<div class=\"toc\"><ul class=\"toc-item\"><li><span><a href=\"#タンパク質編_第５章　PDBの情報を利用する際の注意点\" data-toc-modified-id=\"タンパク質編_第５章　PDBの情報を利用する際の注意点-1\"><span class=\"toc-item-num\">1&nbsp;&nbsp;</span>タンパク質編_第５章　PDBの情報を利用する際の注意点</a></span></li><li><span><a href=\"#1.-PDBフォーマットの問題点\" data-toc-modified-id=\"1.-PDBフォーマットの問題点-2\"><span class=\"toc-item-num\">2&nbsp;&nbsp;</span>1. PDBフォーマットの問題点</a></span></li><li><span><a href=\"#2.-PDBを利用する上で非結晶学者が注意すべきこと\" data-toc-modified-id=\"2.-PDBを利用する上で非結晶学者が注意すべきこと-3\"><span class=\"toc-item-num\">3&nbsp;&nbsp;</span>2. PDBを利用する上で非結晶学者が注意すべきこと</a></span><ul class=\"toc-item\"><li><span><a href=\"#(1)-共結晶構造中の構造の誤りについて\" data-toc-modified-id=\"(1)-共結晶構造中の構造の誤りについて-3.1\"><span class=\"toc-item-num\">3.1&nbsp;&nbsp;</span>(1) 共結晶構造中の構造の誤りについて</a></span><ul class=\"toc-item\"><li><span><a href=\"#タンパク質-リガンド共結晶構造におけるリガンド構造の問題\" data-toc-modified-id=\"タンパク質-リガンド共結晶構造におけるリガンド構造の問題-3.1.1\"><span class=\"toc-item-num\">3.1.1&nbsp;&nbsp;</span>タンパク質-リガンド共結晶構造におけるリガンド構造の問題</a></span><ul class=\"toc-item\"><li><span><a href=\"#1.-構造式の誤り\" data-toc-modified-id=\"1.-構造式の誤り-3.1.1.1\"><span class=\"toc-item-num\">3.1.1.1&nbsp;&nbsp;</span>1. 構造式の誤り</a></span></li><li><span><a href=\"#2.-分子構造の問題\" data-toc-modified-id=\"2.-分子構造の問題-3.1.1.2\"><span class=\"toc-item-num\">3.1.1.2&nbsp;&nbsp;</span>2. 分子構造の問題</a></span></li><li><span><a href=\"#3.-タンパク質-リガンドの立体的衝突\" data-toc-modified-id=\"3.-タンパク質-リガンドの立体的衝突-3.1.1.3\"><span class=\"toc-item-num\">3.1.1.3&nbsp;&nbsp;</span>3. タンパク質-リガンドの立体的衝突</a></span></li><li><span><a href=\"#4.コンフォメーションの間違い\" data-toc-modified-id=\"4.コンフォメーションの間違い-3.1.1.4\"><span class=\"toc-item-num\">3.1.1.4&nbsp;&nbsp;</span>4.コンフォメーションの間違い</a></span></li></ul></li><li><span><a href=\"#5.-結合モードの間違い\" data-toc-modified-id=\"5.-結合モードの間違い-3.1.2\"><span class=\"toc-item-num\">3.1.2&nbsp;&nbsp;</span>5. 結合モードの間違い</a></span></li><li><span><a href=\"#上記の誤りが生じるテクニカルな要因\" data-toc-modified-id=\"上記の誤りが生じるテクニカルな要因-3.1.3\"><span class=\"toc-item-num\">3.1.3&nbsp;&nbsp;</span>上記の誤りが生じるテクニカルな要因</a></span><ul class=\"toc-item\"><li><span><a href=\"#1.分解能不足\" data-toc-modified-id=\"1.分解能不足-3.1.3.1\"><span class=\"toc-item-num\">3.1.3.1&nbsp;&nbsp;</span>1.分解能不足</a></span></li><li><span><a href=\"#2.力場の問題\" data-toc-modified-id=\"2.力場の問題-3.1.3.2\"><span class=\"toc-item-num\">3.1.3.2&nbsp;&nbsp;</span>2.力場の問題</a></span></li><li><span><a href=\"#3.リガンド精度の重みの低さ\" data-toc-modified-id=\"3.リガンド精度の重みの低さ-3.1.3.3\"><span class=\"toc-item-num\">3.1.3.3&nbsp;&nbsp;</span>3.リガンド精度の重みの低さ</a></span></li></ul></li></ul></li><li><span><a href=\"#(2)-X線結晶解析結果を活用するための注意点\" data-toc-modified-id=\"(2)-X線結晶解析結果を活用するための注意点-3.2\"><span class=\"toc-item-num\">3.2&nbsp;&nbsp;</span>(2) X線結晶解析結果を活用するための注意点</a></span><ul class=\"toc-item\"><li><span><a href=\"#低分子X線解析結果の注意点\" data-toc-modified-id=\"低分子X線解析結果の注意点-3.2.1\"><span class=\"toc-item-num\">3.2.1&nbsp;&nbsp;</span>低分子X線解析結果の注意点</a></span><ul class=\"toc-item\"><li><span><a href=\"#1.-X線解析単独では原子種（C、N、O）の決定が困難\" data-toc-modified-id=\"1.-X線解析単独では原子種（C、N、O）の決定が困難-3.2.1.1\"><span class=\"toc-item-num\">3.2.1.1&nbsp;&nbsp;</span>1. X線解析単独では原子種（C、N、O）の決定が困難</a></span></li><li><span><a href=\"#2.-H原子の位置決定が困難\" data-toc-modified-id=\"2.-H原子の位置決定が困難-3.2.1.2\"><span class=\"toc-item-num\">3.2.1.2&nbsp;&nbsp;</span>2. H原子の位置決定が困難</a></span></li><li><span><a href=\"#3.-温度因子（B-factor）について\" data-toc-modified-id=\"3.-温度因子（B-factor）について-3.2.1.3\"><span class=\"toc-item-num\">3.2.1.3&nbsp;&nbsp;</span>3. 温度因子（B factor）について</a></span></li><li><span><a href=\"#4.-占有率\" data-toc-modified-id=\"4.-占有率-3.2.1.4\"><span class=\"toc-item-num\">3.2.1.4&nbsp;&nbsp;</span>4. 占有率</a></span></li><li><span><a href=\"#5.-R因子について\" data-toc-modified-id=\"5.-R因子について-3.2.1.5\"><span class=\"toc-item-num\">3.2.1.5&nbsp;&nbsp;</span>5. R因子について</a></span></li></ul></li><li><span><a href=\"#タンパク質X線解析結果の注意点\" data-toc-modified-id=\"タンパク質X線解析結果の注意点-3.2.2\"><span class=\"toc-item-num\">3.2.2&nbsp;&nbsp;</span>タンパク質X線解析結果の注意点</a></span><ul class=\"toc-item\"><li><span><a href=\"#1.-タンパク質結晶解析の３つの大きな特徴\" data-toc-modified-id=\"1.-タンパク質結晶解析の３つの大きな特徴-3.2.2.1\"><span class=\"toc-item-num\">3.2.2.1&nbsp;&nbsp;</span>1. タンパク質結晶解析の３つの大きな特徴</a></span></li><li><span><a href=\"#2.-タンパク質結晶解析の質を計る２つの指標\" data-toc-modified-id=\"2.-タンパク質結晶解析の質を計る２つの指標-3.2.2.2\"><span class=\"toc-item-num\">3.2.2.2&nbsp;&nbsp;</span>2. タンパク質結晶解析の質を計る２つの指標</a></span></li><li><span><a href=\"#3.-化学構造の曖昧さ\" data-toc-modified-id=\"3.-化学構造の曖昧さ-3.2.2.3\"><span class=\"toc-item-num\">3.2.2.3&nbsp;&nbsp;</span>3. 化学構造の曖昧さ</a></span></li><li><span><a href=\"#4.-問題点\" data-toc-modified-id=\"4.-問題点-3.2.2.4\"><span class=\"toc-item-num\">3.2.2.4&nbsp;&nbsp;</span>4. 問題点</a></span></li></ul></li></ul></li></ul></li><li><span><a href=\"#3.-まとめ\" data-toc-modified-id=\"3.-まとめ-4\"><span class=\"toc-item-num\">4&nbsp;&nbsp;</span>3. まとめ</a></span></li><li><span><a href=\"#脚注\" data-toc-modified-id=\"脚注-5\"><span class=\"toc-item-num\">5&nbsp;&nbsp;</span>脚注</a></span></li></ul></div>"
   ]
  },
  {
   "cell_type": "markdown",
   "metadata": {},
   "source": [
    "# タンパク質編\\_第５章　PDBの情報を利用する際の注意点\n",
    "\n",
    "PDBの中身もなんとなくわかったところで、当初の問題、PDBに登録された低分子の構造がなぜ間違っていたのかということを考えていきたいと思います。"
   ]
  },
  {
   "cell_type": "markdown",
   "metadata": {},
   "source": [
    "# 1. PDBフォーマットの問題点\n",
    "\n",
    "では問題の構造を再掲。左がPDBで、右が特許（および元文献）中の構造です。\n",
    "\n",
    "<img src=\"./images/sup-5_image1.png\"> ***Fig. 1 構造の違い再掲***"
   ]
  },
  {
   "cell_type": "markdown",
   "metadata": {},
   "source": [
    "「PDBの低分子構造は自動でアノテーションされているため、間違いが生じる可能性がある」とのことでした。そこで、再度PDBファイルのリガンドの構造に関する部分を見てみます。"
   ]
  },
  {
   "cell_type": "markdown",
   "metadata": {},
   "source": [
    "<img src=\"./images/sup-5_image2.png\"> ***Fig. 2 PDBファイルの低分子構造記載方法を再掲***"
   ]
  },
  {
   "cell_type": "markdown",
   "metadata": {},
   "source": [
    "Fig. 2 に記載したように、PDBにはリガンドの構造にとって重要な下記の情報が欠けています。\n",
    "\n",
    "* ①<u>水素原子の情報がない</u>（→ 水素の数や位置で不飽和度や立体配置を決められない）\n",
    "\n",
    "* ②<u>原子間に結合があることはわかるが、**結合次数**や**立体配置**が記載されていない</u>\n",
    "\n",
    "PDBファイル本体にはこれらの情報が含まれておらず、原子の３次元座標のみから、**結合角**や**位置関係**をもとに、**自動で結合次数や立体配置を割り当て**ているそうです。したがって、**データの分解能**が悪いと自動で生成した構造に誤りが生じ、間違ったまま登録されていることがあるようです。\n",
    "\n",
    "\n",
    "ただし、Fig .1 で指摘した誤りのうち①、③、④については上記で説明がつきますが、構造式の誤り（②）もあるところを見ると、解析自体にも問題がある気がします・・・。 PDBのフォーマットは古いため、記載方法や情報に課題があることは問題となっているようで、現在新しいフォーマット PDBx/mmCIF への移行が進められているそうです。\n"
   ]
  },
  {
   "cell_type": "markdown",
   "metadata": {},
   "source": [
    "# 2. PDBを利用する上で非結晶学者が注意すべきこと "
   ]
  },
  {
   "cell_type": "markdown",
   "metadata": {},
   "source": [
    "PDBフォーマットの中身を勉強するにあたって参考とした資料の中には、結晶学を専門としない私のような門外漢にとって、非常に勉強になる内容が多く記載されていました。\n",
    "\n",
    "再度似たような間違いに陥らないよう、内容を紹介したいと思います。"
   ]
  },
  {
   "cell_type": "markdown",
   "metadata": {},
   "source": [
    "## (1) 共結晶構造中の構造の誤りについて\n",
    "\n",
    "まずは文献 [Reynolds, C.H., ACS Med. Chem. Lett. 2014(5)727](https://pubs.acs.org/doi/abs/10.1021/ml500220a)より。\n",
    "\n",
    "こちらの文献ではタンパク質-リガンド共結晶構造におけるリガンド構造の問題について下記５点が指摘されています。"
   ]
  },
  {
   "cell_type": "markdown",
   "metadata": {},
   "source": [
    "### タンパク質-リガンド共結晶構造におけるリガンド構造の問題\n",
    "\n",
    "#### 1. 構造式の誤り\n",
    "\n",
    "* あるべき原子がない（missing atoms）\n",
    "* 結合次数が間違っている（incorrect bond orders）\n",
    "* 結合関係の間違い（connectivity issues）\n",
    "\n",
    "#### 2. 分子構造の問題\n",
    "\n",
    "幾何的特徴が化学的に理想な値の範囲外にある場合（problems with geometric constraints and ideal values）\n",
    "\n",
    "* 結合長（bond distances）\n",
    "* 結合角（angles）\n",
    "* 二面角（dihedral angles）\n",
    "\n",
    "#### 3. タンパク質-リガンドの立体的衝突\n",
    "\n",
    "タンパク質とリガンドがぶつかってしまっている（bad steric clashes）\n",
    "\n",
    "#### 4.コンフォメーションの間違い\n",
    "\n",
    "化学的にみておかしな配座となっている（internal strain）。\n",
    "\n",
    "* アミド結合の配座がシスとなっている（cis-amides）\n",
    "* アミド結合の平面性が崩れ、ねじれている（twisted amides）\n",
    "* 環構造のねじれ（ distorted rings (e.g. boat型やtwist型の配座））\n",
    "* 芳香族の平面性が崩れている（nonplanar aromatic groups）\n",
    "* 非平面のはずの構造が平面となっている（e.g., sufones and sulfoxides)\n",
    "\n",
    "### 5. 結合モードの間違い\n",
    "\n",
    "* 結合サイト内でのリガンドの向きがおかしい（incorrect orientation）\n",
    "    →実験データから見てあきらかにとるはずのポーズをとっていない。\n",
    "* 水素付加（protonation states）、電荷（charges）の問題"
   ]
  },
  {
   "cell_type": "markdown",
   "metadata": {},
   "source": [
    "### 上記の誤りが生じるテクニカルな要因\n",
    "\n",
    "これらの問題が生じる要因として、3点のテクニカルな問題があげられています。\n",
    "\n",
    "#### 1.分解能不足\n",
    "\n",
    "* 超高分解能（< 1.0Å）でない限り電子密度分布のみからの分子構造の予測は困難である。\n",
    "* したがって、X線結晶構造解析から導かれた構造は電子密度分布に合うようにつくられたモデル（fitted model）である。\n",
    "\n",
    "#### 2.力場の問題\n",
    "\n",
    "* 構造予測（モデルのフィット）に、力場が用いられるが、タンパク質にあわせてつくられたものであり低分子に適していない\n",
    "* よく使われる力場（e.g. Engh-Huber）の問題点としては下記が挙げられている。\n",
    "    * united-atomモデルである（水素原子を炭素原子に含めて扱う \n",
    "       ↔︎ all-atom(explicit-atom)）\n",
    "    * 静電力（electrostatics）が軽視（無視？）されている\n",
    "    * 低分子医薬品向けにパラメーターが最適化されていない\n",
    "\n",
    "#### 3.リガンド精度の重みの低さ\n",
    "\n",
    "* リガンドはタンパク質と比べて非常に小さいため、リガンドのフィッティングの精度は、結晶構造全体のフィッティング精度に占める割合が非常に小さい。\n",
    "* したがってリガンド単体でみれば大きな間違いであっても、全体での精度の指標（一般的にはRfree）に与える影響が小さく、誤りが見過ごされてしまう。\n",
    "\n"
   ]
  },
  {
   "cell_type": "markdown",
   "metadata": {},
   "source": [
    "## (2) X線結晶解析結果を活用するための注意点\n",
    "\n",
    "次に、下記文献 東海大学　平山先生によるPerspectiveから。\n",
    "\n",
    "   * 構造活性相関部会・ニュースレター SAR News No.11 (Oct. 2006)  \n",
    "    「結晶解析の結果を上手に活用するために」平山令明　教授  \n",
    "       [日本薬学会構造活性相関部会HP](http://bukai.pharm.or.jp/bukai_kozo/jindex.html) より閲覧可能 \n",
    "\n",
    "こちらはX線結晶解析を専門としない研究者・技術者がX線結晶解析で得られた分子構造を参照する上で注意すべき点について詳しく説明されています。\n"
   ]
  },
  {
   "cell_type": "markdown",
   "metadata": {},
   "source": [
    "### 低分子X線解析結果の注意点\n",
    "\n",
    "#### 1. X線解析単独では原子種（C、N、O）の決定が困難 \n",
    "\n",
    "解析の基本は・・・\n",
    "\n",
    "* X線解析で求められるのは結晶内の電子密度の分布\n",
    "* 原子の位置　・・・「電子密度の局所的極大点 = 原子核の場所」\n",
    "* 原子の種類　・・・「原子の位置の電子密度の高さから決定」 \n",
    "\n",
    "電子数の差が小さい原子同士（CとNなど）では、電子状態によっては原子種の判別が困難で帰属を誤る可能性がある。\n",
    "\n",
    "#### 2. H原子の位置決定が困難\n",
    "\n",
    "X線解析で得られるH原子の位置は実際の原子核の位置と有意に異なる。\n",
    "\n",
    "理由は、\n",
    "* H原子の電子密度は結合相手の原子に引き付けられている場合がほとんど\n",
    "* 電子密度の局所的極大点で原子核の位置を代表する。\n",
    "    ・・・ H原子の位置が実際よりも、結合相手寄りの位置として解釈される\n",
    "\n",
    "#### 3. 温度因子（B factor）について\n",
    "\n",
    "* 結晶の単位胞内での原子の振動を考慮するために各原子に与えられるパラメータ\n",
    "    ・・・温度因子が大きいほど結晶内での動きが大きい原子\n",
    "* 球状に近似した等方性温度因子（Isotropic B factor）と回転楕円体近似した異方性温度因子（Anisotropic B factor）がある\n",
    "   ・・・低分子では主に後者が用いられ、運動の方向性がある程度分かる\n",
    "\n",
    "※ 低分子X線解析の図でよく見るORTEP図（Oak Ridge Thermal Elliposid Plot）は異方性温度因子を考慮した表示方法だそうです。\n",
    "\n",
    "#### 4. 占有率\n",
    "\n",
    "* 全ての単位胞が等価とは限らない\n",
    "    ・・・例）水和物と無水物、複数の安定立体配座、糖のアノマーといった複数の構造の混在\n",
    "* 占有率は混在しているもののうち、ある構造を１単位胞内の存在量で表した値\n",
    "* 占有率と温度因子には相関がある\n",
    "    ・・・占有率1.0でも温度因子が他の原子より異様に大きい原子は疑った方が良い\n",
    "\n",
    "※ 占有率が1.0より小さい場合でも使用しているソフトウェアによっては一つの構造しか表示されないことがあるそうです。\n",
    "\n",
    "#### 5. R因子について\n",
    "\n",
    "R = Σ(|Fo| - |Fc|) / Σ|Fo|          ・・・（F: X線の振幅、Fo: 観測値、Fc: 計算値）\n",
    "\n",
    "* 「モデル構造がどれだけ観測データを説明するできるか？」の程度を表す指標であり良質な構造を選択する上で参考となる\n",
    "* 判断の目安\n",
    "    * R 因子 5%以下・・・ほとんど問題なし \n",
    "    * R 因子 7-10%  ・・・原子の並びはよくても、原子種の判定が微妙なことがある\n",
    "* 重原子を含む構造や、自由度の高い分子の場合はR因子が高くなる傾向があることに注意\n"
   ]
  },
  {
   "cell_type": "markdown",
   "metadata": {},
   "source": [
    "### タンパク質X線解析結果の注意点\n",
    "\n",
    "#### 1. タンパク質結晶解析の３つの大きな特徴\n",
    "\n",
    "* ①「結晶中にたくさんの水分子」かつ、「大部分は明確なX線回折に寄与しない」\n",
    "* ②  バルクの水に接する分子表面を中心に分子の運動性が高い\n",
    "* ③  X線回折の条件が低分子結晶（緊密にパッキング）と比較して格段に悪い\n",
    "\n",
    "#### 2. タンパク質結晶解析の質を計る２つの指標\n",
    "\n",
    "* ①分解能　(resolution)\n",
    "    * 識別可能な最小の２点間の距離\n",
    "        ↔︎ 観測できたデータの上限で、上限のデータの質を決定するものではない\n",
    "      　→ 分解能の数字に相当する構造が求められていないことがありうる\n",
    "    * 原子レベルの解析を目指す場合の目安\n",
    "        ・・・分解能 < 2Å (低分子の分解能は通常1.0Å程度）\n",
    "\n",
    "* ②R因子\n",
    "    * Rfree が使われる\n",
    "        ・・・全てのデータを含めて計算されるRよりも信頼性が高い指標\n",
    "    * 原子レベルの解析を目指す場合の目安\n",
    "        ・・・Rfree < 0.20\n",
    "\n",
    "#### 3. 化学構造の曖昧さ\n",
    "\n",
    "* ①タンパク質結晶では観測データだけでは、非水素原子の座標を決定するのに不十分  \n",
    "    ・・・構造についての予備知識なしに、電子密度のみから解釈することはできない\n",
    "\n",
    "* ②各原子座標の原子パラメータの標準偏差を見積もることができない  \n",
    "    ・・・原子レベルでの分子構造や分子間相互作用について定量的な議論をするには精度が低い\n",
    "\n",
    "#### 4. 問題点\n",
    "\n",
    "* タンパク質側の問題\n",
    "    * ①原子種の帰属が不明瞭\n",
    "        * ヘテロ原子の帰属が困難  \n",
    "            ・・・AsnやGln側鎖の O / N原子の区別、His側鎖のN原子の位置の確定ができない\n",
    "        * 水素原子の位置も推定できない \n",
    "\n",
    "    * ②温度因子と占有率\n",
    "        * アミノ酸残基・・・占有率 < 1.0  かつ 温度因子 > 30 Å2   の場合、位置が疑わしい\n",
    "\n",
    "* リガンド側の問題\n",
    "    * ①化学構造\n",
    "        * PDBデータの書誌的データの誤り\n",
    "        * 電子密度のみから化学構造（結合の不飽和度、水素結合の有無）の定量的評価は困難\n",
    "    * ②解離状態\n",
    "        * タンパク質X線解析から直接的証拠を出せない\n",
    "    * ③温度因子と占有率\n",
    "        * リガンド・・・占有率 < 0.5  or  温度因子 > 50 Å2 の場合、結合様式の信頼度低い\n",
    "        * 原子レベルで比較対照する場合は、 占有率 1.0  かつ  温度因子 < 30 Å2 が好ましい\n",
    "\n",
    "平山先生のPerspectiveの紹介は以上です。2006年の文献であり、現在では精度等状況が変わっているかもしれませんが、個人的には知らなかったことばかりで大変勉強になりました。PDBのビューワーで綺麗な図をみているだけでは絶対にわからなかったことばかりだと思います。"
   ]
  },
  {
   "cell_type": "markdown",
   "metadata": {},
   "source": [
    "# 3. まとめ\n",
    "\n",
    "以上、PDBフォーマットの見方から、PDB利用の際の注意点まで見てきました。\n",
    "\n",
    "「N/Oの区別ができない」や「水素結合の有無が不明瞭」など、ビューワーで眺めただけで「結合がありそうだから大事な部分構造だ」とか「活性に必須な官能基だ」と結論づけてしまうのは要注意ということですね。複数のデータを組み合わせて構造を見る必要がありそうです。\n",
    "\n",
    "最後に「Limitations and lessons in the use of the X-ray structural information in drug design」と題する2008年の文献（Drug Discovery Today 2008(13)81）から、X線結晶構造を創薬にもちいる上で、「知らず知らず前提としてしまっているけど正しいとは限らないよ」という３つの指摘を引用します。\n",
    "\n",
    "> \n",
    "(1) The protein structure is correct.  \n",
    "(2) The structure of the ligand and its interactions with the protein are correct  \n",
    "(3) The protein-ligand structure is relevant for drug design.  \n",
    "<br> Davis, A.M.; St-Gallay, S.A.; Kleywegt, G.J. Drug Discov. Today 2009, 13, 81\n"
   ]
  },
  {
   "cell_type": "markdown",
   "metadata": {},
   "source": [
    "# 脚注\n",
    "\n",
    "* 文献①: [平成27年度日本結晶学会年会 大阪府立大学 PDBjランチョンセミナー資料(PDF)](https://pdbj.org/workshop/20151018/CrSJ2015_nakamurads.pdf) \n",
    "\n",
    "\n",
    "* 文献②: 構造活性相関部会・ニュースレター SAR News No.11 (Oct. 2006)  \n",
    "    「結晶解析の結果を上手に活用するために」平山令明　教授 \n",
    "     ([日本薬学会構造活性相関部会 HP](http://bukai.pharm.or.jp/bukai_kozo/jindex.html)より閲覧可能) \n",
    "\n",
    "\n",
    "* 文献③: Protein-Ligand Cocrystal Structures: We can Do Better  \n",
    "    [ACS Med.Chem.Lett.,2014(5)727](https://pubs.acs.org/doi/abs/10.1021/ml500220a)  \n",
    "\n",
    "\n",
    "* 文献④: Application and Limitations of X-ray Crystallographical Data in Structure-Based Ligand and Drug Design  \n",
    "    Angew. Chem. Int. Ed. 2003(42)2718 \n",
    "\n",
    "\n",
    "* 文献⑤: Limitations and lessons in the use of the X-ray structural information in drug design  \n",
    "    Drug Discovery Today 2008(13)81  "
   ]
  }
 ],
 "metadata": {
  "kernelspec": {
   "display_name": "Python 3",
   "language": "python",
   "name": "python3"
  },
  "language_info": {
   "codemirror_mode": {
    "name": "ipython",
    "version": 3
   },
   "file_extension": ".py",
   "mimetype": "text/x-python",
   "name": "python",
   "nbconvert_exporter": "python",
   "pygments_lexer": "ipython3",
   "version": "3.6.8"
  },
  "toc": {
   "base_numbering": 1,
   "nav_menu": {},
   "number_sections": true,
   "sideBar": true,
   "skip_h1_title": false,
   "title_cell": "Table of Contents",
   "title_sidebar": "Contents",
   "toc_cell": true,
   "toc_position": {},
   "toc_section_display": true,
   "toc_window_display": true
  }
 },
 "nbformat": 4,
 "nbformat_minor": 2
}
