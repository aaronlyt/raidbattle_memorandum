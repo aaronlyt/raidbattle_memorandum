{
 "cells": [
  {
   "cell_type": "markdown",
   "metadata": {
    "toc": true
   },
   "source": [
    "<h1>Table of Contents<span class=\"tocSkip\"></span></h1>\n",
    "<div class=\"toc\"><ul class=\"toc-item\"><li><span><a href=\"#タンパク質編_第２章-PDBでの共結晶構造の確認\" data-toc-modified-id=\"タンパク質編_第２章-PDBでの共結晶構造の確認-1\"><span class=\"toc-item-num\">1&nbsp;&nbsp;</span>タンパク質編_第２章 PDBでの共結晶構造の確認</a></span></li><li><span><a href=\"#PDB-ID:-5J8O\" data-toc-modified-id=\"PDB-ID:-5J8O-2\"><span class=\"toc-item-num\">2&nbsp;&nbsp;</span>PDB ID: 5J8O</a></span></li><li><span><a href=\"#PDB-ID:-5NIU\" data-toc-modified-id=\"PDB-ID:-5NIU-3\"><span class=\"toc-item-num\">3&nbsp;&nbsp;</span>PDB ID: 5NIU</a></span></li><li><span><a href=\"#PDB-ID:-4ZQK\" data-toc-modified-id=\"PDB-ID:-4ZQK-4\"><span class=\"toc-item-num\">4&nbsp;&nbsp;</span>PDB ID: 4ZQK</a></span></li><li><span><a href=\"#まとめ\" data-toc-modified-id=\"まとめ-5\"><span class=\"toc-item-num\">5&nbsp;&nbsp;</span>まとめ</a></span></li><li><span><a href=\"#脚注\" data-toc-modified-id=\"脚注-6\"><span class=\"toc-item-num\">6&nbsp;&nbsp;</span>脚注</a></span></li></ul></div>"
   ]
  },
  {
   "cell_type": "markdown",
   "metadata": {},
   "source": [
    "# タンパク質編\\_第２章 PDBでの共結晶構造の確認"
   ]
  },
  {
   "cell_type": "markdown",
   "metadata": {},
   "source": [
    "UniProtの構造情報等から、PD-L1に関して低分子阻害剤との共結晶構造が既に報告されていることがわかりました。PDBに登録されている構造を、PDBのwebページ上で利用可能なビューワーを使って眺めてみたいと思います。"
   ]
  },
  {
   "cell_type": "markdown",
   "metadata": {},
   "source": [
    "# PDB ID: 5J8O\n",
    "\n",
    "先ずは「**PDB id: 5J8O**」。以下のような化合物がPD-L1に結合しています。化合物のID は「**6GZ**」です。\n",
    "\n",
    "<img src=\"./images/sup-2_image1.png\">\n",
    "\n",
    "**(2R)-1-({3-bromo-4-[(2-methyl[1,1'-biphenyl]-3-yl)methoxy]phenyl}methyl)piperidine-2-carboxylic acid**\n",
    "\n",
    "SMILES: ** Cc1c(COc2ccc(CN3CCCC[C@@H]3C(O)=O)cc2Br)cccc1-c1ccccc1 **"
   ]
  },
  {
   "cell_type": "markdown",
   "metadata": {},
   "source": [
    "PDBのビューワーで眺めた全体の構造は以下のようになっています。"
   ]
  },
  {
   "cell_type": "markdown",
   "metadata": {},
   "source": [
    "<img src=\"./images/sup-2_image2.png\">"
   ]
  },
  {
   "cell_type": "markdown",
   "metadata": {},
   "source": [
    "真ん中の化合物（Ball & Stick）を挟み込む形でPD-L1が２量体化しています。\n",
    "\n",
    "PDBの3D view で動かしてみると、βシート構造の面でペタっと化合物が挟まれています。\n",
    "\n",
    "描画方法をかえてみると以下のような見た目になります。[**PD-L1**: Licorice、**Ligand**: Sapcefill]"
   ]
  },
  {
   "cell_type": "markdown",
   "metadata": {},
   "source": [
    "<img src=\"./images/sup-2_image3.png\"><img src=\"./images/sup-2_image4.png\">"
   ]
  },
  {
   "cell_type": "markdown",
   "metadata": {},
   "source": [
    "化合物の疎水性部位（灰色）がPD-L1に挟み込まれており、外側に向かって親水性部位が伸びている様子です。"
   ]
  },
  {
   "cell_type": "markdown",
   "metadata": {},
   "source": [
    "より具体的なアミノ酸残基との相互作用をみてみます。\n",
    "\n",
    "報告されている元の論文（[Oncotarget2016(7)30323](https://doi.org/10.18632/oncotarget.8730)）中には疎水性相互作用について色々と記載がありましたが、PDBの「**2D Diagram & Interactions**」では下図左のようにざっくりと疎水性ポケットと認識されているようです。"
   ]
  },
  {
   "cell_type": "markdown",
   "metadata": {},
   "source": [
    "<img src=\"./images/sup-2_image5.png\"><img src=\"./images/sup-2_image6.png\">"
   ]
  },
  {
   "cell_type": "markdown",
   "metadata": {},
   "source": [
    "明示的に描かれている2つのTyr ですが、3Dでみてみると化合物との相互作用形式は異なっており、一方はπ-πスタッキング ( Tyr56A - BrPh側 )、もう一方は直交するようなT-stacking interactionとなっています（Tyr56B - ビフェニル構造末端側）。\n",
    "\n",
    "論文中では後者のTyr56B の動きが注目されており、PD-L1のapoと、共結晶で大きくシフトしている様が描かれています。\n",
    "\n",
    "また先の論文と同一のグループから報告されている別の論文（[Oncotarget2017(8)72167](https://doi.org/10.18632/oncotarget.20050)）では、ビフェニル末端に置換基の入ったより大きなリガンドとの共結晶構造（PDB id: 5NIU 、5NIX）が報告されています。こちらでは、Tyr56Bが押しのけられリガンド結合部位が広がっています。論文著者らはbinding pocket が binding tunnel になったと呼んでいます。\n",
    "\n",
    "こちらの構造についても眺めてみたいと思います。"
   ]
  },
  {
   "cell_type": "markdown",
   "metadata": {},
   "source": [
    "# PDB ID: 5NIU"
   ]
  },
  {
   "cell_type": "markdown",
   "metadata": {},
   "source": [
    "PDB id: **5NIU** / リガンド id: **8YZ**\n",
    "\n",
    "<img src=\"./images/sup-2_image7.png\">\n",
    "\n",
    "**(2R)-2-[[2-[(3-cyanophenyl)methoxy]-4-[[3-(2,3-dihydro-1,4-benzodioxin-6-yl)-2-methyl-phenyl]methoxy]-5-methyl-phenyl]methylamino]-3-oxidanyl-propanoic acid**\n",
    "\n",
    "SMILES:  **Cc1cc(CN[C@H]\\(CO)C(O)=O)c(OCc2cccc(c2)C#N)cc1OCc1cccc(c1C)-c1ccc2OCCOc2c1**\n",
    "\n",
    "さきのリガンドとの大きな違いは、ビフェニル構造末端の拡大（dioxaneみたいな構造）と中央のフェニル基に新たにシアノベンジル基が導入されていることです。\n",
    "\n",
    "共結晶構造では前者が上述のPD-L1 Tyr56 を押しのける役割を、後者があらたな相互作用の獲得に機能しています。\n",
    "\n",
    "全体的な結合モードは先の共結晶と同じです。\n"
   ]
  },
  {
   "cell_type": "markdown",
   "metadata": {},
   "source": [
    "<img src=\"./images/sup-2_image8.png\"><img src=\"./images/sup-2_image9.png\">"
   ]
  },
  {
   "cell_type": "markdown",
   "metadata": {},
   "source": [
    "2D の Ligand interactionの図がなかったので3Dを貼ります。"
   ]
  },
  {
   "cell_type": "markdown",
   "metadata": {},
   "source": [
    "<img src=\"./images/sup-2_image10.png\"><img src=\"./images/sup-2_image11.png\">"
   ]
  },
  {
   "cell_type": "markdown",
   "metadata": {},
   "source": [
    "上図ではリガンドのビフェニル末端側がPD-L1のTyr 56を押しのけている様子を、下図ではリガンド左下、シアノベンジル基があらたなπ-π相互作用 ( Tyr123 )を獲得している様子がみえます。\n",
    "\n",
    "以上、共結晶構造をみてきましたが、これらは**PD-L1の2量体**と低分子の相互作用形式です。**PD-1**と**PD-L1**のProtein-protein interaction 阻害とは想定される相互作用が異なる可能性があります。\n",
    " \n",
    "そこで、PD-L1とPD-1の複合体の構造についても眺めておきたいと思います。"
   ]
  },
  {
   "cell_type": "markdown",
   "metadata": {},
   "source": [
    "# PDB ID: 4ZQK\n",
    "\n",
    "chain A : PD-L1 /chain B: PD-1  \n",
    "\n",
    "先ずは外観です。\n",
    "\n",
    "<img src=\"./images/sup-2_image12.png\"><img src=\"./images/sup-2_image13.png\">"
   ]
  },
  {
   "cell_type": "markdown",
   "metadata": {},
   "source": [
    "それぞれ複合体の左側にPD-L1 がくるようにしています。\n",
    "\n",
    "PD-L1二量体とリガンドの共結晶構造ではPD-L1は「両手を指先であわせて三角形を作った」ような見た目でしたが、PD-L1 : PD-1複合体は「掌を合わせて握手した」ようなみためです（上図）。\n",
    "\n",
    "ですが、下図のようにPD-L1 : PD-1 複合体の境界面にはPD-L1の２量体の共結晶でみえたような隙間があります。これはリガンド結合部位として期待できるかもしれません。\n",
    "\n",
    "論文中（[Structure 2015(23)2341](https://www.ncbi.nlm.nih.gov/pubmed/26602187)）より、より詳細な構造のFigure 2を引用させていただきます。\n",
    "\n",
    "<img src=\"./images/sup-2_image14.png\">"
   ]
  },
  {
   "cell_type": "markdown",
   "metadata": {},
   "source": [
    "図の緑色がPD-L1、青色がPD-1です。PD-L1の黄色でハイライトされたアミノ酸残基をみると、Tyr56やTyr123があります。また、Fig. 2B 左端にはGln66（緑色）があります。こちらは「PDB id :**5J8O**」 においてリガンドのアミノ基との相互作用が認識されていた残基です。疎水性相互作用だけでなく、親水性の相互作用も重要であることが示唆されます。\n",
    "\n",
    "全体として、「PD-L1:PD-1」相互作用と「PD-L1 ２量体:リガンド」の相互作用に機能するアミノ酸残基は共通するものが多く、同じ結合位置をしめているようです。"
   ]
  },
  {
   "cell_type": "markdown",
   "metadata": {},
   "source": [
    "# まとめ\n",
    "\n",
    "以上、PDBのビューワーを用いて、リガンドとタンパク質の共結晶構造を眺めてみました。手軽に使うことができ、かつ様々な機能が実装されています。共結晶構造の情報を簡単に確認することができるため、Structure Based Drug Designを行う上で役に立ちそうです。"
   ]
  },
  {
   "cell_type": "markdown",
   "metadata": {},
   "source": [
    "# 脚注\n",
    "\n",
    "* AS Rose et al. (2018) NGL viewer: web-based molecular graphics for large complexes. Bioinformatics [doi:10.1093/bioinformatics/bty419](http://dx.doi.org/10.1093/bioinformatics/bty419)\n",
    "\n",
    "* PDB id: [5J89]  [5J8O]  [Oncotarget2016(7)30323](https://doi.org/10.18632/oncotarget.8730)\n",
    "\n",
    "* PDB id: [5NIU]  [5NIX] [Oncotarget2017(8)72167](https://doi.org/10.18632/oncotarget.20050)\n",
    "\n",
    "* [Structure 2015(23)2341](https://www.ncbi.nlm.nih.gov/pubmed/26602187)"
   ]
  },
  {
   "cell_type": "code",
   "execution_count": null,
   "metadata": {
    "collapsed": true
   },
   "outputs": [],
   "source": []
  }
 ],
 "metadata": {
  "kernelspec": {
   "display_name": "Python 3",
   "language": "python",
   "name": "python3"
  },
  "language_info": {
   "codemirror_mode": {
    "name": "ipython",
    "version": 3
   },
   "file_extension": ".py",
   "mimetype": "text/x-python",
   "name": "python",
   "nbconvert_exporter": "python",
   "pygments_lexer": "ipython3",
   "version": "3.6.8"
  },
  "toc": {
   "base_numbering": 1,
   "nav_menu": {},
   "number_sections": true,
   "sideBar": true,
   "skip_h1_title": false,
   "title_cell": "Table of Contents",
   "title_sidebar": "Contents",
   "toc_cell": true,
   "toc_position": {},
   "toc_section_display": true,
   "toc_window_display": true
  }
 },
 "nbformat": 4,
 "nbformat_minor": 2
}
