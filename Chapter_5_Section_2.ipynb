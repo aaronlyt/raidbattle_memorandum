{
 "cells": [
  {
   "cell_type": "markdown",
   "metadata": {
    "toc": true
   },
   "source": [
    "<h1>Table of Contents<span class=\"tocSkip\"></span></h1>\n",
    "<div class=\"toc\"><ul class=\"toc-item\"><li><span><a href=\"#第５章２節：RDKitのファーマコフォアの定義を眺める話\" data-toc-modified-id=\"第５章２節：RDKitのファーマコフォアの定義を眺める話-1\"><span class=\"toc-item-num\">1&nbsp;&nbsp;</span>第５章２節：RDKitのファーマコフォアの定義を眺める話</a></span></li><li><span><a href=\"#ファーマコフォア？\" data-toc-modified-id=\"ファーマコフォア？-2\"><span class=\"toc-item-num\">2&nbsp;&nbsp;</span><u><b>ファーマコフォア？</b></u></a></span></li><li><span><a href=\"#RDKitにおけるファーマコフォアの特徴\" data-toc-modified-id=\"RDKitにおけるファーマコフォアの特徴-3\"><span class=\"toc-item-num\">3&nbsp;&nbsp;</span><u><b>RDKitにおけるファーマコフォアの特徴</b></u></a></span><ul class=\"toc-item\"><li><span><a href=\"#フィーチャーファクトリーの作成\" data-toc-modified-id=\"フィーチャーファクトリーの作成-3.1\"><span class=\"toc-item-num\">3.1&nbsp;&nbsp;</span><u><b>フィーチャーファクトリーの作成</b></u></a></span></li><li><span><a href=\"#フィーチャーファミリー\" data-toc-modified-id=\"フィーチャーファミリー-3.2\"><span class=\"toc-item-num\">3.2&nbsp;&nbsp;</span><u><b>フィーチャーファミリー</b></u></a></span></li><li><span><a href=\"#フィーチャータイプ\" data-toc-modified-id=\"フィーチャータイプ-3.3\"><span class=\"toc-item-num\">3.3&nbsp;&nbsp;</span><u><b>フィーチャータイプ</b></u></a></span></li><li><span><a href=\"#SMARTSの解読に挑戦\" data-toc-modified-id=\"SMARTSの解読に挑戦-3.4\"><span class=\"toc-item-num\">3.4&nbsp;&nbsp;</span><u><b>SMARTSの解読に挑戦</b></u></a></span><ul class=\"toc-item\"><li><span><a href=\"#SMARTSの説明補足\" data-toc-modified-id=\"SMARTSの説明補足-3.4.1\"><span class=\"toc-item-num\">3.4.1&nbsp;&nbsp;</span><u><b>SMARTSの説明補足</b></u></a></span></li><li><span><a href=\"#ドナー\" data-toc-modified-id=\"ドナー-3.4.2\"><span class=\"toc-item-num\">3.4.2&nbsp;&nbsp;</span><u>ドナー</u></a></span></li><li><span><a href=\"#アクセプター\" data-toc-modified-id=\"アクセプター-3.4.3\"><span class=\"toc-item-num\">3.4.3&nbsp;&nbsp;</span><u>アクセプター</u></a></span></li><li><span><a href=\"#イオン化可能なグループ\" data-toc-modified-id=\"イオン化可能なグループ-3.4.4\"><span class=\"toc-item-num\">3.4.4&nbsp;&nbsp;</span><u>イオン化可能なグループ</u></a></span></li><li><span><a href=\"#Zinc-Binder\" data-toc-modified-id=\"Zinc-Binder-3.4.5\"><span class=\"toc-item-num\">3.4.5&nbsp;&nbsp;</span><u>Zinc Binder</u></a></span></li><li><span><a href=\"#芳香族\" data-toc-modified-id=\"芳香族-3.4.6\"><span class=\"toc-item-num\">3.4.6&nbsp;&nbsp;</span><u>芳香族</u></a></span></li><li><span><a href=\"#疎水性基\" data-toc-modified-id=\"疎水性基-3.4.7\"><span class=\"toc-item-num\">3.4.7&nbsp;&nbsp;</span><u>疎水性基</u></a></span></li><li><span><a href=\"#疎水性基の塊？\" data-toc-modified-id=\"疎水性基の塊？-3.4.8\"><span class=\"toc-item-num\">3.4.8&nbsp;&nbsp;</span><u>疎水性基の塊？</u></a></span></li></ul></li></ul></li><li><span><a href=\"#SMARTSviewer\" data-toc-modified-id=\"SMARTSviewer-4\"><span class=\"toc-item-num\">4&nbsp;&nbsp;</span><u><b>SMARTSviewer</b></u></a></span></li><li><span><a href=\"#まとめ\" data-toc-modified-id=\"まとめ-5\"><span class=\"toc-item-num\">5&nbsp;&nbsp;</span><b><u>まとめ</u></b></a></span></li><li><span><a href=\"#SMARTS出力\" data-toc-modified-id=\"SMARTS出力-6\"><span class=\"toc-item-num\">6&nbsp;&nbsp;</span>SMARTS出力</a></span></li><li><span><a href=\"#脚注\" data-toc-modified-id=\"脚注-7\"><span class=\"toc-item-num\">7&nbsp;&nbsp;</span>脚注</a></span></li></ul></div>"
   ]
  },
  {
   "cell_type": "markdown",
   "metadata": {},
   "source": [
    "# 第５章２節：RDKitのファーマコフォアの定義を眺める話"
   ]
  },
  {
   "cell_type": "markdown",
   "metadata": {},
   "source": [
    "前回の記事で複数の共結晶構造に共通する相互作用をPLIPを使って探してみました。この情報をうまく使えばファーマコフォアが作れるはず・・・\n",
    "\n",
    "ですがそもそもどうやってファーマコフォアを作っていけばわかりません。\n"
   ]
  },
  {
   "cell_type": "markdown",
   "metadata": {},
   "source": [
    "# <u><b>ファーマコフォア？</b></u>\n",
    "\n",
    "日本薬学会　薬学用語解説の説明によると以下の通り\n",
    "\n",
    "「[ファーマコフォア](https://www.pharm.or.jp/dictionary/wiki.cgi?ファーマコフォア)とは、医薬品のターゲットとの相互作用に必要な特徴を持つ官能基群と、それらの相対的な立体配置も含めた（抽象的な）概念である・・・（略）・・・同じターゲットの同じ部位に結合する医薬品は活性発現に必須である共通の立体的・電子的特徴を持つ官能基群を持っており、これをファーマコフォアという。」\n",
    "\n",
    "タンパク質の重要そうな残基と相互作用している、リガンド側の**構造の**（立体的・電子的）**特徴**を取り出し、\n",
    "\n",
    "1. 官能基の種類\n",
    "2. 相対的立体配置\n",
    "\n",
    "をもとに抽象化（**モデル化**）すれば良いということみたいです。\n",
    "\n",
    "なるほど！！！\n",
    "\n",
    "しかし概念はわかりましたがどんな特徴を取り出せばよいかわからない・・・\n",
    "\n",
    "RDKitを使った場合どのようになるのか調べてみました。参考にしたページは記事末尾に記載しています。[^1] [^2] [^3] "
   ]
  },
  {
   "cell_type": "markdown",
   "metadata": {},
   "source": [
    "# <u><b>RDKitにおけるファーマコフォアの特徴</b></u>\n",
    "\n",
    "RDKitでファーマコフォアを構成する特徴（特性基、フィーチャー）をみつけるには、\n",
    "\n",
    "1. 特性基の定義をあつめたフィーチャーファクトリーを作成\n",
    "2. それを用いて実際の分子から該当する特性基を探索\n",
    "\n",
    "という手順をとるようです。どのような構造を特性基として認識するのでしょうか？\n",
    "\n",
    "RDKitにおける特性基（化学的特徴/ Chemical Featrues）はSMARTSに基づいた言語で定義づけられています。Feature Definition（FDef）ファイルフォーマットという形式のファイルに、特性基の定義づけに必要な情報が記載されています。\n",
    "\n",
    "基本となる「BaseFeatures.fdef」というファイルが用意されているのでこちらを利用したいと思います。\n",
    "\n"
   ]
  },
  {
   "cell_type": "markdown",
   "metadata": {},
   "source": [
    "## <u><b>フィーチャーファクトリーの作成</b></u>\n",
    "\n",
    "ファーマコフォアの認識にFDefファイルの情報を利用するには、こちらを読み込んでフィーチャーファクトリーを作成すれば良いということです。\n"
   ]
  },
  {
   "cell_type": "markdown",
   "metadata": {},
   "source": [
    "```python\n",
    "import os\n",
    "from rdkit import RDConfig\n",
    "from rdkit.Chem import AllChem\n",
    "from rdkit import Chem\n",
    "\n",
    "fdef = AllChem.BuildFeatureFactory(os.path.join(RDConfig.RDDataDir,'BaseFeatures.fdef'))\n",
    "print(fdef.GetNumFeatureDefs())\n",
    "# 27\n",
    "```"
   ]
  },
  {
   "cell_type": "markdown",
   "metadata": {},
   "source": [
    "用意されているフィーチャーの定義は27個あるようです。\n"
   ]
  },
  {
   "cell_type": "markdown",
   "metadata": {},
   "source": [
    "## <u><b>フィーチャーファミリー</b></u>\n",
    "\n",
    "フィーチャーをより一般化した分類としてフィーチャーファミリーが用意されており、ファーマコフォマ検索はファミリーを用いて行われます。\n"
   ]
  },
  {
   "cell_type": "markdown",
   "metadata": {},
   "source": [
    "```python\n",
    "print(len(fdef.GetFeatureFamilies()))\n",
    "print(fdef.GetFeatureFamilies())\n",
    "# 8\n",
    "# ('Donor', 'Acceptor', 'NegIonizable', 'PosIonizable', 'ZnBinder', 'Aromatic', 'Hydrophobe', 'LumpedHydrophobe')\n",
    "```\n"
   ]
  },
  {
   "cell_type": "markdown",
   "metadata": {},
   "source": [
    "フィーチャーファミリーは全部で8個あり、水素結合ドナー（Donor）やアクセプター（Acceptor）といった名前から構造が推測できるものから、LumpedHydrophobeといった具体的な例がよくわからない（私だけ？）ものまであります。\n",
    "\n"
   ]
  },
  {
   "cell_type": "markdown",
   "metadata": {},
   "source": [
    "## <u><b>フィーチャータイプ</b></u>\n",
    "\n",
    "より詳細な記述がされたフィーチャータイプを確認したいと思います。\n",
    "\n",
    "**fdef.GetFeatureDefs())** とすると、各フィーチャーの名前をKey、SMARTSによる定義をvalueとする辞書型で情報を書き出すことができます。\n",
    "\n",
    "とりあえず名前だけ確認します。\n",
    "\n"
   ]
  },
  {
   "cell_type": "markdown",
   "metadata": {},
   "source": [
    "```python\n",
    "print(fdef.GetFeatureDefs().keys())\n",
    "# dict_keys(['Donor.SingleAtomDonor', 'Acceptor.SingleAtomAcceptor', 'NegIonizable.AcidicGroup', 'PosIonizable.BasicGroup', 'PosIonizable.PosN', 'PosIonizable.Imidazole', 'PosIonizable.Guanidine', 'ZnBinder.ZnBinder1', 'ZnBinder.ZnBinder2', 'ZnBinder.ZnBinder3', 'ZnBinder.ZnBinder4', 'ZnBinder.ZnBinder5', 'ZnBinder.ZnBinder6', 'Aromatic.Arom4', 'Aromatic.Arom5', 'Aromatic.Arom6', 'Aromatic.Arom7', 'Aromatic.Arom8', 'Hydrophobe.ThreeWayAttach', 'Hydrophobe.ChainTwoWayAttach', 'LumpedHydrophobe.Nitro2', 'LumpedHydrophobe.RH6_6', 'LumpedHydrophobe.RH5_5', 'LumpedHydrophobe.RH4_4', 'LumpedHydrophobe.RH3_3', 'LumpedHydrophobe.tButyl', 'LumpedHydrophobe.iPropyl'])\n",
    "```\n",
    "\n"
   ]
  },
  {
   "cell_type": "markdown",
   "metadata": {},
   "source": [
    "各フィーチャーは「ファミリー名.xxxx」という形式のようなのでファミリー名を紐づけてDataFrame化してみます。\n",
    "\n"
   ]
  },
  {
   "cell_type": "markdown",
   "metadata": {},
   "source": [
    "```python\n",
    "import pandas as pd\n",
    "family_df = pd.DataFrame(columns=['family', 'definition']) \n",
    "family_names = fdef.GetFeatureFamilies()\n",
    "\n",
    "for k,v in fdef.GetFeatureDefs().items():\n",
    "    for fam in family_names:\n",
    "        if fam in k:\n",
    "            family_df.loc[k] = [fam, v]\n",
    "\n",
    "family_df.head()\n",
    "```\n"
   ]
  },
  {
   "cell_type": "markdown",
   "metadata": {},
   "source": [
    "<img src=\"./images/5-2_image1.png\">\n",
    "\n",
    "SMARTSの定義の文字列がおかしな感じになっています。$などが文字としてそのまま出力されていないみたいです。\n",
    "\n",
    "各ファミリーに含まれるフィーチャーの数を確認します。"
   ]
  },
  {
   "cell_type": "markdown",
   "metadata": {},
   "source": [
    "```python\n",
    "family_df['family'].value_counts()\n",
    "# LumpedHydrophobe    7\n",
    "# ZnBinder            6\n",
    "# Aromatic            5\n",
    "# PosIonizable        4\n",
    "# Hydrophobe          2\n",
    "# NegIonizable        1\n",
    "# Acceptor            1\n",
    "# Donor               1\n",
    "```"
   ]
  },
  {
   "cell_type": "markdown",
   "metadata": {},
   "source": [
    "名前だけではわかりづらい「LumpedHydrophobe」や「ZnBinder」の種類が多くなっています。まとまった定義づけが難しいのでしょうか？"
   ]
  },
  {
   "cell_type": "markdown",
   "metadata": {},
   "source": [
    "## <u><b>SMARTSの解読に挑戦</b></u>\n",
    "\n",
    "以前の[記事](https://magattaca.hatenablog.com/entry/2019/02/10/194853?_ga=2.180482607.901614161.1551443260-757748411.1499518588)でSMARTS記法について、ちょっと勉強しました。折角なのでSMARTSによる定義を理解できるか、書き下してみたいと思います。\n",
    "\n",
    "書き下した後で[SMARTSviewer](https://smartsview.zbh.uni-hamburg.de)という便利すぎるサイトを見つけてしまったので、素人の適当解釈は不要！という方はすっ飛ばして下までスクロールしてください。\n"
   ]
  },
  {
   "cell_type": "markdown",
   "metadata": {},
   "source": [
    "### <u><b>SMARTSの説明補足</b></u>\n",
    "\n",
    "SMARTSを読み始める前に、前回の記事の補足を少々・・・\n",
    "\n",
    "* **Recursive SMARTS**\n",
    "\n",
    "フィーチャーの定義では**Recursive SMARTS**の形式が多く用いられていました。Daylight社の[SMARTS記法の説明ページ](http://www.daylight.com/dayhtml/doc/theory/theory.smarts.html)によると、「$(SMARTS)」という表記で**注目している原子（atom）の置かれている環境**を示す、とのことです。\n",
    "\n",
    "* **「R<数字>」と「r<数字>」の違い**\n",
    "\n",
    "以前の記事では、無理やりSMARTSの説明を日本語化しようとした結果、逆にわかりづらくなっていたので、**R**と**r**について英語の説明をそのまま貼っておきます。\n",
    "\n",
    "|Symbol|Symbol name|Atomic property requirements|Default|\n",
    "|:---:|:---:|:---:|:---:|\n",
    "|R<n>|ring membership|in <n> SSSR rings|any ring atom|\n",
    "|r<n>|ring size|in smallest SSSR ring of size <n>|any ring atom|\n",
    "\n",
    "「幾つのSSSR環に含まれているか？」と、「どんなサイズの環に含まれているか？」ということになりそうです。\n"
   ]
  },
  {
   "cell_type": "markdown",
   "metadata": {},
   "source": [
    "### <u>ドナー</u>\n",
    "\n",
    "|family|feature|定義 SMARTS|説明||\n",
    "|:---:|:---:|:---:|:---:|:---:|\n",
    "|Donor|Donor.SingleAtomDonor|[\\$([N&!H0&v3,|Hの数が0ではない、結合次数の総数3の脂肪族N|または|\n",
    "|||N&!H0&+1&v4,|Hの数が0ではない、電荷+1で結合次数の総数4の脂肪族N|または|\n",
    "|||n&H1&+0,|Hの数が1で、電荷0の芳香族N|または|\n",
    "|||$([$([Nv3](-C)(-C)-C)]),|脂肪族炭素が3つ結合した、結合次数の総数3の脂肪族N|または|\n",
    "|||$([$(n[n;H1]),|芳香族Nと、Hの数が1の芳香族Nが隣接する並び|または|\n",
    "|||$(nc[n;H1])])]),|芳香族N、芳香族Cと、Hの数が1の芳香族Nが隣接する並び|あるいは|\n",
    "|||$([O,S;H1;+0])]|Hの数が1で、電荷0の脂肪族OまたはS||\n"
   ]
  },
  {
   "cell_type": "markdown",
   "metadata": {},
   "source": [
    "### <u>アクセプター</u>\n",
    "\n",
    "|family|feature|定義 SMARTS|説明| |\n",
    "|:---:|:---:|:---:|:---:|:---:|\n",
    "|Acceptor|Acceptor.SingleAtomAcceptor|[\\$([O;H1;v2]),|Hの数が1で、結合次数の総数が2の脂肪族O|あるいは|\n",
    "|||\\$([O;H0;v2;!\\$(O=N-\\*),|Hの数が0で、結合次数の総数が2の脂肪族Oのうち、<br> O=N-に連結するものではないもの|または|\n",
    "|||\\$([O;-;!\\$(\\*-N=O)]),|負電荷（-1)を帯びた脂肪族Oのうち、<br> O=N-に連結するものではないもの|または|\n",
    "|||\\$([o;+0])]),|電荷0の芳香族O|あるいは|\n",
    "|||\\$([n;+0;!X3;!\\$([n;H1]\\(cc)cc),|電荷0の芳香族Nで、結合の総数3ではなく、また、<br> 芳香族炭素Cが二つ直列した結合２本とHを１つもつ芳香族Nでもないもの|または|\n",
    "|||\\$([\\$[N;H0]\\#[C&v4])]),|Hの数が0の脂肪族Nと、結合次数の総数4の脂肪族Cが、<br>３重結合で結合したもの（シアノ基）|または|\n",
    "|||\\$([N&v3;H0;\\$(Nc)])]),|結合次数の総数3で結合するHの数が0の脂肪族Nと、かつ、<br>芳香族Cに結合する脂肪族N|あるいは|\n",
    "|||\\$([F;\\$(F-[\\#6]);!\\$(FC[F,Cl,Br,I])])]|炭素と結合するFで、<br>ハロゲン原子の結合した脂肪族炭素に結合するFではないもの||\n"
   ]
  },
  {
   "cell_type": "markdown",
   "metadata": {},
   "source": [
    "### <u>イオン化可能なグループ</u>\n",
    "\n",
    "|family|feature|定義 SMARTS|説明| |\n",
    "|:---:|:---:|:---:|:---:|:---:|\n",
    "|NegIonizable|NegIonizable.AcidicGroup|[C,S]\\(=[O,S,P])-[O;H1,H0&-1] |「O、SまたはP」と二重結合する「CまたはS」に結合した、<br> OH、あるいはO-（H、0個で負電荷）||\n",
    "|PosIonizable|PosIonizable.BasicGroup|[\\$([\\$([N;H2&+0][\\$([C;!\\$(C=\\*)])])]),|他の脂肪族Cと二重結合しているのではない脂肪族C、<br> およびH2つと結合する電荷0の脂肪族N|または|\n",
    "|||\\$([\\$([N;H1&+0]\\([\\$([C;!$(C=\\*)])])[\\$([C;!\\$(C=\\*)])])]),|他の脂肪族Cと二重結合しているのではない脂肪族C2つ、<br> およびH1つと結合する、電荷0の脂肪族N|または|\n",
    "|||\\$([\\$([N;H0&+0]\\([\\$([C;!\\$(C=\\*)])])([\\$([C;!\\$(C=\\*)])])[\\$([C;!\\$(C=\\*)])])])|他の脂肪族Cと二重結合しているのではない脂肪族C3つと<br>結合する、電荷0の脂肪族N|かつ|\n",
    "|||;!\\$(N[a])]|上記3つのNは芳香族原子と結合していないこと||\n",
    "||PosIonizable.PosN|[#7;+;!\\$([N+]-[O-])]|「O-」に結合する「N+」ではない、電荷+1のN||\n",
    "||PosIonizable.Imidazole|c1ncnc1|イミダゾール骨格||\n",
    "||PosIonizable.Guanidine|NC(=N)N|グアニジン骨格||\n"
   ]
  },
  {
   "cell_type": "markdown",
   "metadata": {},
   "source": [
    "### <u>Zinc Binder</u>\n",
    "\n",
    "|family|feature|定義 SMARTS|説明|\n",
    "|:---:|:---:|:---:|:---:|\n",
    "|ZnBinder|ZnBinder.ZnBinder1|[S;D1]-[#6]|Cと結合する1級S|\n",
    "||ZnBinder.ZnBinder2|[#6]-C(=O)-C-[S;D1]|C-カルボニル-Cに結合する1級S|\n",
    "||ZnBinder.ZnBinder3|[#6]-C(=O)-C-C-[S;D1]|C-カルボニル-C-Cに結合する1級S|\n",
    "||ZnBinder.ZnBinder4|[#6]-C(=O)-N-[O;D1]|C-カルボニル-Nに結合する1級O|\n",
    "||ZnBinder.ZnBinder5|[#6]-C(=O)-[O;D1]|C-カルボニルに結合する1級O|\n",
    "||ZnBinder.ZnBinder6|[#6]-P(=O)(-O)-[C,O,N]-[C,H]|C-PO2に結合する「C or O or N」に「C or H」が結合|\n",
    "\n"
   ]
  },
  {
   "cell_type": "markdown",
   "metadata": {},
   "source": [
    "### <u>芳香族</u>\n",
    "\n",
    "|family|feature|定義 SMARTS|説明（原子環境）|結合の種類|\n",
    "|:---:|:---:|:---:|:---:|:---:|\n",
    "|Aromatic|Aromatic.Arom4|[\\$([a;r4,!R1&r3])]1:|4員環(SSSR size4)の芳香族性原子、または<br>3員環(size3)で、含まれるSSSR ringが1つではないもの|芳香属性結合(:)|\n",
    "|||[\\$([a;r4,!R1&r3])]:|同上|同上|\n",
    "|||[\\$([a;r4,!R1&r3])]:|同上|同上|\n",
    "|||[\\$([a;r4,!R1&r3])]:1|同上|同上|\n",
    "|||1|4員環を閉じる||\n",
    "||Aromatic.Arom5|[\\$([a;r5,!R1&r4,!R1&r3])]1:|5員環(SSSR size5)の芳香族性原子、または<br>4員環(size4)で、含まれるSSSR ringが1つではないもの、または<br>3員環(size3)で、含まれるSSSR ringが1つではないもの|芳香属性結合(:)|\n",
    "|||[\\$([a;r5,!R1&r4,!R1&r3])]:|同上|同上|\n",
    "|||[\\$([a;r5,!R1&r4,!R1&r3])]:|同上|同上|\n",
    "|||[\\$([a;r5,!R1&r4,!R1&r3])]:|同上|同上|\n",
    "|||[\\$([a;r5,!R1&r4,!R1&r3])]:|同上|同上|\n",
    "|||1|5員環を閉じる||\n",
    "||Aromatic.Arom6|[\\$([a;r6,!R1&r5,!R1&r4,!R1&r3])]1:|6員環(SSSR size6)の芳香族性原子、または<br>5員環(size5)で、含まれるSSSR ringが1つではないもの、または<br>4員環(size4)で、含まれるSSSR ringが1つではないもの、または<br>3員環(size3)で、含まれるSSSR ringが1つではないもの|芳香属性結合(:)|\n",
    "|||[\\$([a;r6,!R1&r5,!R1&r4,!R1&r3])]:|同上|同上|\n",
    "|||[\\$([a;r6,!R1&r5,!R1&r4,!R1&r3])]:|同上|同上|\n",
    "|||[\\$([a;r6,!R1&r5,!R1&r4,!R1&r3])]:|同上|同上|\n",
    "|||[\\$([a;r6,!R1&r5,!R1&r4,!R1&r3])]:|同上|同上|\n",
    "|||[\\$([a;r6,!R1&r5,!R1&r4,!R1&r3])]:|同上|同上|\n",
    "|||1|6員環を閉じる||\n",
    "||Aromatic.Arom7|[\\$([a;r7,!R1&r6,!R1&r5,!R1&r4,!R1&r3])]1:|7員環(SSSR size7)の芳香族性原子、または<br>6員環(size6)で、含まれるSSSR ringが1つではないもの、または<br>5員環(size5)で、含まれるSSSR ringが1つではないもの、または<br>4員環(size4)で、含まれるSSSR ringが1つではないもの、または<br>3員環(size3)で、含まれるSSSR ringが1つではないもの|芳香属性結合(:)|\n",
    "|||[\\$([a;r7,!R1&r6,!R1&r5,!R1&r4,!R1&r3])]:|同上|同上|\n",
    "|||[\\$([a;r7,!R1&r6,!R1&r5,!R1&r4,!R1&r3])]:|同上|同上|\n",
    "|||[\\$([a;r7,!R1&r6,!R1&r5,!R1&r4,!R1&r3])]:|同上|同上|\n",
    "|||[\\$([a;r7,!R1&r6,!R1&r5,!R1&r4,!R1&r3])]:|同上|同上|\n",
    "|||[\\$([a;r7,!R1&r6,!R1&r5,!R1&r4,!R1&r3])]:|同上|同上|\n",
    "|||[\\$([a;r7,!R1&r6,!R1&r5,!R1&r4,!R1&r3])]:|同上|同上|\n",
    "|||1|7員環を閉じる||\n",
    "||Aromatic.Arom8|[\\$([a;r8,!R1&r7,!R1&r6,!R1&r5,!R1&r4,!R1&r3])]1:|8員環(SSSR size8)の芳香族性原子、または<br>7員環(size7)で、含まれるSSSR ringが1つではないもの、または<br>6員環(size6)で、含まれるSSSR ringが1つではないもの、または<br>5員環(size5)で、含まれるSSSR ringが1つではないもの、または<br>4員環(size4)で、含まれるSSSR ringが1つではないもの、または<br>3員環(size3)で、含まれるSSSR ringが1つではないもの|芳香属性結合(:)|\n",
    "|||[\\$([a;r8,!R1&r7,!R1&r6,!R1&r5,!R1&r4,!R1&r3])]:|同上|同上|\n",
    "|||[\\$([a;r8,!R1&r7,!R1&r6,!R1&r5,!R1&r4,!R1&r3])]:|同上|同上|\n",
    "|||[\\$([a;r8,!R1&r7,!R1&r6,!R1&r5,!R1&r4,!R1&r3])]:|同上|同上|\n",
    "|||[\\$([a;r8,!R1&r7,!R1&r6,!R1&r5,!R1&r4,!R1&r3])]:|同上|同上|\n",
    "|||[\\$([a;r8,!R1&r7,!R1&r6,!R1&r5,!R1&r4,!R1&r3])]:|同上|同上|\n",
    "|||[\\$([a;r8,!R1&r7,!R1&r6,!R1&r5,!R1&r4,!R1&r3])]:|同上|同上|\n",
    "|||[\\$([a;r8,!R1&r7,!R1&r6,!R1&r5,!R1&r4,!R1&r3])]:|同上|同上|\n",
    "|||1|8員環を閉じる||\n",
    "\n"
   ]
  },
  {
   "cell_type": "markdown",
   "metadata": {},
   "source": [
    "### <u>疎水性基</u>\n",
    "\n",
    "|family|feature|定義 SMARTS|説明|\n",
    "|:---:|:---:|:---:|:---:|\n",
    "|Hydrophobe|Hydrophobe.ThreeWayAttach|[D3,D4;<br>\\$([#6;+0;!\\$([#6;\\$([#6]~[#7,#8,#9])])])]|3級、または4級の原子で、かつ <br> 電荷0のCのうち<br>「N,O,F」のいずれかと結合したCではないもの|\n",
    "||Hydrophobe.ChainTwoWayAttach|[R0;D2;\\$([#6;+0;<br>!\\$([#6;\\$([#6]~[#7,#8,#9])])])]|環に含まれていない、2級の原子で<br> 電荷0のCのうち<br>「N,O,F」のいずれかと結合したCではないもの|\n",
    "\n"
   ]
  },
  {
   "cell_type": "markdown",
   "metadata": {},
   "source": [
    "### <u>疎水性基の塊？</u>\n",
    "\n",
    "|family|feature|定義 SMARTS|説明| |結合の種類|\n",
    "|:---:|:---:|:---:|:---:|:---:|:---:|\n",
    "|LumpedHydrophobe|LumpedHydrophobe.Nitro2|[N;D3;+]\\(=O)[O-]|3級で電荷+1のNであり、Oと二重結合、電荷-1のOと単結合するもの|(ニトロ基)||\n",
    "||LumpedHydrophobe.RH6_6|[\\$([r6,!R1&r5,!R1&r4,!R1&r3]);|6員環(SSSR size6)に含まれる、または<br>5員環(size5)で、含まれるSSSR ringが1つではないもの、または<br>4員環(size4)で、含まれるSSSR ringが1つではないもの、または<br>3員環(size3)で、含まれるSSSR ringが1つではないもの|かつ||\n",
    "|||\\$([R;<br>\\$([c,s,S&H0&v2,Br,I,<br>\\$([#6;+0;!\\$([#6;\\$([#6]~[#7,#8,#9])])])])])]1|環に含まれる原子で、かつ <br> 「芳香属性C、芳香属性S、結合次数の総数2でHの数0の脂肪族S、Br、I、または <br> 電荷0のCのうち「N,O,F」のいずれかと結合したCではないもの」||単結合or芳香属性結合|\n",
    "|||[\\$([r6,!R1&r5,!R1&r4,!R1&r3]);<br>\\$([R;\\$([c,s,S&H0&v2,Br,I,<br>\\$([#6;+0;!\\$([#6;\\$([#6]~[#7,#8,#9])])])])])]|同上||同上|\n",
    "|||[\\$([r6,!R1&r5,!R1&r4,!R1&r3]);<br>\\$([R;\\$([c,s,S&H0&v2,Br,I,<br>\\$([#6;+0;!\\$([#6;\\$([#6]~[#7,#8,#9])])])])])]|同上||同上|\n",
    "|||[\\$([r6,!R1&r5,!R1&r4,!R1&r3]);<br>$([R;\\$([c,s,S&H0&v2,Br,I,<br>\\$([#6;+0;!\\$([#6;\\$([#6]~[#7,#8,#9])])])])])]|同上||同上|\n",
    "|||[\\$([r6,!R1&r5,!R1&r4,!R1&r3]);<br>\\$([R;\\$([c,s,S&H0&v2,Br,I,<br>\\$([#6;+0;!\\$([#6;\\$([#6]~[#7,#8,#9])])])])])]|同上||同上|\n",
    "|||[\\$([r6,!R1&r5,!R1&r4,!R1&r3]);<br>\\$([R;\\$([c,s,S&H0&v2,Br,I,<br>\\$([#6;+0;!\\$([#6;\\$([#6]~[#7,#8,#9])])])])])]1|同上||6員環を閉じる|\n",
    "||LumpedHydrophobe.RH5_5|[\\$([r5,!R1&r4,!R1&r3]);|5員環(SSSR size5)に含まれる、または<br>4員環(size4)で、含まれるSSSR ringが1つではないもの、または<br>3員環(size3)で、含まれるSSSR ringが1つではないもの|かつ||\n",
    "|||\\$([R;<br>\\$([c,s,S&H0&v2,Br,I,<br>\\$([#6;+0;!\\$([#6;\\$([#6]~[#7,#8,#9])])])])])]1|環に含まれる原子で、かつ <br> 「芳香属性C、芳香属性S、結合次数の総数2でHの数0の脂肪族S、Br、I、または <br> 電荷0のCのうち「N,O,F」のいずれかと結合したCではないもの」||単結合 or 芳香属性結合|\n",
    "|||[\\$([r5,!R1&r4,!R1&r3]);<br>\\$([R;\\$([c,s,S&H0&v2,Br,I,<br>\\$([#6;+0;!\\$([#6;\\$([#6]~[#7,#8,#9])])])])])]|同上||同上|\n",
    "|||[\\$([r5,!R1&r4,!R1&r3]);<br>\\$([R;\\$([c,s,S&H0&v2,Br,I,<br>\\$([#6;+0;!\\$([#6;\\$([#6]~[#7,#8,#9])])])])])]|同上||同上|\n",
    "|||[\\$([r5,!R1&r4,!R1&r3]);<br>\\$([R;\\$([c,s,S&H0&v2,Br,I,<br>\\$([#6;+0;!\\$([#6;\\$([#6]~[#7,#8,#9])])])])])]|同上||同上|\n",
    "|||[\\$([r5,!R1&r4,!R1&r3]);<br>\\$([R;\\$([c,s,S&H0&v2,Br,I,<br>\\$([#6;+0;!\\$([#6;\\$([#6]~[#7,#8,#9])])])])])]|同上||5員環を閉じる|\n",
    "||LumpedHydrophobe.RH4_4|[\\$([r4,!R1&r3]);|4員環(SSSR size4)に含まれる、または<br>3員環(size3)で、含まれるSSSR ringが1つではないもの|かつ||\n",
    "|||\\$([R;<br>\\$([c,s,S&H0&v2,Br,I,<br>\\$([#6;+0;!\\$([#6;\\$([#6]~[#7,#8,#9])])])])])]1|環に含まれる原子で、かつ <br> 「芳香属性C、芳香属性S、結合次数の総数2でHの数0の脂肪族S、Br、I、または <br> 電荷0のCのうち「N,O,F」のいずれかと結合したCではないもの」||単結合 or 芳香属性結合|\n",
    "|||[\\$([r4,!R1&r3]);\\$([R;<br>\\$([c,s,S&H0&v2,Br,I,<br>\\$([#6;+0;!\\$([#6;\\$([#6]~[#7,#8,#9])])])])])]|同上||同上|\n",
    "|||[\\$([r4,!R1&r3]);\\$([R;<br>\\$([c,s,S&H0&v2,Br,I,<br>\\$([#6;+0;!\\$([#6;\\$([#6]~[#7,#8,#9])])])])])]|同上||同上|\n",
    "|||[\\$([r4,!R1&r3]);\\$([R;<br>\\$([c,s,S&H0&v2,Br,I,<br>\\$([#6;+0;!\\$([#6;\\$([#6]~[#7,#8,#9])])])])])]1|同上||4員環を閉じる|\n",
    "||LumpedHydrophobe.RH3_3|[\\$([r3]);|3員環(SSSR size3)に含まれるもの|かつ||\n",
    "|||\\$([R;<br>\\$([c,s,S&H0&v2,Br,I,<br>\\$([#6;+0;!\\$([#6;\\$([#6]~[#7,#8,#9])])])])])]1|環に含まれる原子で、かつ <br> 「芳香属性C、芳香属性S、結合次数の総数2でHの数0の脂肪族S、Br、I、または <br> 電荷0のCのうち「N,O,F」のいずれかと結合したCではないもの」||単結合or芳香属性結合|\n",
    "|||[\\$([r3]);\\$([R;\\$([c,s,S&H0&v2,Br,I,<br>\\$([#6;+0;!\\$([#6;\\$([#6]~[#7,#8,#9])])])])])]|同上||同上|\n",
    "|||[\\$([r3]);\\$([R;\\$([c,s,S&H0&v2,Br,I,<br>\\$([#6;+0;!\\$([#6;\\$([#6]~[#7,#8,#9])])])])])]1|同上||3員環を閉じる|\n",
    "||LumpedHydrophobe.tButyl|[C;!R]\\(-[CH3])(-[CH3])-[CH3]|環に含まれていないCで、メチル基３つが結合|||\n",
    "||LumpedHydrophobe.iPropyl|[CH;!R]\\(-[CH3])-[CH3]|環に含まれていないCで、メチル基２つとH１つが結合|\n",
    "\n",
    "\n"
   ]
  },
  {
   "cell_type": "markdown",
   "metadata": {},
   "source": [
    "# <u><b>SMARTSviewer</b></u>\n",
    "\n",
    "さて、つらつらと意味不明な日本語を垂れ流してしまいましたが、上に述べたように[SMARTSviewer](https://smartsview.zbh.uni-hamburg.de)という便利すぎるサイトを見つけてしまいました。\n",
    "\n",
    "こちらは ハンブルク大学 バイオインフォマティクスセンター（Universität Hamburg ZBH-Center for Bioinformatics)が開発・公開しているソフトウェアで SMARTSをとてもわかりやすく可視化してくれます。\n",
    "\n",
    "まずは見た目を・・・\n",
    "\n",
    "<img src=\"./images/5-2_image2.png\">\n",
    "\n",
    "使い方はとても簡単で、「Try your own SMARTS pattern」と書かれた部分にSMARTSを貼り付け、「Go!」をクリックするだけです。「Donwload」をクリックすればpng形式で綺麗な図が手に入ります。 [^7] \n",
    "\n",
    "それではフィチャーの中で気になったZnBinderで試してみます。\n",
    "\n",
    "フィーチャー名「ZnBinder.ZnBinder6」 SMARTS「[#6]-P(=O)(-O)-[C,O,N]-[C,H]」の場合・・・\n",
    "\n",
    "<img src=\"./images/5-2_image3.png\">\n",
    "\n",
    "線形表記と比べて分岐構造の把握がしやすく、またカラフルなので原子の違いもわかりやすいです。\n",
    "\n",
    "Optionで描画方法をデフォルト「Coplete Visualization」から「Element Symbols」にすると、より２次元構造式に近い見た目となります。\n",
    "\n",
    "\n",
    "<img src=\"./images/5-2_image4.png\">\n",
    "\n",
    "とてもいい感じです。インストール版もありアカデミックフリー、ノンアカデミックはライセンス費用が必要みたいです。SMARTSviewerの開発者はResearch Group for Computational Molecular Design (AMD、Prof. Matthias Rarey)グループで、[AMD software server](https://software.zbh.uni-hamburg.de)には他にも[SMARTSeditor](https://www.zbh.uni-hamburg.de/forschung/amd/software/smartseditor.html)など面白そうなソフトウェアが多数ありました。(( Prof. Rareyは[BioSolveIT](https://www.biosolveit.de/SMARTStools/)という会社のファウンダーでもあるそうです。))\n",
    "\n",
    "記事の最後にSMARTsviwerに投げ込みやすい形式でRDKitのフィーチャーを出力しておきます。文字書き下しのわかりづらさと図の見易さの違いを比較していただければと思います。\n",
    "\n"
   ]
  },
  {
   "cell_type": "markdown",
   "metadata": {},
   "source": [
    "# <b><u>まとめ</u></b>\n",
    "\n",
    "以上、今回はファーマコフォア作成に向けた手始めとしてRDKitにおける特徴の定義を眺めてみました。・・・というよりSMARTSを読んだだけで力尽きました・・・\n",
    "\n",
    "FDefファイルの中身（rdkit/Data/BaseFeatures.fdef）をテキストエディタで開いてみたり、RDKitのDocumentation　[Feature Definition File Format](http://rdkit.org/docs/RDKit_Book.html#the-feature-definition-file-format)を確認した方がわかりやすかったかもしれません。\n",
    "\n",
    "SMARTSviewerを見つけたのが最大の収穫！！\n",
    "\n",
    "色々と間違いがあると思いますのでご指摘いただければ幸いです。\n"
   ]
  },
  {
   "cell_type": "markdown",
   "metadata": {},
   "source": [
    "#  SMARTS出力\n",
    "\n",
    "テーブルでは分けたり、エスケープ記号を入れたりしてしまっているので、そのままのSMARTS出力も載せておきます。\n",
    "\n",
    "```python\n",
    "for k, v in fdef.GetFeatureDefs().items():\n",
    "    print(k,':',v)\n",
    "```\n"
   ]
  },
  {
   "cell_type": "markdown",
   "metadata": {},
   "source": [
    "```\n",
    "Donor.SingleAtomDonor : [$([N&!H0&v3,N&!H0&+1&v4,n&H1&+0,$([$([Nv3](-C)(-C)-C)]),$([$(n[n;H1]),$(nc[n;H1])])]),$([O,S;H1;+0])]\n",
    "Acceptor.SingleAtomAcceptor : [$([O;H1;v2]),$([O;H0;v2;!$(O=N-*),$([O;-;!$(*-N=O)]),$([o;+0])]),$([n;+0;!X3;!$([n;H1](cc)cc),$([$([N;H0]#[C&v4])]),$([N&v3;H0;$(Nc)])]),$([F;$(F-[#6]);!$(FC[F,Cl,Br,I])])]\n",
    "NegIonizable.AcidicGroup : [C,S](=[O,S,P])-[O;H1,H0&-1]\n",
    "PosIonizable.BasicGroup : [$([$([N;H2&+0][$([C;!$(C=*)])])]),$([$([N;H1&+0]([$([C;!$(C=*)])])[$([C;!$(C=*)])])]),$([$([N;H0&+0]([$([C;!$(C=*)])])([$([C;!$(C=*)])])[$([C;!$(C=*)])])]);!$(N[a])]\n",
    "PosIonizable.PosN : [#7;+;!$([N+]-[O-])]\n",
    "PosIonizable.Imidazole : c1ncnc1\n",
    "PosIonizable.Guanidine : NC(=N)N\n",
    "ZnBinder.ZnBinder1 : [S;D1]-[#6]\n",
    "ZnBinder.ZnBinder2 : [#6]-C(=O)-C-[S;D1]\n",
    "ZnBinder.ZnBinder3 : [#6]-C(=O)-C-C-[S;D1]\n",
    "ZnBinder.ZnBinder4 : [#6]-C(=O)-N-[O;D1]\n",
    "ZnBinder.ZnBinder5 : [#6]-C(=O)-[O;D1]\n",
    "ZnBinder.ZnBinder6 : [#6]-P(=O)(-O)-[C,O,N]-[C,H]\n",
    "Aromatic.Arom4 : [$([a;r4,!R1&r3])]1:[$([a;r4,!R1&r3])]:[$([a;r4,!R1&r3])]:[$([a;r4,!R1&r3])]:1\n",
    "Aromatic.Arom5 : [$([a;r5,!R1&r4,!R1&r3])]1:[$([a;r5,!R1&r4,!R1&r3])]:[$([a;r5,!R1&r4,!R1&r3])]:[$([a;r5,!R1&r4,!R1&r3])]:[$([a;r5,!R1&r4,!R1&r3])]:1\n",
    "Aromatic.Arom6 : [$([a;r6,!R1&r5,!R1&r4,!R1&r3])]1:[$([a;r6,!R1&r5,!R1&r4,!R1&r3])]:[$([a;r6,!R1&r5,!R1&r4,!R1&r3])]:[$([a;r6,!R1&r5,!R1&r4,!R1&r3])]:[$([a;r6,!R1&r5,!R1&r4,!R1&r3])]:[$([a;r6,!R1&r5,!R1&r4,!R1&r3])]:1\n",
    "Aromatic.Arom7 : [$([a;r7,!R1&r6,!R1&r5,!R1&r4,!R1&r3])]1:[$([a;r7,!R1&r6,!R1&r5,!R1&r4,!R1&r3])]:[$([a;r7,!R1&r6,!R1&r5,!R1&r4,!R1&r3])]:[$([a;r7,!R1&r6,!R1&r5,!R1&r4,!R1&r3])]:[$([a;r7,!R1&r6,!R1&r5,!R1&r4,!R1&r3])]:[$([a;r7,!R1&r6,!R1&r5,!R1&r4,!R1&r3])]:[$([a;r7,!R1&r6,!R1&r5,!R1&r4,!R1&r3])]:1\n",
    "Aromatic.Arom8 : [$([a;r8,!R1&r7,!R1&r6,!R1&r5,!R1&r4,!R1&r3])]1:[$([a;r8,!R1&r7,!R1&r6,!R1&r5,!R1&r4,!R1&r3])]:[$([a;r8,!R1&r7,!R1&r6,!R1&r5,!R1&r4,!R1&r3])]:[$([a;r8,!R1&r7,!R1&r6,!R1&r5,!R1&r4,!R1&r3])]:[$([a;r8,!R1&r7,!R1&r6,!R1&r5,!R1&r4,!R1&r3])]:[$([a;r8,!R1&r7,!R1&r6,!R1&r5,!R1&r4,!R1&r3])]:[$([a;r8,!R1&r7,!R1&r6,!R1&r5,!R1&r4,!R1&r3])]:[$([a;r8,!R1&r7,!R1&r6,!R1&r5,!R1&r4,!R1&r3])]:1\n",
    "Hydrophobe.ThreeWayAttach : [D3,D4;$([#6;+0;!$([#6;$([#6]~[#7,#8,#9])])])]\n",
    "Hydrophobe.ChainTwoWayAttach : [R0;D2;$([#6;+0;!$([#6;$([#6]~[#7,#8,#9])])])]\n",
    "LumpedHydrophobe.Nitro2 : [N;D3;+](=O)[O-]\n",
    "LumpedHydrophobe.RH6_6 : [$([r6,!R1&r5,!R1&r4,!R1&r3]);$([R;$([c,s,S&H0&v2,Br,I,$([#6;+0;!$([#6;$([#6]~[#7,#8,#9])])])])])]1[$([r6,!R1&r5,!R1&r4,!R1&r3]);$([R;$([c,s,S&H0&v2,Br,I,$([#6;+0;!$([#6;$([#6]~[#7,#8,#9])])])])])][$([r6,!R1&r5,!R1&r4,!R1&r3]);$([R;$([c,s,S&H0&v2,Br,I,$([#6;+0;!$([#6;$([#6]~[#7,#8,#9])])])])])][$([r6,!R1&r5,!R1&r4,!R1&r3]);$([R;$([c,s,S&H0&v2,Br,I,$([#6;+0;!$([#6;$([#6]~[#7,#8,#9])])])])])][$([r6,!R1&r5,!R1&r4,!R1&r3]);$([R;$([c,s,S&H0&v2,Br,I,$([#6;+0;!$([#6;$([#6]~[#7,#8,#9])])])])])][$([r6,!R1&r5,!R1&r4,!R1&r3]);$([R;$([c,s,S&H0&v2,Br,I,$([#6;+0;!$([#6;$([#6]~[#7,#8,#9])])])])])]1\n",
    "LumpedHydrophobe.RH5_5 : [$([r5,!R1&r4,!R1&r3]);$([R;$([c,s,S&H0&v2,Br,I,$([#6;+0;!$([#6;$([#6]~[#7,#8,#9])])])])])]1[$([r5,!R1&r4,!R1&r3]);$([R;$([c,s,S&H0&v2,Br,I,$([#6;+0;!$([#6;$([#6]~[#7,#8,#9])])])])])][$([r5,!R1&r4,!R1&r3]);$([R;$([c,s,S&H0&v2,Br,I,$([#6;+0;!$([#6;$([#6]~[#7,#8,#9])])])])])][$([r5,!R1&r4,!R1&r3]);$([R;$([c,s,S&H0&v2,Br,I,$([#6;+0;!$([#6;$([#6]~[#7,#8,#9])])])])])][$([r5,!R1&r4,!R1&r3]);$([R;$([c,s,S&H0&v2,Br,I,$([#6;+0;!$([#6;$([#6]~[#7,#8,#9])])])])])]1\n",
    "LumpedHydrophobe.RH4_4 : [$([r4,!R1&r3]);$([R;$([c,s,S&H0&v2,Br,I,$([#6;+0;!$([#6;$([#6]~[#7,#8,#9])])])])])]1[$([r4,!R1&r3]);$([R;$([c,s,S&H0&v2,Br,I,$([#6;+0;!$([#6;$([#6]~[#7,#8,#9])])])])])][$([r4,!R1&r3]);$([R;$([c,s,S&H0&v2,Br,I,$([#6;+0;!$([#6;$([#6]~[#7,#8,#9])])])])])][$([r4,!R1&r3]);$([R;$([c,s,S&H0&v2,Br,I,$([#6;+0;!$([#6;$([#6]~[#7,#8,#9])])])])])]1\n",
    "LumpedHydrophobe.RH3_3 : [$([r3]);$([R;$([c,s,S&H0&v2,Br,I,$([#6;+0;!$([#6;$([#6]~[#7,#8,#9])])])])])]1[$([r3]);$([R;$([c,s,S&H0&v2,Br,I,$([#6;+0;!$([#6;$([#6]~[#7,#8,#9])])])])])][$([r3]);$([R;$([c,s,S&H0&v2,Br,I,$([#6;+0;!$([#6;$([#6]~[#7,#8,#9])])])])])]1\n",
    "LumpedHydrophobe.tButyl : [C;!R](-[CH3])(-[CH3])-[CH3]\n",
    "LumpedHydrophobe.iPropyl : [CH;!R](-[CH3])-[CH3]\n",
    "```\n",
    "\n"
   ]
  },
  {
   "cell_type": "markdown",
   "metadata": {},
   "source": [
    "# 脚注\n",
    "\n",
    "[^1]: [SAR News No.19の記事](http://bukai.pharm.or.jp/bukai_kozo/SARNews/SARNews_19.pdf)\n",
    "\n",
    "[^2]: RDKit Documentation\n",
    "[Chemical Featrues and Pharmacophore](https://www.rdkit.org/docs/GettingStartedInPython.html#chemical-features-and-pharmacophores)  [Feature Definition File Format](http://rdkit.org/docs/RDKit_Book.html#the-feature-definition-file-format)\n",
    " \n",
    " [^3]: RDKit Python API [rdkit.Chem.rdMolChemicalFeatures module](http://rdkit.org/docs/source/rdkit.Chem.rdMolChemicalFeatures.html)\n",
    "\n",
    "[^4]: RDKitブログ記事  [Using Feature Maps](http://rdkit.blogspot.com/2017/11/using-feature-maps.html)\n",
    "\n",
    "[^5]: Daylight社 Theory [SMARTS](http://www.daylight.com/dayhtml/doc/theory/theory.smarts.html) \n",
    "\n",
    "[^6]: Daylight社 Tutorial [SMARTS](http://www.daylight.com/dayhtml_tutorials/languages/smarts/index.html) \n",
    "\n",
    "[^7]: Web版の[Helepページ](https://smartsview.zbh.uni-hamburg.de/help)に図は自由に利用してOKと書いてありました。\n",
    "\n",
    "citatition:\n",
    "\n",
    "* SMARTS viewer https://smartsview.zbh.uni-hamburg.de\n",
    "* K. Schomburg, H.-C. Ehrlich, K. Stierand, M.Rarey; From Structure Diagrams to Visual Chemical Patterns, J. Chem. Inf. Model., 2010, 50 (9), pp 1529-1535\n"
   ]
  }
 ],
 "metadata": {
  "kernelspec": {
   "display_name": "Python 3",
   "language": "python",
   "name": "python3"
  },
  "language_info": {
   "codemirror_mode": {
    "name": "ipython",
    "version": 3
   },
   "file_extension": ".py",
   "mimetype": "text/x-python",
   "name": "python",
   "nbconvert_exporter": "python",
   "pygments_lexer": "ipython3",
   "version": "3.6.8"
  },
  "toc": {
   "base_numbering": 1,
   "nav_menu": {},
   "number_sections": true,
   "sideBar": true,
   "skip_h1_title": false,
   "title_cell": "Table of Contents",
   "title_sidebar": "Contents",
   "toc_cell": true,
   "toc_position": {},
   "toc_section_display": true,
   "toc_window_display": true
  }
 },
 "nbformat": 4,
 "nbformat_minor": 2
}
