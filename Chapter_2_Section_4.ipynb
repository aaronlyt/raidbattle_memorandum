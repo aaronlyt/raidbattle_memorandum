{
 "cells": [
  {
   "cell_type": "markdown",
   "metadata": {
    "toc": true
   },
   "source": [
    "<h1>Table of Contents<span class=\"tocSkip\"></span></h1>\n",
    "<div class=\"toc\"><ul class=\"toc-item\"><li><span><a href=\"#第２章４節　コラム：SDFを読み込んでPythonのジェネレータを理解しようとした話\" data-toc-modified-id=\"第２章４節　コラム：SDFを読み込んでPythonのジェネレータを理解しようとした話-1\"><span class=\"toc-item-num\">1&nbsp;&nbsp;</span>第２章４節　コラム：SDFを読み込んでPythonのジェネレータを理解しようとした話</a></span></li><li><span><a href=\"#入門-Python3の記述\" data-toc-modified-id=\"入門-Python3の記述-2\"><span class=\"toc-item-num\">2&nbsp;&nbsp;</span><u><b>入門 Python3の記述</b></u></a></span></li><li><span><a href=\"#実際のデータで検証してみる\" data-toc-modified-id=\"実際のデータで検証してみる-3\"><span class=\"toc-item-num\">3&nbsp;&nbsp;</span><u><b>実際のデータで検証してみる</b></u></a></span><ul class=\"toc-item\"><li><span><a href=\"#①圧縮ファイルの読み込み\" data-toc-modified-id=\"①圧縮ファイルの読み込み-3.1\"><span class=\"toc-item-num\">3.1&nbsp;&nbsp;</span><u><b>①圧縮ファイルの読み込み</b></u></a></span><ul class=\"toc-item\"><li><span><a href=\"#まずは圧縮されていないSDFで確認\" data-toc-modified-id=\"まずは圧縮されていないSDFで確認-3.1.1\"><span class=\"toc-item-num\">3.1.1&nbsp;&nbsp;</span>まずは圧縮されていないSDFで確認</a></span></li><li><span><a href=\"#圧縮されたSDFの場合\" data-toc-modified-id=\"圧縮されたSDFの場合-3.1.2\"><span class=\"toc-item-num\">3.1.2&nbsp;&nbsp;</span>圧縮されたSDFの場合</a></span></li></ul></li><li><span><a href=\"#②ランダムアクセス\" data-toc-modified-id=\"②ランダムアクセス-3.2\"><span class=\"toc-item-num\">3.2&nbsp;&nbsp;</span>②ランダムアクセス</a></span></li><li><span><a href=\"#イテレータ？\" data-toc-modified-id=\"イテレータ？-3.3\"><span class=\"toc-item-num\">3.3&nbsp;&nbsp;</span><u><b>イテレータ？</b></u></a></span></li><li><span><a href=\"#コンテナ？　ジェネレータ？\" data-toc-modified-id=\"コンテナ？　ジェネレータ？-3.4\"><span class=\"toc-item-num\">3.4&nbsp;&nbsp;</span><u><b>コンテナ？　ジェネレータ？</b></u></a></span></li><li><span><a href=\"#記憶力（③）と反復利用（④）の可否\" data-toc-modified-id=\"記憶力（③）と反復利用（④）の可否-3.5\"><span class=\"toc-item-num\">3.5&nbsp;&nbsp;</span><u><b>記憶力（③）と反復利用（④）の可否</b></u></a></span></li><li><span><a href=\"#⑤処理後の状態\" data-toc-modified-id=\"⑤処理後の状態-3.6\"><span class=\"toc-item-num\">3.6&nbsp;&nbsp;</span><u><b>⑤処理後の状態</b></u></a></span></li><li><span><a href=\"#メモリの消費\" data-toc-modified-id=\"メモリの消費-3.7\"><span class=\"toc-item-num\">3.7&nbsp;&nbsp;</span>メモリの消費</a></span></li><li><span><a href=\"#FowardSDMolSupplierを使う時の注意点\" data-toc-modified-id=\"FowardSDMolSupplierを使う時の注意点-3.8\"><span class=\"toc-item-num\">3.8&nbsp;&nbsp;</span><u><b>FowardSDMolSupplierを使う時の注意点</b></u></a></span></li></ul></li><li><span><a href=\"#まとめ\" data-toc-modified-id=\"まとめ-4\"><span class=\"toc-item-num\">4&nbsp;&nbsp;</span><u><b>まとめ</b></u></a></span></li><li><span><a href=\"#脚注\" data-toc-modified-id=\"脚注-5\"><span class=\"toc-item-num\">5&nbsp;&nbsp;</span>脚注</a></span></li></ul></div>"
   ]
  },
  {
   "cell_type": "markdown",
   "metadata": {},
   "source": [
    "# 第２章４節　コラム：SDFを読み込んでPythonのジェネレータを理解しようとした話"
   ]
  },
  {
   "cell_type": "markdown",
   "metadata": {},
   "source": [
    "RDKitにはSDFを読み込む方法として**SDMolSupplier**と**FowardSDMolSupplier**の大きく二つの方法があるそうです。\n",
    "\n",
    "後者を使えば**圧縮されたSDFを直接読み込める**ということで、大きなデータを読み込むため使用してきましたが、今一両者の違いについて理解できない点がありました。問題の箇所はこの部分です。\n",
    "\n",
    "毎度引用させていただいて恐縮ですがいますが、「化学の新しいカタチ」さんの[参考記事1](https://future-chem.com/rdkit-intro/) [^2] から\n",
    "\n",
    "> SDMolSupplierとForwardSDMolSupplierのもう１つの違いは，前者はMolオブジェクトのリストを作成するのに対し，後者は異なるという点が挙げられます．そのため上の例ではsuppl[0]とすると１つめのMolオブジェクトにアクセス可能ですが，fsuppl[0]ではエラーを返します．\n",
    "\n",
    "ForwardSDMolSupplierはリストではない・・・では一体なんなのか？\n",
    "\n",
    "***回答***\n",
    "\n",
    "「ジェネレータ 」\n",
    "\n",
    "twitterで教えていただきました。「メモリの消費が少ないのがメリット」だそうです。\n",
    "ありがとうございました！\n",
    "\n",
    "・・・・・・格好つけてジェネレータとか呟いてしまいましたが、私、オブジェクトよく分からない。\n",
    "\n",
    "ということでもうちょっと調べてみました。 [^1]\n"
   ]
  },
  {
   "cell_type": "markdown",
   "metadata": {},
   "source": [
    "# <u><b>入門 Python3の記述</b></u>\n",
    "\n",
    "まずは手元にあった書籍「入門 Python3 」から関係のありそうな記述を引用します。 [^5]\n",
    "\n",
    "\n",
    "> ジェネレータは一度しか実行できない。リスト、集合、文字列、辞書はメモリ内にあるが、ジェネレータは一度に一つずつその場で値を作り、イテレータに渡して行ってしまうので、作った値を覚えていない。そのため、ジェネレータをもう一度使ったり、バックアップしたりすることはできない。***入門 Python 3*** *オライリージャパン　Bill Lubanovic 著 斎藤　康毅　監訳　長尾　高弘　訳(p109)*\n",
    "\n",
    "\n",
    "> ジェネレーターは、Pythonのシーケンスを作成するオブジェクトである。ジェネレータがあれば、シーケンス全体を作ってメモリに格納しなくても、（巨大になることがある）シーケンスを反復処理できる。・・・（省略）・・・ジェネレータは、反復処理のたびに、最後に呼び出されたときにどこにいたかを管理し、次の値を返す。これは、以前の呼び出しについて何も覚えておらずいつも同じ状態で１行目を実行する通常の関数とは異なる　***同上*** *(p125)*\n",
    "\n",
    "上記とこちらの記事（参考記事2 [Python: ジェネレータをイテレータから理解する](https://blog.amedama.jp/entry/2017/11/23/213233) ）の記述を合わせると以下のようになりそうです。\n",
    "\n",
    "||コンテナオブジェクト|ジェネレータオブジェクト|\n",
    "|:---:|:---:|:---:|\n",
    "|⑴|リスト、集合、辞書||\n",
    "|⑵|ランダムアクセスできる|できない|\n",
    "|⑶|値を取り出した後も値を覚えている|取り出すと値を忘れる|\n",
    "|⑷|何度でも反復して使用できる|一回きりしか使えない|\n",
    "|⑸|処理後、最初の場所に戻る|処理ごとに順番に一つずつ進んでいく|\n",
    "|⑹|メモリ内に全ての要素を格納したまま|忘れるのでメモリを節約できる|\n",
    "\n",
    "以上の性質をふまえると、SDMolSupplierで読み込むとコンテナ、ForwardSDMolSupplierで読み込むとジェネレータ、となっていそうです。一つずつ違いを確認したいと思いますが、その前に両者の違いをまとめます。\n",
    "\n",
    "どちらも分子のリストを作ることができますが、それぞれ\n",
    "\n",
    "||SDMolSupplier|FowardSDMolSupplier|\n",
    "|:---:|:---:|:---:|\n",
    "|①|圧縮ファイルからは読み込めない|読み込める（file-like オブジェクトも使える）|\n",
    "|②|ランダムアクセスできる|できない|\n",
    "|③|分子を取り出しても分子を覚えている|取り出すと忘れる|\n",
    "|④|くり返し同じ分子のリストを作ることができる|一回きりしか使えない|\n",
    "|⑤|処理後、最初の場所に戻る|処理ごとに順番に一つずつ進んでいく（状態を覚えている）|\n",
    "\n"
   ]
  },
  {
   "cell_type": "markdown",
   "metadata": {},
   "source": [
    "# <u><b>実際のデータで検証してみる</b></u>\n",
    "\n",
    "検証用のデータとして73個の構造を含むSDF（'test.sdf'）を使用しました。\n",
    "上記「参考記事1」 で例として用いられている、東京化成から購入可能なサリチル酸メチル誘導体のリストです。"
   ]
  },
  {
   "cell_type": "markdown",
   "metadata": {},
   "source": [
    "```python\n",
    "from rdkit import rdBase, Chem\n",
    "print(rdBase.rdkitVersion) \n",
    "#2018.09.1\n",
    "```"
   ]
  },
  {
   "cell_type": "markdown",
   "metadata": {},
   "source": [
    "## <u><b>①圧縮ファイルの読み込み</b></u>\n",
    "\n",
    "### まずは圧縮されていないSDFで確認\n"
   ]
  },
  {
   "cell_type": "markdown",
   "metadata": {},
   "source": [
    "```python\n",
    "#SDMolSupplierの場合\n",
    "SDMSup = Chem.SDMolSupplier('./test.sdf')\n",
    "SDMols = [x for x in SDMSup if x is not None]\n",
    "len(SDMols)\n",
    "```"
   ]
  },
  {
   "cell_type": "markdown",
   "metadata": {},
   "source": [
    "「73」と出力されました。無事読み込めたようです。"
   ]
  },
  {
   "cell_type": "markdown",
   "metadata": {},
   "source": [
    "```python\n",
    "#ForwardSDMolSupplierの場合\n",
    "FSDMSup = Chem.ForwardSDMolSupplier('./test.sdf')\n",
    "FSDMols = [x for x in FSDMSup if x is not None]\n",
    "len(FSDMols)\n",
    "```\n"
   ]
  },
  {
   "cell_type": "markdown",
   "metadata": {},
   "source": [
    "こちらも「73」と出力されました。"
   ]
  },
  {
   "cell_type": "markdown",
   "metadata": {},
   "source": [
    "### 圧縮されたSDFの場合"
   ]
  },
  {
   "cell_type": "markdown",
   "metadata": {},
   "source": [
    "```python\n",
    "import gzip\n",
    "test_gz = gzip.open('./test.sdf.gz')\n",
    "\n",
    "#SDMolSupplierの場合\n",
    "SDMSup = Chem.SDMolSupplier(test_gz)\n",
    "\n",
    "#エラーが返ってきた\n",
    "---------------------------------------------------------------------------\n",
    "ArgumentError                             Traceback (most recent call last)\n",
    "<ipython-input-30-eb17d9fedebe> in <module>()\n",
    "      1 #SDMolSupplierの場合\n",
    "----> 2 SDMSup = Chem.SDMolSupplier(test_gz)\n",
    "\n",
    "ArgumentError: Python argument types in\n",
    "    SDMolSupplier.__init__(SDMolSupplier, GzipFile)\n",
    "did not match C++ signature:\n",
    "    __init__(_object*, std::__1::basic_string<char, std::__1::char_traits<char>, std::__1::allocator<char> > fileName, bool sanitize=True, bool removeHs=True, bool strictParsing=True)\n",
    "    __init__(_object*)\n",
    "```"
   ]
  },
  {
   "cell_type": "markdown",
   "metadata": {},
   "source": [
    "SDMolSupplierでは上記のエラーがでました。"
   ]
  },
  {
   "cell_type": "markdown",
   "metadata": {},
   "source": [
    "```python\n",
    "#ForwardSDMolSupplierの場合\n",
    "FSDMSup = Chem.ForwardSDMolSupplier(test_gz)\n",
    "FSDMols = [x for x in FSDMSup if x is not None]\n",
    "len(FSDMols)\n",
    "```"
   ]
  },
  {
   "cell_type": "markdown",
   "metadata": {},
   "source": [
    "「73」と出力されました。gzip.open()関数を使って圧縮ファイルを開いて得られたファイルライクオブジェクトは、SDMolSupllierでは読み込めず、FowardSDMolSupplierでは読み込むことができました。 [^3] "
   ]
  },
  {
   "cell_type": "markdown",
   "metadata": {},
   "source": [
    "## ②ランダムアクセス\n",
    "\n",
    "次に、インデックスを使って好きな要素に自由にアクセスできるか検証します。"
   ]
  },
  {
   "cell_type": "markdown",
   "metadata": {},
   "source": [
    "```python\n",
    "#SDMolSupplierの場合\n",
    "SDMSup = Chem.SDMolSupplier('./test.sdf')\n",
    "m10 = SDMSup[10]\n",
    "```"
   ]
  },
  {
   "cell_type": "markdown",
   "metadata": {},
   "source": [
    "\n",
    "forループを回してリストを作成しなくてもアクセスできました。\n",
    "\n",
    "味気ないので構造を出してみます。\n"
   ]
  },
  {
   "cell_type": "markdown",
   "metadata": {},
   "source": [
    "```python\n",
    "from rdkit.Chem import Draw\n",
    "Draw.MolToImage(m10)\n",
    "```"
   ]
  },
  {
   "cell_type": "markdown",
   "metadata": {},
   "source": [
    "<img src=\"./images/2-c_image1.png\">\n",
    "\n",
    "\n",
    "構造もきちんと認識されています。次にForwardSDMolSupplierを試します。\n",
    "\n",
    "\n"
   ]
  },
  {
   "cell_type": "markdown",
   "metadata": {},
   "source": [
    "```python\n",
    "#ForwardSDMolSupplierの場合\n",
    "FSDMSup = Chem.ForwardSDMolSupplier('./test.sdf')\n",
    "fm10 = FSDMSup[10]\n",
    "\n",
    "#エラーが返ってきた\n",
    "---------------------------------------------------------------------------\n",
    "TypeError                                 Traceback (most recent call last)\n",
    "<ipython-input-45-bb94ea24d000> in <module>()\n",
    "      1 #ForwardSDMolSupplierの場合\n",
    "      2 FSDMSup = Chem.ForwardSDMolSupplier('./test.sdf')\n",
    "----> 3 fm10 = FSDMSup[10]\n",
    "\n",
    "TypeError: 'ForwardSDMolSupplier' object does not support indexing\n",
    "```"
   ]
  },
  {
   "cell_type": "markdown",
   "metadata": {},
   "source": [
    "怒られました。indexによる呼び出しはサポートされていないそうです。\n",
    "\n",
    "ひょっとしてSDMolSupllierはそのままリストととして扱えるのでしょうか？\n",
    "\n",
    "読み込まれた分子の総数を確認するため、長さを取得できるか検証します。\n"
   ]
  },
  {
   "cell_type": "markdown",
   "metadata": {},
   "source": [
    "```python\n",
    "len(SDMSup)\n",
    "#73\n",
    "```"
   ]
  },
  {
   "cell_type": "markdown",
   "metadata": {},
   "source": [
    "おお！　forループを回さなくても長さを確認できました。\n",
    "\n",
    "複数の分子を一度に取り出すことはできるでしょうか？\n"
   ]
  },
  {
   "cell_type": "markdown",
   "metadata": {},
   "source": [
    "```python\n",
    "SDMSup[1:5]\n",
    "\n",
    "#エラーが返ってきた\n",
    "---------------------------------------------------------------------------\n",
    "ArgumentError                             Traceback (most recent call last)\n",
    "<ipython-input-56-66d817f86e32> in <module>()\n",
    "----> 1 SDMSup[1:5]\n",
    "\n",
    "ArgumentError: Python argument types in\n",
    "    SDMolSupplier.__getitem__(SDMolSupplier, slice)\n",
    "did not match C++ signature:\n",
    "    __getitem__(RDKit::SDMolSupplier*, int)\n",
    "```"
   ]
  },
  {
   "cell_type": "markdown",
   "metadata": {},
   "source": [
    "怒られました。スライスでの取り出しには対応していないみたいです。SDMolSupplierそのものでリスト型と同じというわけではないみたいです。\n",
    "\n",
    "結局、どういった操作ができるのでしょうか？\n",
    "APIに果敢にアクセスしましたがさっぱりわかりません。多分こんな感じ。\n",
    "\n",
    "||SDMolSupplier|FowardSDMolSupplier|\n",
    "|:---:|:---:|:---:|\n",
    "|Python API| [SDMolSupplier](https://www.rdkit.org/docs/source/rdkit.Chem.rdmolfiles.html#rdkit.Chem.rdmolfiles.SDMolSupplier) |[FowardSDMolSupplier](https://www.rdkit.org/docs/source/rdkit.Chem.rdmolfiles.html#rdkit.Chem.rdmolfiles.ForwardSDMolSupplier)|\n",
    "|C++ API|[SDMolSupplier](https://www.rdkit.org/docs/cppapi/classRDKit_1_1SDMolSupplier.html)|[FowardSDMolSupplier](https://www.rdkit.org/docs/cppapi/classRDKit_1_1ForwardSDMolSupplier.html)|\n",
    "|next|できる|できる|\n",
    "|length|できる|できない|\n",
    "|[ ] operator (\"idx\")|できる|できない|\n",
    "\n",
    "以上のようです。\n",
    "\n",
    "SDMolSupplierならindexによる任意の場所のアクセスと、長さの取得はできますが、ForwardSDMolSupplierではできません。\n",
    "\n"
   ]
  },
  {
   "cell_type": "markdown",
   "metadata": {},
   "source": [
    "## <u><b>イテレータ？</b></u>\n",
    "\n",
    "上記の表にnextという関数があります。こちらは一つずつ順番に取り出していくようです。"
   ]
  },
  {
   "cell_type": "markdown",
   "metadata": {},
   "source": [
    "```python\n",
    "SDMSup = Chem.SDMolSupplier('./test.sdf')\n",
    "m0 = next(SDMSup)\n",
    "m1 = next(SDMSup)\n",
    "m2 = next(SDMSup)\n",
    "\n",
    "Draw.MolsToImage([m0, m1, m2])\n",
    "```\n"
   ]
  },
  {
   "cell_type": "markdown",
   "metadata": {},
   "source": [
    "以下の構造が取り出されたようです。\n",
    "\n",
    "<img src=\"./images/2-c_image2.png\">\n",
    "\n",
    "\n",
    "indexで取り出したものと比較します。\n",
    "\n"
   ]
  },
  {
   "cell_type": "markdown",
   "metadata": {},
   "source": [
    "```python\n",
    "Draw.MolsToImage([SDMSup[0], SDMSup[1], SDMSup[2]])\n",
    "```\n"
   ]
  },
  {
   "cell_type": "markdown",
   "metadata": {},
   "source": [
    "<img src=\"./images/2-c_image3.png\">\n",
    "\n",
    "\n",
    "indexでとりだしたものも、nextで取り出したものと同じ結果を返しました。\n",
    "\n",
    "こちらの組み込み関数 `next()` はPythonの**イテレータ**と深く関連しているそうです。\n",
    "\n",
    "上記の「参考記事２」の説明によるとイテレータは「要素を一つずつ取り出ことのできるオブジェクト」であり「for 文こそ最も身近なイテレータ」とのことだそうです。\n",
    "\n",
    "「イテレータ？そんな意味不明なもの一生使わんやろう。」と思っていましたが、forループを使ってSDMolSupplierをMolオブジェクトのリストに変換している時点でとてもお世話になっていたみたいです。\n",
    "\n",
    "知らなかった・・・\n",
    "\n",
    "いずれにせよSDMolSupplierのままでもいくつかの操作は行えるみたいですが、リストに変換しておいた方が後々便利そうです。\n",
    "\n",
    "\n"
   ]
  },
  {
   "cell_type": "markdown",
   "metadata": {},
   "source": [
    "## <u><b>コンテナ？　ジェネレータ？</b></u>\n",
    "\n",
    "forループはイテレータということでしたが、「イテレータオブジェクトをつくる***もと***」はなんなのか？　というとコンテナオブジェクトとジェネレータオブジェクトということになるようです。\n",
    "\n",
    "・・・やっと冒頭のテーブルに話が戻ってきました。\n",
    "\n",
    "それではコンテナとジェネレータの性質の違いを順番に見ていきたいと思います。\n",
    "\n"
   ]
  },
  {
   "cell_type": "markdown",
   "metadata": {},
   "source": [
    "## <u><b>記憶力（③）と反復利用（④）の可否</b></u>\n",
    "\n",
    "\n",
    "まずはSDMolSupplierで読み込んだ場合\n"
   ]
  },
  {
   "cell_type": "markdown",
   "metadata": {},
   "source": [
    "```python\n",
    "#一回め\n",
    "SDMSup = Chem.SDMolSupplier('./test.sdf')\n",
    "SDMols = [x for x in SDMSup if x is not None]\n",
    "len(SDMols)\n",
    "#73\n",
    "```"
   ]
  },
  {
   "cell_type": "markdown",
   "metadata": {},
   "source": [
    "イテレータの作成に使用したオブジェクト、SDMSupはもう一度使用できるでしょうか？\n"
   ]
  },
  {
   "cell_type": "markdown",
   "metadata": {},
   "source": [
    "```python\n",
    "#２回め\n",
    "SDMols_2 = [x for x in SDMSup if x is not None]\n",
    "len(SDMols_2)\n",
    "#73\n",
    "```\n"
   ]
  },
  {
   "cell_type": "markdown",
   "metadata": {},
   "source": [
    "２回めも同数の結果が返ってきました。SDMolSupplierによるオブジェクトは元の状態を覚えており反復利用できました。（**コンテナ**）\n",
    "\n",
    "では、ForwardSDMolSupplierではどうでしょうか？"
   ]
  },
  {
   "cell_type": "markdown",
   "metadata": {},
   "source": [
    "```python\n",
    "#１回め\n",
    "FSDMSup = Chem.ForwardSDMolSupplier('./test.sdf')\n",
    "FSDMols = [x for x in FSDMSup if x is not None]\n",
    "len(FSDMols)\n",
    "# 73\n",
    "\n",
    "#2回め\n",
    "FSDMols_2 = [x for x in FSDMSup if x is not None]\n",
    "len(FSDMols_2)\n",
    "# 0\n",
    "```\n"
   ]
  },
  {
   "cell_type": "markdown",
   "metadata": {},
   "source": [
    "\n",
    "0個！　\n",
    "\n",
    "一度イテレータに渡して全ての分子を読み込むと、FSDMSup は空っぽになってしまいました。ForwardSDMolSupplierによるオブジェクトは、使用の度に忘れ、同じ内容は一度しかつかえないようです。（**ジェネレータ**）\n",
    "\n"
   ]
  },
  {
   "cell_type": "markdown",
   "metadata": {},
   "source": [
    "## <u><b>⑤処理後の状態</b></u>\n",
    "\n",
    "先の処理ではイテレータに一度にSDFの73個全ての分子を渡してしまいました。もし、一度途中で渡すのをやめたらどうなるでしょうか？\n",
    "\n",
    "まずはSDMolSupplierの場合です。\n",
    "\n"
   ]
  },
  {
   "cell_type": "markdown",
   "metadata": {},
   "source": [
    "```python\n",
    "#念のため全部再読み込み\n",
    "SDMSup = Chem.SDMolSupplier('./test.sdf')\n",
    "#最初の30個を読み込み\n",
    "SDMol_list_1 = []\n",
    "for i, j in zip(range(30), SDMSup):\n",
    "    SDMol_list_1.append(j)\n",
    "len(SDMol_list_1)\n",
    "#30\n",
    "```\n"
   ]
  },
  {
   "cell_type": "markdown",
   "metadata": {},
   "source": [
    "さらに10個取り出して見ます。\n",
    "\n"
   ]
  },
  {
   "cell_type": "markdown",
   "metadata": {},
   "source": [
    "```python\n",
    "#続けて10個取り出し新しいリストに格納\n",
    "SDMol_list_2 = []\n",
    "for i, j in zip(range(10), SDMSup):\n",
    "    SDMol_list_2.append(j)\n",
    "len(SDMol_list_2)\n",
    "#10\n",
    "```"
   ]
  },
  {
   "cell_type": "markdown",
   "metadata": {},
   "source": [
    "それぞれ最初の分子の構造を描画します。\n",
    "\n"
   ]
  },
  {
   "cell_type": "markdown",
   "metadata": {},
   "source": [
    "```python\n",
    "Draw.MolsToImage([SDMSup[0], SDMol_list_1[0], SDMol_list_2[0]], \n",
    "                 legends=['SDMSup[0]', 'SDMol_list_1[0]', 'SDMol_list_2[0]'])\n",
    "```\n"
   ]
  },
  {
   "cell_type": "markdown",
   "metadata": {},
   "source": [
    "<img src=\"./images/2-c_image4.png\">\n",
    "\n",
    "\n",
    "すべて同じ構造となりました。一度構造を取り出したあと、次に取り出すときも最初に戻って取り出しているようです。\n",
    "\n",
    "次に同様の処理をFowardSDMolSupplierで行います。\n",
    "\n"
   ]
  },
  {
   "cell_type": "markdown",
   "metadata": {},
   "source": [
    "```python\n",
    "#念のため全部再読み込み\n",
    "FSDMSup = Chem.ForwardSDMolSupplier('./test.sdf')\n",
    "#最初の30個を読み込み\n",
    "FSDMol_list_1 = []\n",
    "for i, j in zip(range(30), FSDMSup):\n",
    "    FSDMol_list_1.append(j)\n",
    "len(FSDMol_list_1)\n",
    "#30\n",
    "\n",
    "#続けて10個取り出し新しいリストに格納\n",
    "FSDMol_list_2 = []\n",
    "for i, j in zip(range(10), FSDMSup):\n",
    "    FSDMol_list_2.append(j)\n",
    "len(FSDMol_list_2)\n",
    "#10\n",
    "\n",
    "#それぞれ最初の分子の構造を描画\n",
    "Draw.MolsToImage([FSDMol_list_1[0], FSDMol_list_2[0], SDMSup[30]], \n",
    "                 legends=['FSDMol_list_1[0]', 'FSDMol_list_2[0]', 'SDMSup[30]'])\n",
    "```"
   ]
  },
  {
   "cell_type": "markdown",
   "metadata": {},
   "source": [
    "<img src=\"./images/2-c_image5.png\">\n",
    "\n",
    "\n",
    "２度めに呼び出した10個の構造のリスト（FSDMol_list_2）の最初の分子は、初めの30個のリストの（FSDMol_list_1）の最初の分子と異なりました。元々のSDFの31番目の分子（SDMSup[30]）と構造が一致していることから、30個呼び出したあとで、２度めは31番めからの呼び出しが始まっていることがわかります。\n",
    "\n",
    "SDMolSupplierは処理後、最初の場所に戻り、FSDMolSupplierでは、処理ごとに順番に一つずつ進み、処理後の状態を覚えているということが確認できました。\n",
    "\n"
   ]
  },
  {
   "cell_type": "markdown",
   "metadata": {},
   "source": [
    "## メモリの消費\n",
    "\n",
    "以上から、SDMolSupplierはコンテナ（シーケンス(?)）の特徴をもっており、FSDMolSupplierはジェネレータの特徴を持っていることがなんとなくわかってきました。\n",
    "\n",
    "では、後者を使うメリットの「メモリの消費」というのはどういうことなのでしょうか？\n",
    "\n",
    "参考記事2 を再度引用すると、コンテナオブジェクトではいつでも取り出せる状態にしておくため、「**あらかじめ全ての要素をメモリに格納しなければならない**」、一方、「**そのつど生成した値を使い終わったら後は覚えておく必要はない**」場合、「**変数から参照されなくなったら要素はガーベジコレクションの対象となるためメモリの節約につながる**」とのことだそうです。\n",
    "\n",
    "**ガベージコレクション**（garbage collection、GC）というのは、参照されなくなったと判断されたメモリ領域を自動的に解放する仕組み、だそうです。C言語などでは、プログラムの作成者がメモリのマネジメントも行う必要があるそうですが、Pythonではその必要がなく、メモリの利用の宣言や、解放といったことを明示的にプログラミングする必要がない、とのことです。 （*参考書籍2 (p328)*）[^6]\n",
    "\n"
   ]
  },
  {
   "cell_type": "markdown",
   "metadata": {},
   "source": [
    "## <u><b>FowardSDMolSupplierを使う時の注意点</b></u>\n",
    "\n",
    "以上見てきた違いから、非常に多数の分子を取り扱う必要がある場合、\n",
    "\n",
    "* 圧縮ファイルを読み込める\n",
    "* メモリの消費が少ない\n",
    "\n",
    "という点で、FowardSDMolSupplierを使う方が良さそうです。ただし、使用にあたって気をつけるべきこともあります。\n",
    "\n",
    "FowardSDMolSupplierは読み込んだ順番に分子を忘れていきますが、これは処理に失敗した場合でも同じです。\n",
    "\n",
    "どういうことか、わざと失敗して確かめて見ます。\n",
    "\n"
   ]
  },
  {
   "cell_type": "markdown",
   "metadata": {},
   "source": [
    "```python\n",
    "FSDMSup = Chem.ForwardSDMolSupplier('./test.sdf')\n",
    "#存在しないリストを指定してエラーを出す\n",
    "for x in FSDMSup:\n",
    "    dummy.append(x)\n",
    "\n",
    "---------------------------------------------------------------------------\n",
    "NameError: name 'dummy' is not defined\n",
    "\n",
    "#間違いに気づき空のリストを用意する\n",
    "dummy = []\n",
    "for x in FSDMSup:\n",
    "    dummy.append(x)\n",
    "len(dummy)\n",
    "\n",
    "#72\n",
    "```"
   ]
  },
  {
   "cell_type": "markdown",
   "metadata": {},
   "source": [
    "73個の分子を含むはずのSDFなのに、72個しかリストに格納されていません。\n",
    "\n",
    "一番最初の分子を確認します。"
   ]
  },
  {
   "cell_type": "markdown",
   "metadata": {},
   "source": [
    "```python\n",
    "Draw.MolsToImage([dummy[0], SDMSup[1]],\n",
    "                 legends=['dummy[0]', 'SDMSup[1]'])\n",
    "```"
   ]
  },
  {
   "cell_type": "markdown",
   "metadata": {},
   "source": [
    "<img src=\"./images/2-c_image6.png\">\n",
    "\n",
    "\n",
    "dummyリストの最初の分子は、元のSDFの2番めの分子と構造が一致します。\n",
    "\n",
    "元のSDFの最初の分子は、エラーを出した際に忘れ去られてしまい、あとから正しい処理を書き直しても、もうその処理には送られません。なので、再度もともとのSDFをFowardSDMolSupplierで読み込むところからやり直す必要が生じます。\n",
    "\n",
    "私はこのことに気づかず、誤った処理を書いて直すたびに分子の総数が変化し、混乱するということに陥っていました。"
   ]
  },
  {
   "cell_type": "markdown",
   "metadata": {},
   "source": [
    "# <u><b>まとめ</b></u>\n",
    "\n",
    "以上、今回RDKitからSDFを読み込むための二つの方法、SDMolSupplierとFowardSDMolSupplierの違いを検証することでPythonのコンテナ、イテレータ、ジェネレータといった用語の雰囲気をつかむことを試みました。Pythonの入門書を読んで用語は目にしたことがあっても結局なにがしたいのかよくわかっていなかったので、実際に色々触ってみるとなんとなくやりたいことがわかってきました。"
   ]
  },
  {
   "cell_type": "markdown",
   "metadata": {},
   "source": [
    "# 脚注\n",
    "\n",
    "\n",
    "[^1]:ジェネレータと書くとジェネレータ関数かジェネレータオブジェクトかわからないと、ネットで言われていましたが、両者の違いを判別できるまで理解できていないので、以下ジェネレータとのみ表記しています。  \n",
    "\n",
    "[^2]:参考記事１「化学の新しいカタチ」https://future-chem.com/rdkit-intro/:title \n",
    "\n",
    "[^3]:gzipの使い方にしては [こちらの記事](https://blog.amedama.jp/entry/2018/08/01/230413)を参考にしました。\n",
    "\n",
    "[^4]: 参考記事2  「CUBE SUGAR CONTAINER」 https://blog.amedama.jp/entry/2017/11/23/213233:title\n",
    "\n",
    "[^5]: 参考書籍1  入門 Python 3 オライリージャパン　Bill Lubanovic 著 斎藤　康毅　監訳　長尾　高弘　訳\n",
    "\n",
    "[^6]: 参考書籍2  科学技術計算のためのPython入門  技術評論社　中久喜　健司 著"
   ]
  },
  {
   "cell_type": "code",
   "execution_count": null,
   "metadata": {
    "collapsed": true
   },
   "outputs": [],
   "source": []
  }
 ],
 "metadata": {
  "kernelspec": {
   "display_name": "Python 3",
   "language": "python",
   "name": "python3"
  },
  "language_info": {
   "codemirror_mode": {
    "name": "ipython",
    "version": 3
   },
   "file_extension": ".py",
   "mimetype": "text/x-python",
   "name": "python",
   "nbconvert_exporter": "python",
   "pygments_lexer": "ipython3",
   "version": "3.6.8"
  },
  "toc": {
   "base_numbering": 1,
   "nav_menu": {},
   "number_sections": true,
   "sideBar": true,
   "skip_h1_title": false,
   "title_cell": "Table of Contents",
   "title_sidebar": "Contents",
   "toc_cell": true,
   "toc_position": {},
   "toc_section_display": true,
   "toc_window_display": true
  }
 },
 "nbformat": 4,
 "nbformat_minor": 2
}
