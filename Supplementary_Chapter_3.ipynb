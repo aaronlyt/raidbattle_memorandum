{
 "cells": [
  {
   "cell_type": "markdown",
   "metadata": {
    "toc": true
   },
   "source": [
    "<h1>Table of Contents<span class=\"tocSkip\"></span></h1>\n",
    "<div class=\"toc\"><ul class=\"toc-item\"><li><span><a href=\"#タンパク質編_第３章　CASTpを用いた結合ポケットの探索\" data-toc-modified-id=\"タンパク質編_第３章　CASTpを用いた結合ポケットの探索-1\"><span class=\"toc-item-num\">1&nbsp;&nbsp;</span>タンパク質編_第３章　CASTpを用いた結合ポケットの探索</a></span></li><li><span><a href=\"#CASTpによるポケット探索の手順\" data-toc-modified-id=\"CASTpによるポケット探索の手順-2\"><span class=\"toc-item-num\">2&nbsp;&nbsp;</span>CASTpによるポケット探索の手順</a></span><ul class=\"toc-item\"><li><span><a href=\"#ポケット探索の基本的な目標\" data-toc-modified-id=\"ポケット探索の基本的な目標-2.1\"><span class=\"toc-item-num\">2.1&nbsp;&nbsp;</span>ポケット探索の基本的な目標</a></span></li><li><span><a href=\"#探索手順\" data-toc-modified-id=\"探索手順-2.2\"><span class=\"toc-item-num\">2.2&nbsp;&nbsp;</span>探索手順</a></span><ul class=\"toc-item\"><li><span><a href=\"#1.-単純な分子モデルの作成（alpha-shape：アルファシェイプ）\" data-toc-modified-id=\"1.-単純な分子モデルの作成（alpha-shape：アルファシェイプ）-2.2.1\"><span class=\"toc-item-num\">2.2.1&nbsp;&nbsp;</span>1. 単純な分子モデルの作成（alpha shape：<a href=\"https://ja.wikipedia.org/wiki/アルファシェイプ\" target=\"_blank\">アルファシェイプ</a>）</a></span></li><li><span><a href=\"#2.-ボロノイ図-(Voronoi-diagram)の作成　（ボロノイ図-）\" data-toc-modified-id=\"2.-ボロノイ図-(Voronoi-diagram)の作成　（ボロノイ図-）-2.2.2\"><span class=\"toc-item-num\">2.2.2&nbsp;&nbsp;</span>2. ボロノイ図 (Voronoi diagram)の作成　（<a href=\"https://ja.wikipedia.org/wiki/ボロノイ図\" target=\"_blank\">ボロノイ図</a> ）</a></span></li><li><span><a href=\"#3.-ドロネー図（Delaunay-diagram）の作成-（-ドロネー図-）\" data-toc-modified-id=\"3.-ドロネー図（Delaunay-diagram）の作成-（-ドロネー図-）-2.2.3\"><span class=\"toc-item-num\">2.2.3&nbsp;&nbsp;</span>3. ドロネー図（Delaunay diagram）の作成 （ <a href=\"https://ja.wikipedia.org/wiki/ドロネー図\" target=\"_blank\">ドロネー図</a> ）</a></span></li><li><span><a href=\"#4.-アルファコンプレックス(alpha-complex)の作成　\" data-toc-modified-id=\"4.-アルファコンプレックス(alpha-complex)の作成　-2.2.4\"><span class=\"toc-item-num\">2.2.4&nbsp;&nbsp;</span>4. アルファコンプレックス(alpha complex)の作成　</a></span></li><li><span><a href=\"#5.-cavity-(void)の選別\" data-toc-modified-id=\"5.-cavity-(void)の選別-2.2.5\"><span class=\"toc-item-num\">2.2.5&nbsp;&nbsp;</span>5. cavity (void)の選別</a></span></li><li><span><a href=\"#6.--浅いくぼみ(shallow-depression)の選別\" data-toc-modified-id=\"6.--浅いくぼみ(shallow-depression)の選別-2.2.6\"><span class=\"toc-item-num\">2.2.6&nbsp;&nbsp;</span>6.  浅いくぼみ(shallow depression)の選別</a></span></li><li><span><a href=\"#7.-ポケットの大きさ\" data-toc-modified-id=\"7.-ポケットの大きさ-2.2.7\"><span class=\"toc-item-num\">2.2.7&nbsp;&nbsp;</span>7. ポケットの大きさ</a></span></li></ul></li></ul></li><li><span><a href=\"#PD-1/PD-L1-ポケット探索への適用\" data-toc-modified-id=\"PD-1/PD-L1-ポケット探索への適用-3\"><span class=\"toc-item-num\">3&nbsp;&nbsp;</span>PD-1/PD-L1 ポケット探索への適用</a></span><ul class=\"toc-item\"><li><span><a href=\"#PDB-ID-:-5J8Oの場合\" data-toc-modified-id=\"PDB-ID-:-5J8Oの場合-3.1\"><span class=\"toc-item-num\">3.1&nbsp;&nbsp;</span>PDB ID : 5J8Oの場合</a></span></li><li><span><a href=\"#PDB-ID-:-5J8Oの場合\" data-toc-modified-id=\"PDB-ID-:-5J8Oの場合-3.2\"><span class=\"toc-item-num\">3.2&nbsp;&nbsp;</span>PDB ID : 5J8Oの場合</a></span></li><li><span><a href=\"#他のPPI阻害剤の場合\" data-toc-modified-id=\"他のPPI阻害剤の場合-3.3\"><span class=\"toc-item-num\">3.3&nbsp;&nbsp;</span>他のPPI阻害剤の場合</a></span></li><li><span><a href=\"#キナーゼ阻害剤の場合\" data-toc-modified-id=\"キナーゼ阻害剤の場合-3.4\"><span class=\"toc-item-num\">3.4&nbsp;&nbsp;</span>キナーゼ阻害剤の場合</a></span></li><li><span><a href=\"#PD-L1/PD-1複合体の場合\" data-toc-modified-id=\"PD-L1/PD-1複合体の場合-3.5\"><span class=\"toc-item-num\">3.5&nbsp;&nbsp;</span>PD-L1/PD-1複合体の場合</a></span></li></ul></li><li><span><a href=\"#PD-L1単量体の場合\" data-toc-modified-id=\"PD-L1単量体の場合-4\"><span class=\"toc-item-num\">4&nbsp;&nbsp;</span>PD-L1単量体の場合</a></span></li><li><span><a href=\"#まとめ\" data-toc-modified-id=\"まとめ-5\"><span class=\"toc-item-num\">5&nbsp;&nbsp;</span>まとめ</a></span></li></ul></div>"
   ]
  },
  {
   "cell_type": "markdown",
   "metadata": {},
   "source": [
    "# タンパク質編\\_第３章　CASTpを用いた結合ポケットの探索\n",
    "\n",
    "PDBのビューワーをもちいて共結晶構造を眺めてみました。次は、リガンドの結合サイトとしてはどのような部位が考えられるのか？**CASTp**を用いて結合ポケットの探索を行ってみたいと思います。\n",
    "\n",
    "[CASTp 3.0: Computed Atlas of Surface Topography of proteins](http://sts.bioe.uic.edu/castp/index.html?2cpk) / [Nuclei Acids Research 2018 (46) W363-W367](https://academic.oup.com/nar/article/46/W1/W363/5026264)\n",
    "\n",
    "PDBのIDを投げ込むだけで、タンパク質のポケットを探してくれるサイトです。"
   ]
  },
  {
   "cell_type": "markdown",
   "metadata": {},
   "source": [
    "# CASTpによるポケット探索の手順\n",
    "\n",
    "[Background](http://sts.bioe.uic.edu/castp/background.html)にポケットを探索する手順が記載されていたので適当に翻訳してみました。以下の図もBackgroudのものを利用させていただいています。\n",
    "\n",
    "## ポケット探索の基本的な目標\n",
    "\n",
    "基本的な目的はタンパク質の表面から、溶媒がアクセス可能な「空の凹面(empty concavity)」を探すことです。\n",
    "\n",
    "この際に\"より使える深いポケット\"を探すため、\n",
    "\n",
    "　・溶媒がアクセスできないようなポケット (cavity or void)\n",
    "\n",
    "           ex. 図1c の中央下のような完全に周囲を青丸で囲まれた白い空間\n",
    "\n",
    "　・浅いくぼみ(shallow depression)\n",
    "\n",
    "　　    溶媒接触面(口、mouth)がポケットの中で一番ひらいているようなもの (ex. 図2b)\n",
    "\n",
    " は除くようにするとのことです。"
   ]
  },
  {
   "cell_type": "markdown",
   "metadata": {},
   "source": [
    "<img src=\"./images/sup-3_image1.png\">\n",
    "\n",
    "図１：ポケットをみつける手順  (a :ボロヌイ図、b: ドロネー図、c: アルファ図)\n",
    "\n",
    "<img src=\"./images/sup-3_image2.png\">\n",
    "\n",
    "図２: 深いポケット(a) と浅いくぼみ(b)の選別 （Discrete Flow Method）"
   ]
  },
  {
   "cell_type": "markdown",
   "metadata": {},
   "source": [
    "## 探索手順 \n",
    "\n",
    "ポケット探索の手順は下記の通りです。(２次元での説明です)\n",
    "\n",
    "### 1. 単純な分子モデルの作成（alpha shape：[アルファシェイプ](https://ja.wikipedia.org/wiki/アルファシェイプ)）\n",
    "\n",
    "　まずタンパク質の各原子に一定の大きさの円盤をおきます (図１a : 青丸)\n",
    "\n",
    "　この円盤の集合が単純な分子のモデルとなっており、集合の領域内にタンパク質の原子を全て含む凸包（convex hull）が含まれています。（ [凸包](https://ja.wikipedia.org/wiki/凸包)）\n",
    "\n",
    "　円盤の大きさが各原子の大きさを反映していたら、青い部分の外周がタンパク質の表面に一致するのだと思いますが、ここでは全て同じ大きさの単純化したモデルとしているようです。\n",
    "\n",
    "\n",
    "### 2. ボロノイ図 (Voronoi diagram)の作成　（[ボロノイ図](https://ja.wikipedia.org/wiki/ボロノイ図) ）\n",
    "\n",
    "　次に1.で用いたタンパク質の各原子を母点とするボロノイ図を描きます。（図1a: 点線）\n",
    "\n",
    "　ボロノイ図は平面を平面内のどの点に最も近いかで分割した図です。\n",
    "\n",
    "　図1a の場合、各点線に囲まれた領域は原子を一つ含み、その原子に対してもっとも近い領域となります。\n",
    "\n",
    "### 3. ドロネー図（Delaunay diagram）の作成 （ [ドロネー図](https://ja.wikipedia.org/wiki/ドロネー図) ）\n",
    "\n",
    "　2.で作成したボロノイ図をもちいることでドロネー図（ドロネー三角形分割）が作成できます。（図1b）\n",
    "\n",
    "　具体的には、隣接するボロノイ領域の境界をまたぎ、二つの原子を繋ぐ線を描いていきます。\n",
    "\n",
    "　図1bの三角形の各頂点が原子（ドロネー図の母点）に対応しており、複数の三角形からなる多角形（緑の領域）のなかに、タンパク質の凸包が含まれています。\n",
    "\n",
    "　逆にいうと、タンパク質を大きく取り囲むような多角形領域を作成し、隙間も、重なりもないように三角形をしきつめて分割した形とになります。\n",
    "\n",
    "\n",
    "### 4. アルファコンプレックス(alpha complex)の作成　\n",
    "\n",
    "　1. で作成した単純な分子モデル（図1a: alpha shape）と、3.で作成したドロネー図（図1b）を重ね合わせ、アルファコンプレックス（図1c）を作成します。\n",
    "\n",
    "　これにより円弧で囲まれた分子モデルの多角形版が作成されたことになります。\n",
    "\n",
    "　図1bと図1aの差分、ドロネー図の多角形領域のなかで青丸を含まない領域が、少なくとも空いている空間、ポケットの候補となります。\n",
    "\n",
    "　空いている空間をみつけるため、ドロネー図のなかから「空の三角形(\"empty\" triangle)」を見つけ出します。\n",
    "\n",
    "　再度、図1aに戻り、ドロネー図を作成する時に用いたボロノイ図のうち、ボロノイ領域の辺(edge)と頂点(vertex)が、分子モデル（青丸の領域）の完全に外部にある物を見つけ出します。ドロネー図を作成する際に、ボロノイ図の辺をまたぐようにドロネー三角形の辺を描いていいきましたが、このうち分子モデル外部となるボロノイ辺に対応するドロネー三角形の辺を外部として、点線とします（図1c 点線）。この点線を、１つ以上ふくむドロネー三角形が「空の三角形（\"empty\" triangle ）」と定義されます。\n",
    "\n",
    "　ここまででようやく下準備が完了です。空の三角形の領域がポケット候補となる空いた空間となるのですが、その中から確からしいポケットの選別とその大きさを求めるのが次なる課題です。\n",
    "\n",
    "### 5. cavity (void)の選別\n",
    "\n",
    "　まず、空いてはいるけど、リガンドが入り込めないような空間を除きます。\n",
    "\n",
    "　図1c の中央下あたりを見ていただくと、青い領域に囲まれた小さな白い領域があります。確かにタンパク質とはぶつかりませんが、リガンドがアクセスできないのでは結合サイトとしては使えません。このようなcavityをどう判別すれば良いかが問題となりますが、これはドロネー図の辺のうち実線と点線をくみあわせることで可能となります。　\n",
    "\n",
    "　まず上記の空間は、点線を含むempty triangle ３つにより空いた空間と認識されます。しかしながら、この３つのempty triagle 全体は全て実線の辺で囲まれています。これによりアクセス不能な空間としてポケット候補から外れます。\n",
    "\n",
    "### 6.  浅いくぼみ(shallow depression)の選別\n",
    "\n",
    "　次に浅いくぼみの選別ですが、こちらはempty triangleに、\"Discrete Flow\" method と呼ぶ方法を適用することで行なっています（図2）。\n",
    "\n",
    "　empty triangle が複数隣接している領域において、鈍角三角形（obtuse triangle）からは隣のempty triangeへに向かう流れ（flow）を、鋭角三角形（acute triangle）は隣のempty triangle からflow が流れ込んでくると考えます。\n",
    "\n",
    "　ここで再度「浅いくぼみ」の定義に戻りますが、「溶媒接触面(口、mouth)がポケットの中で一番ひらいているようなもの」でした。こちらはポケット候補の空間のうち溶媒接触面となるドロネー三角形の辺が、同一空間の他のempty triageの辺よりも長いと解釈できます。図2b のように、この時鈍角三角形１から始まったflow は流れ続けて無限へと発散していきます。\n",
    "\n",
    "　一方で、深いポケット（図2a）では、鈍角三角形からのflow は鋭角三角形2にいずれも流れ込み収束します。このempty triangle の集合として我々の探していた有望なポケットが見つけ出されたことになります。\n",
    "\n",
    "### 7. ポケットの大きさ\n",
    "\n",
    "　さて、ようやく見つかったアクセス可能な深いポケットですが、次なる問題は「リガンドが入れるくらいに十分大きいか？」ということです。\n",
    "\n",
    "　つまり空間の体積ですが、こちらは「空間を成すempty triagleの合計」から、その中に含まれる「分子モデル（青い領域）」の分を引くことで求まります。\n",
    "\n",
    "以上がCASTpのポケット探索の手順となります。"
   ]
  },
  {
   "cell_type": "markdown",
   "metadata": {},
   "source": [
    "# PD-1/PD-L1 ポケット探索への適用\n",
    "\n",
    "それではCASTpをPD-1/PD-L1の結合ポケットの探索に使ってみたいと思います。\n",
    "\n",
    "## PDB ID : 5J8Oの場合\n",
    "\n",
    "まずは低分子リガンドとPD-L1の共結晶構造から。「PDB id: **5J8O**」\n",
    "\n",
    "PDBのviewerのキャプチャとCASTpで認識されたポケットを下に並べます。"
   ]
  },
  {
   "cell_type": "markdown",
   "metadata": {},
   "source": [
    "<img src=\"./images/sup-3_image3.png\"><img src=\"./images/sup-3_image4.png\">"
   ]
  },
  {
   "cell_type": "markdown",
   "metadata": {},
   "source": [
    "認識されたポケットの上位３つを、赤色(Red)、青色(Blue)、緑色(Green)としました。リガンドは３つめのポケット（PocID 3：緑色）に結合しています。\n",
    "\n",
    "それぞれポケットの表面積、体積は以下のように認識されています。\n",
    "\n",
    "<img src=\"./images/sup-3_image5.png\">"
   ]
  },
  {
   "cell_type": "markdown",
   "metadata": {},
   "source": [
    "## PDB ID : 5J8Oの場合\n",
    "\n",
    "次にリガンドサイズがもう少し大きくなった場合の共結晶構造を見てみます。「PDB id: **5NIU**」"
   ]
  },
  {
   "cell_type": "markdown",
   "metadata": {},
   "source": [
    "<img src=\"./images/sup-3_image6.png\"><img src=\"./images/sup-3_image7.png\">"
   ]
  },
  {
   "cell_type": "markdown",
   "metadata": {},
   "source": [
    "PDBのviewerで見た時には気づいていませんでしたが、こちらの構造はリガンド ２つ とPD-L1 ４つの 「2 : 4」の複合体を形成しているようです。PocID 2（青色）とPocID 3（緑色）がリガンド結合部位と重なっています。"
   ]
  },
  {
   "cell_type": "markdown",
   "metadata": {},
   "source": [
    "<img src=\"./images/sup-3_image8.png\">"
   ]
  },
  {
   "cell_type": "markdown",
   "metadata": {},
   "source": [
    "論文中で大きなリガンドではPD-L1の構造変化によりbinding pocket が binding tunnelになったと記載されていましたが、実際に [PDBid : 5NIU] のポケットは [PDBid: 5J8O]の二つのポケット (PocID 2 と PocID 3) がつながったような貫通した形となっています。\n"
   ]
  },
  {
   "cell_type": "markdown",
   "metadata": {},
   "source": [
    "## 他のPPI阻害剤の場合 \n",
    "\n",
    "この表面積、体積が良いのか悪いのかわからないので PPI 阻害剤 の代表例、p53-MDM2の場合を見てみたいと思います。\n",
    "\n",
    "MDM2 と阻害剤 Nutlin-3a の共結晶構造です。　[PDBid : 4HG7]"
   ]
  },
  {
   "cell_type": "markdown",
   "metadata": {},
   "source": [
    "<img src=\"./images/sup-3_image9.png\"><img src=\"./images/sup-3_image10.png\"><img src=\"./images/sup-3_image11.png\">"
   ]
  },
  {
   "cell_type": "markdown",
   "metadata": {},
   "source": [
    "## キナーゼ阻害剤の場合 "
   ]
  },
  {
   "cell_type": "markdown",
   "metadata": {},
   "source": [
    "・・・ちっさい！！　これではポケットというよりHot Spot です。あらためてPPI 阻害の標的としての難しさがわかります。\n",
    "\n",
    "もう少し普通（?）のターゲットを見てみたいと思います。ALK （Anaplastic Lymphoma Kinase）とクリゾチニブ (PF-02341066) の共結晶構造です。[PDB id: 2XP2]"
   ]
  },
  {
   "cell_type": "markdown",
   "metadata": {},
   "source": [
    "<img src=\"./images/sup-3_image12.png\"><img src=\"./images/sup-3_image13.png\"><img src=\"./images/sup-3_image14.png\">"
   ]
  },
  {
   "cell_type": "markdown",
   "metadata": {},
   "source": [
    "クリゾチニブの結合部位はPocID 1、表面積、体積ともにPD-L1の場合の3倍近いです。"
   ]
  },
  {
   "cell_type": "markdown",
   "metadata": {},
   "source": [
    "## PD-L1/PD-1複合体の場合\n",
    "\n",
    "話を元に戻しPD-1/PD-L1の複合体を見てみたいと思います。[PDB id: 4ZQK] \n",
    "\n",
    "いままでの例はリガンドとの共結晶構造だったので、結合サイトがあるという前提でした。リガンドのない構造ではどうなるでしょうか？"
   ]
  },
  {
   "cell_type": "markdown",
   "metadata": {},
   "source": [
    "<img src=\"./images/sup-3_image15.png\"><img src=\"./images/sup-3_image16.png\">"
   ]
  },
  {
   "cell_type": "markdown",
   "metadata": {},
   "source": [
    "各図の左側が PD-L1 ( chain A ) 右側がPD-1 ( chain B )です。"
   ]
  },
  {
   "cell_type": "markdown",
   "metadata": {},
   "source": [
    "<img src=\"./images/sup-3_image17.png\"><img src=\"./images/sup-3_image18.png\">"
   ]
  },
  {
   "cell_type": "markdown",
   "metadata": {},
   "source": [
    "PocID 1は小さいですが、アミノ酸残基としてTyr 56 を含む空間です。このアミノ酸残基はBMSリガンド結合部位のポケットの大きさを左右する重要な残基として論文中で注目されていたものです。\n",
    "\n",
    "先に見た低分子リガンドの結合サイトはPD-1/PD-L1複合体においてもポケットとしての可能性があるかもしれません。"
   ]
  },
  {
   "cell_type": "markdown",
   "metadata": {},
   "source": [
    "# PD-L1単量体の場合 \n",
    "\n",
    "最後にPD-L1 単体の場合をみてみます。[PDB id: 5C3T]"
   ]
  },
  {
   "cell_type": "markdown",
   "metadata": {},
   "source": [
    "<img src=\"./images/sup-3_image19.png\"><img src=\"./images/sup-3_image20.png\"><img src=\"./images/sup-3_image21.png\">"
   ]
  },
  {
   "cell_type": "markdown",
   "metadata": {},
   "source": [
    "向かって右側のβシート面がBMSリガンドの結合している部分ですので、PD-L1単量体の場合、リガンド結合サイトは上位３つのポケットに含まれませんでした。\n",
    "\n",
    "PocID 1、PocID 2、PocID 3 いずれも小さく、リガンド結合部位としては適していないようにみえますが、PocID 1のような場所をアロステリック部位として狙えたら格好いいですね。\n"
   ]
  },
  {
   "cell_type": "markdown",
   "metadata": {},
   "source": [
    "# まとめ\n",
    "\n",
    "以上、結合サイトの探索についてでした。\n",
    "\n",
    "CASTp のコンセプト「浅いくぼみはポケットの候補から外す」からすると、そもそもPPI阻害剤に適用するのが間違いだったかもしれません・・・。少なくともリガンド結合部位周辺が、今回取り上げた構造のCASTpにおけるポケット探索では、一番良いポケットとなっていそうだ、ということで良しとしましょう。\n"
   ]
  }
 ],
 "metadata": {
  "kernelspec": {
   "display_name": "Python 3",
   "language": "python",
   "name": "python3"
  },
  "language_info": {
   "codemirror_mode": {
    "name": "ipython",
    "version": 3
   },
   "file_extension": ".py",
   "mimetype": "text/x-python",
   "name": "python",
   "nbconvert_exporter": "python",
   "pygments_lexer": "ipython3",
   "version": "3.6.8"
  },
  "toc": {
   "base_numbering": 1,
   "nav_menu": {},
   "number_sections": true,
   "sideBar": true,
   "skip_h1_title": false,
   "title_cell": "Table of Contents",
   "title_sidebar": "Contents",
   "toc_cell": true,
   "toc_position": {},
   "toc_section_display": true,
   "toc_window_display": true
  }
 },
 "nbformat": 4,
 "nbformat_minor": 2
}
