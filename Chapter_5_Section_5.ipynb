{
 "cells": [
  {
   "cell_type": "markdown",
   "metadata": {
    "toc": true
   },
   "source": [
    "<h1>Table of Contents<span class=\"tocSkip\"></span></h1>\n",
    "<div class=\"toc\"><ul class=\"toc-item\"><li><span><a href=\"#第５章５節：リガンドを重ね合わせてファーマコフォアを作る話\" data-toc-modified-id=\"第５章５節：リガンドを重ね合わせてファーマコフォアを作る話-1\"><span class=\"toc-item-num\">1&nbsp;&nbsp;</span>第５章５節：リガンドを重ね合わせてファーマコフォアを作る話</a></span></li><li><span><a href=\"#1.-今回の流れ\" data-toc-modified-id=\"1.-今回の流れ-2\"><span class=\"toc-item-num\">2&nbsp;&nbsp;</span><b><u>1. 今回の流れ</u></b></a></span></li><li><span><a href=\"#2.-Pymolでアラインメント\" data-toc-modified-id=\"2.-Pymolでアラインメント-3\"><span class=\"toc-item-num\">3&nbsp;&nbsp;</span><b><u>2. Pymolでアラインメント</u></b></a></span></li><li><span><a href=\"#3.-リガンドの座標を出力\" data-toc-modified-id=\"3.-リガンドの座標を出力-4\"><span class=\"toc-item-num\">4&nbsp;&nbsp;</span><b><u>3. リガンドの座標を出力</u></b></a></span></li><li><span><a href=\"#4.-重なりの比較\" data-toc-modified-id=\"4.-重なりの比較-5\"><span class=\"toc-item-num\">5&nbsp;&nbsp;</span><b><u>4. 重なりの比較</u></b></a></span><ul class=\"toc-item\"><li><span><a href=\"#4-1.-5J89と5N2D-(グループ１)\" data-toc-modified-id=\"4-1.-5J89と5N2D-(グループ１)-5.1\"><span class=\"toc-item-num\">5.1&nbsp;&nbsp;</span><b><u>4-1. 5J89と5N2D (グループ１)</u></b></a></span></li><li><span><a href=\"#4-2.-5N2D-(グループ１)-と5N2F-(グループ2)\" data-toc-modified-id=\"4-2.-5N2D-(グループ１)-と5N2F-(グループ2)-5.2\"><span class=\"toc-item-num\">5.2&nbsp;&nbsp;</span><b><u>4-2. 5N2D (グループ１) と5N2F (グループ2)</u></b></a></span></li><li><span><a href=\"#4-3.-5J89(グループ１)-と5J8O-(グループ2)\" data-toc-modified-id=\"4-3.-5J89(グループ１)-と5J8O-(グループ2)-5.3\"><span class=\"toc-item-num\">5.3&nbsp;&nbsp;</span><b><u>4-3. 5J89(グループ１) と5J8O (グループ2)</u></b></a></span></li><li><span><a href=\"#対称性のある構造の医薬品\" data-toc-modified-id=\"対称性のある構造の医薬品-5.4\"><span class=\"toc-item-num\">5.4&nbsp;&nbsp;</span><b><u>対称性のある構造の医薬品</u></b></a></span></li><li><span><a href=\"#4-4.-5J89(グループ１)-と5NIU、5NIX-(グループ3)\" data-toc-modified-id=\"4-4.-5J89(グループ１)-と5NIU、5NIX-(グループ3)-5.5\"><span class=\"toc-item-num\">5.5&nbsp;&nbsp;</span><b><u>4-4. 5J89(グループ１) と5NIU、5NIX (グループ3)</u></b></a></span></li><li><span><a href=\"#重ね合わせ結果の考察\" data-toc-modified-id=\"重ね合わせ結果の考察-5.6\"><span class=\"toc-item-num\">5.6&nbsp;&nbsp;</span><b><u>重ね合わせ結果の考察</u></b></a></span></li></ul></li><li><span><a href=\"#5.-ファーマコフォアを再作成\" data-toc-modified-id=\"5.-ファーマコフォアを再作成-6\"><span class=\"toc-item-num\">6&nbsp;&nbsp;</span><b><u>5. ファーマコフォアを再作成</u></b></a></span><ul class=\"toc-item\"><li><span><a href=\"#5-1.-今回の目標\" data-toc-modified-id=\"5-1.-今回の目標-6.1\"><span class=\"toc-item-num\">6.1&nbsp;&nbsp;</span><b><u>5-1. 今回の目標</u></b></a></span></li><li><span><a href=\"#5-2.-Pymolで出力したSDFをRDKitで読み込む\" data-toc-modified-id=\"5-2.-Pymolで出力したSDFをRDKitで読み込む-6.2\"><span class=\"toc-item-num\">6.2&nbsp;&nbsp;</span><b><u>5-2. Pymolで出力したSDFをRDKitで読み込む</u></b></a></span></li><li><span><a href=\"#5-3.-Pymolで出力したpdbをRDKitで読み込む\" data-toc-modified-id=\"5-3.-Pymolで出力したpdbをRDKitで読み込む-6.3\"><span class=\"toc-item-num\">6.3&nbsp;&nbsp;</span><b><u>5-3. Pymolで出力したpdbをRDKitで読み込む</u></b></a></span></li><li><span><a href=\"#5-4.-重ね合わせでフィーチャーを眺める\" data-toc-modified-id=\"5-4.-重ね合わせでフィーチャーを眺める-6.4\"><span class=\"toc-item-num\">6.4&nbsp;&nbsp;</span><b><u>5-4. 重ね合わせでフィーチャーを眺める</u></b></a></span></li><li><span><a href=\"#5-5.-ファーマコフォアを作成\" data-toc-modified-id=\"5-5.-ファーマコフォアを作成-6.5\"><span class=\"toc-item-num\">6.5&nbsp;&nbsp;</span><b><u>5-5. ファーマコフォアを作成</u></b></a></span></li></ul></li><li><span><a href=\"#6.-ファーマコフォアサーチ\" data-toc-modified-id=\"6.-ファーマコフォアサーチ-7\"><span class=\"toc-item-num\">7&nbsp;&nbsp;</span><b><u>6. ファーマコフォアサーチ</u></b></a></span><ul class=\"toc-item\"><li><span><a href=\"#6-1.-サーチ\" data-toc-modified-id=\"6-1.-サーチ-7.1\"><span class=\"toc-item-num\">7.1&nbsp;&nbsp;</span><b><u>6-1. サーチ</u></b></a></span></li><li><span><a href=\"#6-2.-確認\" data-toc-modified-id=\"6-2.-確認-7.2\"><span class=\"toc-item-num\">7.2&nbsp;&nbsp;</span><b><u>6-2. 確認</u></b></a></span></li></ul></li><li><span><a href=\"#7.-まとめ\" data-toc-modified-id=\"7.-まとめ-8\"><span class=\"toc-item-num\">8&nbsp;&nbsp;</span><b><u>7. まとめ</u></b></a></span></li><li><span><a href=\"#脚注\" data-toc-modified-id=\"脚注-9\"><span class=\"toc-item-num\">9&nbsp;&nbsp;</span>脚注</a></span></li></ul></div>"
   ]
  },
  {
   "cell_type": "markdown",
   "metadata": {},
   "source": [
    "# 第５章５節：リガンドを重ね合わせてファーマコフォアを作る話"
   ]
  },
  {
   "cell_type": "markdown",
   "metadata": {},
   "source": [
    "前回の記事でファーマコフォアスクリーニングを実施し、約2500個の化合物までリストを絞り込みました。思った以上に減らなかったので、さらなる絞り込みのため、ファーマコフォアを作成した流れを振り返りたいと思います。\n",
    "\n",
    "1. リガンド-タンパク共結晶構造を取得（PDB, 6構造）\n",
    "2. PLIPを使って相互作用を解析\n",
    "3. RDKitでPLIF作成\n",
    "4. 複数の構造で相互作用に関与する残基に着目\n",
    "5. 4.の残基と近接するリガンドの部分構造を選定（フィーチャー、３つ）\n",
    "6. 5.のフィーチャーの位置関係からファーマコフォアを作成\n",
    "\n",
    "このうち、Step 5、Step 6の部分では、共結晶構造１つ（PDB id: 5NIX）をもとに作成をおこなっています。課題として「フィーチャー３つの選択基準がかなり恣意的だった」、ということが挙げられると思います。そこで今回はもう少し、根拠（？）をもってフィーチャーを選択できるか、残りの共結晶構造５つを眺めたいと思います。\n"
   ]
  },
  {
   "cell_type": "markdown",
   "metadata": {},
   "source": [
    "# <b><u>1. 今回の流れ</b></u>\n",
    "\n",
    "といっても、ただ単に眺めるだけでは仕方ないので、今回は「**複数の構造を重ね合わせて眺める**」という点に主眼を置きたいと思います。\n",
    "\n",
    "モチベーションは２つ・・・\n",
    "\n",
    "1. [**AI創薬のためのケモインフォマティクス入門**](https://github.com/Mishima-syk/py4chemoinformatics/blob/master/pdf/py4chemoinformatics.pdf) 6章、SBDDの項目で異なる化合物の複合体結晶構造の重ね合わせが紹介されていたこと [^1]\n",
    "\n",
    "2. [**ファーマコフォアについてのよもやま話**](http://blog.kzfmix.com/entry/1552452149) において、結晶構造以外のアプローチとして**リガンド重ね合わせのアプローチ**が紹介されていたこと  [^2] \n",
    "\n",
    "です。折角、異なるリガンドを含む共結晶構造が複数あるのだから、**タンパクごと**重ね合わせて、そこに含まれているリガンドの重なりを比較してみれば、**リガンドのみ**の重ね合わせよりもより実際の結合のポーズを意識したヒントが得られるかもしれません。\n",
    "\n",
    "ということで、まずは\n",
    "\n",
    "1. Pymolで複合体構造をアラインメント\n",
    "2. アラインメント後のリガンドの座標を出力\n",
    "\n",
    "をやってみます。"
   ]
  },
  {
   "cell_type": "markdown",
   "metadata": {},
   "source": [
    "# <b><u>2. Pymolでアラインメント</b></u>\n",
    "\n",
    "用いる複合体構造を再掲します。①、②、③のグループは**第５章１節**でPLIFをベースに分けてみたものです。\n",
    "\n",
    "|Group|PDB entry|Chain|リガンド|リガンドID|リガンド分子量|文献|\n",
    "|:----:|:----:|:----:|:----:|:----:|:----:|:----:|\n",
    "|①|5J89|A/B/C/D | BMS-202 |6GX| 419.52| Oncotarget 2016(7)30323|\n",
    "||5N2D| A/B/C/D |BMS-37|8J8|448.55| J. Med. Chem. 2017(60)5857|\n",
    "|②|5J8O|A/B|BMS-8 |6GZ|494.42| Oncotarget 2016(7)30323|\n",
    "||5N2F| A/B |BMS-200|8HW|497.49| J. Med. Chem. 2017(60)5857|\n",
    "|③|5NIU| A/B/C/D |  BMS-1001|8YZ|594.65| Oncotarget 2017(8)72167|\n",
    "||5NIX| A/B/C/D |  BMS-1166|8YQ|643.13| Oncotarget 2017(8)72167|\n",
    "\n",
    "pymolの設定などに関してはこちらの[ブログ](https://keetaneblog.hatenablog.com/entry/2019/02/08/210016)を参考にさせてきただきました。 [^3] \n",
    "\n",
    "具体的には、以下3ステップです。\n",
    "\n",
    "1. PDBファイル6つをpymolで読み込む\n",
    "2. chain C/Dを除いてA/Bのみにする<br>「remove (chain C,D)」と打ち込む\n",
    "3. アラインメントをとる<br>例)「align 5j89, 5nix」<br> 意) 5j89を5nixに重ね合わせる\n",
    "\n",
    "そのままの重ね合わせではうまくいかなかったため、ステップ2（chain A/Bのみを残す）を行なっています。全て5nixに重ね合わせました。\n",
    "\n",
    "次いで、下記の設定で描画を行いました。\n",
    "\n",
    "1. set cartoon_transparency, 0.8\n",
    "2. リガンドを中心に持ってくる（Command+左クリック）\n",
    "3. 水を消す（object panelのallで**H(hide)**から**waters**を選択）\n",
    "\n",
    "以下のような見た目となりました。比較は後回しにして、座標の出力へと進みます。\n",
    "\n",
    "<img src=\"./images/5-5_image1.png\">"
   ]
  },
  {
   "cell_type": "markdown",
   "metadata": {},
   "source": [
    "# <b><u>3. リガンドの座標を出力</b></u>\n",
    "\n",
    "ついで、重ね合わせからリガンドの座標のみを取り出します。以下のように一つずつpdbファイルで出力しました。\n",
    "\n",
    "1. 構造を表示\n",
    "2. リガンドを選択　→　(sele) になる\n",
    "3. pdbファイルで出力\n",
    "    「save aligned_5nix.pdb, 'sele', state=-1, pdb」\n",
    "\n",
    "「aligned_5nix.pdb」という名前で、5nixのリガンドのみを含むpdbファイルが出力されました。\n",
    "\n",
    "出力の方法に関してはPymolWikiの [**Save**](https://pymolwiki.org/index.php/Save) を参照しました。 [^4] \n",
    "\n",
    "* **「save file [,(selection) [,state [,format]] ]」** という形でつかう  \n",
    "* formatとしてpdb以外にもmol、sdfなど多数選択可能  \n",
    "* stateは**「Default = -1」**（現在の状態のみを保存）\n",
    "\n",
    "stateに関しては、formatを指定する場合に省略すると、引数がおかしいと怒られたので、Defaultで良くても書き加える必要がありそうです。\n",
    "\n",
    "出力するリガンドを選択する際に、pymolのwindow上でクリックすると、意図しない残基を選択してしまうことがあったので、「Sequence」でリガンドIDを選択した方がやりやすいと思います。\n",
    "\n",
    "<img src=\"./images/5-5_image2.png\">\n",
    "\n",
    "出力したpdbファイルを再度読み込んで確認します。\n",
    "\n",
    "<img src=\"./images/5-5_image3.png\">\n",
    "\n",
    "アラインメントの情報（変換された座標）を保ったまま、構造が出力されていそうです。\n",
    "\n",
    "今度はまとめてsdfで出力して見ます。拡張子をファイル名に記載していれば自動でformatを認識して処理してくれる、ということだったので  \n",
    "「**save aligned_ligands.sdf**」  \n",
    "とだけ、打ち込みました。\n",
    "\n",
    "ちなみに、pymol上で座標を確認するには目的の構造を選択した後、\n",
    "\n",
    "* xyz = cmd.get_coords('sele', 1)\n",
    "* print xyz\n",
    "\n",
    "とすることで、各原子のxyz座標の３要素のリストを要素とする、リストのリストとして座標が出力されました。PyMolWikiの [**Get Coordinates I**](https://pymolwiki.org/index.php/Get_Coordinates_I) によると、他にも色々と方法があるそうです。[^5] \n",
    "\n"
   ]
  },
  {
   "cell_type": "markdown",
   "metadata": {},
   "source": [
    "# <b><u>4. 重なりの比較</b></u>\n",
    "\n",
    "準備ができたのでリガンドの重なりの比較を行なっていきたいと思います。"
   ]
  },
  {
   "cell_type": "markdown",
   "metadata": {},
   "source": [
    "## <b><u>4-1. 5J89と5N2D (グループ１)</b></u>\n",
    "\n",
    "5J89(リガンドID: 6GX)と 5N2D(リガンドID: 8J8)を表示させました。前回もちいたファーマコフォアの３点をメインとする構造のように見えます。\n",
    "\n",
    "<img src=\"./images/5-5_image4.png\">\n",
    "\n",
    "芳香族の重なりはかなり良いようですが、末端の親水性領域についてはズレが大きくなっています。この辺りは溶媒露出面にもなっていそうなので、許容される動きの幅が大きいのかもしれません。\n",
    "\n",
    "・・・ということは、この親水性部位の座標を狭い範囲で厳格に決めすぎてファーマコフォアを作ることはよくない・・・、ということでしょうか？フィーチャー３点の一つとして３角形をつくる前にもう少し慎重になった方が良かったかもしれません。"
   ]
  },
  {
   "cell_type": "markdown",
   "metadata": {},
   "source": [
    "## <b><u>4-2. 5N2D (グループ１) と5N2F (グループ2)</b></u>\n",
    "\n",
    "同一の論文で報告されている5N2D と 5N2F(リガンドID: 8HW)を表示させました。\n",
    "\n",
    "<img src=\"./images/5-5_image5.png\">\n",
    "\n",
    "5N2Dと5N2Fの大きな違いは、後者において図右端のフェニル環にさらに環構造が付加していることです。これにともない、タンパク側の chain A 残基56 Tyrの位置が大きく動いています。押しのけられた、、、という感じでしょうか？（Induced Fit？）\n",
    "\n",
    "残念ながら構造が報告されている論文（J. Med. Chem. 2017(60)5857）は読めなかったのですが、オープンアクセスの Oncotarget 2017(8)72167で、構造の伸長に伴うTyrの動きが議論されていました。[^6]\n"
   ]
  },
  {
   "cell_type": "markdown",
   "metadata": {},
   "source": [
    "## <b><u>4-3. 5J89(グループ１) と5J8O (グループ2)</b></u>\n",
    "\n",
    "もう一つのペア、5j89 と 5j8O(リガンドID: 6GZ)を表示させました。\n",
    "\n",
    "<img src=\"./images/5-5_image6.png\">\n",
    "\n",
    "興味深いことに、このペアではビフェニル骨格で重なっているものの**対称的な位置**に広がっており、リガンド分子**全体としての重なりは**とても悪くなっています。リガンドベースではなく、タンパク質を基準としたアラインメントになっているため、このような結果になっていると思われます。共結晶構造がPD-L1の対称的な二量体となっていることを踏まえると、確かに対照的な位置に結合してもおかしくないという気もします。（結晶の群とか対称とかわかりません。すみません）\n",
    "\n",
    "予期せぬ重ね合わせ構造でびっくりしましたが、これはこれで示唆に富む結果だと思います。なぜかというと、[共闘用シェアデータ](https://github.com/masahiro-mochizuki/pd1_inhibitor_dataset)に抜き出されている特許構造をながめても、最近のものに移るにつれて、**中心に疎水性、両末端に親水性基をもつ対称性のある構造**へと変化しているように見えるからです。（構造式は MarvinSketch 18.24.0で作成）\n",
    "\n",
    "<img src=\"./images/5-5_image7.png\">\n",
    "\n",
    "Twitterで拝見したDeNA 望月氏の講演資料「コンペティションから見るAI創薬」において、創薬レイドバトルに関して化合物の**線対称に近い構造**に着目しているとのコメントがありました（スライド p27）。 [^7]  ご自身で記述子を開発されているとのこと、一体どんな工夫をされているのか？とても結果が楽しみです。"
   ]
  },
  {
   "cell_type": "markdown",
   "metadata": {},
   "source": [
    "## <b><u>対称性のある構造の医薬品</b></u>\n",
    "\n",
    "ちょっと脱線しますが、上述の対称性のある構造を見た際にC型肝炎治療薬を思い出しました。C型肝炎治療薬といえば、ハーボニー配合錠が薬価や偽造品流通などで話題となりました。こちらはNS5A阻害剤 レジパスビル　と　NS5B阻害剤 ソホスブビルを含む合剤となっています。 NS5A阻害剤は複数ありますが、例えば以下のように、分子量が大きく対称的な構造をとっている、という印象です。\n",
    "\n",
    "<img src=\"./images/5-5_image8.png\">\n",
    "\n",
    "経口薬というのが驚きの巨大分子ばかりです。\n",
    "\n",
    "Wikipedia(英語)の記事「[Discovery and development of NS5A inhibitors](https://en.wikipedia.org/wiki/Discovery_and_development_of_NS5A_inhibitors)」に、BMSの研究者によるNS5A 結晶構造の論文（PDB id: 4CL1） （[Protein Sci. 2014(23)723](https://www.ncbi.nlm.nih.gov/pubmed/24639329)）が引用されていました。共結晶構造ではなかったのですが、\n",
    "\n",
    "* ２量体の構造解析\n",
    "* ドッキングシミュレーション\n",
    "\n",
    "等の結果を示すFigureがありました（・・・詳しく読んでません。すみません）。  \n",
    "**２量体の形成する疎水性の溝**に、**対称性の高いリガンド**（Daclatasvir : DCV）が結合している図は、これまで見てきたPD-L1の共結晶構造を彷彿とさせるもので、ひょっとしてNS5B阻害剤、PD-L1にもヒットするのでは？？？という気もしてきます。・・・まあ、無理か。。。\n",
    "\n",
    "当てずっぽうはさておき、LipinskiのRule of 5からは真っ先に弾かれてしまいそうなこれらの分子が経口薬として上市に至っている、という成功例がPD-1/PD-L1 結合阻害剤においても**巨大化**、**対称化**の流れを進める背景にもあったりするのかな、と想像してしまいます。創薬の現場からみたらどうなんでしょう？？？\n",
    "\n"
   ]
  },
  {
   "cell_type": "markdown",
   "metadata": {},
   "source": [
    "## <b><u>4-4. 5J89(グループ１) と5NIU、5NIX (グループ3)</b></u>\n",
    "\n",
    "閑話休題。\n",
    "\n",
    "残りの5NIU(リガンドID: 8YZ)、5NIX(リガンドID: 8YQ)を5J89と重ね合わせます。\n",
    "\n",
    "<img src=\"./images/5-5_image9.png\">\n",
    "\n",
    "全体として重なりがよく、グループ3の大きな違いはグループ1、2と異なりベンジル基が左下方向にむかって付け足されていることです。文献（Oncotarget 2017(8)72167）中では、この置換基が新しい相互作用の獲得に寄与しているとの指摘もなされていました。[^8]"
   ]
  },
  {
   "cell_type": "markdown",
   "metadata": {},
   "source": [
    "## <b><u>重ね合わせ結果の考察</b></u>\n",
    "\n",
    "以上、重ねあわせ構造を順番にながめてみました。６つの構造で、前回ファーマコフォアとして選択した３つのフィーチャーを満たしているようにみえ、とりあえずの選択としては十分要件を満たしていたのではないかな？という印象です。\n",
    "\n",
    "・・・つまり、選択に根拠はあった！（・・・後付け）\n",
    "\n",
    "共結晶構造中のリガンドをベースに考える場合、更なるポイントとして前回のファーマコフォアに加えて、\n",
    "\n",
    "1. 右末端フェニルからの置換基伸長（疎水性ポケット）\n",
    "2. 左下方向への芳香環伸長\n",
    "3. 左端、親水性基は座標の自由度がある\n",
    "\n",
    "といった点を考慮していくと良いかもしれません。"
   ]
  },
  {
   "cell_type": "markdown",
   "metadata": {},
   "source": [
    "# <b><u>5. ファーマコフォアを再作成</b></u>\n",
    "## <b><u>5-1. 今回の目標</b></u>\n",
    "\n",
    "観察をもとに、更なる絞り込みのためのファーマコフォアを作りたいと思います。  \n",
    "**2.左下への芳香環伸長**は新しいポケットを埋めるという意味で魅力的ですが、「共闘用シェアデータ」の活性化合物群の流れをみる限り、こちらのポケットは活用しない方向に流れがシフトしているように見えます。そこで、今回は**1.右端疎水性ポケット**と**3. 親水性基の自由度**を考慮したファーマコフォアを作成したいと思います。"
   ]
  },
  {
   "cell_type": "markdown",
   "metadata": {},
   "source": [
    "## <b><u>5-2. Pymolで出力したSDFをRDKitで読み込む</b></u>\n",
    "\n",
    "まずは、Pymolで出力したファイルをRDkitで読み込めるか確認して見ます。"
   ]
  },
  {
   "cell_type": "markdown",
   "metadata": {},
   "source": [
    "```python\n",
    "from rdkit import Chem\n",
    "aligned_lig_sup = Chem.SDMolSupplier('./aligned_ligands.sdf')\n",
    "aligned_ligs = [x for x in aligned_lig_sup if x is not None]\n",
    "```"
   ]
  },
  {
   "cell_type": "markdown",
   "metadata": {},
   "source": [
    "以下のようなエラーがたくさん出てきました。"
   ]
  },
  {
   "cell_type": "markdown",
   "metadata": {},
   "source": [
    "```python\n",
    "RDKit ERROR: [20:29:00] ERROR: non-ring atom 14 marked aromatic\n",
    "RDKit ERROR: [21:10:06] non-ring atom 4 marked aromatic\n",
    "RDKit ERROR: [21:10:06] ERROR: Could not sanitize molecule ending on line 72\n",
    "```"
   ]
  },
  {
   "cell_type": "markdown",
   "metadata": {},
   "source": [
    "MarvinViewでは開き、構造を確認することができたので、どうもRDKitとpymolの相性が悪そうです。  \n",
    "RDKitのエラーメッセージによると、環に含まれていない原子（non-ring atom）に芳香族性が紐づけられていることが問題のようです。SDFの中身を色々とみた結果、エラーがでた構造ではすべて**カルボキシ基**を有しており、**結合表(bond block)**においてこの官能基を構成する原子間の**結合タイプ**が「**4 = aromatic**」となっていることが原因（？）、という結論に達しました。 [^9] \n",
    "\n",
    "aromatic bondと紐づけられているためaromatic atomと認識された原子が、ring atomではないためエラーとなり、sanitizeもできなかったと思われます。（推定）"
   ]
  },
  {
   "cell_type": "markdown",
   "metadata": {},
   "source": [
    "## <b><u>5-3. Pymolで出力したpdbをRDKitで読み込む</b></u>\n",
    "\n",
    "SDFの中身を修正するのは私には難しいので、PDBファイルとして出力した個々の構造の検証に移りたいと思います。"
   ]
  },
  {
   "cell_type": "markdown",
   "metadata": {},
   "source": [
    "```python\n",
    "from rdkit.Chem import Draw\n",
    "pdb_5j8o = Chem.MolFromPDBFile('./aligned_ligands/aligned_5j8o.pdb')\n",
    "Draw.MolToImage(pdb_5j8o)\n",
    "```"
   ]
  },
  {
   "cell_type": "markdown",
   "metadata": {},
   "source": [
    "<img src=\"./images/5-5_image10.png\">\n",
    "\n",
    "こちらは読み込み自体はうまくいきましたが、PDBフォーマットに結合次数が記載されていないため、全て単結合、カルボキシル基に至ってはジェミナルジオール構造のように認識されています。\n",
    "\n",
    "RDKitメーリングリストの[ディスカッション](https://sourceforge.net/p/rdkit/mailman/message/31844451/)を参考に結合次数を割り当てたいと思います。[^10]\n",
    "\n",
    "手順としては  \n",
    "\n",
    "1. smilesからMolオブジェクトを作成（テンプレート）\n",
    "2. [**AssignBondOrdersFromTemplate (*refmol*, *mol* )**](https://www.rdkit.org/docs/source/rdkit.Chem.AllChem.html#rdkit.Chem.AllChem.AssignBondOrdersFromTemplate) でテンプレートから次数を割り当て\n",
    "\n",
    "となります。"
   ]
  },
  {
   "cell_type": "markdown",
   "metadata": {},
   "source": [
    "```python\n",
    "from rdkit.Chem import AllChem\n",
    "smi_5j8o = 'Cc1c(COc2ccc(CN3CCCC[C@@H]3C(O)=O)cc2Br)cccc1-c1ccccc1'\n",
    "template_5j8o = Chem.MolFromSmiles(smi_5j8o)\n",
    "mol_5j8o = AllChem.AssignBondOrdersFromTemplate(template_5j8o, pdb_5j8o)\n",
    "Draw.MolToImage(mol_5j8o)\n",
    "```"
   ]
  },
  {
   "cell_type": "markdown",
   "metadata": {},
   "source": [
    "<img src=\"./images/5-5_image11.png\">\n",
    "\n",
    "うまくいったようです。残りの５つも同様に処理します。"
   ]
  },
  {
   "cell_type": "markdown",
   "metadata": {},
   "source": [
    "```python\n",
    "#pdb idをkey、smilesをvalueとする辞書を作成\n",
    "smi_dict = {}\n",
    "smi_dict['5j89'] = 'COc1nc(OCc2cccc(c2C)-c2ccccc2)ccc1CNCCNC(C)=O'\n",
    "smi_dict['5n2d'] = 'COc1cc(OCc2cccc(c2C)-c2ccccc2)cc(OC)c1CNCCNC(C)=O'\n",
    "smi_dict['5n2f'] = 'Cc1c(COc2cc(F)c(CNCC(=O)CC(O)=O)cc2F)cccc1-c1ccc2OCCOc2c1'\n",
    "smi_dict['5niu'] = 'Cc1cc(CN[C@H](CO)C(O)=O)c(OCc2cccc(c2)C#N)cc1OCc1cccc(c1C)-c1ccc2OCCOc2c1'\n",
    "smi_dict['5nix'] = 'Cc1c(COc2cc(OCc3cccc(CN)c3)c(C[C@H]3N[C@H](O)C[C@H]3C(O)=O)cc2Cl)cccc1-c1ccc2OC=COc2c1'\n",
    "\n",
    "mol_5j8o.SetProp('PDB_id', '5j8o')\n",
    "#結合次数を割り当てたMolオブジェクトを格納するリストを作成\n",
    "mols = [mol_5j8o]\n",
    "\n",
    "for k, v in smi_dict.items():\n",
    "    # aligned_xxxx.pdb という名前（xxxxはPDB id）のファイルから作成\n",
    "    path = './aligned_ligands/aligned_' + k + '.pdb'\n",
    "    tmp = Chem.MolFromPDBFile(path)\n",
    "    template = Chem.MolFromSmiles(v)\n",
    "    mol = AllChem.AssignBondOrdersFromTemplate(template, tmp)\n",
    "    # PDB idをプロパティとして持たせる\n",
    "    mol.SetProp('PDB_id', k)\n",
    "    mols.append(mol)\n",
    "\n",
    "#確認\n",
    "Draw.MolsToGridImage(mols)\n",
    "```"
   ]
  },
  {
   "cell_type": "markdown",
   "metadata": {},
   "source": [
    "<img src=\"./images/5-5_image12.png\">"
   ]
  },
  {
   "cell_type": "markdown",
   "metadata": {},
   "source": [
    "```python\n",
    "#SDFとして書き出しておきます\n",
    "writer=Chem.SDWriter('aligned_pdb_molecules.sdf')\n",
    "writer.SetProps(['PDB_id'])\n",
    "for mol in mols:\n",
    "    writer.write(mol)\n",
    "writer.close()\n",
    "```"
   ]
  },
  {
   "cell_type": "markdown",
   "metadata": {},
   "source": [
    "## <b><u>5-4. 重ね合わせでフィーチャーを眺める</b></u>\n",
    "\n",
    "出力したSDFをつかって、pymol + RDKitでフィーチャーを描画して見ます。"
   ]
  },
  {
   "cell_type": "markdown",
   "metadata": {},
   "source": [
    "```python\n",
    "import os\n",
    "from rdkit import RDConfig\n",
    "fdef = AllChem.BuildFeatureFactory(os.path.join(RDConfig.RDDataDir,'BaseFeatures.fdef'))\n",
    "from rdkit.Chem.Features import ShowFeats\n",
    "from rdkit.Chem import PyMol\n",
    "\n",
    "import subprocess\n",
    "from IPython import display\n",
    "showfeatpath = os.path.join(RDConfig.RDCodeDir, 'Chem/Features/ShowFeats.py')\n",
    "\n",
    "v = PyMol.MolViewer()\n",
    "v.DeleteAll()\n",
    "process = subprocess.Popen(['python', showfeatpath, '--writeFeats', 'aligned_pdb_molecules.sdf'], stdout=subprocess.PIPE)\n",
    "stdout = process.communicate()[0]\n",
    "\n",
    "png=v.GetPNG()\n",
    "display.display(png)\n",
    "```"
   ]
  },
  {
   "cell_type": "markdown",
   "metadata": {},
   "source": [
    "<img src=\"./images/5-5_image13.png\">\n",
    "\n",
    "この構造をもとに、**5-1. 今回のファーマコフォアの狙い**と合わせると、下図のようなフィーチャーの選択が考えられそうです。\n",
    "\n",
    "<img src=\"./images/5-5_image14.png\">\n",
    "\n",
    "\"Aromatic\" ２つと \"Acceptor\" 1つの３点という点は以前と同じですが、選択する場所を変えています。\n",
    "\n",
    "1. 右側疎水性ポケットを意識した\"Aromatic\"の選択\n",
    "2. 複数のリガンドの親水性基が集まる場所を意識した\"Acceptor\"の選択\n",
    "\n",
    "としています。\n",
    "\n",
    "Acceptorの位置を決めるにあたっては、複数のリガンドの親水性基の中心にPseudoatomを作成することとしました。具体的には各リガンドで、該当部位の近辺の親水性基をなす原子を選択し、すべて選んだあとで「**pseudoatom hyd, sele**」とコマンドを打ち込みました。\n",
    "\n",
    "Aromatic 2点についてもそれぞれ中心にPseudoatomを作成し、**mesh**で表示すると以下の図のようになりました。\n",
    "\n",
    "<img src=\"./images/5-5_image15.png\">\n",
    "\n",
    "「**Wizard** → **Measurement**」で測定した距離と、別に取得した座標情報「例)** xyz = cmd.get_coords('hyd', 1)**」とを合わせてまとめると以下のようになりました。\n",
    "\n",
    "<img src=\"./images/5-5_image16.png\">\n",
    "\n",
    "\n",
    "なんだか格好良くなってきました！それっぽいぞ！（意味不明）\n",
    "\n",
    "この情報を使って、再度ファーマコフォアサーチを行います。\n",
    "\n"
   ]
  },
  {
   "cell_type": "markdown",
   "metadata": {},
   "source": [
    "## <b><u>5-5. ファーマコフォアを作成</b></u>\n",
    "\n",
    "前回と設定値以外変わってませんが念のため・・・"
   ]
  },
  {
   "cell_type": "markdown",
   "metadata": {},
   "source": [
    "```python\n",
    "from rdkit.Chem import ChemicalFeatures\n",
    "from rdkit.Chem.Pharm3D import Pharmacophore\n",
    "from rdkit import Geometry\n",
    "\n",
    "feat_1=ChemicalFeatures.FreeChemicalFeature('Aromatic',Geometry.Point3D(-11.796, 10.999, -22.536))\n",
    "feat_2=ChemicalFeatures.FreeChemicalFeature('Aromatic',Geometry.Point3D(-7.625, 10.407, -21.653))\n",
    "feat_3=ChemicalFeatures.FreeChemicalFeature('Acceptor',Geometry.Point3D(1.222, 9.145, -28.891)) \n",
    "feats = [feat_1,feat_2,feat_3]\n",
    "pcophore = Pharmacophore.Pharmacophore(feats) # ファーマコフォアの設定\n",
    "d_upper = 1.5  # 特性基間の距離の許容範囲(上限値)\n",
    "d_lower = 0.5 # 特性基間の距離の許容範囲(下限値)\n",
    "\n",
    "# feat_1とfeat_2の距離 4.3Åを基準に、下限と上限を設定\n",
    "pcophore.setLowerBound(0,1, 4.3-d_lower)\n",
    "pcophore.setUpperBound(0,1, 4.3+d_upper)\n",
    "\n",
    "# feat_2とfeat_3の距離 11.5Åを基準に、下限と上限を設定\n",
    "pcophore.setLowerBound(1,2, 11.5-d_lower)\n",
    "pcophore.setUpperBound(1,2, 11.5+d_upper)\n",
    "\n",
    "# feat_1とfeat_3の距離 14.6Åを基準に、下限と上限を設定\n",
    "pcophore.setLowerBound(0,2, 14.6-d_lower)\n",
    "pcophore.setUpperBound(0,2, 14.6+d_upper)\n",
    "\n",
    "print(pcophore)\n",
    "\"\"\"\n",
    "                   Aromatic      Aromatic      Acceptor \n",
    "     Aromatic         0.000         5.800        16.100 \n",
    "     Aromatic         3.800         0.000        13.000 \n",
    "     Acceptor        14.100        11.000         0.000 \n",
    "\"\"\"\n",
    "```"
   ]
  },
  {
   "cell_type": "markdown",
   "metadata": {},
   "source": [
    "新しいファーマコフォアの準備ができました。\n",
    "関数は前回作成した**PSearch3**というものを用います。"
   ]
  },
  {
   "cell_type": "markdown",
   "metadata": {},
   "source": [
    "# <b><u>6. ファーマコフォアサーチ</b></u>\n",
    "## <b><u>6-1. サーチ</b></u>\n",
    "\n",
    "前回、ファーマコフォアサーチを実施したSDFファイルを読み込みます。"
   ]
  },
  {
   "cell_type": "markdown",
   "metadata": {},
   "source": [
    "```python\n",
    "PSerched_suppl = Chem.SDMolSupplier('./PSearched.sdf')\n",
    "PSerched_mols = [x for x in PSerched_suppl if x is not None]\n",
    "print(len(PSerched_mols ))\n",
    "#4220\n",
    "```"
   ]
  },
  {
   "cell_type": "markdown",
   "metadata": {},
   "source": [
    "Embedできた数を**PScore**というプロパティに格納しているので、こちらの値が1以上のものを、ファーマコフォアにマッチしたもの(**P_Matched**)、0のものをマッチしなかったもの(**P_MissMatched**)として別々のリストに分けます。"
   ]
  },
  {
   "cell_type": "markdown",
   "metadata": {},
   "source": [
    "```python\n",
    "P_Matched = []\n",
    "P_MissMatched = []\n",
    "\n",
    "for x in PSerched_mols :\n",
    "    PScore = int(x.GetProp('PScore'))\n",
    "    if PScore >= 1:\n",
    "        P_Matched.append(x)\n",
    "    else:\n",
    "        P_MissMatched.append(x)   \n",
    "print('P_Matched:', len(P_Matched))\n",
    "#2463\n",
    "print('P_MissMatched:', len(P_MissMatched))\n",
    "#1757\n",
    "```"
   ]
  },
  {
   "cell_type": "markdown",
   "metadata": {},
   "source": [
    "前回のファーマコフォアにマッチした約2500個について、今回新しく作成したファーマコフォアスクリーニングを適用します。"
   ]
  },
  {
   "cell_type": "markdown",
   "metadata": {},
   "source": [
    "```python\n",
    "for x in P_Matched:\n",
    "    num_embeds = PSearch3(x)\n",
    "    x.SetIntProp('PScore2', num_embeds)\n",
    "```"
   ]
  },
  {
   "cell_type": "markdown",
   "metadata": {},
   "source": [
    "マッチしたものを取り出します。（上と同じなので省略）"
   ]
  },
  {
   "cell_type": "markdown",
   "metadata": {},
   "source": [
    "```python\n",
    "#取り出したリストをP_Matched_2、P_MissMatched_2としている。\n",
    "print('P_Matched:', len(P_Matched_2))\n",
    "#997\n",
    "print('P_MissMatched:', len(P_MissMatched_2))\n",
    "#1466\n",
    "```"
   ]
  },
  {
   "cell_type": "markdown",
   "metadata": {},
   "source": [
    "前回と今回のファーマコフォア両者を満たすものは約1000個でした。\n",
    "「P_Matched2.sdf」という名前でSDFを出力しました。"
   ]
  },
  {
   "cell_type": "markdown",
   "metadata": {},
   "source": [
    "## <b><u>6-2. 確認</b></u>\n",
    "\n",
    "PandasのDataFrameで読み込んで見ます。"
   ]
  },
  {
   "cell_type": "markdown",
   "metadata": {},
   "source": [
    "```python\n",
    "from rdkit.Chem import PandasTools\n",
    "import pandas as pd\n",
    "PSearched2_df = PandasTools.LoadSDF('./P_Matched2.sdf')\n",
    "```"
   ]
  },
  {
   "cell_type": "markdown",
   "metadata": {},
   "source": [
    "今回のスクリーニング(**PScore2**)の値の分布を取得して見ます。"
   ]
  },
  {
   "cell_type": "markdown",
   "metadata": {},
   "source": [
    "```python\n",
    "print(PSearched2_df['PScore2'].describe())\n",
    "\"\"\"\n",
    "count     997\n",
    "unique     16\n",
    "top         1\n",
    "freq      254\n",
    "Name: PScore2, dtype: object\n",
    "\"\"\"\n",
    "```"
   ]
  },
  {
   "cell_type": "markdown",
   "metadata": {},
   "source": [
    "最大値や最小値が返ってくるのを期待していたのですが、どうも様子がおかしいです。データ型を確認して見ます。"
   ]
  },
  {
   "cell_type": "markdown",
   "metadata": {},
   "source": [
    "```python\n",
    "PSearched2_df.dtypes\n",
    "\"\"\"\n",
    "ID                   object\n",
    "MW                   object\n",
    "MolLogP              object\n",
    "NumHAcceptors        object\n",
    "NumHDonors           object\n",
    "NumRotatableBonds    object\n",
    "PScore               object\n",
    "PScore2              object\n",
    "ROMol                object\n",
    "TPSA                 object\n",
    "original_id          object\n",
    "dtype: object\n",
    "\"\"\"\n",
    "```\n"
   ]
  },
  {
   "cell_type": "markdown",
   "metadata": {},
   "source": [
    "PandasToolsで読み込んだものは全てobject型になっています。こちらの記事「[pandasのデータ型dtype一覧とastypeによる変換](https://note.nkmk.me/python-pandas-dtype-astype/) 」によると、要素に文字列を含むDataFrameの列はobject型となるらしく、また、化学の新しいカタチさんの記事[RDKitのPandasToolsでデータ分析を加速する](https://future-chem.com/rdkit-pandastools/) にもPandasToolsで読み込んだ場合は「プロパティが全て「文字列」として認識」されると記載されていました。[^11] [^12] \n",
    "\n",
    "astypeで整数型(int)に変換します。"
   ]
  },
  {
   "cell_type": "markdown",
   "metadata": {},
   "source": [
    "```python\n",
    "PSearched2_df = PSearched2_df.astype({'PScore': int, 'PScore2': int})\n",
    "PSearched2_df.describe()\n",
    "\"\"\"\n",
    "\t\tPScore\tPScore2\n",
    "count\t997.000000\t997.000000\n",
    "mean\t14.343029\t3.289870\n",
    "std\t12.517565\t2.394612\n",
    "min\t1.000000\t1.000000\n",
    "25%\t5.000000\t1.000000\n",
    "50%\t10.000000\t3.000000\n",
    "75%\t20.000000\t4.000000\n",
    "max\t99.000000\t31.000000\n",
    "\"\"\"\n",
    "```"
   ]
  },
  {
   "cell_type": "markdown",
   "metadata": {},
   "source": [
    "無事出力できました。それぞれの最大値の構造を確認して見ます。"
   ]
  },
  {
   "cell_type": "markdown",
   "metadata": {},
   "source": [
    "```python\n",
    "#最大値のindexを取得\n",
    "PScore_max = PSearched2_df['PScore'].idxmax()\n",
    "PScore2_max = PSearched2_df['PScore2'].idxmax()\n",
    "#Molオブジェクトを取り出し\n",
    "max_mol = PSearched2_df.loc[PScore_max, 'ROMol']\n",
    "max_mol2 = PSearched2_df.loc[PScore2_max, 'ROMol']\n",
    "\n",
    "#スコアを構造とともにlegendとして描画する準備\n",
    "legends = []\n",
    "\n",
    "for x in [PScore_max, PScore2_max]:\n",
    "    score1 =  str(PSearched2_df.loc[x, 'PScore'])\n",
    "    score2 =  str(PSearched2_df.loc[x, 'PScore2'])\n",
    "    legend =  'PScore:' + score1 + '/ PScore2:' + score2\n",
    "    legends.append(legend)\n",
    "\n",
    "Draw.MolsToGridImage([max_mol, max_mol2], legends = legends)\n",
    "```"
   ]
  },
  {
   "cell_type": "markdown",
   "metadata": {},
   "source": [
    "<img src=\"./images/5-5_image17.png\">\n",
    "\n",
    "前回と今回で同じものがEmbed数最大となっていたようです。\n"
   ]
  },
  {
   "cell_type": "markdown",
   "metadata": {},
   "source": [
    "# <b><u>7. まとめ</b></u>\n",
    "\n",
    "今回は、より良いファーマコフォアの作成を目指して複数の共結晶構造を重ねあわせる、というステップを加えて見ました。タンパク質をあつかうにはPyMolが非常に使いやすく、Wikiの充実しているので少しずつ機能がわかってきました。\n",
    "\n",
    "今回のファーマコフォアマッチングの課題としてはEmbedの数しか考慮しておらず、リガンドの３次元構造を実際に発生、最適化させることまでできていないことです。３次元構造発生　→　ドッキング　みたいな感じに持っていけると良いのですが、、、進捗が悪い。。。\n",
    "\n",
    "行ったり来たりあちらこちらで躓いていたらとても冗長になってしまいました。おかしな点が多数あると思いますのでご指摘いただければ幸いです。"
   ]
  },
  {
   "cell_type": "markdown",
   "metadata": {},
   "source": [
    "# 脚注\n",
    "\n",
    "[^1]: AI創薬のためのケモインフォマティクス入門 [https://github.com/Mishima-syk/py4chemoinformatics/blob/master/pdf/py4chemoinformatics.pdf]\n",
    "\n",
    "\n",
    "[^2]: ファーマコフォアについてのよもやま話 [http://blog.kzfmix.com/entry/1552452149]\n",
    "\n",
    "[^3]: 話題のXofluzaの変異をPymolで見てみる [https://keetaneblog.hatenablog.com/entry/2019/02/08/210016]\n",
    "\n",
    " [^4]: PymolWiki Save [https://pymolwiki.org/index.php/Save]\n",
    " \n",
    " [^5]: PyMolWiki Get Coordinates I [https://pymolwiki.org/index.php/Get_Coordinates_I]\n",
    " \n",
    " [^6]: https://pubs.acs.org/doi/abs/10.1021/acs.jmedchem.7b00293\n",
    " \n",
    " [^7]: コンペティションから見るAI創薬  [https://speakerdeck.com/m_mochizuki/ai-drug-discovery-in-the-view-of-competitions]\n",
    " \n",
    " [^8]: Oncotarget 2017(8)72167 [http://www.oncotarget.com/index.php?journal=oncotarget&page=article&op=view&path%5B%5D=20050]\n",
    " \n",
    " [^9]: 化学構造の表記 [http://www.metabolomics.jp/wiki/Aritalab:Lecture/Compchem/MOL]\n",
    " \n",
    " [^10]: [https://sourceforge.net/p/rdkit/mailman/message/31844451/] \n",
    " \n",
    " [^11]: pandasのデータ型dtype一覧とastypeによる変換 [https://note.nkmk.me/python-pandas-dtype-astype/]\n",
    " \n",
    " [^12]: RDKitのPandasToolsでデータ分析を加速する [https://future-chem.com/rdkit-pandastools/]"
   ]
  }
 ],
 "metadata": {
  "kernelspec": {
   "display_name": "Python 3",
   "language": "python",
   "name": "python3"
  },
  "language_info": {
   "codemirror_mode": {
    "name": "ipython",
    "version": 3
   },
   "file_extension": ".py",
   "mimetype": "text/x-python",
   "name": "python",
   "nbconvert_exporter": "python",
   "pygments_lexer": "ipython3",
   "version": "3.6.8"
  },
  "toc": {
   "base_numbering": 1,
   "nav_menu": {},
   "number_sections": true,
   "sideBar": true,
   "skip_h1_title": false,
   "title_cell": "Table of Contents",
   "title_sidebar": "Contents",
   "toc_cell": true,
   "toc_position": {},
   "toc_section_display": true,
   "toc_window_display": true
  }
 },
 "nbformat": 4,
 "nbformat_minor": 2
}
